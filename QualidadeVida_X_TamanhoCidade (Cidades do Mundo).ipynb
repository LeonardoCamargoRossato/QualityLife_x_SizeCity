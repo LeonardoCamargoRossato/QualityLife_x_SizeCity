{
 "cells": [
  {
   "cell_type": "code",
   "execution_count": 1,
   "id": "3445c33b",
   "metadata": {},
   "outputs": [],
   "source": [
    "import pandas as pd\n",
    "import matplotlib.pyplot as plt\n",
    "import seaborn as sns\n",
    "import numpy as np\n",
    "import ipywidgets as widgets\n",
    "from IPython.display import display\n",
    "from ipywidgets import interact\n",
    "import plotly.express as px\n",
    "import dataprep"
   ]
  },
  {
   "cell_type": "code",
   "execution_count": 2,
   "id": "efcb6d3b",
   "metadata": {},
   "outputs": [],
   "source": [
    "df = pd.read_html('https://www.numbeo.com/quality-of-life/rankings_current.jsp')\n",
    "df = df[1]\n",
    "df.Rank = df.index\n",
    "\n",
    "# Separa antes e depois da vírgula (em cada ítem)\n",
    "\n",
    "name_city = []\n",
    "country = []\n",
    "for i in df.City:\n",
    "    cont = 0\n",
    "    cidade = ''\n",
    "    for j in i:\n",
    "        if j == ',':\n",
    "            break\n",
    "        cidade += j\n",
    "        cont += 1\n",
    "    name_city.append(cidade)\n",
    "    \n",
    "    cont2 = 0\n",
    "    pais = ''\n",
    "    for j in i:\n",
    "        if cont2 > cont:\n",
    "            pais += j\n",
    "        cont2 += 1\n",
    "    country.append(pais)\n",
    "    \n",
    "# Tira parênteses dos nomes das listas\n",
    "name_city2 = []\n",
    "for i in name_city:\n",
    "    cidade = ''\n",
    "    for j in i:\n",
    "        if j == '(':\n",
    "            break\n",
    "        cidade += j\n",
    "    name_city2.append(cidade)\n",
    "    \n",
    "# Separa Nome Paises do estado (UF's) \n",
    "\n",
    "estado = []\n",
    "country2 = []\n",
    "for i in country:\n",
    "    if ( (',' in i) == False ):\n",
    "        country2.append(i)\n",
    "        estado.append('0')\n",
    "    else:\n",
    "        cont = 0\n",
    "        cidade = ''\n",
    "        for j in i:\n",
    "            if j == ',':\n",
    "                break\n",
    "            cidade += j\n",
    "            cont += 1\n",
    "        estado.append(cidade)\n",
    "\n",
    "        cont2 = 0\n",
    "        pais = ''\n",
    "        for j in i:\n",
    "            if (cont2 > cont) :\n",
    "                pais += j\n",
    "            cont2 += 1\n",
    "        country2.append(pais)\n",
    "        \n",
    "# Tira espaços em branco (no ínicio das strings)\n",
    "country3 = []\n",
    "estado2 = []\n",
    "for i in country2:\n",
    "    country3.append(i[1:])\n",
    "for i in estado:\n",
    "    if ('0' in i) == False:\n",
    "        estado2.append(i[1:])\n",
    "    else:\n",
    "        estado2.append(i)\n",
    "    \n",
    "df['City_Name'] = name_city2\n",
    "df['Country_Name'] = country3\n",
    "df['UF'] = estado2"
   ]
  },
  {
   "cell_type": "code",
   "execution_count": 3,
   "id": "ef564ae9",
   "metadata": {},
   "outputs": [
    {
     "data": {
      "text/html": [
       "<div>\n",
       "<style scoped>\n",
       "    .dataframe tbody tr th:only-of-type {\n",
       "        vertical-align: middle;\n",
       "    }\n",
       "\n",
       "    .dataframe tbody tr th {\n",
       "        vertical-align: top;\n",
       "    }\n",
       "\n",
       "    .dataframe thead th {\n",
       "        text-align: right;\n",
       "    }\n",
       "</style>\n",
       "<table border=\"1\" class=\"dataframe\">\n",
       "  <thead>\n",
       "    <tr style=\"text-align: right;\">\n",
       "      <th></th>\n",
       "      <th>Rank</th>\n",
       "      <th>City</th>\n",
       "      <th>Quality of Life Index</th>\n",
       "      <th>Purchasing Power Index</th>\n",
       "      <th>Safety Index</th>\n",
       "      <th>Health Care Index</th>\n",
       "      <th>Cost of Living Index</th>\n",
       "      <th>Property Price to Income Ratio</th>\n",
       "      <th>Traffic Commute Time Index</th>\n",
       "      <th>Pollution Index</th>\n",
       "      <th>Climate Index</th>\n",
       "      <th>City_Name</th>\n",
       "      <th>Country_Name</th>\n",
       "      <th>UF</th>\n",
       "    </tr>\n",
       "  </thead>\n",
       "  <tbody>\n",
       "    <tr>\n",
       "      <th>0</th>\n",
       "      <td>0</td>\n",
       "      <td>Canberra, Australia</td>\n",
       "      <td>226.52</td>\n",
       "      <td>147.97</td>\n",
       "      <td>77.78</td>\n",
       "      <td>81.99</td>\n",
       "      <td>65.32</td>\n",
       "      <td>4.12</td>\n",
       "      <td>24.34</td>\n",
       "      <td>13.66</td>\n",
       "      <td>82.72</td>\n",
       "      <td>Canberra</td>\n",
       "      <td>Australia</td>\n",
       "      <td>0</td>\n",
       "    </tr>\n",
       "    <tr>\n",
       "      <th>1</th>\n",
       "      <td>1</td>\n",
       "      <td>The Hague (Den Haag), Netherlands</td>\n",
       "      <td>216.97</td>\n",
       "      <td>127.95</td>\n",
       "      <td>79.02</td>\n",
       "      <td>80.93</td>\n",
       "      <td>60.75</td>\n",
       "      <td>5.95</td>\n",
       "      <td>23.04</td>\n",
       "      <td>19.13</td>\n",
       "      <td>90.61</td>\n",
       "      <td>The Hague</td>\n",
       "      <td>Netherlands</td>\n",
       "      <td>0</td>\n",
       "    </tr>\n",
       "    <tr>\n",
       "      <th>2</th>\n",
       "      <td>2</td>\n",
       "      <td>Adelaide, Australia</td>\n",
       "      <td>213.63</td>\n",
       "      <td>125.82</td>\n",
       "      <td>69.45</td>\n",
       "      <td>80.88</td>\n",
       "      <td>71.17</td>\n",
       "      <td>3.48</td>\n",
       "      <td>24.33</td>\n",
       "      <td>18.99</td>\n",
       "      <td>94.96</td>\n",
       "      <td>Adelaide</td>\n",
       "      <td>Australia</td>\n",
       "      <td>0</td>\n",
       "    </tr>\n",
       "    <tr>\n",
       "      <th>3</th>\n",
       "      <td>3</td>\n",
       "      <td>Raleigh, NC, United States</td>\n",
       "      <td>208.07</td>\n",
       "      <td>142.53</td>\n",
       "      <td>64.74</td>\n",
       "      <td>77.62</td>\n",
       "      <td>65.19</td>\n",
       "      <td>3.26</td>\n",
       "      <td>33.60</td>\n",
       "      <td>20.62</td>\n",
       "      <td>83.88</td>\n",
       "      <td>Raleigh</td>\n",
       "      <td>United States</td>\n",
       "      <td>NC</td>\n",
       "    </tr>\n",
       "    <tr>\n",
       "      <th>4</th>\n",
       "      <td>4</td>\n",
       "      <td>Eindhoven, Netherlands</td>\n",
       "      <td>202.88</td>\n",
       "      <td>112.96</td>\n",
       "      <td>76.58</td>\n",
       "      <td>76.39</td>\n",
       "      <td>68.57</td>\n",
       "      <td>5.83</td>\n",
       "      <td>24.44</td>\n",
       "      <td>22.07</td>\n",
       "      <td>85.38</td>\n",
       "      <td>Eindhoven</td>\n",
       "      <td>Netherlands</td>\n",
       "      <td>0</td>\n",
       "    </tr>\n",
       "    <tr>\n",
       "      <th>...</th>\n",
       "      <td>...</td>\n",
       "      <td>...</td>\n",
       "      <td>...</td>\n",
       "      <td>...</td>\n",
       "      <td>...</td>\n",
       "      <td>...</td>\n",
       "      <td>...</td>\n",
       "      <td>...</td>\n",
       "      <td>...</td>\n",
       "      <td>...</td>\n",
       "      <td>...</td>\n",
       "      <td>...</td>\n",
       "      <td>...</td>\n",
       "      <td>...</td>\n",
       "    </tr>\n",
       "    <tr>\n",
       "      <th>234</th>\n",
       "      <td>234</td>\n",
       "      <td>Beirut, Lebanon</td>\n",
       "      <td>61.69</td>\n",
       "      <td>11.35</td>\n",
       "      <td>53.59</td>\n",
       "      <td>65.15</td>\n",
       "      <td>84.09</td>\n",
       "      <td>36.49</td>\n",
       "      <td>39.82</td>\n",
       "      <td>93.72</td>\n",
       "      <td>94.74</td>\n",
       "      <td>Beirut</td>\n",
       "      <td>Lebanon</td>\n",
       "      <td>0</td>\n",
       "    </tr>\n",
       "    <tr>\n",
       "      <th>235</th>\n",
       "      <td>235</td>\n",
       "      <td>Tehran, Iran</td>\n",
       "      <td>60.13</td>\n",
       "      <td>17.38</td>\n",
       "      <td>44.14</td>\n",
       "      <td>52.50</td>\n",
       "      <td>33.43</td>\n",
       "      <td>29.75</td>\n",
       "      <td>52.91</td>\n",
       "      <td>81.01</td>\n",
       "      <td>70.99</td>\n",
       "      <td>Tehran</td>\n",
       "      <td>Iran</td>\n",
       "      <td>0</td>\n",
       "    </tr>\n",
       "    <tr>\n",
       "      <th>236</th>\n",
       "      <td>236</td>\n",
       "      <td>Dhaka, Bangladesh</td>\n",
       "      <td>57.02</td>\n",
       "      <td>25.02</td>\n",
       "      <td>36.51</td>\n",
       "      <td>39.84</td>\n",
       "      <td>31.36</td>\n",
       "      <td>15.23</td>\n",
       "      <td>60.41</td>\n",
       "      <td>93.56</td>\n",
       "      <td>71.29</td>\n",
       "      <td>Dhaka</td>\n",
       "      <td>Bangladesh</td>\n",
       "      <td>0</td>\n",
       "    </tr>\n",
       "    <tr>\n",
       "      <th>237</th>\n",
       "      <td>237</td>\n",
       "      <td>Manila, Philippines</td>\n",
       "      <td>48.58</td>\n",
       "      <td>25.96</td>\n",
       "      <td>34.56</td>\n",
       "      <td>63.71</td>\n",
       "      <td>35.80</td>\n",
       "      <td>34.63</td>\n",
       "      <td>53.64</td>\n",
       "      <td>89.92</td>\n",
       "      <td>61.23</td>\n",
       "      <td>Manila</td>\n",
       "      <td>Philippines</td>\n",
       "      <td>0</td>\n",
       "    </tr>\n",
       "    <tr>\n",
       "      <th>238</th>\n",
       "      <td>238</td>\n",
       "      <td>Lagos, Nigeria</td>\n",
       "      <td>48.49</td>\n",
       "      <td>7.68</td>\n",
       "      <td>33.09</td>\n",
       "      <td>45.94</td>\n",
       "      <td>38.76</td>\n",
       "      <td>12.26</td>\n",
       "      <td>68.22</td>\n",
       "      <td>89.26</td>\n",
       "      <td>60.75</td>\n",
       "      <td>Lagos</td>\n",
       "      <td>Nigeria</td>\n",
       "      <td>0</td>\n",
       "    </tr>\n",
       "  </tbody>\n",
       "</table>\n",
       "<p>239 rows × 14 columns</p>\n",
       "</div>"
      ],
      "text/plain": [
       "     Rank                               City  Quality of Life Index  \\\n",
       "0       0                Canberra, Australia                 226.52   \n",
       "1       1  The Hague (Den Haag), Netherlands                 216.97   \n",
       "2       2                Adelaide, Australia                 213.63   \n",
       "3       3         Raleigh, NC, United States                 208.07   \n",
       "4       4             Eindhoven, Netherlands                 202.88   \n",
       "..    ...                                ...                    ...   \n",
       "234   234                    Beirut, Lebanon                  61.69   \n",
       "235   235                       Tehran, Iran                  60.13   \n",
       "236   236                  Dhaka, Bangladesh                  57.02   \n",
       "237   237                Manila, Philippines                  48.58   \n",
       "238   238                     Lagos, Nigeria                  48.49   \n",
       "\n",
       "     Purchasing Power Index  Safety Index  Health Care Index  \\\n",
       "0                    147.97         77.78              81.99   \n",
       "1                    127.95         79.02              80.93   \n",
       "2                    125.82         69.45              80.88   \n",
       "3                    142.53         64.74              77.62   \n",
       "4                    112.96         76.58              76.39   \n",
       "..                      ...           ...                ...   \n",
       "234                   11.35         53.59              65.15   \n",
       "235                   17.38         44.14              52.50   \n",
       "236                   25.02         36.51              39.84   \n",
       "237                   25.96         34.56              63.71   \n",
       "238                    7.68         33.09              45.94   \n",
       "\n",
       "     Cost of Living Index  Property Price to Income Ratio  \\\n",
       "0                   65.32                            4.12   \n",
       "1                   60.75                            5.95   \n",
       "2                   71.17                            3.48   \n",
       "3                   65.19                            3.26   \n",
       "4                   68.57                            5.83   \n",
       "..                    ...                             ...   \n",
       "234                 84.09                           36.49   \n",
       "235                 33.43                           29.75   \n",
       "236                 31.36                           15.23   \n",
       "237                 35.80                           34.63   \n",
       "238                 38.76                           12.26   \n",
       "\n",
       "     Traffic Commute Time Index  Pollution Index  Climate Index   City_Name  \\\n",
       "0                         24.34            13.66          82.72    Canberra   \n",
       "1                         23.04            19.13          90.61  The Hague    \n",
       "2                         24.33            18.99          94.96    Adelaide   \n",
       "3                         33.60            20.62          83.88     Raleigh   \n",
       "4                         24.44            22.07          85.38   Eindhoven   \n",
       "..                          ...              ...            ...         ...   \n",
       "234                       39.82            93.72          94.74      Beirut   \n",
       "235                       52.91            81.01          70.99      Tehran   \n",
       "236                       60.41            93.56          71.29       Dhaka   \n",
       "237                       53.64            89.92          61.23      Manila   \n",
       "238                       68.22            89.26          60.75       Lagos   \n",
       "\n",
       "      Country_Name  UF  \n",
       "0        Australia   0  \n",
       "1      Netherlands   0  \n",
       "2        Australia   0  \n",
       "3    United States  NC  \n",
       "4      Netherlands   0  \n",
       "..             ...  ..  \n",
       "234        Lebanon   0  \n",
       "235           Iran   0  \n",
       "236     Bangladesh   0  \n",
       "237    Philippines   0  \n",
       "238        Nigeria   0  \n",
       "\n",
       "[239 rows x 14 columns]"
      ]
     },
     "execution_count": 3,
     "metadata": {},
     "output_type": "execute_result"
    }
   ],
   "source": [
    "df"
   ]
  },
  {
   "cell_type": "markdown",
   "id": "46bbb4e2",
   "metadata": {},
   "source": [
    "# Classificando MacroRegiões"
   ]
  },
  {
   "cell_type": "code",
   "execution_count": 4,
   "id": "8a1130da",
   "metadata": {},
   "outputs": [
    {
     "name": "stdout",
     "output_type": "stream",
     "text": [
      "Unexpected exception formatting exception. Falling back to standard exception\n"
     ]
    },
    {
     "name": "stderr",
     "output_type": "stream",
     "text": [
      "Traceback (most recent call last):\n",
      "  File \"/usr/lib/python3.10/urllib/request.py\", line 1348, in do_open\n",
      "    h.request(req.get_method(), req.selector, req.data, headers,\n",
      "  File \"/usr/lib/python3.10/http/client.py\", line 1282, in request\n",
      "    self._send_request(method, url, body, headers, encode_chunked)\n",
      "  File \"/usr/lib/python3.10/http/client.py\", line 1328, in _send_request\n",
      "    self.endheaders(body, encode_chunked=encode_chunked)\n",
      "  File \"/usr/lib/python3.10/http/client.py\", line 1277, in endheaders\n",
      "    self._send_output(message_body, encode_chunked=encode_chunked)\n",
      "  File \"/usr/lib/python3.10/http/client.py\", line 1037, in _send_output\n",
      "    self.send(msg)\n",
      "  File \"/usr/lib/python3.10/http/client.py\", line 975, in send\n",
      "    self.connect()\n",
      "  File \"/usr/lib/python3.10/http/client.py\", line 1447, in connect\n",
      "    super().connect()\n",
      "  File \"/usr/lib/python3.10/http/client.py\", line 941, in connect\n",
      "    self.sock = self._create_connection(\n",
      "  File \"/usr/lib/python3.10/socket.py\", line 845, in create_connection\n",
      "    raise err\n",
      "  File \"/usr/lib/python3.10/socket.py\", line 833, in create_connection\n",
      "    sock.connect(sa)\n",
      "TimeoutError: [Errno 110] Connection timed out\n",
      "\n",
      "During handling of the above exception, another exception occurred:\n",
      "\n",
      "Traceback (most recent call last):\n",
      "  File \"/usr/lib/python3.10/site-packages/IPython/core/interactiveshell.py\", line 3378, in run_code\n",
      "    exec(code_obj, self.user_global_ns, self.user_ns)\n",
      "  File \"/tmp/ipykernel_7810/233194739.py\", line 6, in <module>\n",
      "    df_aux = pd.read_html('https://www.numbeo.com/quality-of-life/region_rankings.jsp?title=2022-mid&region=019')\n",
      "  File \"/usr/lib/python3.10/site-packages/pandas/util/_decorators.py\", line 311, in wrapper\n",
      "    return func(*args, **kwargs)\n",
      "  File \"/usr/lib/python3.10/site-packages/pandas/io/html.py\", line 1113, in read_html\n",
      "    return _parse(\n",
      "  File \"/usr/lib/python3.10/site-packages/pandas/io/html.py\", line 919, in _parse\n",
      "    tables = p.parse_tables()\n",
      "  File \"/usr/lib/python3.10/site-packages/pandas/io/html.py\", line 239, in parse_tables\n",
      "    tables = self._parse_tables(self._build_doc(), self.match, self.attrs)\n",
      "  File \"/usr/lib/python3.10/site-packages/pandas/io/html.py\", line 758, in _build_doc\n",
      "    raise e\n",
      "  File \"/usr/lib/python3.10/site-packages/pandas/io/html.py\", line 739, in _build_doc\n",
      "    with urlopen(self.io) as f:\n",
      "  File \"/usr/lib/python3.10/site-packages/pandas/io/common.py\", line 236, in urlopen\n",
      "    return urllib.request.urlopen(*args, **kwargs)\n",
      "  File \"/usr/lib/python3.10/urllib/request.py\", line 216, in urlopen\n",
      "    return opener.open(url, data, timeout)\n",
      "  File \"/usr/lib/python3.10/urllib/request.py\", line 519, in open\n",
      "    response = self._open(req, data)\n",
      "  File \"/usr/lib/python3.10/urllib/request.py\", line 536, in _open\n",
      "    result = self._call_chain(self.handle_open, protocol, protocol +\n",
      "  File \"/usr/lib/python3.10/urllib/request.py\", line 496, in _call_chain\n",
      "    result = func(*args)\n",
      "  File \"/usr/lib/python3.10/urllib/request.py\", line 1391, in https_open\n",
      "    return self.do_open(http.client.HTTPSConnection, req,\n",
      "  File \"/usr/lib/python3.10/urllib/request.py\", line 1351, in do_open\n",
      "    raise URLError(err)\n",
      "urllib.error.URLError: <urlopen error [Errno 110] Connection timed out>\n",
      "\n",
      "During handling of the above exception, another exception occurred:\n",
      "\n",
      "Traceback (most recent call last):\n",
      "  File \"/usr/lib/python3.10/site-packages/IPython/core/interactiveshell.py\", line 1997, in showtraceback\n",
      "    stb = self.InteractiveTB.structured_traceback(\n",
      "  File \"/usr/lib/python3.10/site-packages/IPython/core/ultratb.py\", line 1112, in structured_traceback\n",
      "    return FormattedTB.structured_traceback(\n",
      "  File \"/usr/lib/python3.10/site-packages/IPython/core/ultratb.py\", line 1006, in structured_traceback\n",
      "    return VerboseTB.structured_traceback(\n",
      "  File \"/usr/lib/python3.10/site-packages/IPython/core/ultratb.py\", line 859, in structured_traceback\n",
      "    formatted_exception = self.format_exception_as_a_whole(etype, evalue, etb, number_of_lines_of_context,\n",
      "  File \"/usr/lib/python3.10/site-packages/IPython/core/ultratb.py\", line 812, in format_exception_as_a_whole\n",
      "    frames.append(self.format_record(r))\n",
      "  File \"/usr/lib/python3.10/site-packages/IPython/core/ultratb.py\", line 730, in format_record\n",
      "    result += ''.join(_format_traceback_lines(frame_info.lines, Colors, self.has_colors, lvals))\n",
      "  File \"/usr/lib/python3.10/site-packages/stack_data/utils.py\", line 144, in cached_property_wrapper\n",
      "    value = obj.__dict__[self.func.__name__] = self.func(obj)\n",
      "  File \"/usr/lib/python3.10/site-packages/stack_data/core.py\", line 720, in lines\n",
      "    pieces = self.included_pieces\n",
      "  File \"/usr/lib/python3.10/site-packages/stack_data/utils.py\", line 144, in cached_property_wrapper\n",
      "    value = obj.__dict__[self.func.__name__] = self.func(obj)\n",
      "  File \"/usr/lib/python3.10/site-packages/stack_data/core.py\", line 663, in included_pieces\n",
      "    scope_pieces = self.scope_pieces\n",
      "  File \"/usr/lib/python3.10/site-packages/stack_data/utils.py\", line 144, in cached_property_wrapper\n",
      "    value = obj.__dict__[self.func.__name__] = self.func(obj)\n",
      "  File \"/usr/lib/python3.10/site-packages/stack_data/core.py\", line 600, in scope_pieces\n",
      "    scope_start, scope_end = self.source.line_range(self.scope)\n",
      "  File \"/usr/lib/python3.10/site-packages/stack_data/core.py\", line 164, in line_range\n",
      "    return line_range(self.asttext(), node)\n",
      "AttributeError: 'Source' object has no attribute 'asttext'\n"
     ]
    }
   ],
   "source": [
    "# Separando dataframes pelos links\n",
    "df_aux = pd.read_html('https://www.numbeo.com/quality-of-life/region_rankings.jsp?title=2022-mid&region=002')\n",
    "df_aux = df_aux[1]\n",
    "df_africa = df[df.City.isin(df_aux.City)]\n",
    "\n",
    "df_aux = pd.read_html('https://www.numbeo.com/quality-of-life/region_rankings.jsp?title=2022-mid&region=019')\n",
    "df_aux = df_aux[1]\n",
    "df_america = df[df.City.isin(df_aux.City)]\n",
    "\n",
    "df_aux = pd.read_html('https://www.numbeo.com/quality-of-life/region_rankings.jsp?title=2022-mid&region=142')\n",
    "df_aux = df_aux[1]\n",
    "df_asia = df[df.City.isin(df_aux.City)]\n",
    "\n",
    "df_aux = pd.read_html('https://www.numbeo.com/quality-of-life/region_rankings.jsp?title=2022-mid&region=150')\n",
    "df_aux = df_aux[1]\n",
    "df_europa = df[df.City.isin(df_aux.City)]\n",
    "\n",
    "df_aux = pd.read_html('https://www.numbeo.com/quality-of-life/region_rankings.jsp?title=2022-mid&region=009')\n",
    "df_aux = df_aux[1]\n",
    "df_oceania = df[df.City.isin(df_aux.City)]\n",
    "\n",
    "\n",
    "# Mapeando Paises por Macro Regiões:\n",
    "Macro_Regiao = list(range(0,df.shape[0]))\n",
    "\n",
    "for i in df[df.City.isin(df_africa.City)].index:\n",
    "    Macro_Regiao[i] = 'Africa'\n",
    "    \n",
    "for i in df[df.City.isin(df_america.City)].index:\n",
    "    Macro_Regiao[i] = 'America'\n",
    "    \n",
    "for i in df[df.City.isin(df_asia.City)].index:\n",
    "    Macro_Regiao[i] = 'Asia'\n",
    "    \n",
    "for i in df[df.City.isin(df_europa.City)].index:\n",
    "    Macro_Regiao[i] = 'Europa'\n",
    "    \n",
    "for i in df[df.City.isin(df_oceania.City)].index:\n",
    "    Macro_Regiao[i] = 'Oceania'\n",
    "    \n",
    "# Faltou 3 países (tive que classificar na mão):\n",
    "# --> indice(4): Trondheim, Norway\n",
    "# --> indice(44): Cambridge, United Kingdom\n",
    "# --> indice(93): Qingdao, Shandong, China"
   ]
  },
  {
   "cell_type": "code",
   "execution_count": null,
   "id": "7075028f",
   "metadata": {},
   "outputs": [],
   "source": [
    "df['Macro_Regiao'] = Macro_Regiao"
   ]
  },
  {
   "cell_type": "code",
   "execution_count": null,
   "id": "c9d4ac77",
   "metadata": {},
   "outputs": [],
   "source": [
    "df"
   ]
  },
  {
   "cell_type": "markdown",
   "id": "2a964937",
   "metadata": {},
   "source": [
    "### Salvando dataframe: df_QualidadeVida_Cidades "
   ]
  },
  {
   "cell_type": "code",
   "execution_count": null,
   "id": "a71c9bd4",
   "metadata": {},
   "outputs": [],
   "source": [
    "df.to_csv('df_QualidadeVida_Cidades.csv', index=False)"
   ]
  },
  {
   "cell_type": "markdown",
   "id": "7b63d956",
   "metadata": {},
   "source": [
    "# Baixando dados gráfico: Quality_Life x Size_City"
   ]
  },
  {
   "cell_type": "code",
   "execution_count": null,
   "id": "c652c9cd",
   "metadata": {},
   "outputs": [],
   "source": [
    "df_grafico = pd.read_csv('Population2022_data.csv', sep=';')\n",
    "df_grafico.columns = ['City_Country', 'Country_Pop_2022', 'Growth',\n",
    "       'Area_Pop', 'Area_Pop_(bin)', 'Area_Pop_Median', 'Area_Pop_Quartiles',\n",
    "       'Name', 'Prev', 'Quality_Life', 'Rank', 'Tokyo']\n",
    "df_grafico = df_grafico.drop(80)\n",
    "df_grafico = df_grafico.drop(86)"
   ]
  },
  {
   "cell_type": "code",
   "execution_count": null,
   "id": "3b9a6cbf",
   "metadata": {},
   "outputs": [],
   "source": [
    "df_grafico.to_csv('df_grafico.csv', index=False)"
   ]
  },
  {
   "cell_type": "code",
   "execution_count": null,
   "id": "b9332996",
   "metadata": {},
   "outputs": [],
   "source": [
    "# Convete lista de string em float\n",
    "def string_to_float(lista):\n",
    "    quality = []\n",
    "    for i in lista:\n",
    "        if (type(i) == str) :\n",
    "            indice = ''\n",
    "            for j in i:\n",
    "                if (j != ','):\n",
    "                    indice += j\n",
    "                else:\n",
    "                    indice += '.'\n",
    "            indice = float(indice)\n",
    "            quality.append(indice)\n",
    "        elif (type(i) == float):\n",
    "            quality.append(i)\n",
    "        else:\n",
    "            quality.append(type(i))   \n",
    "    return quality\n",
    "\n",
    "# Convete lista de float em int\n",
    "def float_to_int(lista):\n",
    "    quality = []\n",
    "    for i in lista:\n",
    "        if (type(i) == int) :\n",
    "            quality.append(int(i))\n",
    "        else:\n",
    "            quality.append(type(i))   \n",
    "    return quality"
   ]
  },
  {
   "cell_type": "code",
   "execution_count": null,
   "id": "45a292c9",
   "metadata": {},
   "outputs": [],
   "source": [
    "df_grafico.Quality_Life = string_to_float(df_grafico.Quality_Life)\n",
    "df_grafico.Growth = string_to_float(df_grafico.Growth)\n",
    "df_grafico.Area_Pop = float_to_int(df_grafico.Area_Pop)"
   ]
  },
  {
   "cell_type": "code",
   "execution_count": null,
   "id": "bd683d83",
   "metadata": {
    "scrolled": true
   },
   "outputs": [],
   "source": [
    "df_grafico.head(5)"
   ]
  },
  {
   "cell_type": "markdown",
   "id": "b4e7c661",
   "metadata": {},
   "source": [
    "## Plotando gráfico: Fit log_x"
   ]
  },
  {
   "cell_type": "code",
   "execution_count": null,
   "id": "3771091c",
   "metadata": {
    "scrolled": false
   },
   "outputs": [],
   "source": [
    "fig = px.scatter(df_grafico, x=\"Area_Pop\", y=\"Quality_Life\", marginal_x=\"box\", marginal_y=\"box\", \n",
    "                 trendline=\"ols\", trendline_options=dict(log_x=True), trendline_color_override=\"red\",\n",
    "                 template=\"simple_white\", hover_name='City_Country', size='Area_Pop',\n",
    "                 height=500)\n",
    "fig.show()"
   ]
  },
  {
   "cell_type": "markdown",
   "id": "edacc177",
   "metadata": {},
   "source": [
    "### -------------------------------------------------------------------------------------------------------------------------------------------------"
   ]
  },
  {
   "cell_type": "markdown",
   "id": "43833a3a",
   "metadata": {},
   "source": [
    "## Testando df_grafico em df"
   ]
  },
  {
   "cell_type": "code",
   "execution_count": null,
   "id": "f53cde32",
   "metadata": {
    "scrolled": true
   },
   "outputs": [],
   "source": [
    "df_grafico2 = df[ df.City_Name.isin( (df_grafico.Name) ) ]\n",
    "df_grafico = df_grafico.sort_values('Quality_Life', ascending=False)"
   ]
  },
  {
   "cell_type": "code",
   "execution_count": null,
   "id": "f6ec3b9c",
   "metadata": {},
   "outputs": [],
   "source": [
    "df_grafico2.columns = ['Rank', 'City_Country', 'Quality_Life', 'Purchasing_Power',\n",
    "       'Safety', 'Health_Care', 'Cost_Living',\n",
    "       'Property_Price (Income_Ratio)', 'Traffic_Commute_Time',\n",
    "       'Pollution', 'Climate', 'City_Name', 'Country_Name', 'UF',\n",
    "       'Macro_Regiao']\n",
    "df_grafico.columns = ['City_Country', 'Country_Name', 'Growth', 'Area_Pop',\n",
    "       'Area_Pop_(bin)', 'Area_Pop_Median', 'Area_Pop_Quartiles', 'City_Name',\n",
    "       'Prev', 'Quality_Life', 'Rank', 'Tokyo']"
   ]
  },
  {
   "cell_type": "code",
   "execution_count": null,
   "id": "c178bdd0",
   "metadata": {},
   "outputs": [],
   "source": [
    "df_grafico = df_grafico.reindex(columns = ['City_Country', 'Quality_Life', 'Growth',\n",
    "                              'Area_Pop', 'Area_Pop_(bin)', 'Area_Pop_Median', 'Area_Pop_Quartiles', \n",
    "                               'Prev', 'Tokyo', 'Rank','City_Name', 'Country_Name'])\n",
    "df_grafico2 = df_grafico2.reindex(columns=['City_Country', 'Quality_Life', 'Purchasing_Power',\n",
    "                               'Safety', 'Health_Care', 'Cost_Living',\n",
    "                               'Property_Price (Income_Ratio)', 'Traffic_Commute_Time',\n",
    "                               'Pollution', 'Climate','Rank', 'City_Name', 'Country_Name', 'UF',\n",
    "                               'Macro_Regiao'] )"
   ]
  },
  {
   "cell_type": "code",
   "execution_count": null,
   "id": "07cfaf97",
   "metadata": {},
   "outputs": [],
   "source": [
    "df_grafico = df_grafico.sort_values('City_Name',ascending=True)\n",
    "df_grafico2 = df_grafico2.sort_values('City_Name',ascending=True)\n",
    "df_grafico.index = list(range(0,df_grafico.shape[0]))\n",
    "df_grafico2.index = list(range(0,df_grafico.shape[0]))"
   ]
  },
  {
   "cell_type": "code",
   "execution_count": null,
   "id": "b16722ff",
   "metadata": {},
   "outputs": [],
   "source": [
    "# df_grafico2 = df_grafico2.drop(columns=['Area_Pop'], axis=1)"
   ]
  },
  {
   "cell_type": "code",
   "execution_count": null,
   "id": "47aa4718",
   "metadata": {},
   "outputs": [],
   "source": [
    "df_grafico"
   ]
  },
  {
   "cell_type": "code",
   "execution_count": null,
   "id": "1574d4aa",
   "metadata": {},
   "outputs": [],
   "source": [
    "df_grafico2"
   ]
  },
  {
   "cell_type": "markdown",
   "id": "9e3e2157",
   "metadata": {},
   "source": [
    "# Analisando: df_QualityLife_x_SizeCity"
   ]
  },
  {
   "cell_type": "code",
   "execution_count": null,
   "id": "bd17a32c",
   "metadata": {},
   "outputs": [],
   "source": [
    "df_QualityLife_x_SizeCity = df_grafico2\n",
    "df_QualityLife_x_SizeCity['Area_Pop'] = df_grafico.Area_Pop"
   ]
  },
  {
   "cell_type": "code",
   "execution_count": null,
   "id": "62d96108",
   "metadata": {},
   "outputs": [],
   "source": [
    "df_QualityLife_x_SizeCity"
   ]
  },
  {
   "cell_type": "code",
   "execution_count": null,
   "id": "93f8d1eb",
   "metadata": {},
   "outputs": [],
   "source": [
    "fig = px.scatter(df_QualityLife_x_SizeCity, x=\"Area_Pop\", y=\"Quality_Life\", marginal_x=\"box\", marginal_y=\"box\", \n",
    "                 trendline=\"ols\", trendline_options=dict(log_x=True),\n",
    "                 template=\"simple_white\", hover_name='City_Country', size='Area_Pop',\n",
    "                 height=500, color='Macro_Regiao')\n",
    "fig.show()"
   ]
  },
  {
   "cell_type": "code",
   "execution_count": null,
   "id": "95a93351",
   "metadata": {},
   "outputs": [],
   "source": [
    "df_QualityLife_x_SizeCity.head(1)"
   ]
  },
  {
   "cell_type": "code",
   "execution_count": null,
   "id": "a59e3e0f",
   "metadata": {
    "scrolled": false
   },
   "outputs": [],
   "source": [
    "data = df_QualityLife_x_SizeCity\n",
    "display(pd.DataFrame(data.corr())[0:1])\n",
    "\n",
    "sns.heatmap(data.corr(), vmin = -1, vmax = +1, annot = True, cmap = 'coolwarm')"
   ]
  },
  {
   "cell_type": "code",
   "execution_count": null,
   "id": "5925d9d2",
   "metadata": {},
   "outputs": [],
   "source": [
    "data = df_QualityLife_x_SizeCity\n",
    "display(pd.DataFrame(data.corr())[0:1])\n",
    "\n",
    "fig = px.scatter_matrix(data, height=800, hover_name=data.City_Country, color='Macro_Regiao',\n",
    "            dimensions=['Quality_Life', 'Area_Pop', 'Pollution', 'Purchasing_Power',\n",
    "                       'Health_Care','Traffic_Commute_Time'],\n",
    "                       )\n",
    "fig.show()"
   ]
  },
  {
   "cell_type": "markdown",
   "id": "917cbadb",
   "metadata": {},
   "source": [
    "# Cidades do Brasil"
   ]
  },
  {
   "cell_type": "code",
   "execution_count": null,
   "id": "9607f2ad",
   "metadata": {},
   "outputs": [],
   "source": [
    "df_Internacional = pd.read_excel('REGIC2018_Internacional_Cidades.xlsx')"
   ]
  },
  {
   "cell_type": "code",
   "execution_count": null,
   "id": "991101df",
   "metadata": {},
   "outputs": [],
   "source": [
    "df_Internacional"
   ]
  },
  {
   "cell_type": "code",
   "execution_count": null,
   "id": "b993c71f",
   "metadata": {},
   "outputs": [],
   "source": [
    "df_Internacional[df_Internacional.classe == 'Internacional']"
   ]
  },
  {
   "cell_type": "code",
   "execution_count": null,
   "id": "590d199f",
   "metadata": {},
   "outputs": [],
   "source": [
    "df_Inter_ligada = pd.read_excel('REGIC2018_Internacional_Ligacoes.xlsx')"
   ]
  },
  {
   "cell_type": "code",
   "execution_count": null,
   "id": "6e4bb08a",
   "metadata": {},
   "outputs": [],
   "source": [
    "df_Inter_ligada"
   ]
  },
  {
   "cell_type": "code",
   "execution_count": null,
   "id": "bb599b37",
   "metadata": {},
   "outputs": [],
   "source": [
    "# Definindo dataframes\n",
    "\n",
    "df_ArranjoPop = pd.read_excel('REGIC2018_Arranjos_Populacionais_v2.xlsx')\n",
    "df_Br = pd.read_excel('REGIC2018_Cidades_v2.xlsx')\n",
    "df_Br_Ligado = pd.read_excel('REGIC2018_Ligacoes_entre_Cidades.xlsx')\n",
    "df_Matriz_liga_Cidades = pd.read_excel('REGIC2018_Matriz_de_Ligacoes.xlsx')"
   ]
  },
  {
   "cell_type": "markdown",
   "id": "ba904f7d",
   "metadata": {},
   "source": [
    "# Arranjo Populacional (AP)"
   ]
  },
  {
   "cell_type": "code",
   "execution_count": null,
   "id": "a95a62b7",
   "metadata": {},
   "outputs": [],
   "source": [
    "df_ArranjoPop"
   ]
  },
  {
   "cell_type": "code",
   "execution_count": null,
   "id": "5b0a0976",
   "metadata": {},
   "outputs": [],
   "source": [
    "df_ArranjoPop.columns = ['Codmun', 'Nome_Municipio', 'Codigo_AP',\n",
    "       'Nome_Arranjo_Pop', 'Tipo_AP']"
   ]
  },
  {
   "cell_type": "code",
   "execution_count": null,
   "id": "6da732ac",
   "metadata": {},
   "outputs": [],
   "source": [
    "df_ArranjoPop[df_ArranjoPop.Codigo_AP == 3500105]"
   ]
  },
  {
   "cell_type": "code",
   "execution_count": null,
   "id": "584d6bfc",
   "metadata": {},
   "outputs": [],
   "source": [
    "# df_ArranjoPop['Tipo de Arranjo Populacional'].unique()"
   ]
  },
  {
   "cell_type": "code",
   "execution_count": null,
   "id": "99cc3cea",
   "metadata": {},
   "outputs": [],
   "source": [
    "df_ArranjoPop.info()"
   ]
  },
  {
   "cell_type": "code",
   "execution_count": null,
   "id": "212d8e2e",
   "metadata": {},
   "outputs": [],
   "source": [
    "len(df_ArranjoPop.Codigo_AP.unique())"
   ]
  },
  {
   "cell_type": "markdown",
   "id": "67919ffd",
   "metadata": {},
   "source": [
    "# Cidades do Brasil"
   ]
  },
  {
   "cell_type": "code",
   "execution_count": null,
   "id": "fed84748",
   "metadata": {},
   "outputs": [],
   "source": [
    "df_Br = pd.read_excel('REGIC2018_Cidades_v2.xlsx')\n",
    "df_Br"
   ]
  },
  {
   "cell_type": "code",
   "execution_count": null,
   "id": "1016c51d",
   "metadata": {},
   "outputs": [],
   "source": [
    "df_Br"
   ]
  },
  {
   "cell_type": "markdown",
   "id": "716313ba",
   "metadata": {},
   "source": [
    "# Cidades Brasil Ligadas"
   ]
  },
  {
   "cell_type": "code",
   "execution_count": null,
   "id": "ebd69a02",
   "metadata": {},
   "outputs": [],
   "source": [
    "df_Br_Ligado.columns"
   ]
  },
  {
   "cell_type": "code",
   "execution_count": null,
   "id": "ae180536",
   "metadata": {},
   "outputs": [],
   "source": [
    "df_Br_Ligado.nivel_ori.unique()"
   ]
  },
  {
   "cell_type": "code",
   "execution_count": null,
   "id": "5d0f4802",
   "metadata": {},
   "outputs": [],
   "source": [
    "df_Br_Ligado[df_Br_Ligado.nivel_ori == '1A']"
   ]
  },
  {
   "cell_type": "code",
   "execution_count": null,
   "id": "f1a3ef06",
   "metadata": {},
   "outputs": [],
   "source": [
    "for i in df_Brasil.COD_CIDADE:\n",
    "    if i not in list(df_Brasil_Ligado.cod_ori):\n",
    "        print(i)"
   ]
  },
  {
   "cell_type": "code",
   "execution_count": null,
   "id": "a18721ca",
   "metadata": {},
   "outputs": [],
   "source": [
    "len(df_Brasil_Ligado.cod_ori.unique())"
   ]
  },
  {
   "cell_type": "markdown",
   "id": "202c18d0",
   "metadata": {},
   "source": [
    "# Matriz que liga cidades"
   ]
  },
  {
   "cell_type": "code",
   "execution_count": null,
   "id": "eecda40e",
   "metadata": {
    "scrolled": false
   },
   "outputs": [],
   "source": [
    "df_Matriz_liga_Cidades"
   ]
  },
  {
   "cell_type": "code",
   "execution_count": null,
   "id": "1cddf20e",
   "metadata": {},
   "outputs": [],
   "source": []
  }
 ],
 "metadata": {
  "kernelspec": {
   "display_name": "Python 3 (ipykernel)",
   "language": "python",
   "name": "python3"
  },
  "language_info": {
   "codemirror_mode": {
    "name": "ipython",
    "version": 3
   },
   "file_extension": ".py",
   "mimetype": "text/x-python",
   "name": "python",
   "nbconvert_exporter": "python",
   "pygments_lexer": "ipython3",
   "version": "3.10.8"
  }
 },
 "nbformat": 4,
 "nbformat_minor": 5
}
