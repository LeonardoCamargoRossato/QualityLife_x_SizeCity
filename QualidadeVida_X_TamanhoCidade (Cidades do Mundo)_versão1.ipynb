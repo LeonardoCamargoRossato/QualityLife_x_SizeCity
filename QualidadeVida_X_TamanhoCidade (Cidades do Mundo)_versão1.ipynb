{
 "cells": [
  {
   "cell_type": "code",
   "execution_count": 1,
   "id": "dee36803",
   "metadata": {},
   "outputs": [],
   "source": [
    "import pandas as pd\n",
    "import matplotlib.pyplot as plt\n",
    "import seaborn as sns\n",
    "import numpy as np\n",
    "import ipywidgets as widgets\n",
    "from IPython.display import display\n",
    "from ipywidgets import interact\n",
    "import plotly.express as px\n",
    "import dataprep"
   ]
  },
  {
   "cell_type": "markdown",
   "id": "9089bc77",
   "metadata": {},
   "source": [
    "# Importando df_QualidadeVida_Cidades.csv"
   ]
  },
  {
   "cell_type": "code",
   "execution_count": 2,
   "id": "5587ebac",
   "metadata": {},
   "outputs": [],
   "source": [
    "df_QualidadeVida_Cidades = pd.read_csv('df_QualidadeVida_Cidades.csv',sep=',')"
   ]
  },
  {
   "cell_type": "code",
   "execution_count": 23,
   "id": "57e9e9b6",
   "metadata": {},
   "outputs": [
    {
     "data": {
      "text/html": [
       "<div>\n",
       "<style scoped>\n",
       "    .dataframe tbody tr th:only-of-type {\n",
       "        vertical-align: middle;\n",
       "    }\n",
       "\n",
       "    .dataframe tbody tr th {\n",
       "        vertical-align: top;\n",
       "    }\n",
       "\n",
       "    .dataframe thead th {\n",
       "        text-align: right;\n",
       "    }\n",
       "</style>\n",
       "<table border=\"1\" class=\"dataframe\">\n",
       "  <thead>\n",
       "    <tr style=\"text-align: right;\">\n",
       "      <th></th>\n",
       "      <th>Rank</th>\n",
       "      <th>City</th>\n",
       "      <th>Quality of Life Index</th>\n",
       "      <th>Purchasing Power Index</th>\n",
       "      <th>Safety Index</th>\n",
       "      <th>Health Care Index</th>\n",
       "      <th>Cost of Living Index</th>\n",
       "      <th>Property Price to Income Ratio</th>\n",
       "      <th>Traffic Commute Time Index</th>\n",
       "      <th>Pollution Index</th>\n",
       "      <th>Climate Index</th>\n",
       "      <th>City_Name</th>\n",
       "      <th>Country_Name</th>\n",
       "      <th>UF</th>\n",
       "      <th>Macro_Regiao</th>\n",
       "    </tr>\n",
       "  </thead>\n",
       "  <tbody>\n",
       "    <tr>\n",
       "      <th>0</th>\n",
       "      <td>0</td>\n",
       "      <td>Canberra, Australia</td>\n",
       "      <td>224.39</td>\n",
       "      <td>142.88</td>\n",
       "      <td>77.69</td>\n",
       "      <td>81.99</td>\n",
       "      <td>65.71</td>\n",
       "      <td>4.12</td>\n",
       "      <td>24.34</td>\n",
       "      <td>13.66</td>\n",
       "      <td>82.72</td>\n",
       "      <td>Canberra</td>\n",
       "      <td>Australia</td>\n",
       "      <td>0</td>\n",
       "      <td>Oceania</td>\n",
       "    </tr>\n",
       "    <tr>\n",
       "      <th>1</th>\n",
       "      <td>1</td>\n",
       "      <td>The Hague (Den Haag), Netherlands</td>\n",
       "      <td>214.67</td>\n",
       "      <td>122.41</td>\n",
       "      <td>79.02</td>\n",
       "      <td>80.93</td>\n",
       "      <td>61.36</td>\n",
       "      <td>5.97</td>\n",
       "      <td>23.04</td>\n",
       "      <td>19.13</td>\n",
       "      <td>90.61</td>\n",
       "      <td>The Hague</td>\n",
       "      <td>Netherlands</td>\n",
       "      <td>0</td>\n",
       "      <td>Europa</td>\n",
       "    </tr>\n",
       "    <tr>\n",
       "      <th>2</th>\n",
       "      <td>2</td>\n",
       "      <td>Adelaide, Australia</td>\n",
       "      <td>214.44</td>\n",
       "      <td>127.27</td>\n",
       "      <td>69.45</td>\n",
       "      <td>80.76</td>\n",
       "      <td>68.33</td>\n",
       "      <td>3.48</td>\n",
       "      <td>24.33</td>\n",
       "      <td>19.00</td>\n",
       "      <td>94.96</td>\n",
       "      <td>Adelaide</td>\n",
       "      <td>Australia</td>\n",
       "      <td>0</td>\n",
       "      <td>Oceania</td>\n",
       "    </tr>\n",
       "    <tr>\n",
       "      <th>3</th>\n",
       "      <td>3</td>\n",
       "      <td>Raleigh, NC, United States</td>\n",
       "      <td>208.71</td>\n",
       "      <td>144.12</td>\n",
       "      <td>64.74</td>\n",
       "      <td>77.62</td>\n",
       "      <td>65.10</td>\n",
       "      <td>3.26</td>\n",
       "      <td>33.60</td>\n",
       "      <td>20.62</td>\n",
       "      <td>83.88</td>\n",
       "      <td>Raleigh</td>\n",
       "      <td>United States</td>\n",
       "      <td>NC</td>\n",
       "      <td>America</td>\n",
       "    </tr>\n",
       "    <tr>\n",
       "      <th>4</th>\n",
       "      <td>4</td>\n",
       "      <td>Eindhoven, Netherlands</td>\n",
       "      <td>201.43</td>\n",
       "      <td>111.77</td>\n",
       "      <td>76.34</td>\n",
       "      <td>75.91</td>\n",
       "      <td>66.25</td>\n",
       "      <td>5.95</td>\n",
       "      <td>25.06</td>\n",
       "      <td>22.75</td>\n",
       "      <td>85.38</td>\n",
       "      <td>Eindhoven</td>\n",
       "      <td>Netherlands</td>\n",
       "      <td>0</td>\n",
       "      <td>Europa</td>\n",
       "    </tr>\n",
       "    <tr>\n",
       "      <th>...</th>\n",
       "      <td>...</td>\n",
       "      <td>...</td>\n",
       "      <td>...</td>\n",
       "      <td>...</td>\n",
       "      <td>...</td>\n",
       "      <td>...</td>\n",
       "      <td>...</td>\n",
       "      <td>...</td>\n",
       "      <td>...</td>\n",
       "      <td>...</td>\n",
       "      <td>...</td>\n",
       "      <td>...</td>\n",
       "      <td>...</td>\n",
       "      <td>...</td>\n",
       "      <td>...</td>\n",
       "    </tr>\n",
       "    <tr>\n",
       "      <th>233</th>\n",
       "      <td>233</td>\n",
       "      <td>Beirut, Lebanon</td>\n",
       "      <td>61.73</td>\n",
       "      <td>11.48</td>\n",
       "      <td>53.53</td>\n",
       "      <td>65.15</td>\n",
       "      <td>83.90</td>\n",
       "      <td>36.49</td>\n",
       "      <td>39.82</td>\n",
       "      <td>93.72</td>\n",
       "      <td>94.74</td>\n",
       "      <td>Beirut</td>\n",
       "      <td>Lebanon</td>\n",
       "      <td>0</td>\n",
       "      <td>Asia</td>\n",
       "    </tr>\n",
       "    <tr>\n",
       "      <th>234</th>\n",
       "      <td>234</td>\n",
       "      <td>Tehran, Iran</td>\n",
       "      <td>60.14</td>\n",
       "      <td>17.61</td>\n",
       "      <td>44.16</td>\n",
       "      <td>52.50</td>\n",
       "      <td>33.37</td>\n",
       "      <td>29.89</td>\n",
       "      <td>52.91</td>\n",
       "      <td>80.96</td>\n",
       "      <td>70.99</td>\n",
       "      <td>Tehran</td>\n",
       "      <td>Iran</td>\n",
       "      <td>0</td>\n",
       "      <td>Asia</td>\n",
       "    </tr>\n",
       "    <tr>\n",
       "      <th>235</th>\n",
       "      <td>235</td>\n",
       "      <td>Dhaka, Bangladesh</td>\n",
       "      <td>57.45</td>\n",
       "      <td>25.89</td>\n",
       "      <td>36.51</td>\n",
       "      <td>39.84</td>\n",
       "      <td>30.69</td>\n",
       "      <td>15.21</td>\n",
       "      <td>60.41</td>\n",
       "      <td>93.56</td>\n",
       "      <td>71.29</td>\n",
       "      <td>Dhaka</td>\n",
       "      <td>Bangladesh</td>\n",
       "      <td>0</td>\n",
       "      <td>Asia</td>\n",
       "    </tr>\n",
       "    <tr>\n",
       "      <th>236</th>\n",
       "      <td>236</td>\n",
       "      <td>Manila, Philippines</td>\n",
       "      <td>48.67</td>\n",
       "      <td>26.28</td>\n",
       "      <td>34.41</td>\n",
       "      <td>63.71</td>\n",
       "      <td>35.03</td>\n",
       "      <td>34.68</td>\n",
       "      <td>53.64</td>\n",
       "      <td>89.92</td>\n",
       "      <td>61.23</td>\n",
       "      <td>Manila</td>\n",
       "      <td>Philippines</td>\n",
       "      <td>0</td>\n",
       "      <td>Asia</td>\n",
       "    </tr>\n",
       "    <tr>\n",
       "      <th>237</th>\n",
       "      <td>237</td>\n",
       "      <td>Lagos, Nigeria</td>\n",
       "      <td>48.56</td>\n",
       "      <td>7.88</td>\n",
       "      <td>33.09</td>\n",
       "      <td>45.94</td>\n",
       "      <td>38.84</td>\n",
       "      <td>12.26</td>\n",
       "      <td>68.22</td>\n",
       "      <td>89.26</td>\n",
       "      <td>60.75</td>\n",
       "      <td>Lagos</td>\n",
       "      <td>Nigeria</td>\n",
       "      <td>0</td>\n",
       "      <td>Africa</td>\n",
       "    </tr>\n",
       "  </tbody>\n",
       "</table>\n",
       "<p>238 rows × 15 columns</p>\n",
       "</div>"
      ],
      "text/plain": [
       "     Rank                               City  Quality of Life Index  \\\n",
       "0       0                Canberra, Australia                 224.39   \n",
       "1       1  The Hague (Den Haag), Netherlands                 214.67   \n",
       "2       2                Adelaide, Australia                 214.44   \n",
       "3       3         Raleigh, NC, United States                 208.71   \n",
       "4       4             Eindhoven, Netherlands                 201.43   \n",
       "..    ...                                ...                    ...   \n",
       "233   233                    Beirut, Lebanon                  61.73   \n",
       "234   234                       Tehran, Iran                  60.14   \n",
       "235   235                  Dhaka, Bangladesh                  57.45   \n",
       "236   236                Manila, Philippines                  48.67   \n",
       "237   237                     Lagos, Nigeria                  48.56   \n",
       "\n",
       "     Purchasing Power Index  Safety Index  Health Care Index  \\\n",
       "0                    142.88         77.69              81.99   \n",
       "1                    122.41         79.02              80.93   \n",
       "2                    127.27         69.45              80.76   \n",
       "3                    144.12         64.74              77.62   \n",
       "4                    111.77         76.34              75.91   \n",
       "..                      ...           ...                ...   \n",
       "233                   11.48         53.53              65.15   \n",
       "234                   17.61         44.16              52.50   \n",
       "235                   25.89         36.51              39.84   \n",
       "236                   26.28         34.41              63.71   \n",
       "237                    7.88         33.09              45.94   \n",
       "\n",
       "     Cost of Living Index  Property Price to Income Ratio  \\\n",
       "0                   65.71                            4.12   \n",
       "1                   61.36                            5.97   \n",
       "2                   68.33                            3.48   \n",
       "3                   65.10                            3.26   \n",
       "4                   66.25                            5.95   \n",
       "..                    ...                             ...   \n",
       "233                 83.90                           36.49   \n",
       "234                 33.37                           29.89   \n",
       "235                 30.69                           15.21   \n",
       "236                 35.03                           34.68   \n",
       "237                 38.84                           12.26   \n",
       "\n",
       "     Traffic Commute Time Index  Pollution Index  Climate Index   City_Name  \\\n",
       "0                         24.34            13.66          82.72    Canberra   \n",
       "1                         23.04            19.13          90.61  The Hague    \n",
       "2                         24.33            19.00          94.96    Adelaide   \n",
       "3                         33.60            20.62          83.88     Raleigh   \n",
       "4                         25.06            22.75          85.38   Eindhoven   \n",
       "..                          ...              ...            ...         ...   \n",
       "233                       39.82            93.72          94.74      Beirut   \n",
       "234                       52.91            80.96          70.99      Tehran   \n",
       "235                       60.41            93.56          71.29       Dhaka   \n",
       "236                       53.64            89.92          61.23      Manila   \n",
       "237                       68.22            89.26          60.75       Lagos   \n",
       "\n",
       "      Country_Name  UF Macro_Regiao  \n",
       "0        Australia   0      Oceania  \n",
       "1      Netherlands   0       Europa  \n",
       "2        Australia   0      Oceania  \n",
       "3    United States  NC      America  \n",
       "4      Netherlands   0       Europa  \n",
       "..             ...  ..          ...  \n",
       "233        Lebanon   0         Asia  \n",
       "234           Iran   0         Asia  \n",
       "235     Bangladesh   0         Asia  \n",
       "236    Philippines   0         Asia  \n",
       "237        Nigeria   0       Africa  \n",
       "\n",
       "[238 rows x 15 columns]"
      ]
     },
     "execution_count": 23,
     "metadata": {},
     "output_type": "execute_result"
    }
   ],
   "source": [
    "df = df_QualidadeVida_Cidades\n",
    "df"
   ]
  },
  {
   "cell_type": "markdown",
   "id": "24b41b97",
   "metadata": {},
   "source": [
    "# Importando dados dos gráficos (df_grafico)"
   ]
  },
  {
   "cell_type": "code",
   "execution_count": 12,
   "id": "046546ed",
   "metadata": {},
   "outputs": [],
   "source": [
    "df_grafico = pd.read_csv('df_grafico.csv', sep=',')"
   ]
  },
  {
   "cell_type": "code",
   "execution_count": 13,
   "id": "88045432",
   "metadata": {},
   "outputs": [
    {
     "data": {
      "text/html": [
       "<div>\n",
       "<style scoped>\n",
       "    .dataframe tbody tr th:only-of-type {\n",
       "        vertical-align: middle;\n",
       "    }\n",
       "\n",
       "    .dataframe tbody tr th {\n",
       "        vertical-align: top;\n",
       "    }\n",
       "\n",
       "    .dataframe thead th {\n",
       "        text-align: right;\n",
       "    }\n",
       "</style>\n",
       "<table border=\"1\" class=\"dataframe\">\n",
       "  <thead>\n",
       "    <tr style=\"text-align: right;\">\n",
       "      <th></th>\n",
       "      <th>City_Country</th>\n",
       "      <th>Country_Pop_2022</th>\n",
       "      <th>Growth</th>\n",
       "      <th>Area_Pop</th>\n",
       "      <th>Area_Pop_(bin)</th>\n",
       "      <th>Area_Pop_Median</th>\n",
       "      <th>Area_Pop_Quartiles</th>\n",
       "      <th>Name</th>\n",
       "      <th>Prev</th>\n",
       "      <th>Quality_Life</th>\n",
       "      <th>Rank</th>\n",
       "      <th>Tokyo</th>\n",
       "    </tr>\n",
       "  </thead>\n",
       "  <tbody>\n",
       "    <tr>\n",
       "      <th>0</th>\n",
       "      <td>Kuwait City, Kuwait</td>\n",
       "      <td>Kuwait</td>\n",
       "      <td>0.0193</td>\n",
       "      <td>3238523</td>\n",
       "      <td>2000K</td>\n",
       "      <td>Above Median 2.4M+</td>\n",
       "      <td>Between Lower &amp; Upper Quartile</td>\n",
       "      <td>Kuwait City</td>\n",
       "      <td>3177315.0</td>\n",
       "      <td>116.64</td>\n",
       "      <td>144.0</td>\n",
       "      <td>Not Tokyo</td>\n",
       "    </tr>\n",
       "    <tr>\n",
       "      <th>1</th>\n",
       "      <td>Portland, United States</td>\n",
       "      <td>United States</td>\n",
       "      <td>NaN</td>\n",
       "      <td>2511612</td>\n",
       "      <td>2000K</td>\n",
       "      <td>Above Median 2.4M+</td>\n",
       "      <td>Between Lower &amp; Upper Quartile</td>\n",
       "      <td>Portland</td>\n",
       "      <td>NaN</td>\n",
       "      <td>176.92</td>\n",
       "      <td>NaN</td>\n",
       "      <td>Not Tokyo</td>\n",
       "    </tr>\n",
       "    <tr>\n",
       "      <th>2</th>\n",
       "      <td>Madrid, Spain</td>\n",
       "      <td>Spain</td>\n",
       "      <td>0.0067</td>\n",
       "      <td>6713557</td>\n",
       "      <td>6000K</td>\n",
       "      <td>Above Median 2.4M+</td>\n",
       "      <td>Above Upper Quartile</td>\n",
       "      <td>Madrid</td>\n",
       "      <td>6668865.0</td>\n",
       "      <td>157.33</td>\n",
       "      <td>58.0</td>\n",
       "      <td>Not Tokyo</td>\n",
       "    </tr>\n",
       "    <tr>\n",
       "      <th>3</th>\n",
       "      <td>Beijing, China</td>\n",
       "      <td>China</td>\n",
       "      <td>0.0209</td>\n",
       "      <td>21333332</td>\n",
       "      <td>20000K</td>\n",
       "      <td>Above Median 2.4M+</td>\n",
       "      <td>Above Upper Quartile</td>\n",
       "      <td>Beijing</td>\n",
       "      <td>20896820.0</td>\n",
       "      <td>58.96</td>\n",
       "      <td>8.0</td>\n",
       "      <td>Not Tokyo</td>\n",
       "    </tr>\n",
       "    <tr>\n",
       "      <th>4</th>\n",
       "      <td>Mexico City, Mexico</td>\n",
       "      <td>Mexico</td>\n",
       "      <td>0.0076</td>\n",
       "      <td>22085140</td>\n",
       "      <td>22000K</td>\n",
       "      <td>Above Median 2.4M+</td>\n",
       "      <td>Above Upper Quartile</td>\n",
       "      <td>Mexico City</td>\n",
       "      <td>21918936.0</td>\n",
       "      <td>85.94</td>\n",
       "      <td>6.0</td>\n",
       "      <td>Not Tokyo</td>\n",
       "    </tr>\n",
       "    <tr>\n",
       "      <th>...</th>\n",
       "      <td>...</td>\n",
       "      <td>...</td>\n",
       "      <td>...</td>\n",
       "      <td>...</td>\n",
       "      <td>...</td>\n",
       "      <td>...</td>\n",
       "      <td>...</td>\n",
       "      <td>...</td>\n",
       "      <td>...</td>\n",
       "      <td>...</td>\n",
       "      <td>...</td>\n",
       "      <td>...</td>\n",
       "    </tr>\n",
       "    <tr>\n",
       "      <th>96</th>\n",
       "      <td>Cape Town, South Africa</td>\n",
       "      <td>South Africa</td>\n",
       "      <td>0.0193</td>\n",
       "      <td>4800954</td>\n",
       "      <td>4000K</td>\n",
       "      <td>Above Median 2.4M+</td>\n",
       "      <td>Between Lower &amp; Upper Quartile</td>\n",
       "      <td>Cape Town</td>\n",
       "      <td>4709990.0</td>\n",
       "      <td>145.05</td>\n",
       "      <td>86.0</td>\n",
       "      <td>Not Tokyo</td>\n",
       "    </tr>\n",
       "    <tr>\n",
       "      <th>97</th>\n",
       "      <td>Vancouver, Canada</td>\n",
       "      <td>Canada</td>\n",
       "      <td>0.0097</td>\n",
       "      <td>2631690</td>\n",
       "      <td>2000K</td>\n",
       "      <td>Above Median 2.4M+</td>\n",
       "      <td>Between Lower &amp; Upper Quartile</td>\n",
       "      <td>Vancouver</td>\n",
       "      <td>2606351.0</td>\n",
       "      <td>172.66</td>\n",
       "      <td>191.0</td>\n",
       "      <td>Not Tokyo</td>\n",
       "    </tr>\n",
       "    <tr>\n",
       "      <th>98</th>\n",
       "      <td>Manchester, United Kingdom</td>\n",
       "      <td>United Kingdom</td>\n",
       "      <td>0.0074</td>\n",
       "      <td>2770434</td>\n",
       "      <td>2000K</td>\n",
       "      <td>Above Median 2.4M+</td>\n",
       "      <td>Between Lower &amp; Upper Quartile</td>\n",
       "      <td>Manchester</td>\n",
       "      <td>2750120.0</td>\n",
       "      <td>147.47</td>\n",
       "      <td>178.0</td>\n",
       "      <td>Not Tokyo</td>\n",
       "    </tr>\n",
       "    <tr>\n",
       "      <th>99</th>\n",
       "      <td>Medellin, Colombia</td>\n",
       "      <td>Colombia</td>\n",
       "      <td>0.0084</td>\n",
       "      <td>4067758</td>\n",
       "      <td>4000K</td>\n",
       "      <td>Above Median 2.4M+</td>\n",
       "      <td>Between Lower &amp; Upper Quartile</td>\n",
       "      <td>Medellin</td>\n",
       "      <td>4033783.0</td>\n",
       "      <td>121.78</td>\n",
       "      <td>107.0</td>\n",
       "      <td>Not Tokyo</td>\n",
       "    </tr>\n",
       "    <tr>\n",
       "      <th>100</th>\n",
       "      <td>San Francisco, United States</td>\n",
       "      <td>United States</td>\n",
       "      <td>NaN</td>\n",
       "      <td>4623264</td>\n",
       "      <td>4000K</td>\n",
       "      <td>Above Median 2.4M+</td>\n",
       "      <td>Between Lower &amp; Upper Quartile</td>\n",
       "      <td>San Francisco</td>\n",
       "      <td>NaN</td>\n",
       "      <td>157.57</td>\n",
       "      <td>NaN</td>\n",
       "      <td>Not Tokyo</td>\n",
       "    </tr>\n",
       "  </tbody>\n",
       "</table>\n",
       "<p>101 rows × 12 columns</p>\n",
       "</div>"
      ],
      "text/plain": [
       "                     City_Country Country_Pop_2022  Growth  Area_Pop  \\\n",
       "0             Kuwait City, Kuwait           Kuwait  0.0193   3238523   \n",
       "1         Portland, United States    United States     NaN   2511612   \n",
       "2                   Madrid, Spain            Spain  0.0067   6713557   \n",
       "3                  Beijing, China            China  0.0209  21333332   \n",
       "4             Mexico City, Mexico           Mexico  0.0076  22085140   \n",
       "..                            ...              ...     ...       ...   \n",
       "96        Cape Town, South Africa     South Africa  0.0193   4800954   \n",
       "97              Vancouver, Canada           Canada  0.0097   2631690   \n",
       "98     Manchester, United Kingdom   United Kingdom  0.0074   2770434   \n",
       "99             Medellin, Colombia         Colombia  0.0084   4067758   \n",
       "100  San Francisco, United States    United States     NaN   4623264   \n",
       "\n",
       "    Area_Pop_(bin)     Area_Pop_Median              Area_Pop_Quartiles  \\\n",
       "0            2000K  Above Median 2.4M+  Between Lower & Upper Quartile   \n",
       "1            2000K  Above Median 2.4M+  Between Lower & Upper Quartile   \n",
       "2            6000K  Above Median 2.4M+            Above Upper Quartile   \n",
       "3           20000K  Above Median 2.4M+            Above Upper Quartile   \n",
       "4           22000K  Above Median 2.4M+            Above Upper Quartile   \n",
       "..             ...                 ...                             ...   \n",
       "96           4000K  Above Median 2.4M+  Between Lower & Upper Quartile   \n",
       "97           2000K  Above Median 2.4M+  Between Lower & Upper Quartile   \n",
       "98           2000K  Above Median 2.4M+  Between Lower & Upper Quartile   \n",
       "99           4000K  Above Median 2.4M+  Between Lower & Upper Quartile   \n",
       "100          4000K  Above Median 2.4M+  Between Lower & Upper Quartile   \n",
       "\n",
       "              Name        Prev  Quality_Life   Rank      Tokyo  \n",
       "0      Kuwait City   3177315.0        116.64  144.0  Not Tokyo  \n",
       "1         Portland         NaN        176.92    NaN  Not Tokyo  \n",
       "2           Madrid   6668865.0        157.33   58.0  Not Tokyo  \n",
       "3          Beijing  20896820.0         58.96    8.0  Not Tokyo  \n",
       "4      Mexico City  21918936.0         85.94    6.0  Not Tokyo  \n",
       "..             ...         ...           ...    ...        ...  \n",
       "96       Cape Town   4709990.0        145.05   86.0  Not Tokyo  \n",
       "97       Vancouver   2606351.0        172.66  191.0  Not Tokyo  \n",
       "98      Manchester   2750120.0        147.47  178.0  Not Tokyo  \n",
       "99        Medellin   4033783.0        121.78  107.0  Not Tokyo  \n",
       "100  San Francisco         NaN        157.57    NaN  Not Tokyo  \n",
       "\n",
       "[101 rows x 12 columns]"
      ]
     },
     "execution_count": 13,
     "metadata": {},
     "output_type": "execute_result"
    }
   ],
   "source": [
    "df_grafico"
   ]
  },
  {
   "cell_type": "markdown",
   "id": "fd15d322",
   "metadata": {},
   "source": [
    "## Plotando gráfico: Fit log_x"
   ]
  },
  {
   "cell_type": "code",
   "execution_count": 14,
   "id": "3099f929",
   "metadata": {},
   "outputs": [
    {
     "data": {
      "application/vnd.plotly.v1+json": {
       "config": {
        "plotlyServerURL": "https://plot.ly"
       },
       "data": [
        {
         "hovertemplate": "<b>%{hovertext}</b><br><br>Area_Pop=%{marker.size}<br>Quality_Life=%{y}<extra></extra>",
         "hovertext": [
          "Kuwait City, Kuwait",
          "Portland, United States",
          "Madrid, Spain",
          "Beijing, China",
          "Mexico City, Mexico",
          "Toronto, Canada",
          "Shenzhen, China",
          "Milan, Italy",
          "Curitiba, Brazil",
          "Pune, India",
          "Dubai, United Arab Emirates",
          "Jakarta, Indonesia",
          "Saint Petersburg, Russia",
          "Chicago, United States",
          "Kolkata, India",
          "Johannesburg, South Africa",
          "Hanoi, Vietnam",
          "Coimbatore, India",
          "Hyderabad, India",
          "Baltimore, United States",
          "Manila, Philippines",
          "Athens, Greece",
          "Washington, United States",
          "Ho Chi Minh City, Vietnam",
          "Bogota, Colombia",
          "Monterrey, Mexico",
          "New York, United States",
          "Istanbul, Turkey",
          "Seoul, South Korea",
          "Seattle, United States",
          "Bangalore, India",
          "Kuala Lumpur, Malaysia",
          "Sao Paulo, Brazil",
          "San Juan, Puerto Rico",
          "Charlotte, United States",
          "Lisbon, Portugal",
          "Lagos, Nigeria",
          "Guatemala City, Guatemala",
          "Tampa, United States",
          "Brasilia, Brazil",
          "Melbourne, Australia",
          "Montreal, Canada",
          "Rio de Janeiro, Brazil",
          "Rome, Italy",
          "Philadelphia, United States",
          "Houston, United States",
          "Sydney, Australia",
          "Karachi, Pakistan",
          "Paris, France",
          "Shanghai, China",
          "Miami, United States",
          "Ankara, Turkey",
          "Atlanta, United States",
          "Ahmedabad, India",
          "Izmir, Turkey",
          "Lima, Peru",
          "Brisbane, Australia",
          "Birmingham, United Kingdom",
          "Santiago, Chile",
          "Denver, United States",
          "Belo Horizonte, Brazil",
          "Barcelona, Spain",
          "Taipei, Taiwan",
          "Recife, Brazil",
          "Nairobi, Kenya",
          "Chennai, India",
          "Detroit, United States",
          "Hong Kong, Hong Kong",
          "Guadalajara, Mexico",
          "Delhi, India",
          "Orlando, United States",
          "Campinas, Brazil",
          "Buenos Aires, Argentina",
          "Boston, United States",
          "Durban, South Africa",
          "Dhaka, Bangladesh",
          "London, United Kingdom",
          "Los Angeles, United States",
          "Mumbai, India",
          "Cairo, Egypt",
          "Dallas, United States",
          "San Diego, United States",
          "Pretoria, South Africa",
          "Riyadh, Saudi Arabia",
          "Berlin, Germany",
          "Phoenix, United States",
          "Bangkok, Thailand",
          "Caracas, Venezuela",
          "Moscow, Russia",
          "Tehran, Iran",
          "Porto Alegre, Brazil",
          "San Antonio, United States",
          "Lahore, Pakistan",
          "Singapore, Singapore",
          "Tokyo, Japan",
          "Minneapolis, United States",
          "Cape Town, South Africa",
          "Vancouver, Canada",
          "Manchester, United Kingdom",
          "Medellin, Colombia",
          "San Francisco, United States"
         ],
         "legendgroup": "",
         "marker": {
          "color": "#1F77B4",
          "size": [
           3238523,
           2511612,
           6713557,
           21333332,
           22085140,
           6312974,
           12831330,
           3149223,
           3770919,
           6987077,
           2964382,
           11074811,
           5535556,
           9509934,
           15133888,
           6065354,
           5067352,
           2934621,
           10534418,
           2838327,
           14406059,
           3153781,
           6356434,
           9077158,
           11344312,
           5036535,
           19768458,
           15636243,
           9975709,
           4011553,
           13193035,
           8419566,
           22429800,
           2442512,
           2701046,
           2986162,
           15387639,
           3036405,
           3219514,
           4803877,
           5150766,
           4276526,
           13634274,
           4297877,
           6228601,
           7206841,
           5056571,
           16839950,
           11142303,
           28516904,
           6091747,
           5309690,
           6144050,
           8450228,
           3056149,
           11044607,
           2472222,
           2645598,
           6856939,
           2972566,
           6194292,
           5658472,
           2742379,
           4220458,
           5118844,
           11503293,
           4365205,
           7643256,
           5339583,
           32065760,
           2691925,
           3384564,
           15369919,
           4899932,
           3199329,
           22478116,
           9540576,
           12997353,
           20961472,
           21750020,
           7759615,
           3286069,
           2739768,
           7538200,
           3570750,
           4946145,
           10899698,
           2956813,
           12640818,
           9381546,
           4185488,
           2601788,
           13541764,
           6039577,
           37274000,
           3690512,
           4800954,
           2631690,
           2770434,
           4067758,
           4623264
          ],
          "sizemode": "area",
          "sizeref": 93185,
          "symbol": "circle"
         },
         "mode": "markers",
         "name": "",
         "orientation": "v",
         "showlegend": false,
         "type": "scatter",
         "x": [
          3238523,
          2511612,
          6713557,
          21333332,
          22085140,
          6312974,
          12831330,
          3149223,
          3770919,
          6987077,
          2964382,
          11074811,
          5535556,
          9509934,
          15133888,
          6065354,
          5067352,
          2934621,
          10534418,
          2838327,
          14406059,
          3153781,
          6356434,
          9077158,
          11344312,
          5036535,
          19768458,
          15636243,
          9975709,
          4011553,
          13193035,
          8419566,
          22429800,
          2442512,
          2701046,
          2986162,
          15387639,
          3036405,
          3219514,
          4803877,
          5150766,
          4276526,
          13634274,
          4297877,
          6228601,
          7206841,
          5056571,
          16839950,
          11142303,
          28516904,
          6091747,
          5309690,
          6144050,
          8450228,
          3056149,
          11044607,
          2472222,
          2645598,
          6856939,
          2972566,
          6194292,
          5658472,
          2742379,
          4220458,
          5118844,
          11503293,
          4365205,
          7643256,
          5339583,
          32065760,
          2691925,
          3384564,
          15369919,
          4899932,
          3199329,
          22478116,
          9540576,
          12997353,
          20961472,
          21750020,
          7759615,
          3286069,
          2739768,
          7538200,
          3570750,
          4946145,
          10899698,
          2956813,
          12640818,
          9381546,
          4185488,
          2601788,
          13541764,
          6039577,
          37274000,
          3690512,
          4800954,
          2631690,
          2770434,
          4067758,
          4623264
         ],
         "xaxis": "x",
         "y": [
          116.64,
          176.92,
          157.33,
          58.96,
          85.94,
          155.02,
          109.11,
          118.57,
          140.07,
          138.28,
          178.96,
          74.13,
          97.91,
          144.81,
          99.37,
          132.58,
          93.75,
          142.77,
          112.53,
          160.36,
          46.08,
          115.69,
          162.88,
          66.41,
          88.27,
          125.76,
          137.32,
          96.13,
          125.66,
          194.3,
          141.67,
          117.7,
          78.54,
          118.97,
          194.31,
          150.09,
          48.22,
          95.46,
          178.42,
          135.44,
          183.06,
          153.76,
          70.28,
          109.98,
          154.13,
          170.9,
          184.52,
          79.91,
          123.02,
          76.62,
          152.51,
          126.93,
          163.99,
          113.04,
          131.52,
          77.67,
          196.06,
          149.32,
          103.1,
          167.36,
          107.2,
          143.73,
          137.81,
          83.22,
          81.75,
          114.51,
          133.05,
          103.85,
          128.14,
          77.27,
          171.75,
          125.75,
          99.23,
          174.52,
          139.09,
          56.18,
          126.14,
          139.75,
          89.39,
          81.6,
          175.71,
          188.18,
          133.25,
          150.72,
          163.74,
          151.95,
          79.74,
          69.32,
          108.32,
          56.28,
          107.74,
          188.14,
          106.01,
          154.54,
          160.27,
          169.27,
          145.05,
          172.66,
          147.47,
          121.78,
          157.57
         ],
         "yaxis": "y"
        },
        {
         "alignmentgroup": "True",
         "hovertemplate": "<b>%{hovertext}</b><br><br>Area_Pop=%{x}<extra></extra>",
         "hovertext": [
          "Kuwait City, Kuwait",
          "Portland, United States",
          "Madrid, Spain",
          "Beijing, China",
          "Mexico City, Mexico",
          "Toronto, Canada",
          "Shenzhen, China",
          "Milan, Italy",
          "Curitiba, Brazil",
          "Pune, India",
          "Dubai, United Arab Emirates",
          "Jakarta, Indonesia",
          "Saint Petersburg, Russia",
          "Chicago, United States",
          "Kolkata, India",
          "Johannesburg, South Africa",
          "Hanoi, Vietnam",
          "Coimbatore, India",
          "Hyderabad, India",
          "Baltimore, United States",
          "Manila, Philippines",
          "Athens, Greece",
          "Washington, United States",
          "Ho Chi Minh City, Vietnam",
          "Bogota, Colombia",
          "Monterrey, Mexico",
          "New York, United States",
          "Istanbul, Turkey",
          "Seoul, South Korea",
          "Seattle, United States",
          "Bangalore, India",
          "Kuala Lumpur, Malaysia",
          "Sao Paulo, Brazil",
          "San Juan, Puerto Rico",
          "Charlotte, United States",
          "Lisbon, Portugal",
          "Lagos, Nigeria",
          "Guatemala City, Guatemala",
          "Tampa, United States",
          "Brasilia, Brazil",
          "Melbourne, Australia",
          "Montreal, Canada",
          "Rio de Janeiro, Brazil",
          "Rome, Italy",
          "Philadelphia, United States",
          "Houston, United States",
          "Sydney, Australia",
          "Karachi, Pakistan",
          "Paris, France",
          "Shanghai, China",
          "Miami, United States",
          "Ankara, Turkey",
          "Atlanta, United States",
          "Ahmedabad, India",
          "Izmir, Turkey",
          "Lima, Peru",
          "Brisbane, Australia",
          "Birmingham, United Kingdom",
          "Santiago, Chile",
          "Denver, United States",
          "Belo Horizonte, Brazil",
          "Barcelona, Spain",
          "Taipei, Taiwan",
          "Recife, Brazil",
          "Nairobi, Kenya",
          "Chennai, India",
          "Detroit, United States",
          "Hong Kong, Hong Kong",
          "Guadalajara, Mexico",
          "Delhi, India",
          "Orlando, United States",
          "Campinas, Brazil",
          "Buenos Aires, Argentina",
          "Boston, United States",
          "Durban, South Africa",
          "Dhaka, Bangladesh",
          "London, United Kingdom",
          "Los Angeles, United States",
          "Mumbai, India",
          "Cairo, Egypt",
          "Dallas, United States",
          "San Diego, United States",
          "Pretoria, South Africa",
          "Riyadh, Saudi Arabia",
          "Berlin, Germany",
          "Phoenix, United States",
          "Bangkok, Thailand",
          "Caracas, Venezuela",
          "Moscow, Russia",
          "Tehran, Iran",
          "Porto Alegre, Brazil",
          "San Antonio, United States",
          "Lahore, Pakistan",
          "Singapore, Singapore",
          "Tokyo, Japan",
          "Minneapolis, United States",
          "Cape Town, South Africa",
          "Vancouver, Canada",
          "Manchester, United Kingdom",
          "Medellin, Colombia",
          "San Francisco, United States"
         ],
         "legendgroup": "",
         "marker": {
          "color": "#1F77B4",
          "symbol": "circle"
         },
         "name": "",
         "notched": true,
         "offsetgroup": "",
         "showlegend": false,
         "type": "box",
         "x": [
          3238523,
          2511612,
          6713557,
          21333332,
          22085140,
          6312974,
          12831330,
          3149223,
          3770919,
          6987077,
          2964382,
          11074811,
          5535556,
          9509934,
          15133888,
          6065354,
          5067352,
          2934621,
          10534418,
          2838327,
          14406059,
          3153781,
          6356434,
          9077158,
          11344312,
          5036535,
          19768458,
          15636243,
          9975709,
          4011553,
          13193035,
          8419566,
          22429800,
          2442512,
          2701046,
          2986162,
          15387639,
          3036405,
          3219514,
          4803877,
          5150766,
          4276526,
          13634274,
          4297877,
          6228601,
          7206841,
          5056571,
          16839950,
          11142303,
          28516904,
          6091747,
          5309690,
          6144050,
          8450228,
          3056149,
          11044607,
          2472222,
          2645598,
          6856939,
          2972566,
          6194292,
          5658472,
          2742379,
          4220458,
          5118844,
          11503293,
          4365205,
          7643256,
          5339583,
          32065760,
          2691925,
          3384564,
          15369919,
          4899932,
          3199329,
          22478116,
          9540576,
          12997353,
          20961472,
          21750020,
          7759615,
          3286069,
          2739768,
          7538200,
          3570750,
          4946145,
          10899698,
          2956813,
          12640818,
          9381546,
          4185488,
          2601788,
          13541764,
          6039577,
          37274000,
          3690512,
          4800954,
          2631690,
          2770434,
          4067758,
          4623264
         ],
         "xaxis": "x3",
         "yaxis": "y3"
        },
        {
         "alignmentgroup": "True",
         "hovertemplate": "<b>%{hovertext}</b><br><br>Quality_Life=%{y}<extra></extra>",
         "hovertext": [
          "Kuwait City, Kuwait",
          "Portland, United States",
          "Madrid, Spain",
          "Beijing, China",
          "Mexico City, Mexico",
          "Toronto, Canada",
          "Shenzhen, China",
          "Milan, Italy",
          "Curitiba, Brazil",
          "Pune, India",
          "Dubai, United Arab Emirates",
          "Jakarta, Indonesia",
          "Saint Petersburg, Russia",
          "Chicago, United States",
          "Kolkata, India",
          "Johannesburg, South Africa",
          "Hanoi, Vietnam",
          "Coimbatore, India",
          "Hyderabad, India",
          "Baltimore, United States",
          "Manila, Philippines",
          "Athens, Greece",
          "Washington, United States",
          "Ho Chi Minh City, Vietnam",
          "Bogota, Colombia",
          "Monterrey, Mexico",
          "New York, United States",
          "Istanbul, Turkey",
          "Seoul, South Korea",
          "Seattle, United States",
          "Bangalore, India",
          "Kuala Lumpur, Malaysia",
          "Sao Paulo, Brazil",
          "San Juan, Puerto Rico",
          "Charlotte, United States",
          "Lisbon, Portugal",
          "Lagos, Nigeria",
          "Guatemala City, Guatemala",
          "Tampa, United States",
          "Brasilia, Brazil",
          "Melbourne, Australia",
          "Montreal, Canada",
          "Rio de Janeiro, Brazil",
          "Rome, Italy",
          "Philadelphia, United States",
          "Houston, United States",
          "Sydney, Australia",
          "Karachi, Pakistan",
          "Paris, France",
          "Shanghai, China",
          "Miami, United States",
          "Ankara, Turkey",
          "Atlanta, United States",
          "Ahmedabad, India",
          "Izmir, Turkey",
          "Lima, Peru",
          "Brisbane, Australia",
          "Birmingham, United Kingdom",
          "Santiago, Chile",
          "Denver, United States",
          "Belo Horizonte, Brazil",
          "Barcelona, Spain",
          "Taipei, Taiwan",
          "Recife, Brazil",
          "Nairobi, Kenya",
          "Chennai, India",
          "Detroit, United States",
          "Hong Kong, Hong Kong",
          "Guadalajara, Mexico",
          "Delhi, India",
          "Orlando, United States",
          "Campinas, Brazil",
          "Buenos Aires, Argentina",
          "Boston, United States",
          "Durban, South Africa",
          "Dhaka, Bangladesh",
          "London, United Kingdom",
          "Los Angeles, United States",
          "Mumbai, India",
          "Cairo, Egypt",
          "Dallas, United States",
          "San Diego, United States",
          "Pretoria, South Africa",
          "Riyadh, Saudi Arabia",
          "Berlin, Germany",
          "Phoenix, United States",
          "Bangkok, Thailand",
          "Caracas, Venezuela",
          "Moscow, Russia",
          "Tehran, Iran",
          "Porto Alegre, Brazil",
          "San Antonio, United States",
          "Lahore, Pakistan",
          "Singapore, Singapore",
          "Tokyo, Japan",
          "Minneapolis, United States",
          "Cape Town, South Africa",
          "Vancouver, Canada",
          "Manchester, United Kingdom",
          "Medellin, Colombia",
          "San Francisco, United States"
         ],
         "legendgroup": "",
         "marker": {
          "color": "#1F77B4",
          "symbol": "circle"
         },
         "name": "",
         "notched": true,
         "offsetgroup": "",
         "showlegend": false,
         "type": "box",
         "xaxis": "x2",
         "y": [
          116.64,
          176.92,
          157.33,
          58.96,
          85.94,
          155.02,
          109.11,
          118.57,
          140.07,
          138.28,
          178.96,
          74.13,
          97.91,
          144.81,
          99.37,
          132.58,
          93.75,
          142.77,
          112.53,
          160.36,
          46.08,
          115.69,
          162.88,
          66.41,
          88.27,
          125.76,
          137.32,
          96.13,
          125.66,
          194.3,
          141.67,
          117.7,
          78.54,
          118.97,
          194.31,
          150.09,
          48.22,
          95.46,
          178.42,
          135.44,
          183.06,
          153.76,
          70.28,
          109.98,
          154.13,
          170.9,
          184.52,
          79.91,
          123.02,
          76.62,
          152.51,
          126.93,
          163.99,
          113.04,
          131.52,
          77.67,
          196.06,
          149.32,
          103.1,
          167.36,
          107.2,
          143.73,
          137.81,
          83.22,
          81.75,
          114.51,
          133.05,
          103.85,
          128.14,
          77.27,
          171.75,
          125.75,
          99.23,
          174.52,
          139.09,
          56.18,
          126.14,
          139.75,
          89.39,
          81.6,
          175.71,
          188.18,
          133.25,
          150.72,
          163.74,
          151.95,
          79.74,
          69.32,
          108.32,
          56.28,
          107.74,
          188.14,
          106.01,
          154.54,
          160.27,
          169.27,
          145.05,
          172.66,
          147.47,
          121.78,
          157.57
         ],
         "yaxis": "y2"
        },
        {
         "hovertemplate": "<b>OLS trendline</b><br>Quality_Life = -71.8287 * log10(Area_Pop) + 616.237<br>R<sup>2</sup>=0.335968<br><br>Area_Pop=%{x}<br>Quality_Life=%{y} <b>(trend)</b><extra></extra>",
         "legendgroup": "",
         "line": {
          "color": "red"
         },
         "marker": {
          "color": "#1F77B4",
          "symbol": "circle"
         },
         "mode": "lines",
         "name": "",
         "showlegend": false,
         "type": "scatter",
         "x": [
          2442512,
          2472222,
          2511612,
          2601788,
          2631690,
          2645598,
          2691925,
          2701046,
          2739768,
          2742379,
          2770434,
          2838327,
          2934621,
          2956813,
          2964382,
          2972566,
          2986162,
          3036405,
          3056149,
          3149223,
          3153781,
          3199329,
          3219514,
          3238523,
          3286069,
          3384564,
          3570750,
          3690512,
          3770919,
          4011553,
          4067758,
          4185488,
          4220458,
          4276526,
          4297877,
          4365205,
          4623264,
          4800954,
          4803877,
          4899932,
          4946145,
          5036535,
          5056571,
          5067352,
          5118844,
          5150766,
          5309690,
          5339583,
          5535556,
          5658472,
          6039577,
          6065354,
          6091747,
          6144050,
          6194292,
          6228601,
          6312974,
          6356434,
          6713557,
          6856939,
          6987077,
          7206841,
          7538200,
          7643256,
          7759615,
          8419566,
          8450228,
          9077158,
          9381546,
          9509934,
          9540576,
          9975709,
          10534418,
          10899698,
          11044607,
          11074811,
          11142303,
          11344312,
          11503293,
          12640818,
          12831330,
          12997353,
          13193035,
          13541764,
          13634274,
          14406059,
          15133888,
          15369919,
          15387639,
          15636243,
          16839950,
          19768458,
          20961472,
          21333332,
          21750020,
          22085140,
          22429800,
          22478116,
          28516904,
          32065760,
          37274000
         ],
         "xaxis": "x",
         "y": [
          157.40674371796,
          157.02958825353613,
          156.53647811118316,
          155.4361081960712,
          155.0796348685687,
          154.91521004991688,
          154.37368593167486,
          154.2681677582545,
          153.82413632644602,
          153.79442180722253,
          153.47691485361008,
          152.721663072536,
          151.68089408120483,
          151.44588212318297,
          151.3661300727025,
          151.28012676976562,
          151.13777239181945,
          150.61727749207967,
          150.41509210893304,
          149.47924348185342,
          149.43412657747018,
          148.98682249903123,
          148.79062841311935,
          148.60698621777834,
          148.152332450259,
          147.23105343027402,
          145.56055324857158,
          144.53145035954515,
          143.85909166727612,
          141.9293891538569,
          141.49535879078587,
          140.60532951260842,
          140.34577772649965,
          139.9340889310286,
          139.77873304708618,
          139.2938416123888,
          137.5021422792256,
          136.3256702264972,
          136.3066834350152,
          135.68908753858938,
          135.39625683998344,
          134.83132300568872,
          134.7074720851187,
          134.64103312036724,
          134.325646030926,
          134.13171378781112,
          133.183765233695,
          133.00863417942548,
          131.88423396342722,
          131.19913712221665,
          129.16585609363653,
          129.03299947662975,
          128.8975516954407,
          128.63086001877167,
          128.37680662817723,
          128.2045012238147,
          127.78477080607189,
          127.5707541455676,
          125.86560202999488,
          125.20638631194021,
          124.61988726852883,
          123.65383317279532,
          122.25154138438364,
          121.81979685024857,
          121.34847340500897,
          118.80217864576787,
          118.68878109930426,
          116.45623880642268,
          115.4273269506935,
          115.00331546898741,
          114.90296408741074,
          113.51170078984984,
          111.81174645518672,
          110.74839985588943,
          110.33640449941248,
          110.25121157713613,
          110.06168135563308,
          109.50118757517015,
          109.06705334323351,
          106.12545170474039,
          105.65881666725699,
          105.25777965481825,
          104.79162555579114,
          103.9777682732672,
          103.76538676671612,
          102.04773408034885,
          100.5102167151565,
          100.02745130071071,
          99.99150746721386,
          99.49154920700141,
          97.17806178259002,
          92.1764840671899,
          90.34851600332672,
          89.79996613024457,
          89.19653525130877,
          88.71955687346247,
          88.23649111996792,
          88.16936667334573,
          80.74640887480768,
          77.08751353521643,
          72.39246732031279
         ],
         "yaxis": "y"
        }
       ],
       "layout": {
        "height": 500,
        "legend": {
         "itemsizing": "constant",
         "tracegroupgap": 0
        },
        "margin": {
         "t": 60
        },
        "template": {
         "data": {
          "bar": [
           {
            "error_x": {
             "color": "rgb(36,36,36)"
            },
            "error_y": {
             "color": "rgb(36,36,36)"
            },
            "marker": {
             "line": {
              "color": "white",
              "width": 0.5
             },
             "pattern": {
              "fillmode": "overlay",
              "size": 10,
              "solidity": 0.2
             }
            },
            "type": "bar"
           }
          ],
          "barpolar": [
           {
            "marker": {
             "line": {
              "color": "white",
              "width": 0.5
             },
             "pattern": {
              "fillmode": "overlay",
              "size": 10,
              "solidity": 0.2
             }
            },
            "type": "barpolar"
           }
          ],
          "carpet": [
           {
            "aaxis": {
             "endlinecolor": "rgb(36,36,36)",
             "gridcolor": "white",
             "linecolor": "white",
             "minorgridcolor": "white",
             "startlinecolor": "rgb(36,36,36)"
            },
            "baxis": {
             "endlinecolor": "rgb(36,36,36)",
             "gridcolor": "white",
             "linecolor": "white",
             "minorgridcolor": "white",
             "startlinecolor": "rgb(36,36,36)"
            },
            "type": "carpet"
           }
          ],
          "choropleth": [
           {
            "colorbar": {
             "outlinewidth": 1,
             "tickcolor": "rgb(36,36,36)",
             "ticks": "outside"
            },
            "type": "choropleth"
           }
          ],
          "contour": [
           {
            "colorbar": {
             "outlinewidth": 1,
             "tickcolor": "rgb(36,36,36)",
             "ticks": "outside"
            },
            "colorscale": [
             [
              0,
              "#440154"
             ],
             [
              0.1111111111111111,
              "#482878"
             ],
             [
              0.2222222222222222,
              "#3e4989"
             ],
             [
              0.3333333333333333,
              "#31688e"
             ],
             [
              0.4444444444444444,
              "#26828e"
             ],
             [
              0.5555555555555556,
              "#1f9e89"
             ],
             [
              0.6666666666666666,
              "#35b779"
             ],
             [
              0.7777777777777778,
              "#6ece58"
             ],
             [
              0.8888888888888888,
              "#b5de2b"
             ],
             [
              1,
              "#fde725"
             ]
            ],
            "type": "contour"
           }
          ],
          "contourcarpet": [
           {
            "colorbar": {
             "outlinewidth": 1,
             "tickcolor": "rgb(36,36,36)",
             "ticks": "outside"
            },
            "type": "contourcarpet"
           }
          ],
          "heatmap": [
           {
            "colorbar": {
             "outlinewidth": 1,
             "tickcolor": "rgb(36,36,36)",
             "ticks": "outside"
            },
            "colorscale": [
             [
              0,
              "#440154"
             ],
             [
              0.1111111111111111,
              "#482878"
             ],
             [
              0.2222222222222222,
              "#3e4989"
             ],
             [
              0.3333333333333333,
              "#31688e"
             ],
             [
              0.4444444444444444,
              "#26828e"
             ],
             [
              0.5555555555555556,
              "#1f9e89"
             ],
             [
              0.6666666666666666,
              "#35b779"
             ],
             [
              0.7777777777777778,
              "#6ece58"
             ],
             [
              0.8888888888888888,
              "#b5de2b"
             ],
             [
              1,
              "#fde725"
             ]
            ],
            "type": "heatmap"
           }
          ],
          "heatmapgl": [
           {
            "colorbar": {
             "outlinewidth": 1,
             "tickcolor": "rgb(36,36,36)",
             "ticks": "outside"
            },
            "colorscale": [
             [
              0,
              "#440154"
             ],
             [
              0.1111111111111111,
              "#482878"
             ],
             [
              0.2222222222222222,
              "#3e4989"
             ],
             [
              0.3333333333333333,
              "#31688e"
             ],
             [
              0.4444444444444444,
              "#26828e"
             ],
             [
              0.5555555555555556,
              "#1f9e89"
             ],
             [
              0.6666666666666666,
              "#35b779"
             ],
             [
              0.7777777777777778,
              "#6ece58"
             ],
             [
              0.8888888888888888,
              "#b5de2b"
             ],
             [
              1,
              "#fde725"
             ]
            ],
            "type": "heatmapgl"
           }
          ],
          "histogram": [
           {
            "marker": {
             "line": {
              "color": "white",
              "width": 0.6
             }
            },
            "type": "histogram"
           }
          ],
          "histogram2d": [
           {
            "colorbar": {
             "outlinewidth": 1,
             "tickcolor": "rgb(36,36,36)",
             "ticks": "outside"
            },
            "colorscale": [
             [
              0,
              "#440154"
             ],
             [
              0.1111111111111111,
              "#482878"
             ],
             [
              0.2222222222222222,
              "#3e4989"
             ],
             [
              0.3333333333333333,
              "#31688e"
             ],
             [
              0.4444444444444444,
              "#26828e"
             ],
             [
              0.5555555555555556,
              "#1f9e89"
             ],
             [
              0.6666666666666666,
              "#35b779"
             ],
             [
              0.7777777777777778,
              "#6ece58"
             ],
             [
              0.8888888888888888,
              "#b5de2b"
             ],
             [
              1,
              "#fde725"
             ]
            ],
            "type": "histogram2d"
           }
          ],
          "histogram2dcontour": [
           {
            "colorbar": {
             "outlinewidth": 1,
             "tickcolor": "rgb(36,36,36)",
             "ticks": "outside"
            },
            "colorscale": [
             [
              0,
              "#440154"
             ],
             [
              0.1111111111111111,
              "#482878"
             ],
             [
              0.2222222222222222,
              "#3e4989"
             ],
             [
              0.3333333333333333,
              "#31688e"
             ],
             [
              0.4444444444444444,
              "#26828e"
             ],
             [
              0.5555555555555556,
              "#1f9e89"
             ],
             [
              0.6666666666666666,
              "#35b779"
             ],
             [
              0.7777777777777778,
              "#6ece58"
             ],
             [
              0.8888888888888888,
              "#b5de2b"
             ],
             [
              1,
              "#fde725"
             ]
            ],
            "type": "histogram2dcontour"
           }
          ],
          "mesh3d": [
           {
            "colorbar": {
             "outlinewidth": 1,
             "tickcolor": "rgb(36,36,36)",
             "ticks": "outside"
            },
            "type": "mesh3d"
           }
          ],
          "parcoords": [
           {
            "line": {
             "colorbar": {
              "outlinewidth": 1,
              "tickcolor": "rgb(36,36,36)",
              "ticks": "outside"
             }
            },
            "type": "parcoords"
           }
          ],
          "pie": [
           {
            "automargin": true,
            "type": "pie"
           }
          ],
          "scatter": [
           {
            "fillpattern": {
             "fillmode": "overlay",
             "size": 10,
             "solidity": 0.2
            },
            "type": "scatter"
           }
          ],
          "scatter3d": [
           {
            "line": {
             "colorbar": {
              "outlinewidth": 1,
              "tickcolor": "rgb(36,36,36)",
              "ticks": "outside"
             }
            },
            "marker": {
             "colorbar": {
              "outlinewidth": 1,
              "tickcolor": "rgb(36,36,36)",
              "ticks": "outside"
             }
            },
            "type": "scatter3d"
           }
          ],
          "scattercarpet": [
           {
            "marker": {
             "colorbar": {
              "outlinewidth": 1,
              "tickcolor": "rgb(36,36,36)",
              "ticks": "outside"
             }
            },
            "type": "scattercarpet"
           }
          ],
          "scattergeo": [
           {
            "marker": {
             "colorbar": {
              "outlinewidth": 1,
              "tickcolor": "rgb(36,36,36)",
              "ticks": "outside"
             }
            },
            "type": "scattergeo"
           }
          ],
          "scattergl": [
           {
            "marker": {
             "colorbar": {
              "outlinewidth": 1,
              "tickcolor": "rgb(36,36,36)",
              "ticks": "outside"
             }
            },
            "type": "scattergl"
           }
          ],
          "scattermapbox": [
           {
            "marker": {
             "colorbar": {
              "outlinewidth": 1,
              "tickcolor": "rgb(36,36,36)",
              "ticks": "outside"
             }
            },
            "type": "scattermapbox"
           }
          ],
          "scatterpolar": [
           {
            "marker": {
             "colorbar": {
              "outlinewidth": 1,
              "tickcolor": "rgb(36,36,36)",
              "ticks": "outside"
             }
            },
            "type": "scatterpolar"
           }
          ],
          "scatterpolargl": [
           {
            "marker": {
             "colorbar": {
              "outlinewidth": 1,
              "tickcolor": "rgb(36,36,36)",
              "ticks": "outside"
             }
            },
            "type": "scatterpolargl"
           }
          ],
          "scatterternary": [
           {
            "marker": {
             "colorbar": {
              "outlinewidth": 1,
              "tickcolor": "rgb(36,36,36)",
              "ticks": "outside"
             }
            },
            "type": "scatterternary"
           }
          ],
          "surface": [
           {
            "colorbar": {
             "outlinewidth": 1,
             "tickcolor": "rgb(36,36,36)",
             "ticks": "outside"
            },
            "colorscale": [
             [
              0,
              "#440154"
             ],
             [
              0.1111111111111111,
              "#482878"
             ],
             [
              0.2222222222222222,
              "#3e4989"
             ],
             [
              0.3333333333333333,
              "#31688e"
             ],
             [
              0.4444444444444444,
              "#26828e"
             ],
             [
              0.5555555555555556,
              "#1f9e89"
             ],
             [
              0.6666666666666666,
              "#35b779"
             ],
             [
              0.7777777777777778,
              "#6ece58"
             ],
             [
              0.8888888888888888,
              "#b5de2b"
             ],
             [
              1,
              "#fde725"
             ]
            ],
            "type": "surface"
           }
          ],
          "table": [
           {
            "cells": {
             "fill": {
              "color": "rgb(237,237,237)"
             },
             "line": {
              "color": "white"
             }
            },
            "header": {
             "fill": {
              "color": "rgb(217,217,217)"
             },
             "line": {
              "color": "white"
             }
            },
            "type": "table"
           }
          ]
         },
         "layout": {
          "annotationdefaults": {
           "arrowhead": 0,
           "arrowwidth": 1
          },
          "autotypenumbers": "strict",
          "coloraxis": {
           "colorbar": {
            "outlinewidth": 1,
            "tickcolor": "rgb(36,36,36)",
            "ticks": "outside"
           }
          },
          "colorscale": {
           "diverging": [
            [
             0,
             "rgb(103,0,31)"
            ],
            [
             0.1,
             "rgb(178,24,43)"
            ],
            [
             0.2,
             "rgb(214,96,77)"
            ],
            [
             0.3,
             "rgb(244,165,130)"
            ],
            [
             0.4,
             "rgb(253,219,199)"
            ],
            [
             0.5,
             "rgb(247,247,247)"
            ],
            [
             0.6,
             "rgb(209,229,240)"
            ],
            [
             0.7,
             "rgb(146,197,222)"
            ],
            [
             0.8,
             "rgb(67,147,195)"
            ],
            [
             0.9,
             "rgb(33,102,172)"
            ],
            [
             1,
             "rgb(5,48,97)"
            ]
           ],
           "sequential": [
            [
             0,
             "#440154"
            ],
            [
             0.1111111111111111,
             "#482878"
            ],
            [
             0.2222222222222222,
             "#3e4989"
            ],
            [
             0.3333333333333333,
             "#31688e"
            ],
            [
             0.4444444444444444,
             "#26828e"
            ],
            [
             0.5555555555555556,
             "#1f9e89"
            ],
            [
             0.6666666666666666,
             "#35b779"
            ],
            [
             0.7777777777777778,
             "#6ece58"
            ],
            [
             0.8888888888888888,
             "#b5de2b"
            ],
            [
             1,
             "#fde725"
            ]
           ],
           "sequentialminus": [
            [
             0,
             "#440154"
            ],
            [
             0.1111111111111111,
             "#482878"
            ],
            [
             0.2222222222222222,
             "#3e4989"
            ],
            [
             0.3333333333333333,
             "#31688e"
            ],
            [
             0.4444444444444444,
             "#26828e"
            ],
            [
             0.5555555555555556,
             "#1f9e89"
            ],
            [
             0.6666666666666666,
             "#35b779"
            ],
            [
             0.7777777777777778,
             "#6ece58"
            ],
            [
             0.8888888888888888,
             "#b5de2b"
            ],
            [
             1,
             "#fde725"
            ]
           ]
          },
          "colorway": [
           "#1F77B4",
           "#FF7F0E",
           "#2CA02C",
           "#D62728",
           "#9467BD",
           "#8C564B",
           "#E377C2",
           "#7F7F7F",
           "#BCBD22",
           "#17BECF"
          ],
          "font": {
           "color": "rgb(36,36,36)"
          },
          "geo": {
           "bgcolor": "white",
           "lakecolor": "white",
           "landcolor": "white",
           "showlakes": true,
           "showland": true,
           "subunitcolor": "white"
          },
          "hoverlabel": {
           "align": "left"
          },
          "hovermode": "closest",
          "mapbox": {
           "style": "light"
          },
          "paper_bgcolor": "white",
          "plot_bgcolor": "white",
          "polar": {
           "angularaxis": {
            "gridcolor": "rgb(232,232,232)",
            "linecolor": "rgb(36,36,36)",
            "showgrid": false,
            "showline": true,
            "ticks": "outside"
           },
           "bgcolor": "white",
           "radialaxis": {
            "gridcolor": "rgb(232,232,232)",
            "linecolor": "rgb(36,36,36)",
            "showgrid": false,
            "showline": true,
            "ticks": "outside"
           }
          },
          "scene": {
           "xaxis": {
            "backgroundcolor": "white",
            "gridcolor": "rgb(232,232,232)",
            "gridwidth": 2,
            "linecolor": "rgb(36,36,36)",
            "showbackground": true,
            "showgrid": false,
            "showline": true,
            "ticks": "outside",
            "zeroline": false,
            "zerolinecolor": "rgb(36,36,36)"
           },
           "yaxis": {
            "backgroundcolor": "white",
            "gridcolor": "rgb(232,232,232)",
            "gridwidth": 2,
            "linecolor": "rgb(36,36,36)",
            "showbackground": true,
            "showgrid": false,
            "showline": true,
            "ticks": "outside",
            "zeroline": false,
            "zerolinecolor": "rgb(36,36,36)"
           },
           "zaxis": {
            "backgroundcolor": "white",
            "gridcolor": "rgb(232,232,232)",
            "gridwidth": 2,
            "linecolor": "rgb(36,36,36)",
            "showbackground": true,
            "showgrid": false,
            "showline": true,
            "ticks": "outside",
            "zeroline": false,
            "zerolinecolor": "rgb(36,36,36)"
           }
          },
          "shapedefaults": {
           "fillcolor": "black",
           "line": {
            "width": 0
           },
           "opacity": 0.3
          },
          "ternary": {
           "aaxis": {
            "gridcolor": "rgb(232,232,232)",
            "linecolor": "rgb(36,36,36)",
            "showgrid": false,
            "showline": true,
            "ticks": "outside"
           },
           "baxis": {
            "gridcolor": "rgb(232,232,232)",
            "linecolor": "rgb(36,36,36)",
            "showgrid": false,
            "showline": true,
            "ticks": "outside"
           },
           "bgcolor": "white",
           "caxis": {
            "gridcolor": "rgb(232,232,232)",
            "linecolor": "rgb(36,36,36)",
            "showgrid": false,
            "showline": true,
            "ticks": "outside"
           }
          },
          "title": {
           "x": 0.05
          },
          "xaxis": {
           "automargin": true,
           "gridcolor": "rgb(232,232,232)",
           "linecolor": "rgb(36,36,36)",
           "showgrid": false,
           "showline": true,
           "ticks": "outside",
           "title": {
            "standoff": 15
           },
           "zeroline": false,
           "zerolinecolor": "rgb(36,36,36)"
          },
          "yaxis": {
           "automargin": true,
           "gridcolor": "rgb(232,232,232)",
           "linecolor": "rgb(36,36,36)",
           "showgrid": false,
           "showline": true,
           "ticks": "outside",
           "title": {
            "standoff": 15
           },
           "zeroline": false,
           "zerolinecolor": "rgb(36,36,36)"
          }
         }
        },
        "xaxis": {
         "anchor": "y",
         "domain": [
          0,
          0.8358
         ],
         "title": {
          "text": "Area_Pop"
         }
        },
        "xaxis2": {
         "anchor": "y2",
         "domain": [
          0.8408,
          1
         ],
         "matches": "x2",
         "showline": false,
         "showticklabels": false,
         "ticks": ""
        },
        "xaxis3": {
         "anchor": "y3",
         "domain": [
          0,
          0.8358
         ],
         "matches": "x",
         "showticklabels": false
        },
        "xaxis4": {
         "anchor": "y4",
         "domain": [
          0.8408,
          1
         ],
         "matches": "x2",
         "showline": false,
         "showticklabels": false,
         "ticks": ""
        },
        "yaxis": {
         "anchor": "x",
         "domain": [
          0,
          0.8316
         ],
         "title": {
          "text": "Quality_Life"
         }
        },
        "yaxis2": {
         "anchor": "x2",
         "domain": [
          0,
          0.8316
         ],
         "matches": "y",
         "showticklabels": false
        },
        "yaxis3": {
         "anchor": "x3",
         "domain": [
          0.8416,
          1
         ],
         "matches": "y3",
         "showline": false,
         "showticklabels": false,
         "ticks": ""
        },
        "yaxis4": {
         "anchor": "x4",
         "domain": [
          0.8416,
          1
         ],
         "matches": "y3",
         "showline": false,
         "showticklabels": false,
         "ticks": ""
        }
       }
      },
      "text/html": [
       "<div>                            <div id=\"a41f2624-3785-4a6c-b44c-0ee7fedfc32d\" class=\"plotly-graph-div\" style=\"height:500px; width:100%;\"></div>            <script type=\"text/javascript\">                require([\"plotly\"], function(Plotly) {                    window.PLOTLYENV=window.PLOTLYENV || {};                                    if (document.getElementById(\"a41f2624-3785-4a6c-b44c-0ee7fedfc32d\")) {                    Plotly.newPlot(                        \"a41f2624-3785-4a6c-b44c-0ee7fedfc32d\",                        [{\"hovertemplate\":\"<b>%{hovertext}</b><br><br>Area_Pop=%{marker.size}<br>Quality_Life=%{y}<extra></extra>\",\"hovertext\":[\"Kuwait City, Kuwait\",\"Portland, United States\",\"Madrid, Spain\",\"Beijing, China\",\"Mexico City, Mexico\",\"Toronto, Canada\",\"Shenzhen, China\",\"Milan, Italy\",\"Curitiba, Brazil\",\"Pune, India\",\"Dubai, United Arab Emirates\",\"Jakarta, Indonesia\",\"Saint Petersburg, Russia\",\"Chicago, United States\",\"Kolkata, India\",\"Johannesburg, South Africa\",\"Hanoi, Vietnam\",\"Coimbatore, India\",\"Hyderabad, India\",\"Baltimore, United States\",\"Manila, Philippines\",\"Athens, Greece\",\"Washington, United States\",\"Ho Chi Minh City, Vietnam\",\"Bogota, Colombia\",\"Monterrey, Mexico\",\"New York, United States\",\"Istanbul, Turkey\",\"Seoul, South Korea\",\"Seattle, United States\",\"Bangalore, India\",\"Kuala Lumpur, Malaysia\",\"Sao Paulo, Brazil\",\"San Juan, Puerto Rico\",\"Charlotte, United States\",\"Lisbon, Portugal\",\"Lagos, Nigeria\",\"Guatemala City, Guatemala\",\"Tampa, United States\",\"Brasilia, Brazil\",\"Melbourne, Australia\",\"Montreal, Canada\",\"Rio de Janeiro, Brazil\",\"Rome, Italy\",\"Philadelphia, United States\",\"Houston, United States\",\"Sydney, Australia\",\"Karachi, Pakistan\",\"Paris, France\",\"Shanghai, China\",\"Miami, United States\",\"Ankara, Turkey\",\"Atlanta, United States\",\"Ahmedabad, India\",\"Izmir, Turkey\",\"Lima, Peru\",\"Brisbane, Australia\",\"Birmingham, United Kingdom\",\"Santiago, Chile\",\"Denver, United States\",\"Belo Horizonte, Brazil\",\"Barcelona, Spain\",\"Taipei, Taiwan\",\"Recife, Brazil\",\"Nairobi, Kenya\",\"Chennai, India\",\"Detroit, United States\",\"Hong Kong, Hong Kong\",\"Guadalajara, Mexico\",\"Delhi, India\",\"Orlando, United States\",\"Campinas, Brazil\",\"Buenos Aires, Argentina\",\"Boston, United States\",\"Durban, South Africa\",\"Dhaka, Bangladesh\",\"London, United Kingdom\",\"Los Angeles, United States\",\"Mumbai, India\",\"Cairo, Egypt\",\"Dallas, United States\",\"San Diego, United States\",\"Pretoria, South Africa\",\"Riyadh, Saudi Arabia\",\"Berlin, Germany\",\"Phoenix, United States\",\"Bangkok, Thailand\",\"Caracas, Venezuela\",\"Moscow, Russia\",\"Tehran, Iran\",\"Porto Alegre, Brazil\",\"San Antonio, United States\",\"Lahore, Pakistan\",\"Singapore, Singapore\",\"Tokyo, Japan\",\"Minneapolis, United States\",\"Cape Town, South Africa\",\"Vancouver, Canada\",\"Manchester, United Kingdom\",\"Medellin, Colombia\",\"San Francisco, United States\"],\"legendgroup\":\"\",\"marker\":{\"color\":\"#1F77B4\",\"size\":[3238523,2511612,6713557,21333332,22085140,6312974,12831330,3149223,3770919,6987077,2964382,11074811,5535556,9509934,15133888,6065354,5067352,2934621,10534418,2838327,14406059,3153781,6356434,9077158,11344312,5036535,19768458,15636243,9975709,4011553,13193035,8419566,22429800,2442512,2701046,2986162,15387639,3036405,3219514,4803877,5150766,4276526,13634274,4297877,6228601,7206841,5056571,16839950,11142303,28516904,6091747,5309690,6144050,8450228,3056149,11044607,2472222,2645598,6856939,2972566,6194292,5658472,2742379,4220458,5118844,11503293,4365205,7643256,5339583,32065760,2691925,3384564,15369919,4899932,3199329,22478116,9540576,12997353,20961472,21750020,7759615,3286069,2739768,7538200,3570750,4946145,10899698,2956813,12640818,9381546,4185488,2601788,13541764,6039577,37274000,3690512,4800954,2631690,2770434,4067758,4623264],\"sizemode\":\"area\",\"sizeref\":93185.0,\"symbol\":\"circle\"},\"mode\":\"markers\",\"name\":\"\",\"orientation\":\"v\",\"showlegend\":false,\"x\":[3238523,2511612,6713557,21333332,22085140,6312974,12831330,3149223,3770919,6987077,2964382,11074811,5535556,9509934,15133888,6065354,5067352,2934621,10534418,2838327,14406059,3153781,6356434,9077158,11344312,5036535,19768458,15636243,9975709,4011553,13193035,8419566,22429800,2442512,2701046,2986162,15387639,3036405,3219514,4803877,5150766,4276526,13634274,4297877,6228601,7206841,5056571,16839950,11142303,28516904,6091747,5309690,6144050,8450228,3056149,11044607,2472222,2645598,6856939,2972566,6194292,5658472,2742379,4220458,5118844,11503293,4365205,7643256,5339583,32065760,2691925,3384564,15369919,4899932,3199329,22478116,9540576,12997353,20961472,21750020,7759615,3286069,2739768,7538200,3570750,4946145,10899698,2956813,12640818,9381546,4185488,2601788,13541764,6039577,37274000,3690512,4800954,2631690,2770434,4067758,4623264],\"xaxis\":\"x\",\"y\":[116.64,176.92,157.33,58.96,85.94,155.02,109.11,118.57,140.07,138.28,178.96,74.13,97.91,144.81,99.37,132.58,93.75,142.77,112.53,160.36,46.08,115.69,162.88,66.41,88.27,125.76,137.32,96.13,125.66,194.3,141.67,117.7,78.54,118.97,194.31,150.09,48.22,95.46,178.42,135.44,183.06,153.76,70.28,109.98,154.13,170.9,184.52,79.91,123.02,76.62,152.51,126.93,163.99,113.04,131.52,77.67,196.06,149.32,103.1,167.36,107.2,143.73,137.81,83.22,81.75,114.51,133.05,103.85,128.14,77.27,171.75,125.75,99.23,174.52,139.09,56.18,126.14,139.75,89.39,81.6,175.71,188.18,133.25,150.72,163.74,151.95,79.74,69.32,108.32,56.28,107.74,188.14,106.01,154.54,160.27,169.27,145.05,172.66,147.47,121.78,157.57],\"yaxis\":\"y\",\"type\":\"scatter\"},{\"alignmentgroup\":\"True\",\"hovertemplate\":\"<b>%{hovertext}</b><br><br>Area_Pop=%{x}<extra></extra>\",\"hovertext\":[\"Kuwait City, Kuwait\",\"Portland, United States\",\"Madrid, Spain\",\"Beijing, China\",\"Mexico City, Mexico\",\"Toronto, Canada\",\"Shenzhen, China\",\"Milan, Italy\",\"Curitiba, Brazil\",\"Pune, India\",\"Dubai, United Arab Emirates\",\"Jakarta, Indonesia\",\"Saint Petersburg, Russia\",\"Chicago, United States\",\"Kolkata, India\",\"Johannesburg, South Africa\",\"Hanoi, Vietnam\",\"Coimbatore, India\",\"Hyderabad, India\",\"Baltimore, United States\",\"Manila, Philippines\",\"Athens, Greece\",\"Washington, United States\",\"Ho Chi Minh City, Vietnam\",\"Bogota, Colombia\",\"Monterrey, Mexico\",\"New York, United States\",\"Istanbul, Turkey\",\"Seoul, South Korea\",\"Seattle, United States\",\"Bangalore, India\",\"Kuala Lumpur, Malaysia\",\"Sao Paulo, Brazil\",\"San Juan, Puerto Rico\",\"Charlotte, United States\",\"Lisbon, Portugal\",\"Lagos, Nigeria\",\"Guatemala City, Guatemala\",\"Tampa, United States\",\"Brasilia, Brazil\",\"Melbourne, Australia\",\"Montreal, Canada\",\"Rio de Janeiro, Brazil\",\"Rome, Italy\",\"Philadelphia, United States\",\"Houston, United States\",\"Sydney, Australia\",\"Karachi, Pakistan\",\"Paris, France\",\"Shanghai, China\",\"Miami, United States\",\"Ankara, Turkey\",\"Atlanta, United States\",\"Ahmedabad, India\",\"Izmir, Turkey\",\"Lima, Peru\",\"Brisbane, Australia\",\"Birmingham, United Kingdom\",\"Santiago, Chile\",\"Denver, United States\",\"Belo Horizonte, Brazil\",\"Barcelona, Spain\",\"Taipei, Taiwan\",\"Recife, Brazil\",\"Nairobi, Kenya\",\"Chennai, India\",\"Detroit, United States\",\"Hong Kong, Hong Kong\",\"Guadalajara, Mexico\",\"Delhi, India\",\"Orlando, United States\",\"Campinas, Brazil\",\"Buenos Aires, Argentina\",\"Boston, United States\",\"Durban, South Africa\",\"Dhaka, Bangladesh\",\"London, United Kingdom\",\"Los Angeles, United States\",\"Mumbai, India\",\"Cairo, Egypt\",\"Dallas, United States\",\"San Diego, United States\",\"Pretoria, South Africa\",\"Riyadh, Saudi Arabia\",\"Berlin, Germany\",\"Phoenix, United States\",\"Bangkok, Thailand\",\"Caracas, Venezuela\",\"Moscow, Russia\",\"Tehran, Iran\",\"Porto Alegre, Brazil\",\"San Antonio, United States\",\"Lahore, Pakistan\",\"Singapore, Singapore\",\"Tokyo, Japan\",\"Minneapolis, United States\",\"Cape Town, South Africa\",\"Vancouver, Canada\",\"Manchester, United Kingdom\",\"Medellin, Colombia\",\"San Francisco, United States\"],\"legendgroup\":\"\",\"marker\":{\"color\":\"#1F77B4\",\"symbol\":\"circle\"},\"name\":\"\",\"notched\":true,\"offsetgroup\":\"\",\"showlegend\":false,\"x\":[3238523,2511612,6713557,21333332,22085140,6312974,12831330,3149223,3770919,6987077,2964382,11074811,5535556,9509934,15133888,6065354,5067352,2934621,10534418,2838327,14406059,3153781,6356434,9077158,11344312,5036535,19768458,15636243,9975709,4011553,13193035,8419566,22429800,2442512,2701046,2986162,15387639,3036405,3219514,4803877,5150766,4276526,13634274,4297877,6228601,7206841,5056571,16839950,11142303,28516904,6091747,5309690,6144050,8450228,3056149,11044607,2472222,2645598,6856939,2972566,6194292,5658472,2742379,4220458,5118844,11503293,4365205,7643256,5339583,32065760,2691925,3384564,15369919,4899932,3199329,22478116,9540576,12997353,20961472,21750020,7759615,3286069,2739768,7538200,3570750,4946145,10899698,2956813,12640818,9381546,4185488,2601788,13541764,6039577,37274000,3690512,4800954,2631690,2770434,4067758,4623264],\"xaxis\":\"x3\",\"yaxis\":\"y3\",\"type\":\"box\"},{\"alignmentgroup\":\"True\",\"hovertemplate\":\"<b>%{hovertext}</b><br><br>Quality_Life=%{y}<extra></extra>\",\"hovertext\":[\"Kuwait City, Kuwait\",\"Portland, United States\",\"Madrid, Spain\",\"Beijing, China\",\"Mexico City, Mexico\",\"Toronto, Canada\",\"Shenzhen, China\",\"Milan, Italy\",\"Curitiba, Brazil\",\"Pune, India\",\"Dubai, United Arab Emirates\",\"Jakarta, Indonesia\",\"Saint Petersburg, Russia\",\"Chicago, United States\",\"Kolkata, India\",\"Johannesburg, South Africa\",\"Hanoi, Vietnam\",\"Coimbatore, India\",\"Hyderabad, India\",\"Baltimore, United States\",\"Manila, Philippines\",\"Athens, Greece\",\"Washington, United States\",\"Ho Chi Minh City, Vietnam\",\"Bogota, Colombia\",\"Monterrey, Mexico\",\"New York, United States\",\"Istanbul, Turkey\",\"Seoul, South Korea\",\"Seattle, United States\",\"Bangalore, India\",\"Kuala Lumpur, Malaysia\",\"Sao Paulo, Brazil\",\"San Juan, Puerto Rico\",\"Charlotte, United States\",\"Lisbon, Portugal\",\"Lagos, Nigeria\",\"Guatemala City, Guatemala\",\"Tampa, United States\",\"Brasilia, Brazil\",\"Melbourne, Australia\",\"Montreal, Canada\",\"Rio de Janeiro, Brazil\",\"Rome, Italy\",\"Philadelphia, United States\",\"Houston, United States\",\"Sydney, Australia\",\"Karachi, Pakistan\",\"Paris, France\",\"Shanghai, China\",\"Miami, United States\",\"Ankara, Turkey\",\"Atlanta, United States\",\"Ahmedabad, India\",\"Izmir, Turkey\",\"Lima, Peru\",\"Brisbane, Australia\",\"Birmingham, United Kingdom\",\"Santiago, Chile\",\"Denver, United States\",\"Belo Horizonte, Brazil\",\"Barcelona, Spain\",\"Taipei, Taiwan\",\"Recife, Brazil\",\"Nairobi, Kenya\",\"Chennai, India\",\"Detroit, United States\",\"Hong Kong, Hong Kong\",\"Guadalajara, Mexico\",\"Delhi, India\",\"Orlando, United States\",\"Campinas, Brazil\",\"Buenos Aires, Argentina\",\"Boston, United States\",\"Durban, South Africa\",\"Dhaka, Bangladesh\",\"London, United Kingdom\",\"Los Angeles, United States\",\"Mumbai, India\",\"Cairo, Egypt\",\"Dallas, United States\",\"San Diego, United States\",\"Pretoria, South Africa\",\"Riyadh, Saudi Arabia\",\"Berlin, Germany\",\"Phoenix, United States\",\"Bangkok, Thailand\",\"Caracas, Venezuela\",\"Moscow, Russia\",\"Tehran, Iran\",\"Porto Alegre, Brazil\",\"San Antonio, United States\",\"Lahore, Pakistan\",\"Singapore, Singapore\",\"Tokyo, Japan\",\"Minneapolis, United States\",\"Cape Town, South Africa\",\"Vancouver, Canada\",\"Manchester, United Kingdom\",\"Medellin, Colombia\",\"San Francisco, United States\"],\"legendgroup\":\"\",\"marker\":{\"color\":\"#1F77B4\",\"symbol\":\"circle\"},\"name\":\"\",\"notched\":true,\"offsetgroup\":\"\",\"showlegend\":false,\"xaxis\":\"x2\",\"y\":[116.64,176.92,157.33,58.96,85.94,155.02,109.11,118.57,140.07,138.28,178.96,74.13,97.91,144.81,99.37,132.58,93.75,142.77,112.53,160.36,46.08,115.69,162.88,66.41,88.27,125.76,137.32,96.13,125.66,194.3,141.67,117.7,78.54,118.97,194.31,150.09,48.22,95.46,178.42,135.44,183.06,153.76,70.28,109.98,154.13,170.9,184.52,79.91,123.02,76.62,152.51,126.93,163.99,113.04,131.52,77.67,196.06,149.32,103.1,167.36,107.2,143.73,137.81,83.22,81.75,114.51,133.05,103.85,128.14,77.27,171.75,125.75,99.23,174.52,139.09,56.18,126.14,139.75,89.39,81.6,175.71,188.18,133.25,150.72,163.74,151.95,79.74,69.32,108.32,56.28,107.74,188.14,106.01,154.54,160.27,169.27,145.05,172.66,147.47,121.78,157.57],\"yaxis\":\"y2\",\"type\":\"box\"},{\"hovertemplate\":\"<b>OLS trendline</b><br>Quality_Life = -71.8287 * log10(Area_Pop) + 616.237<br>R<sup>2</sup>=0.335968<br><br>Area_Pop=%{x}<br>Quality_Life=%{y} <b>(trend)</b><extra></extra>\",\"legendgroup\":\"\",\"line\":{\"color\":\"red\"},\"marker\":{\"color\":\"#1F77B4\",\"symbol\":\"circle\"},\"mode\":\"lines\",\"name\":\"\",\"showlegend\":false,\"x\":[2442512,2472222,2511612,2601788,2631690,2645598,2691925,2701046,2739768,2742379,2770434,2838327,2934621,2956813,2964382,2972566,2986162,3036405,3056149,3149223,3153781,3199329,3219514,3238523,3286069,3384564,3570750,3690512,3770919,4011553,4067758,4185488,4220458,4276526,4297877,4365205,4623264,4800954,4803877,4899932,4946145,5036535,5056571,5067352,5118844,5150766,5309690,5339583,5535556,5658472,6039577,6065354,6091747,6144050,6194292,6228601,6312974,6356434,6713557,6856939,6987077,7206841,7538200,7643256,7759615,8419566,8450228,9077158,9381546,9509934,9540576,9975709,10534418,10899698,11044607,11074811,11142303,11344312,11503293,12640818,12831330,12997353,13193035,13541764,13634274,14406059,15133888,15369919,15387639,15636243,16839950,19768458,20961472,21333332,21750020,22085140,22429800,22478116,28516904,32065760,37274000],\"xaxis\":\"x\",\"y\":[157.40674371796,157.02958825353613,156.53647811118316,155.4361081960712,155.0796348685687,154.91521004991688,154.37368593167486,154.2681677582545,153.82413632644602,153.79442180722253,153.47691485361008,152.721663072536,151.68089408120483,151.44588212318297,151.3661300727025,151.28012676976562,151.13777239181945,150.61727749207967,150.41509210893304,149.47924348185342,149.43412657747018,148.98682249903123,148.79062841311935,148.60698621777834,148.152332450259,147.23105343027402,145.56055324857158,144.53145035954515,143.85909166727612,141.9293891538569,141.49535879078587,140.60532951260842,140.34577772649965,139.9340889310286,139.77873304708618,139.2938416123888,137.5021422792256,136.3256702264972,136.3066834350152,135.68908753858938,135.39625683998344,134.83132300568872,134.7074720851187,134.64103312036724,134.325646030926,134.13171378781112,133.183765233695,133.00863417942548,131.88423396342722,131.19913712221665,129.16585609363653,129.03299947662975,128.8975516954407,128.63086001877167,128.37680662817723,128.2045012238147,127.78477080607189,127.5707541455676,125.86560202999488,125.20638631194021,124.61988726852883,123.65383317279532,122.25154138438364,121.81979685024857,121.34847340500897,118.80217864576787,118.68878109930426,116.45623880642268,115.4273269506935,115.00331546898741,114.90296408741074,113.51170078984984,111.81174645518672,110.74839985588943,110.33640449941248,110.25121157713613,110.06168135563308,109.50118757517015,109.06705334323351,106.12545170474039,105.65881666725699,105.25777965481825,104.79162555579114,103.9777682732672,103.76538676671612,102.04773408034885,100.5102167151565,100.02745130071071,99.99150746721386,99.49154920700141,97.17806178259002,92.1764840671899,90.34851600332672,89.79996613024457,89.19653525130877,88.71955687346247,88.23649111996792,88.16936667334573,80.74640887480768,77.08751353521643,72.39246732031279],\"yaxis\":\"y\",\"type\":\"scatter\"}],                        {\"template\":{\"data\":{\"barpolar\":[{\"marker\":{\"line\":{\"color\":\"white\",\"width\":0.5},\"pattern\":{\"fillmode\":\"overlay\",\"size\":10,\"solidity\":0.2}},\"type\":\"barpolar\"}],\"bar\":[{\"error_x\":{\"color\":\"rgb(36,36,36)\"},\"error_y\":{\"color\":\"rgb(36,36,36)\"},\"marker\":{\"line\":{\"color\":\"white\",\"width\":0.5},\"pattern\":{\"fillmode\":\"overlay\",\"size\":10,\"solidity\":0.2}},\"type\":\"bar\"}],\"carpet\":[{\"aaxis\":{\"endlinecolor\":\"rgb(36,36,36)\",\"gridcolor\":\"white\",\"linecolor\":\"white\",\"minorgridcolor\":\"white\",\"startlinecolor\":\"rgb(36,36,36)\"},\"baxis\":{\"endlinecolor\":\"rgb(36,36,36)\",\"gridcolor\":\"white\",\"linecolor\":\"white\",\"minorgridcolor\":\"white\",\"startlinecolor\":\"rgb(36,36,36)\"},\"type\":\"carpet\"}],\"choropleth\":[{\"colorbar\":{\"outlinewidth\":1,\"tickcolor\":\"rgb(36,36,36)\",\"ticks\":\"outside\"},\"type\":\"choropleth\"}],\"contourcarpet\":[{\"colorbar\":{\"outlinewidth\":1,\"tickcolor\":\"rgb(36,36,36)\",\"ticks\":\"outside\"},\"type\":\"contourcarpet\"}],\"contour\":[{\"colorbar\":{\"outlinewidth\":1,\"tickcolor\":\"rgb(36,36,36)\",\"ticks\":\"outside\"},\"colorscale\":[[0.0,\"#440154\"],[0.1111111111111111,\"#482878\"],[0.2222222222222222,\"#3e4989\"],[0.3333333333333333,\"#31688e\"],[0.4444444444444444,\"#26828e\"],[0.5555555555555556,\"#1f9e89\"],[0.6666666666666666,\"#35b779\"],[0.7777777777777778,\"#6ece58\"],[0.8888888888888888,\"#b5de2b\"],[1.0,\"#fde725\"]],\"type\":\"contour\"}],\"heatmapgl\":[{\"colorbar\":{\"outlinewidth\":1,\"tickcolor\":\"rgb(36,36,36)\",\"ticks\":\"outside\"},\"colorscale\":[[0.0,\"#440154\"],[0.1111111111111111,\"#482878\"],[0.2222222222222222,\"#3e4989\"],[0.3333333333333333,\"#31688e\"],[0.4444444444444444,\"#26828e\"],[0.5555555555555556,\"#1f9e89\"],[0.6666666666666666,\"#35b779\"],[0.7777777777777778,\"#6ece58\"],[0.8888888888888888,\"#b5de2b\"],[1.0,\"#fde725\"]],\"type\":\"heatmapgl\"}],\"heatmap\":[{\"colorbar\":{\"outlinewidth\":1,\"tickcolor\":\"rgb(36,36,36)\",\"ticks\":\"outside\"},\"colorscale\":[[0.0,\"#440154\"],[0.1111111111111111,\"#482878\"],[0.2222222222222222,\"#3e4989\"],[0.3333333333333333,\"#31688e\"],[0.4444444444444444,\"#26828e\"],[0.5555555555555556,\"#1f9e89\"],[0.6666666666666666,\"#35b779\"],[0.7777777777777778,\"#6ece58\"],[0.8888888888888888,\"#b5de2b\"],[1.0,\"#fde725\"]],\"type\":\"heatmap\"}],\"histogram2dcontour\":[{\"colorbar\":{\"outlinewidth\":1,\"tickcolor\":\"rgb(36,36,36)\",\"ticks\":\"outside\"},\"colorscale\":[[0.0,\"#440154\"],[0.1111111111111111,\"#482878\"],[0.2222222222222222,\"#3e4989\"],[0.3333333333333333,\"#31688e\"],[0.4444444444444444,\"#26828e\"],[0.5555555555555556,\"#1f9e89\"],[0.6666666666666666,\"#35b779\"],[0.7777777777777778,\"#6ece58\"],[0.8888888888888888,\"#b5de2b\"],[1.0,\"#fde725\"]],\"type\":\"histogram2dcontour\"}],\"histogram2d\":[{\"colorbar\":{\"outlinewidth\":1,\"tickcolor\":\"rgb(36,36,36)\",\"ticks\":\"outside\"},\"colorscale\":[[0.0,\"#440154\"],[0.1111111111111111,\"#482878\"],[0.2222222222222222,\"#3e4989\"],[0.3333333333333333,\"#31688e\"],[0.4444444444444444,\"#26828e\"],[0.5555555555555556,\"#1f9e89\"],[0.6666666666666666,\"#35b779\"],[0.7777777777777778,\"#6ece58\"],[0.8888888888888888,\"#b5de2b\"],[1.0,\"#fde725\"]],\"type\":\"histogram2d\"}],\"histogram\":[{\"marker\":{\"line\":{\"color\":\"white\",\"width\":0.6}},\"type\":\"histogram\"}],\"mesh3d\":[{\"colorbar\":{\"outlinewidth\":1,\"tickcolor\":\"rgb(36,36,36)\",\"ticks\":\"outside\"},\"type\":\"mesh3d\"}],\"parcoords\":[{\"line\":{\"colorbar\":{\"outlinewidth\":1,\"tickcolor\":\"rgb(36,36,36)\",\"ticks\":\"outside\"}},\"type\":\"parcoords\"}],\"pie\":[{\"automargin\":true,\"type\":\"pie\"}],\"scatter3d\":[{\"line\":{\"colorbar\":{\"outlinewidth\":1,\"tickcolor\":\"rgb(36,36,36)\",\"ticks\":\"outside\"}},\"marker\":{\"colorbar\":{\"outlinewidth\":1,\"tickcolor\":\"rgb(36,36,36)\",\"ticks\":\"outside\"}},\"type\":\"scatter3d\"}],\"scattercarpet\":[{\"marker\":{\"colorbar\":{\"outlinewidth\":1,\"tickcolor\":\"rgb(36,36,36)\",\"ticks\":\"outside\"}},\"type\":\"scattercarpet\"}],\"scattergeo\":[{\"marker\":{\"colorbar\":{\"outlinewidth\":1,\"tickcolor\":\"rgb(36,36,36)\",\"ticks\":\"outside\"}},\"type\":\"scattergeo\"}],\"scattergl\":[{\"marker\":{\"colorbar\":{\"outlinewidth\":1,\"tickcolor\":\"rgb(36,36,36)\",\"ticks\":\"outside\"}},\"type\":\"scattergl\"}],\"scattermapbox\":[{\"marker\":{\"colorbar\":{\"outlinewidth\":1,\"tickcolor\":\"rgb(36,36,36)\",\"ticks\":\"outside\"}},\"type\":\"scattermapbox\"}],\"scatterpolargl\":[{\"marker\":{\"colorbar\":{\"outlinewidth\":1,\"tickcolor\":\"rgb(36,36,36)\",\"ticks\":\"outside\"}},\"type\":\"scatterpolargl\"}],\"scatterpolar\":[{\"marker\":{\"colorbar\":{\"outlinewidth\":1,\"tickcolor\":\"rgb(36,36,36)\",\"ticks\":\"outside\"}},\"type\":\"scatterpolar\"}],\"scatter\":[{\"fillpattern\":{\"fillmode\":\"overlay\",\"size\":10,\"solidity\":0.2},\"type\":\"scatter\"}],\"scatterternary\":[{\"marker\":{\"colorbar\":{\"outlinewidth\":1,\"tickcolor\":\"rgb(36,36,36)\",\"ticks\":\"outside\"}},\"type\":\"scatterternary\"}],\"surface\":[{\"colorbar\":{\"outlinewidth\":1,\"tickcolor\":\"rgb(36,36,36)\",\"ticks\":\"outside\"},\"colorscale\":[[0.0,\"#440154\"],[0.1111111111111111,\"#482878\"],[0.2222222222222222,\"#3e4989\"],[0.3333333333333333,\"#31688e\"],[0.4444444444444444,\"#26828e\"],[0.5555555555555556,\"#1f9e89\"],[0.6666666666666666,\"#35b779\"],[0.7777777777777778,\"#6ece58\"],[0.8888888888888888,\"#b5de2b\"],[1.0,\"#fde725\"]],\"type\":\"surface\"}],\"table\":[{\"cells\":{\"fill\":{\"color\":\"rgb(237,237,237)\"},\"line\":{\"color\":\"white\"}},\"header\":{\"fill\":{\"color\":\"rgb(217,217,217)\"},\"line\":{\"color\":\"white\"}},\"type\":\"table\"}]},\"layout\":{\"annotationdefaults\":{\"arrowhead\":0,\"arrowwidth\":1},\"autotypenumbers\":\"strict\",\"coloraxis\":{\"colorbar\":{\"outlinewidth\":1,\"tickcolor\":\"rgb(36,36,36)\",\"ticks\":\"outside\"}},\"colorscale\":{\"diverging\":[[0.0,\"rgb(103,0,31)\"],[0.1,\"rgb(178,24,43)\"],[0.2,\"rgb(214,96,77)\"],[0.3,\"rgb(244,165,130)\"],[0.4,\"rgb(253,219,199)\"],[0.5,\"rgb(247,247,247)\"],[0.6,\"rgb(209,229,240)\"],[0.7,\"rgb(146,197,222)\"],[0.8,\"rgb(67,147,195)\"],[0.9,\"rgb(33,102,172)\"],[1.0,\"rgb(5,48,97)\"]],\"sequential\":[[0.0,\"#440154\"],[0.1111111111111111,\"#482878\"],[0.2222222222222222,\"#3e4989\"],[0.3333333333333333,\"#31688e\"],[0.4444444444444444,\"#26828e\"],[0.5555555555555556,\"#1f9e89\"],[0.6666666666666666,\"#35b779\"],[0.7777777777777778,\"#6ece58\"],[0.8888888888888888,\"#b5de2b\"],[1.0,\"#fde725\"]],\"sequentialminus\":[[0.0,\"#440154\"],[0.1111111111111111,\"#482878\"],[0.2222222222222222,\"#3e4989\"],[0.3333333333333333,\"#31688e\"],[0.4444444444444444,\"#26828e\"],[0.5555555555555556,\"#1f9e89\"],[0.6666666666666666,\"#35b779\"],[0.7777777777777778,\"#6ece58\"],[0.8888888888888888,\"#b5de2b\"],[1.0,\"#fde725\"]]},\"colorway\":[\"#1F77B4\",\"#FF7F0E\",\"#2CA02C\",\"#D62728\",\"#9467BD\",\"#8C564B\",\"#E377C2\",\"#7F7F7F\",\"#BCBD22\",\"#17BECF\"],\"font\":{\"color\":\"rgb(36,36,36)\"},\"geo\":{\"bgcolor\":\"white\",\"lakecolor\":\"white\",\"landcolor\":\"white\",\"showlakes\":true,\"showland\":true,\"subunitcolor\":\"white\"},\"hoverlabel\":{\"align\":\"left\"},\"hovermode\":\"closest\",\"mapbox\":{\"style\":\"light\"},\"paper_bgcolor\":\"white\",\"plot_bgcolor\":\"white\",\"polar\":{\"angularaxis\":{\"gridcolor\":\"rgb(232,232,232)\",\"linecolor\":\"rgb(36,36,36)\",\"showgrid\":false,\"showline\":true,\"ticks\":\"outside\"},\"bgcolor\":\"white\",\"radialaxis\":{\"gridcolor\":\"rgb(232,232,232)\",\"linecolor\":\"rgb(36,36,36)\",\"showgrid\":false,\"showline\":true,\"ticks\":\"outside\"}},\"scene\":{\"xaxis\":{\"backgroundcolor\":\"white\",\"gridcolor\":\"rgb(232,232,232)\",\"gridwidth\":2,\"linecolor\":\"rgb(36,36,36)\",\"showbackground\":true,\"showgrid\":false,\"showline\":true,\"ticks\":\"outside\",\"zeroline\":false,\"zerolinecolor\":\"rgb(36,36,36)\"},\"yaxis\":{\"backgroundcolor\":\"white\",\"gridcolor\":\"rgb(232,232,232)\",\"gridwidth\":2,\"linecolor\":\"rgb(36,36,36)\",\"showbackground\":true,\"showgrid\":false,\"showline\":true,\"ticks\":\"outside\",\"zeroline\":false,\"zerolinecolor\":\"rgb(36,36,36)\"},\"zaxis\":{\"backgroundcolor\":\"white\",\"gridcolor\":\"rgb(232,232,232)\",\"gridwidth\":2,\"linecolor\":\"rgb(36,36,36)\",\"showbackground\":true,\"showgrid\":false,\"showline\":true,\"ticks\":\"outside\",\"zeroline\":false,\"zerolinecolor\":\"rgb(36,36,36)\"}},\"shapedefaults\":{\"fillcolor\":\"black\",\"line\":{\"width\":0},\"opacity\":0.3},\"ternary\":{\"aaxis\":{\"gridcolor\":\"rgb(232,232,232)\",\"linecolor\":\"rgb(36,36,36)\",\"showgrid\":false,\"showline\":true,\"ticks\":\"outside\"},\"baxis\":{\"gridcolor\":\"rgb(232,232,232)\",\"linecolor\":\"rgb(36,36,36)\",\"showgrid\":false,\"showline\":true,\"ticks\":\"outside\"},\"bgcolor\":\"white\",\"caxis\":{\"gridcolor\":\"rgb(232,232,232)\",\"linecolor\":\"rgb(36,36,36)\",\"showgrid\":false,\"showline\":true,\"ticks\":\"outside\"}},\"title\":{\"x\":0.05},\"xaxis\":{\"automargin\":true,\"gridcolor\":\"rgb(232,232,232)\",\"linecolor\":\"rgb(36,36,36)\",\"showgrid\":false,\"showline\":true,\"ticks\":\"outside\",\"title\":{\"standoff\":15},\"zeroline\":false,\"zerolinecolor\":\"rgb(36,36,36)\"},\"yaxis\":{\"automargin\":true,\"gridcolor\":\"rgb(232,232,232)\",\"linecolor\":\"rgb(36,36,36)\",\"showgrid\":false,\"showline\":true,\"ticks\":\"outside\",\"title\":{\"standoff\":15},\"zeroline\":false,\"zerolinecolor\":\"rgb(36,36,36)\"}}},\"xaxis\":{\"anchor\":\"y\",\"domain\":[0.0,0.8358],\"title\":{\"text\":\"Area_Pop\"}},\"yaxis\":{\"anchor\":\"x\",\"domain\":[0.0,0.8316],\"title\":{\"text\":\"Quality_Life\"}},\"xaxis2\":{\"anchor\":\"y2\",\"domain\":[0.8408,1.0],\"matches\":\"x2\",\"showticklabels\":false,\"showline\":false,\"ticks\":\"\"},\"yaxis2\":{\"anchor\":\"x2\",\"domain\":[0.0,0.8316],\"matches\":\"y\",\"showticklabels\":false},\"xaxis3\":{\"anchor\":\"y3\",\"domain\":[0.0,0.8358],\"matches\":\"x\",\"showticklabels\":false},\"yaxis3\":{\"anchor\":\"x3\",\"domain\":[0.8416,1.0],\"matches\":\"y3\",\"showticklabels\":false,\"showline\":false,\"ticks\":\"\"},\"xaxis4\":{\"anchor\":\"y4\",\"domain\":[0.8408,1.0],\"matches\":\"x2\",\"showticklabels\":false,\"showline\":false,\"ticks\":\"\"},\"yaxis4\":{\"anchor\":\"x4\",\"domain\":[0.8416,1.0],\"matches\":\"y3\",\"showticklabels\":false,\"showline\":false,\"ticks\":\"\"},\"legend\":{\"tracegroupgap\":0,\"itemsizing\":\"constant\"},\"margin\":{\"t\":60},\"height\":500},                        {\"responsive\": true}                    ).then(function(){\n",
       "                            \n",
       "var gd = document.getElementById('a41f2624-3785-4a6c-b44c-0ee7fedfc32d');\n",
       "var x = new MutationObserver(function (mutations, observer) {{\n",
       "        var display = window.getComputedStyle(gd).display;\n",
       "        if (!display || display === 'none') {{\n",
       "            console.log([gd, 'removed!']);\n",
       "            Plotly.purge(gd);\n",
       "            observer.disconnect();\n",
       "        }}\n",
       "}});\n",
       "\n",
       "// Listen for the removal of the full notebook cells\n",
       "var notebookContainer = gd.closest('#notebook-container');\n",
       "if (notebookContainer) {{\n",
       "    x.observe(notebookContainer, {childList: true});\n",
       "}}\n",
       "\n",
       "// Listen for the clearing of the current output cell\n",
       "var outputEl = gd.closest('.output');\n",
       "if (outputEl) {{\n",
       "    x.observe(outputEl, {childList: true});\n",
       "}}\n",
       "\n",
       "                        })                };                });            </script>        </div>"
      ]
     },
     "metadata": {},
     "output_type": "display_data"
    }
   ],
   "source": [
    "fig = px.scatter(df_grafico, x=\"Area_Pop\", y=\"Quality_Life\", marginal_x=\"box\", marginal_y=\"box\", \n",
    "                 trendline=\"ols\", trendline_options=dict(log_x=True), trendline_color_override=\"red\",\n",
    "                 template=\"simple_white\", hover_name='City_Country', size='Area_Pop',\n",
    "                 height=500)\n",
    "fig.show()"
   ]
  },
  {
   "cell_type": "code",
   "execution_count": 20,
   "id": "5f66191c",
   "metadata": {},
   "outputs": [
    {
     "data": {
      "text/html": [
       "<div>\n",
       "<style scoped>\n",
       "    .dataframe tbody tr th:only-of-type {\n",
       "        vertical-align: middle;\n",
       "    }\n",
       "\n",
       "    .dataframe tbody tr th {\n",
       "        vertical-align: top;\n",
       "    }\n",
       "\n",
       "    .dataframe thead th {\n",
       "        text-align: right;\n",
       "    }\n",
       "</style>\n",
       "<table border=\"1\" class=\"dataframe\">\n",
       "  <thead>\n",
       "    <tr style=\"text-align: right;\">\n",
       "      <th></th>\n",
       "      <th>City_Country</th>\n",
       "      <th>Country_Pop_2022</th>\n",
       "      <th>Growth</th>\n",
       "      <th>Area_Pop</th>\n",
       "      <th>Area_Pop_(bin)</th>\n",
       "      <th>Area_Pop_Median</th>\n",
       "      <th>Area_Pop_Quartiles</th>\n",
       "      <th>Name</th>\n",
       "      <th>Prev</th>\n",
       "      <th>Quality_Life</th>\n",
       "      <th>Rank</th>\n",
       "      <th>Tokyo</th>\n",
       "    </tr>\n",
       "  </thead>\n",
       "  <tbody>\n",
       "    <tr>\n",
       "      <th>100</th>\n",
       "      <td>San Francisco, United States</td>\n",
       "      <td>United States</td>\n",
       "      <td>NaN</td>\n",
       "      <td>4623264</td>\n",
       "      <td>4000K</td>\n",
       "      <td>Above Median 2.4M+</td>\n",
       "      <td>Between Lower &amp; Upper Quartile</td>\n",
       "      <td>San Francisco</td>\n",
       "      <td>NaN</td>\n",
       "      <td>157.57</td>\n",
       "      <td>NaN</td>\n",
       "      <td>Not Tokyo</td>\n",
       "    </tr>\n",
       "  </tbody>\n",
       "</table>\n",
       "</div>"
      ],
      "text/plain": [
       "                     City_Country Country_Pop_2022  Growth  Area_Pop  \\\n",
       "100  San Francisco, United States    United States     NaN   4623264   \n",
       "\n",
       "    Area_Pop_(bin)     Area_Pop_Median              Area_Pop_Quartiles  \\\n",
       "100          4000K  Above Median 2.4M+  Between Lower & Upper Quartile   \n",
       "\n",
       "              Name  Prev  Quality_Life  Rank      Tokyo  \n",
       "100  San Francisco   NaN        157.57   NaN  Not Tokyo  "
      ]
     },
     "execution_count": 20,
     "metadata": {},
     "output_type": "execute_result"
    }
   ],
   "source": [
    "df_grafico.tail(1)"
   ]
  },
  {
   "cell_type": "code",
   "execution_count": 24,
   "id": "438054cd",
   "metadata": {},
   "outputs": [
    {
     "data": {
      "text/html": [
       "<div>\n",
       "<style scoped>\n",
       "    .dataframe tbody tr th:only-of-type {\n",
       "        vertical-align: middle;\n",
       "    }\n",
       "\n",
       "    .dataframe tbody tr th {\n",
       "        vertical-align: top;\n",
       "    }\n",
       "\n",
       "    .dataframe thead th {\n",
       "        text-align: right;\n",
       "    }\n",
       "</style>\n",
       "<table border=\"1\" class=\"dataframe\">\n",
       "  <thead>\n",
       "    <tr style=\"text-align: right;\">\n",
       "      <th></th>\n",
       "      <th>Rank</th>\n",
       "      <th>City</th>\n",
       "      <th>Quality of Life Index</th>\n",
       "      <th>Purchasing Power Index</th>\n",
       "      <th>Safety Index</th>\n",
       "      <th>Health Care Index</th>\n",
       "      <th>Cost of Living Index</th>\n",
       "      <th>Property Price to Income Ratio</th>\n",
       "      <th>Traffic Commute Time Index</th>\n",
       "      <th>Pollution Index</th>\n",
       "      <th>Climate Index</th>\n",
       "      <th>City_Name</th>\n",
       "      <th>Country_Name</th>\n",
       "      <th>UF</th>\n",
       "      <th>Macro_Regiao</th>\n",
       "    </tr>\n",
       "  </thead>\n",
       "  <tbody>\n",
       "    <tr>\n",
       "      <th>237</th>\n",
       "      <td>237</td>\n",
       "      <td>Lagos, Nigeria</td>\n",
       "      <td>48.56</td>\n",
       "      <td>7.88</td>\n",
       "      <td>33.09</td>\n",
       "      <td>45.94</td>\n",
       "      <td>38.84</td>\n",
       "      <td>12.26</td>\n",
       "      <td>68.22</td>\n",
       "      <td>89.26</td>\n",
       "      <td>60.75</td>\n",
       "      <td>Lagos</td>\n",
       "      <td>Nigeria</td>\n",
       "      <td>0</td>\n",
       "      <td>Africa</td>\n",
       "    </tr>\n",
       "  </tbody>\n",
       "</table>\n",
       "</div>"
      ],
      "text/plain": [
       "     Rank            City  Quality of Life Index  Purchasing Power Index  \\\n",
       "237   237  Lagos, Nigeria                  48.56                    7.88   \n",
       "\n",
       "     Safety Index  Health Care Index  Cost of Living Index  \\\n",
       "237         33.09              45.94                 38.84   \n",
       "\n",
       "     Property Price to Income Ratio  Traffic Commute Time Index  \\\n",
       "237                           12.26                       68.22   \n",
       "\n",
       "     Pollution Index  Climate Index City_Name Country_Name UF Macro_Regiao  \n",
       "237            89.26          60.75     Lagos      Nigeria  0       Africa  "
      ]
     },
     "execution_count": 24,
     "metadata": {},
     "output_type": "execute_result"
    }
   ],
   "source": [
    "df.tail(1)"
   ]
  },
  {
   "cell_type": "markdown",
   "id": "dbd64663",
   "metadata": {},
   "source": [
    "## Testando df_grafico em df"
   ]
  },
  {
   "cell_type": "code",
   "execution_count": 35,
   "id": "4a9f3e2d",
   "metadata": {},
   "outputs": [],
   "source": [
    "df_grafico = pd.read_csv('df_grafico.csv',sep=',')\n",
    "df_grafico2 = pd.read_csv('df_grafico2.csv',sep=',');"
   ]
  },
  {
   "cell_type": "code",
   "execution_count": 37,
   "id": "92b923cc",
   "metadata": {},
   "outputs": [
    {
     "data": {
      "text/html": [
       "<div>\n",
       "<style scoped>\n",
       "    .dataframe tbody tr th:only-of-type {\n",
       "        vertical-align: middle;\n",
       "    }\n",
       "\n",
       "    .dataframe tbody tr th {\n",
       "        vertical-align: top;\n",
       "    }\n",
       "\n",
       "    .dataframe thead th {\n",
       "        text-align: right;\n",
       "    }\n",
       "</style>\n",
       "<table border=\"1\" class=\"dataframe\">\n",
       "  <thead>\n",
       "    <tr style=\"text-align: right;\">\n",
       "      <th></th>\n",
       "      <th>City_Country</th>\n",
       "      <th>Quality_Life</th>\n",
       "      <th>Growth</th>\n",
       "      <th>Area_Pop</th>\n",
       "      <th>Area_Pop_(bin)</th>\n",
       "      <th>Area_Pop_Median</th>\n",
       "      <th>Area_Pop_Quartiles</th>\n",
       "      <th>Prev</th>\n",
       "      <th>Tokyo</th>\n",
       "      <th>Rank</th>\n",
       "      <th>City_Name</th>\n",
       "      <th>Country_Name</th>\n",
       "    </tr>\n",
       "  </thead>\n",
       "  <tbody>\n",
       "    <tr>\n",
       "      <th>100</th>\n",
       "      <td>Washington, United States</td>\n",
       "      <td>162.88</td>\n",
       "      <td>NaN</td>\n",
       "      <td>6356434</td>\n",
       "      <td>6000K</td>\n",
       "      <td>Above Median 2.4M+</td>\n",
       "      <td>Above Upper Quartile</td>\n",
       "      <td>NaN</td>\n",
       "      <td>Not Tokyo</td>\n",
       "      <td>NaN</td>\n",
       "      <td>Washington</td>\n",
       "      <td>United States</td>\n",
       "    </tr>\n",
       "  </tbody>\n",
       "</table>\n",
       "</div>"
      ],
      "text/plain": [
       "                  City_Country  Quality_Life  Growth  Area_Pop Area_Pop_(bin)  \\\n",
       "100  Washington, United States        162.88     NaN   6356434          6000K   \n",
       "\n",
       "        Area_Pop_Median    Area_Pop_Quartiles  Prev      Tokyo  Rank  \\\n",
       "100  Above Median 2.4M+  Above Upper Quartile   NaN  Not Tokyo   NaN   \n",
       "\n",
       "      City_Name   Country_Name  \n",
       "100  Washington  United States  "
      ]
     },
     "execution_count": 37,
     "metadata": {},
     "output_type": "execute_result"
    }
   ],
   "source": [
    "df_grafico.tail(1)"
   ]
  },
  {
   "cell_type": "code",
   "execution_count": 38,
   "id": "d1948527",
   "metadata": {},
   "outputs": [
    {
     "data": {
      "text/html": [
       "<div>\n",
       "<style scoped>\n",
       "    .dataframe tbody tr th:only-of-type {\n",
       "        vertical-align: middle;\n",
       "    }\n",
       "\n",
       "    .dataframe tbody tr th {\n",
       "        vertical-align: top;\n",
       "    }\n",
       "\n",
       "    .dataframe thead th {\n",
       "        text-align: right;\n",
       "    }\n",
       "</style>\n",
       "<table border=\"1\" class=\"dataframe\">\n",
       "  <thead>\n",
       "    <tr style=\"text-align: right;\">\n",
       "      <th></th>\n",
       "      <th>City_Country</th>\n",
       "      <th>Quality_Life</th>\n",
       "      <th>Purchasing_Power</th>\n",
       "      <th>Safety</th>\n",
       "      <th>Health_Care</th>\n",
       "      <th>Cost_Living</th>\n",
       "      <th>Property_Price (Income_Ratio)</th>\n",
       "      <th>Traffic_Commute_Time</th>\n",
       "      <th>Pollution</th>\n",
       "      <th>Climate</th>\n",
       "      <th>Rank</th>\n",
       "      <th>City_Name</th>\n",
       "      <th>Country_Name</th>\n",
       "      <th>UF</th>\n",
       "      <th>Macro_Regiao</th>\n",
       "    </tr>\n",
       "  </thead>\n",
       "  <tbody>\n",
       "    <tr>\n",
       "      <th>100</th>\n",
       "      <td>Washington, DC, United States</td>\n",
       "      <td>165.62</td>\n",
       "      <td>128.39</td>\n",
       "      <td>40.32</td>\n",
       "      <td>69.52</td>\n",
       "      <td>82.76</td>\n",
       "      <td>5.61</td>\n",
       "      <td>40.49</td>\n",
       "      <td>40.16</td>\n",
       "      <td>81.62</td>\n",
       "      <td>80</td>\n",
       "      <td>Washington</td>\n",
       "      <td>United States</td>\n",
       "      <td>DC</td>\n",
       "      <td>America</td>\n",
       "    </tr>\n",
       "  </tbody>\n",
       "</table>\n",
       "</div>"
      ],
      "text/plain": [
       "                      City_Country  Quality_Life  Purchasing_Power  Safety  \\\n",
       "100  Washington, DC, United States        165.62            128.39   40.32   \n",
       "\n",
       "     Health_Care  Cost_Living  Property_Price (Income_Ratio)  \\\n",
       "100        69.52        82.76                           5.61   \n",
       "\n",
       "     Traffic_Commute_Time  Pollution  Climate  Rank   City_Name  \\\n",
       "100                 40.49      40.16    81.62    80  Washington   \n",
       "\n",
       "      Country_Name  UF Macro_Regiao  \n",
       "100  United States  DC      America  "
      ]
     },
     "execution_count": 38,
     "metadata": {},
     "output_type": "execute_result"
    }
   ],
   "source": [
    "df_grafico2.tail(1)"
   ]
  },
  {
   "cell_type": "markdown",
   "id": "dd8c2988",
   "metadata": {},
   "source": [
    "# Analisando: df_QualityLife_x_SizeCity"
   ]
  },
  {
   "cell_type": "code",
   "execution_count": 39,
   "id": "673cba66",
   "metadata": {},
   "outputs": [
    {
     "data": {
      "text/html": [
       "<div>\n",
       "<style scoped>\n",
       "    .dataframe tbody tr th:only-of-type {\n",
       "        vertical-align: middle;\n",
       "    }\n",
       "\n",
       "    .dataframe tbody tr th {\n",
       "        vertical-align: top;\n",
       "    }\n",
       "\n",
       "    .dataframe thead th {\n",
       "        text-align: right;\n",
       "    }\n",
       "</style>\n",
       "<table border=\"1\" class=\"dataframe\">\n",
       "  <thead>\n",
       "    <tr style=\"text-align: right;\">\n",
       "      <th></th>\n",
       "      <th>City_Country</th>\n",
       "      <th>Quality_Life</th>\n",
       "      <th>Purchasing_Power</th>\n",
       "      <th>Safety</th>\n",
       "      <th>Health_Care</th>\n",
       "      <th>Cost_Living</th>\n",
       "      <th>Property_Price (Income_Ratio)</th>\n",
       "      <th>Traffic_Commute_Time</th>\n",
       "      <th>Pollution</th>\n",
       "      <th>Climate</th>\n",
       "      <th>Rank</th>\n",
       "      <th>City_Name</th>\n",
       "      <th>Country_Name</th>\n",
       "      <th>UF</th>\n",
       "      <th>Macro_Regiao</th>\n",
       "      <th>Area_Pop</th>\n",
       "    </tr>\n",
       "  </thead>\n",
       "  <tbody>\n",
       "    <tr>\n",
       "      <th>0</th>\n",
       "      <td>Ahmedabad, India</td>\n",
       "      <td>113.21</td>\n",
       "      <td>40.27</td>\n",
       "      <td>68.37</td>\n",
       "      <td>66.43</td>\n",
       "      <td>23.68</td>\n",
       "      <td>9.41</td>\n",
       "      <td>39.80</td>\n",
       "      <td>72.61</td>\n",
       "      <td>49.27</td>\n",
       "      <td>183</td>\n",
       "      <td>Ahmedabad</td>\n",
       "      <td>India</td>\n",
       "      <td>0</td>\n",
       "      <td>Asia</td>\n",
       "      <td>8450228</td>\n",
       "    </tr>\n",
       "    <tr>\n",
       "      <th>1</th>\n",
       "      <td>Ankara, Turkey</td>\n",
       "      <td>128.30</td>\n",
       "      <td>33.39</td>\n",
       "      <td>60.90</td>\n",
       "      <td>68.63</td>\n",
       "      <td>28.39</td>\n",
       "      <td>8.65</td>\n",
       "      <td>36.44</td>\n",
       "      <td>65.62</td>\n",
       "      <td>91.49</td>\n",
       "      <td>155</td>\n",
       "      <td>Ankara</td>\n",
       "      <td>Turkey</td>\n",
       "      <td>0</td>\n",
       "      <td>Asia</td>\n",
       "      <td>5309690</td>\n",
       "    </tr>\n",
       "    <tr>\n",
       "      <th>2</th>\n",
       "      <td>Athens, Greece</td>\n",
       "      <td>116.99</td>\n",
       "      <td>42.07</td>\n",
       "      <td>43.93</td>\n",
       "      <td>56.81</td>\n",
       "      <td>54.91</td>\n",
       "      <td>13.49</td>\n",
       "      <td>38.05</td>\n",
       "      <td>57.38</td>\n",
       "      <td>95.18</td>\n",
       "      <td>175</td>\n",
       "      <td>Athens</td>\n",
       "      <td>Greece</td>\n",
       "      <td>0</td>\n",
       "      <td>Europa</td>\n",
       "      <td>3153781</td>\n",
       "    </tr>\n",
       "    <tr>\n",
       "      <th>3</th>\n",
       "      <td>Atlanta, GA, United States</td>\n",
       "      <td>166.98</td>\n",
       "      <td>130.33</td>\n",
       "      <td>36.92</td>\n",
       "      <td>69.09</td>\n",
       "      <td>72.72</td>\n",
       "      <td>3.17</td>\n",
       "      <td>41.69</td>\n",
       "      <td>44.79</td>\n",
       "      <td>89.73</td>\n",
       "      <td>75</td>\n",
       "      <td>Atlanta</td>\n",
       "      <td>United States</td>\n",
       "      <td>GA</td>\n",
       "      <td>America</td>\n",
       "      <td>6144050</td>\n",
       "    </tr>\n",
       "    <tr>\n",
       "      <th>4</th>\n",
       "      <td>Baltimore, MD, United States</td>\n",
       "      <td>166.95</td>\n",
       "      <td>136.31</td>\n",
       "      <td>24.25</td>\n",
       "      <td>77.30</td>\n",
       "      <td>76.05</td>\n",
       "      <td>0.93</td>\n",
       "      <td>31.15</td>\n",
       "      <td>50.38</td>\n",
       "      <td>81.24</td>\n",
       "      <td>76</td>\n",
       "      <td>Baltimore</td>\n",
       "      <td>United States</td>\n",
       "      <td>MD</td>\n",
       "      <td>America</td>\n",
       "      <td>2838327</td>\n",
       "    </tr>\n",
       "    <tr>\n",
       "      <th>...</th>\n",
       "      <td>...</td>\n",
       "      <td>...</td>\n",
       "      <td>...</td>\n",
       "      <td>...</td>\n",
       "      <td>...</td>\n",
       "      <td>...</td>\n",
       "      <td>...</td>\n",
       "      <td>...</td>\n",
       "      <td>...</td>\n",
       "      <td>...</td>\n",
       "      <td>...</td>\n",
       "      <td>...</td>\n",
       "      <td>...</td>\n",
       "      <td>...</td>\n",
       "      <td>...</td>\n",
       "      <td>...</td>\n",
       "    </tr>\n",
       "    <tr>\n",
       "      <th>96</th>\n",
       "      <td>Tehran, Iran</td>\n",
       "      <td>60.14</td>\n",
       "      <td>17.61</td>\n",
       "      <td>44.16</td>\n",
       "      <td>52.50</td>\n",
       "      <td>33.37</td>\n",
       "      <td>29.89</td>\n",
       "      <td>52.91</td>\n",
       "      <td>80.96</td>\n",
       "      <td>70.99</td>\n",
       "      <td>234</td>\n",
       "      <td>Tehran</td>\n",
       "      <td>Iran</td>\n",
       "      <td>0</td>\n",
       "      <td>Asia</td>\n",
       "      <td>9381546</td>\n",
       "    </tr>\n",
       "    <tr>\n",
       "      <th>97</th>\n",
       "      <td>Tokyo, Japan</td>\n",
       "      <td>164.20</td>\n",
       "      <td>88.30</td>\n",
       "      <td>75.48</td>\n",
       "      <td>79.85</td>\n",
       "      <td>65.78</td>\n",
       "      <td>13.11</td>\n",
       "      <td>41.71</td>\n",
       "      <td>43.00</td>\n",
       "      <td>85.26</td>\n",
       "      <td>86</td>\n",
       "      <td>Tokyo</td>\n",
       "      <td>Japan</td>\n",
       "      <td>0</td>\n",
       "      <td>Asia</td>\n",
       "      <td>37274000</td>\n",
       "    </tr>\n",
       "    <tr>\n",
       "      <th>98</th>\n",
       "      <td>Toronto, Canada</td>\n",
       "      <td>148.17</td>\n",
       "      <td>87.40</td>\n",
       "      <td>58.29</td>\n",
       "      <td>75.68</td>\n",
       "      <td>71.44</td>\n",
       "      <td>13.36</td>\n",
       "      <td>44.82</td>\n",
       "      <td>37.61</td>\n",
       "      <td>65.35</td>\n",
       "      <td>113</td>\n",
       "      <td>Toronto</td>\n",
       "      <td>Canada</td>\n",
       "      <td>0</td>\n",
       "      <td>America</td>\n",
       "      <td>6312974</td>\n",
       "    </tr>\n",
       "    <tr>\n",
       "      <th>99</th>\n",
       "      <td>Vancouver, Canada</td>\n",
       "      <td>172.49</td>\n",
       "      <td>92.92</td>\n",
       "      <td>60.82</td>\n",
       "      <td>74.06</td>\n",
       "      <td>72.93</td>\n",
       "      <td>12.53</td>\n",
       "      <td>36.63</td>\n",
       "      <td>25.45</td>\n",
       "      <td>91.15</td>\n",
       "      <td>54</td>\n",
       "      <td>Vancouver</td>\n",
       "      <td>Canada</td>\n",
       "      <td>0</td>\n",
       "      <td>America</td>\n",
       "      <td>2631690</td>\n",
       "    </tr>\n",
       "    <tr>\n",
       "      <th>100</th>\n",
       "      <td>Washington, DC, United States</td>\n",
       "      <td>165.62</td>\n",
       "      <td>128.39</td>\n",
       "      <td>40.32</td>\n",
       "      <td>69.52</td>\n",
       "      <td>82.76</td>\n",
       "      <td>5.61</td>\n",
       "      <td>40.49</td>\n",
       "      <td>40.16</td>\n",
       "      <td>81.62</td>\n",
       "      <td>80</td>\n",
       "      <td>Washington</td>\n",
       "      <td>United States</td>\n",
       "      <td>DC</td>\n",
       "      <td>America</td>\n",
       "      <td>6356434</td>\n",
       "    </tr>\n",
       "  </tbody>\n",
       "</table>\n",
       "<p>101 rows × 16 columns</p>\n",
       "</div>"
      ],
      "text/plain": [
       "                      City_Country  Quality_Life  Purchasing_Power  Safety  \\\n",
       "0                 Ahmedabad, India        113.21             40.27   68.37   \n",
       "1                   Ankara, Turkey        128.30             33.39   60.90   \n",
       "2                   Athens, Greece        116.99             42.07   43.93   \n",
       "3       Atlanta, GA, United States        166.98            130.33   36.92   \n",
       "4     Baltimore, MD, United States        166.95            136.31   24.25   \n",
       "..                             ...           ...               ...     ...   \n",
       "96                    Tehran, Iran         60.14             17.61   44.16   \n",
       "97                    Tokyo, Japan        164.20             88.30   75.48   \n",
       "98                 Toronto, Canada        148.17             87.40   58.29   \n",
       "99               Vancouver, Canada        172.49             92.92   60.82   \n",
       "100  Washington, DC, United States        165.62            128.39   40.32   \n",
       "\n",
       "     Health_Care  Cost_Living  Property_Price (Income_Ratio)  \\\n",
       "0          66.43        23.68                           9.41   \n",
       "1          68.63        28.39                           8.65   \n",
       "2          56.81        54.91                          13.49   \n",
       "3          69.09        72.72                           3.17   \n",
       "4          77.30        76.05                           0.93   \n",
       "..           ...          ...                            ...   \n",
       "96         52.50        33.37                          29.89   \n",
       "97         79.85        65.78                          13.11   \n",
       "98         75.68        71.44                          13.36   \n",
       "99         74.06        72.93                          12.53   \n",
       "100        69.52        82.76                           5.61   \n",
       "\n",
       "     Traffic_Commute_Time  Pollution  Climate  Rank   City_Name  \\\n",
       "0                   39.80      72.61    49.27   183   Ahmedabad   \n",
       "1                   36.44      65.62    91.49   155      Ankara   \n",
       "2                   38.05      57.38    95.18   175      Athens   \n",
       "3                   41.69      44.79    89.73    75     Atlanta   \n",
       "4                   31.15      50.38    81.24    76   Baltimore   \n",
       "..                    ...        ...      ...   ...         ...   \n",
       "96                  52.91      80.96    70.99   234      Tehran   \n",
       "97                  41.71      43.00    85.26    86       Tokyo   \n",
       "98                  44.82      37.61    65.35   113     Toronto   \n",
       "99                  36.63      25.45    91.15    54   Vancouver   \n",
       "100                 40.49      40.16    81.62    80  Washington   \n",
       "\n",
       "      Country_Name  UF Macro_Regiao  Area_Pop  \n",
       "0            India   0         Asia   8450228  \n",
       "1           Turkey   0         Asia   5309690  \n",
       "2           Greece   0       Europa   3153781  \n",
       "3    United States  GA      America   6144050  \n",
       "4    United States  MD      America   2838327  \n",
       "..             ...  ..          ...       ...  \n",
       "96            Iran   0         Asia   9381546  \n",
       "97           Japan   0         Asia  37274000  \n",
       "98          Canada   0      America   6312974  \n",
       "99          Canada   0      America   2631690  \n",
       "100  United States  DC      America   6356434  \n",
       "\n",
       "[101 rows x 16 columns]"
      ]
     },
     "execution_count": 39,
     "metadata": {},
     "output_type": "execute_result"
    }
   ],
   "source": [
    "df_QualityLife_x_SizeCity = df_grafico2\n",
    "df_QualityLife_x_SizeCity['Area_Pop'] = df_grafico.Area_Pop\n",
    "df_QualityLife_x_SizeCity"
   ]
  },
  {
   "cell_type": "code",
   "execution_count": 40,
   "id": "799c1a47",
   "metadata": {},
   "outputs": [
    {
     "data": {
      "application/vnd.plotly.v1+json": {
       "config": {
        "plotlyServerURL": "https://plot.ly"
       },
       "data": [
        {
         "hovertemplate": "<b>%{hovertext}</b><br><br>Macro_Regiao=Asia<br>Area_Pop=%{marker.size}<br>Quality_Life=%{y}<extra></extra>",
         "hovertext": [
          "Ahmedabad, India",
          "Ankara, Turkey",
          "Bangalore, India",
          "Bangkok, Thailand",
          "Beijing, China",
          "Chennai, India",
          "Coimbatore, India",
          "Delhi, India",
          "Dhaka, Bangladesh",
          "Dubai, United Arab Emirates",
          "Hanoi, Vietnam",
          "Ho Chi Minh City, Vietnam",
          "Hong Kong, Hong Kong",
          "Hyderabad, India",
          "Istanbul, Turkey",
          "Izmir, Turkey",
          "Jakarta, Indonesia",
          "Karachi, Pakistan",
          "Kolkata, India",
          "Kuala Lumpur, Malaysia",
          "Kuwait City, Kuwait",
          "Lahore, Pakistan",
          "Manila, Philippines",
          "Mumbai, India",
          "Pune, India",
          "Riyadh, Saudi Arabia",
          "Seoul, South Korea",
          "Shanghai, China",
          "Shenzhen, China",
          "Singapore, Singapore",
          "Taipei, Taiwan",
          "Tehran, Iran",
          "Tokyo, Japan"
         ],
         "legendgroup": "Asia",
         "marker": {
          "color": "#1F77B4",
          "size": [
           8450228,
           5309690,
           13193035,
           10899698,
           21333332,
           11503293,
           2934621,
           32065760,
           22478116,
           2964382,
           5067352,
           9077158,
           7643256,
           10534418,
           15636243,
           3056149,
           11074811,
           16839950,
           15133888,
           8419566,
           3238523,
           13541764,
           14406059,
           20961472,
           6987077,
           7538200,
           9975709,
           28516904,
           12831330,
           6039577,
           2742379,
           9381546,
           37274000
          ],
          "sizemode": "area",
          "sizeref": 93185,
          "symbol": "circle"
         },
         "mode": "markers",
         "name": "Asia",
         "orientation": "v",
         "showlegend": true,
         "type": "scatter",
         "x": [
          8450228,
          5309690,
          13193035,
          10899698,
          21333332,
          11503293,
          2934621,
          32065760,
          22478116,
          2964382,
          5067352,
          9077158,
          7643256,
          10534418,
          15636243,
          3056149,
          11074811,
          16839950,
          15133888,
          8419566,
          3238523,
          13541764,
          14406059,
          20961472,
          6987077,
          7538200,
          9975709,
          28516904,
          12831330,
          6039577,
          2742379,
          9381546,
          37274000
         ],
         "xaxis": "x",
         "y": [
          113.21,
          128.3,
          126.11,
          81.92,
          80.89,
          112.09,
          125.89,
          80.61,
          57.45,
          176.8,
          97.41,
          66.35,
          104.4,
          117.1,
          97.35,
          131.76,
          74,
          78.53,
          101.93,
          122.67,
          121.86,
          104.56,
          48.67,
          75.18,
          134.62,
          151.43,
          126.57,
          85.85,
          111.34,
          152.42,
          150.56,
          60.14,
          164.2
         ],
         "yaxis": "y"
        },
        {
         "alignmentgroup": "True",
         "hovertemplate": "<b>%{hovertext}</b><br><br>Macro_Regiao=Asia<br>Area_Pop=%{x}<extra></extra>",
         "hovertext": [
          "Ahmedabad, India",
          "Ankara, Turkey",
          "Bangalore, India",
          "Bangkok, Thailand",
          "Beijing, China",
          "Chennai, India",
          "Coimbatore, India",
          "Delhi, India",
          "Dhaka, Bangladesh",
          "Dubai, United Arab Emirates",
          "Hanoi, Vietnam",
          "Ho Chi Minh City, Vietnam",
          "Hong Kong, Hong Kong",
          "Hyderabad, India",
          "Istanbul, Turkey",
          "Izmir, Turkey",
          "Jakarta, Indonesia",
          "Karachi, Pakistan",
          "Kolkata, India",
          "Kuala Lumpur, Malaysia",
          "Kuwait City, Kuwait",
          "Lahore, Pakistan",
          "Manila, Philippines",
          "Mumbai, India",
          "Pune, India",
          "Riyadh, Saudi Arabia",
          "Seoul, South Korea",
          "Shanghai, China",
          "Shenzhen, China",
          "Singapore, Singapore",
          "Taipei, Taiwan",
          "Tehran, Iran",
          "Tokyo, Japan"
         ],
         "legendgroup": "Asia",
         "marker": {
          "color": "#1F77B4",
          "symbol": "circle"
         },
         "name": "Asia",
         "notched": true,
         "offsetgroup": "Asia",
         "showlegend": false,
         "type": "box",
         "x": [
          8450228,
          5309690,
          13193035,
          10899698,
          21333332,
          11503293,
          2934621,
          32065760,
          22478116,
          2964382,
          5067352,
          9077158,
          7643256,
          10534418,
          15636243,
          3056149,
          11074811,
          16839950,
          15133888,
          8419566,
          3238523,
          13541764,
          14406059,
          20961472,
          6987077,
          7538200,
          9975709,
          28516904,
          12831330,
          6039577,
          2742379,
          9381546,
          37274000
         ],
         "xaxis": "x3",
         "yaxis": "y3"
        },
        {
         "alignmentgroup": "True",
         "hovertemplate": "<b>%{hovertext}</b><br><br>Macro_Regiao=Asia<br>Quality_Life=%{y}<extra></extra>",
         "hovertext": [
          "Ahmedabad, India",
          "Ankara, Turkey",
          "Bangalore, India",
          "Bangkok, Thailand",
          "Beijing, China",
          "Chennai, India",
          "Coimbatore, India",
          "Delhi, India",
          "Dhaka, Bangladesh",
          "Dubai, United Arab Emirates",
          "Hanoi, Vietnam",
          "Ho Chi Minh City, Vietnam",
          "Hong Kong, Hong Kong",
          "Hyderabad, India",
          "Istanbul, Turkey",
          "Izmir, Turkey",
          "Jakarta, Indonesia",
          "Karachi, Pakistan",
          "Kolkata, India",
          "Kuala Lumpur, Malaysia",
          "Kuwait City, Kuwait",
          "Lahore, Pakistan",
          "Manila, Philippines",
          "Mumbai, India",
          "Pune, India",
          "Riyadh, Saudi Arabia",
          "Seoul, South Korea",
          "Shanghai, China",
          "Shenzhen, China",
          "Singapore, Singapore",
          "Taipei, Taiwan",
          "Tehran, Iran",
          "Tokyo, Japan"
         ],
         "legendgroup": "Asia",
         "marker": {
          "color": "#1F77B4",
          "symbol": "circle"
         },
         "name": "Asia",
         "notched": true,
         "offsetgroup": "Asia",
         "showlegend": false,
         "type": "box",
         "xaxis": "x2",
         "y": [
          113.21,
          128.3,
          126.11,
          81.92,
          80.89,
          112.09,
          125.89,
          80.61,
          57.45,
          176.8,
          97.41,
          66.35,
          104.4,
          117.1,
          97.35,
          131.76,
          74,
          78.53,
          101.93,
          122.67,
          121.86,
          104.56,
          48.67,
          75.18,
          134.62,
          151.43,
          126.57,
          85.85,
          111.34,
          152.42,
          150.56,
          60.14,
          164.2
         ],
         "yaxis": "y2"
        },
        {
         "hovertemplate": "<b>OLS trendline</b><br>Quality_Life = -52.5669 * log10(Area_Pop) + 475.577<br>R<sup>2</sup>=0.250155<br><br>Macro_Regiao=Asia<br>Area_Pop=%{x}<br>Quality_Life=%{y} <b>(trend)</b><extra></extra>",
         "legendgroup": "Asia",
         "marker": {
          "color": "#1F77B4",
          "symbol": "circle"
         },
         "mode": "lines",
         "name": "Asia",
         "showlegend": false,
         "type": "scatter",
         "x": [
          2742379,
          2934621,
          2964382,
          3056149,
          3238523,
          5067352,
          5309690,
          6039577,
          6987077,
          7538200,
          7643256,
          8419566,
          8450228,
          9077158,
          9381546,
          9975709,
          10534418,
          10899698,
          11074811,
          11503293,
          12831330,
          13193035,
          13541764,
          14406059,
          15133888,
          15636243,
          16839950,
          20961472,
          21333332,
          22478116,
          28516904,
          32065760,
          37274000
         ],
         "xaxis": "x",
         "y": [
          137.14494675958838,
          135.59819029914212,
          135.3678345495233,
          134.67183037769172,
          133.34859272441332,
          123.12780029581694,
          122.06131865445315,
          119.12086661146941,
          115.79396128505033,
          114.06071962856396,
          113.74475327561993,
          111.53635052060366,
          111.45336207175,
          109.81950642262603,
          109.06651130432806,
          107.66458640710056,
          106.42049799641376,
          105.6423022803558,
          105.27844181486341,
          104.41183175059399,
          101.91756019105804,
          101.28291819531347,
          100.68730783537882,
          99.27483861624847,
          98.14962748777157,
          97.4041295556226,
          95.71103531521169,
          90.71292531838043,
          90.3114765700995,
          89.11814458144818,
          83.68575408608325,
          81.00804139987542,
          77.57203581755016
         ],
         "yaxis": "y"
        },
        {
         "hovertemplate": "<b>%{hovertext}</b><br><br>Macro_Regiao=Europa<br>Area_Pop=%{marker.size}<br>Quality_Life=%{y}<extra></extra>",
         "hovertext": [
          "Athens, Greece",
          "Barcelona, Spain",
          "Berlin, Germany",
          "Birmingham, United Kingdom",
          "Lisbon, Portugal",
          "London, United Kingdom",
          "Madrid, Spain",
          "Manchester, United Kingdom",
          "Milan, Italy",
          "Moscow, Russia",
          "Paris, France",
          "Rome, Italy",
          "Saint Petersburg, Russia"
         ],
         "legendgroup": "Europa",
         "marker": {
          "color": "#FF7F0E",
          "size": [
           3153781,
           5658472,
           3570750,
           2645598,
           2986162,
           9540576,
           6713557,
           2770434,
           3149223,
           12640818,
           11142303,
           4297877,
           5535556
          ],
          "sizemode": "area",
          "sizeref": 93185,
          "symbol": "circle"
         },
         "mode": "markers",
         "name": "Europa",
         "orientation": "v",
         "showlegend": true,
         "type": "scatter",
         "x": [
          3153781,
          5658472,
          3570750,
          2645598,
          2986162,
          9540576,
          6713557,
          2770434,
          3149223,
          12640818,
          11142303,
          4297877,
          5535556
         ],
         "xaxis": "x",
         "y": [
          116.99,
          142.32,
          162.44,
          154.7,
          148.26,
          137.04,
          159.85,
          151.6,
          116.98,
          110.82,
          121.14,
          111.16,
          100.27
         ],
         "yaxis": "y"
        },
        {
         "alignmentgroup": "True",
         "hovertemplate": "<b>%{hovertext}</b><br><br>Macro_Regiao=Europa<br>Area_Pop=%{x}<extra></extra>",
         "hovertext": [
          "Athens, Greece",
          "Barcelona, Spain",
          "Berlin, Germany",
          "Birmingham, United Kingdom",
          "Lisbon, Portugal",
          "London, United Kingdom",
          "Madrid, Spain",
          "Manchester, United Kingdom",
          "Milan, Italy",
          "Moscow, Russia",
          "Paris, France",
          "Rome, Italy",
          "Saint Petersburg, Russia"
         ],
         "legendgroup": "Europa",
         "marker": {
          "color": "#FF7F0E",
          "symbol": "circle"
         },
         "name": "Europa",
         "notched": true,
         "offsetgroup": "Europa",
         "showlegend": false,
         "type": "box",
         "x": [
          3153781,
          5658472,
          3570750,
          2645598,
          2986162,
          9540576,
          6713557,
          2770434,
          3149223,
          12640818,
          11142303,
          4297877,
          5535556
         ],
         "xaxis": "x3",
         "yaxis": "y3"
        },
        {
         "alignmentgroup": "True",
         "hovertemplate": "<b>%{hovertext}</b><br><br>Macro_Regiao=Europa<br>Quality_Life=%{y}<extra></extra>",
         "hovertext": [
          "Athens, Greece",
          "Barcelona, Spain",
          "Berlin, Germany",
          "Birmingham, United Kingdom",
          "Lisbon, Portugal",
          "London, United Kingdom",
          "Madrid, Spain",
          "Manchester, United Kingdom",
          "Milan, Italy",
          "Moscow, Russia",
          "Paris, France",
          "Rome, Italy",
          "Saint Petersburg, Russia"
         ],
         "legendgroup": "Europa",
         "marker": {
          "color": "#FF7F0E",
          "symbol": "circle"
         },
         "name": "Europa",
         "notched": true,
         "offsetgroup": "Europa",
         "showlegend": false,
         "type": "box",
         "xaxis": "x2",
         "y": [
          116.99,
          142.32,
          162.44,
          154.7,
          148.26,
          137.04,
          159.85,
          151.6,
          116.98,
          110.82,
          121.14,
          111.16,
          100.27
         ],
         "yaxis": "y2"
        },
        {
         "hovertemplate": "<b>OLS trendline</b><br>Quality_Life = -29.4271 * log10(Area_Pop) + 330.229<br>R<sup>2</sup>=0.108499<br><br>Macro_Regiao=Europa<br>Area_Pop=%{x}<br>Quality_Life=%{y} <b>(trend)</b><extra></extra>",
         "legendgroup": "Europa",
         "marker": {
          "color": "#FF7F0E",
          "symbol": "circle"
         },
         "mode": "lines",
         "name": "Europa",
         "showlegend": false,
         "type": "scatter",
         "x": [
          2645598,
          2770434,
          2986162,
          3149223,
          3153781,
          3570750,
          4297877,
          5535556,
          5658472,
          6713557,
          9540576,
          11142303,
          12640818
         ],
         "xaxis": "x",
         "y": [
          141.23247576603598,
          140.64322920665572,
          139.68491991726253,
          139.00544712451483,
          138.98696344971293,
          137.40002235276597,
          135.03130300403376,
          131.79705287581157,
          131.51637964714322,
          129.3313155445199,
          124.84009795164596,
          122.85670177538665,
          121.24409138450531
         ],
         "yaxis": "y"
        },
        {
         "hovertemplate": "<b>%{hovertext}</b><br><br>Macro_Regiao=America<br>Area_Pop=%{marker.size}<br>Quality_Life=%{y}<extra></extra>",
         "hovertext": [
          "Atlanta, GA, United States",
          "Baltimore, MD, United States",
          "Belo Horizonte, Brazil",
          "Bogota, Colombia",
          "Boston, MA, United States",
          "Brasilia, Brazil",
          "Buenos Aires, Argentina",
          "Campinas, Brazil",
          "Caracas, Venezuela",
          "Charlotte, NC, United States",
          "Chicago, IL, United States",
          "Curitiba, Brazil",
          "Dallas, TX, United States",
          "Denver, CO, United States",
          "Detroit, MI, United States",
          "Guadalajara, Mexico",
          "Guatemala City, Guatemala",
          "Houston, TX, United States",
          "Lima, Peru",
          "Los Angeles, CA, United States",
          "Medellin, Colombia",
          "Mexico City, Mexico",
          "Miami, FL, United States",
          "Minneapolis, MN, United States",
          "Monterrey, Mexico",
          "Montreal, Canada",
          "New York, NY, United States",
          "Orlando, FL, United States",
          "Philadelphia, PA, United States",
          "Phoenix, AZ, United States",
          "Portland, OR, United States",
          "Porto Alegre, Brazil",
          "Recife, Brazil",
          "Rio de Janeiro, Brazil",
          "San Antonio, TX, United States",
          "San Diego, CA, United States",
          "San Francisco, CA, United States",
          "San Juan, Puerto Rico",
          "Santiago, Chile",
          "Sao Paulo, Brazil",
          "Seattle, WA, United States",
          "Tampa, FL, United States",
          "Toronto, Canada",
          "Vancouver, Canada",
          "Washington, DC, United States"
         ],
         "legendgroup": "America",
         "marker": {
          "color": "#2CA02C",
          "size": [
           6144050,
           2838327,
           6194292,
           11344312,
           4899932,
           4803877,
           15369919,
           3384564,
           2956813,
           2701046,
           9509934,
           3770919,
           7759615,
           2972566,
           4365205,
           5339583,
           3036405,
           7206841,
           11044607,
           12997353,
           4067758,
           22085140,
           6091747,
           3690512,
           5036535,
           4276526,
           19768458,
           2691925,
           6228601,
           4946145,
           2511612,
           4185488,
           4220458,
           13634274,
           2601788,
           3286069,
           4623264,
           2442512,
           6856939,
           22429800,
           4011553,
           3219514,
           6312974,
           2631690,
           6356434
          ],
          "sizemode": "area",
          "sizeref": 93185,
          "symbol": "circle"
         },
         "mode": "markers",
         "name": "America",
         "orientation": "v",
         "showlegend": true,
         "type": "scatter",
         "x": [
          6144050,
          2838327,
          6194292,
          11344312,
          4899932,
          4803877,
          15369919,
          3384564,
          2956813,
          2701046,
          9509934,
          3770919,
          7759615,
          2972566,
          4365205,
          5339583,
          3036405,
          7206841,
          11044607,
          12997353,
          4067758,
          22085140,
          6091747,
          3690512,
          5036535,
          4276526,
          19768458,
          2691925,
          6228601,
          4946145,
          2511612,
          4185488,
          4220458,
          13634274,
          2601788,
          3286069,
          4623264,
          2442512,
          6856939,
          22429800,
          4011553,
          3219514,
          6312974,
          2631690,
          6356434
         ],
         "xaxis": "x",
         "y": [
          166.98,
          166.95,
          105.76,
          89.03,
          168.02,
          134.69,
          100.01,
          130.38,
          66.03,
          192.75,
          147.58,
          139.08,
          178.79,
          170.68,
          131.38,
          126.62,
          95.48,
          166.87,
          78.74,
          138.95,
          124.06,
          87.9,
          153.26,
          174.74,
          127.57,
          158.1,
          136.89,
          184.2,
          153.86,
          158.83,
          175.7,
          111.62,
          85.47,
          70.27,
          192.75,
          185.28,
          144.38,
          114.25,
          103.46,
          76.13,
          183.13,
          187.33,
          148.17,
          172.49,
          165.62
         ],
         "yaxis": "y"
        },
        {
         "alignmentgroup": "True",
         "hovertemplate": "<b>%{hovertext}</b><br><br>Macro_Regiao=America<br>Area_Pop=%{x}<extra></extra>",
         "hovertext": [
          "Atlanta, GA, United States",
          "Baltimore, MD, United States",
          "Belo Horizonte, Brazil",
          "Bogota, Colombia",
          "Boston, MA, United States",
          "Brasilia, Brazil",
          "Buenos Aires, Argentina",
          "Campinas, Brazil",
          "Caracas, Venezuela",
          "Charlotte, NC, United States",
          "Chicago, IL, United States",
          "Curitiba, Brazil",
          "Dallas, TX, United States",
          "Denver, CO, United States",
          "Detroit, MI, United States",
          "Guadalajara, Mexico",
          "Guatemala City, Guatemala",
          "Houston, TX, United States",
          "Lima, Peru",
          "Los Angeles, CA, United States",
          "Medellin, Colombia",
          "Mexico City, Mexico",
          "Miami, FL, United States",
          "Minneapolis, MN, United States",
          "Monterrey, Mexico",
          "Montreal, Canada",
          "New York, NY, United States",
          "Orlando, FL, United States",
          "Philadelphia, PA, United States",
          "Phoenix, AZ, United States",
          "Portland, OR, United States",
          "Porto Alegre, Brazil",
          "Recife, Brazil",
          "Rio de Janeiro, Brazil",
          "San Antonio, TX, United States",
          "San Diego, CA, United States",
          "San Francisco, CA, United States",
          "San Juan, Puerto Rico",
          "Santiago, Chile",
          "Sao Paulo, Brazil",
          "Seattle, WA, United States",
          "Tampa, FL, United States",
          "Toronto, Canada",
          "Vancouver, Canada",
          "Washington, DC, United States"
         ],
         "legendgroup": "America",
         "marker": {
          "color": "#2CA02C",
          "symbol": "circle"
         },
         "name": "America",
         "notched": true,
         "offsetgroup": "America",
         "showlegend": false,
         "type": "box",
         "x": [
          6144050,
          2838327,
          6194292,
          11344312,
          4899932,
          4803877,
          15369919,
          3384564,
          2956813,
          2701046,
          9509934,
          3770919,
          7759615,
          2972566,
          4365205,
          5339583,
          3036405,
          7206841,
          11044607,
          12997353,
          4067758,
          22085140,
          6091747,
          3690512,
          5036535,
          4276526,
          19768458,
          2691925,
          6228601,
          4946145,
          2511612,
          4185488,
          4220458,
          13634274,
          2601788,
          3286069,
          4623264,
          2442512,
          6856939,
          22429800,
          4011553,
          3219514,
          6312974,
          2631690,
          6356434
         ],
         "xaxis": "x3",
         "yaxis": "y3"
        },
        {
         "alignmentgroup": "True",
         "hovertemplate": "<b>%{hovertext}</b><br><br>Macro_Regiao=America<br>Quality_Life=%{y}<extra></extra>",
         "hovertext": [
          "Atlanta, GA, United States",
          "Baltimore, MD, United States",
          "Belo Horizonte, Brazil",
          "Bogota, Colombia",
          "Boston, MA, United States",
          "Brasilia, Brazil",
          "Buenos Aires, Argentina",
          "Campinas, Brazil",
          "Caracas, Venezuela",
          "Charlotte, NC, United States",
          "Chicago, IL, United States",
          "Curitiba, Brazil",
          "Dallas, TX, United States",
          "Denver, CO, United States",
          "Detroit, MI, United States",
          "Guadalajara, Mexico",
          "Guatemala City, Guatemala",
          "Houston, TX, United States",
          "Lima, Peru",
          "Los Angeles, CA, United States",
          "Medellin, Colombia",
          "Mexico City, Mexico",
          "Miami, FL, United States",
          "Minneapolis, MN, United States",
          "Monterrey, Mexico",
          "Montreal, Canada",
          "New York, NY, United States",
          "Orlando, FL, United States",
          "Philadelphia, PA, United States",
          "Phoenix, AZ, United States",
          "Portland, OR, United States",
          "Porto Alegre, Brazil",
          "Recife, Brazil",
          "Rio de Janeiro, Brazil",
          "San Antonio, TX, United States",
          "San Diego, CA, United States",
          "San Francisco, CA, United States",
          "San Juan, Puerto Rico",
          "Santiago, Chile",
          "Sao Paulo, Brazil",
          "Seattle, WA, United States",
          "Tampa, FL, United States",
          "Toronto, Canada",
          "Vancouver, Canada",
          "Washington, DC, United States"
         ],
         "legendgroup": "America",
         "marker": {
          "color": "#2CA02C",
          "symbol": "circle"
         },
         "name": "America",
         "notched": true,
         "offsetgroup": "America",
         "showlegend": false,
         "type": "box",
         "xaxis": "x2",
         "y": [
          166.98,
          166.95,
          105.76,
          89.03,
          168.02,
          134.69,
          100.01,
          130.38,
          66.03,
          192.75,
          147.58,
          139.08,
          178.79,
          170.68,
          131.38,
          126.62,
          95.48,
          166.87,
          78.74,
          138.95,
          124.06,
          87.9,
          153.26,
          174.74,
          127.57,
          158.1,
          136.89,
          184.2,
          153.86,
          158.83,
          175.7,
          111.62,
          85.47,
          70.27,
          192.75,
          185.28,
          144.38,
          114.25,
          103.46,
          76.13,
          183.13,
          187.33,
          148.17,
          172.49,
          165.62
         ],
         "yaxis": "y2"
        },
        {
         "hovertemplate": "<b>OLS trendline</b><br>Quality_Life = -68.0022 * log10(Area_Pop) + 596.921<br>R<sup>2</sup>=0.240648<br><br>Macro_Regiao=America<br>Area_Pop=%{x}<br>Quality_Life=%{y} <b>(trend)</b><extra></extra>",
         "legendgroup": "America",
         "marker": {
          "color": "#2CA02C",
          "symbol": "circle"
         },
         "mode": "lines",
         "name": "America",
         "showlegend": false,
         "type": "scatter",
         "x": [
          2442512,
          2511612,
          2601788,
          2631690,
          2691925,
          2701046,
          2838327,
          2956813,
          2972566,
          3036405,
          3219514,
          3286069,
          3384564,
          3690512,
          3770919,
          4011553,
          4067758,
          4185488,
          4220458,
          4276526,
          4365205,
          4623264,
          4803877,
          4899932,
          4946145,
          5036535,
          5339583,
          6091747,
          6144050,
          6194292,
          6228601,
          6312974,
          6356434,
          6856939,
          7206841,
          7759615,
          9509934,
          11044607,
          11344312,
          12997353,
          13634274,
          15369919,
          19768458,
          22085140,
          22429800
         ],
         "xaxis": "x",
         "y": [
          162.53404507351422,
          161.71014092178763,
          160.66839075444096,
          160.33090774669938,
          159.66256666153578,
          159.56266973295828,
          158.098551627743,
          156.89073505693926,
          156.73380994949162,
          156.10627248552464,
          154.37693405346027,
          153.77264188135126,
          152.90044194198396,
          150.34465419090287,
          149.70811390516002,
          147.8812119800205,
          147.47030361443075,
          146.6276886567232,
          146.38196391188916,
          145.99220691682171,
          145.38606734305085,
          143.68981678719325,
          142.55804334091044,
          141.97334848546382,
          141.69611768781346,
          141.1612794408441,
          139.43569028786612,
          135.54361653444005,
          135.2911322607568,
          135.0506129967057,
          134.8874867776368,
          134.49011655975005,
          134.2875011584805,
          132.04908973653642,
          130.57924539573202,
          128.39669851681157,
          122.38956468762228,
          117.97127296883076,
          117.18055035941478,
          113.1632005114804,
          111.75031151881007,
          108.21150621000999,
          100.77878170797652,
          97.50601458383699,
          97.04868307864848
         ],
         "yaxis": "y"
        },
        {
         "hovertemplate": "<b>%{hovertext}</b><br><br>Macro_Regiao=Oceania<br>Area_Pop=%{marker.size}<br>Quality_Life=%{y}<extra></extra>",
         "hovertext": [
          "Brisbane, Australia",
          "Melbourne, Australia",
          "Sydney, Australia"
         ],
         "legendgroup": "Oceania",
         "marker": {
          "color": "#D62728",
          "size": [
           2472222,
           5150766,
           5056571
          ],
          "sizemode": "area",
          "sizeref": 93185,
          "symbol": "circle"
         },
         "mode": "markers",
         "name": "Oceania",
         "orientation": "v",
         "showlegend": true,
         "type": "scatter",
         "x": [
          2472222,
          5150766,
          5056571
         ],
         "xaxis": "x",
         "y": [
          199.37,
          186.66,
          190.64
         ],
         "yaxis": "y"
        },
        {
         "alignmentgroup": "True",
         "hovertemplate": "<b>%{hovertext}</b><br><br>Macro_Regiao=Oceania<br>Area_Pop=%{x}<extra></extra>",
         "hovertext": [
          "Brisbane, Australia",
          "Melbourne, Australia",
          "Sydney, Australia"
         ],
         "legendgroup": "Oceania",
         "marker": {
          "color": "#D62728",
          "symbol": "circle"
         },
         "name": "Oceania",
         "notched": true,
         "offsetgroup": "Oceania",
         "showlegend": false,
         "type": "box",
         "x": [
          2472222,
          5150766,
          5056571
         ],
         "xaxis": "x3",
         "yaxis": "y3"
        },
        {
         "alignmentgroup": "True",
         "hovertemplate": "<b>%{hovertext}</b><br><br>Macro_Regiao=Oceania<br>Quality_Life=%{y}<extra></extra>",
         "hovertext": [
          "Brisbane, Australia",
          "Melbourne, Australia",
          "Sydney, Australia"
         ],
         "legendgroup": "Oceania",
         "marker": {
          "color": "#D62728",
          "symbol": "circle"
         },
         "name": "Oceania",
         "notched": true,
         "offsetgroup": "Oceania",
         "showlegend": false,
         "type": "box",
         "xaxis": "x2",
         "y": [
          199.37,
          186.66,
          190.64
         ],
         "yaxis": "y2"
        },
        {
         "hovertemplate": "<b>OLS trendline</b><br>Quality_Life = -34.2807 * log10(Area_Pop) + 418.577<br>R<sup>2</sup>=0.918757<br><br>Macro_Regiao=Oceania<br>Area_Pop=%{x}<br>Quality_Life=%{y} <b>(trend)</b><extra></extra>",
         "legendgroup": "Oceania",
         "marker": {
          "color": "#D62728",
          "symbol": "circle"
         },
         "mode": "lines",
         "name": "Oceania",
         "showlegend": false,
         "type": "scatter",
         "x": [
          2472222,
          5056571,
          5150766
         ],
         "xaxis": "x",
         "y": [
          199.4171762298779,
          188.76380404323663,
          188.4890197268893
         ],
         "yaxis": "y"
        },
        {
         "hovertemplate": "<b>%{hovertext}</b><br><br>Macro_Regiao=Africa<br>Area_Pop=%{marker.size}<br>Quality_Life=%{y}<extra></extra>",
         "hovertext": [
          "Cairo, Egypt",
          "Cape Town, South Africa",
          "Durban, South Africa",
          "Johannesburg, South Africa",
          "Lagos, Nigeria",
          "Nairobi, Kenya",
          "Pretoria, South Africa"
         ],
         "legendgroup": "Africa",
         "marker": {
          "color": "#9467BD",
          "size": [
           21750020,
           4800954,
           3199329,
           6065354,
           15387639,
           5118844,
           2739768
          ],
          "sizemode": "area",
          "sizeref": 93185,
          "symbol": "circle"
         },
         "mode": "markers",
         "name": "Africa",
         "orientation": "v",
         "showlegend": true,
         "type": "scatter",
         "x": [
          21750020,
          4800954,
          3199329,
          6065354,
          15387639,
          5118844,
          2739768
         ],
         "xaxis": "x",
         "y": [
          82.42,
          145.14,
          138.81,
          135.27,
          48.56,
          96.83,
          137.66
         ],
         "yaxis": "y"
        },
        {
         "alignmentgroup": "True",
         "hovertemplate": "<b>%{hovertext}</b><br><br>Macro_Regiao=Africa<br>Area_Pop=%{x}<extra></extra>",
         "hovertext": [
          "Cairo, Egypt",
          "Cape Town, South Africa",
          "Durban, South Africa",
          "Johannesburg, South Africa",
          "Lagos, Nigeria",
          "Nairobi, Kenya",
          "Pretoria, South Africa"
         ],
         "legendgroup": "Africa",
         "marker": {
          "color": "#9467BD",
          "symbol": "circle"
         },
         "name": "Africa",
         "notched": true,
         "offsetgroup": "Africa",
         "showlegend": false,
         "type": "box",
         "x": [
          21750020,
          4800954,
          3199329,
          6065354,
          15387639,
          5118844,
          2739768
         ],
         "xaxis": "x3",
         "yaxis": "y3"
        },
        {
         "alignmentgroup": "True",
         "hovertemplate": "<b>%{hovertext}</b><br><br>Macro_Regiao=Africa<br>Quality_Life=%{y}<extra></extra>",
         "hovertext": [
          "Cairo, Egypt",
          "Cape Town, South Africa",
          "Durban, South Africa",
          "Johannesburg, South Africa",
          "Lagos, Nigeria",
          "Nairobi, Kenya",
          "Pretoria, South Africa"
         ],
         "legendgroup": "Africa",
         "marker": {
          "color": "#9467BD",
          "symbol": "circle"
         },
         "name": "Africa",
         "notched": true,
         "offsetgroup": "Africa",
         "showlegend": false,
         "type": "box",
         "xaxis": "x2",
         "y": [
          82.42,
          145.14,
          138.81,
          135.27,
          48.56,
          96.83,
          137.66
         ],
         "yaxis": "y2"
        },
        {
         "hovertemplate": "<b>OLS trendline</b><br>Quality_Life = -89.2289 * log10(Area_Pop) + 719.375<br>R<sup>2</sup>=0.663982<br><br>Macro_Regiao=Africa<br>Area_Pop=%{x}<br>Quality_Life=%{y} <b>(trend)</b><extra></extra>",
         "legendgroup": "Africa",
         "marker": {
          "color": "#9467BD",
          "symbol": "circle"
         },
         "mode": "lines",
         "name": "Africa",
         "showlegend": false,
         "type": "scatter",
         "x": [
          2739768,
          3199329,
          4800954,
          5118844,
          6065354,
          15387639,
          21750020
         ],
         "xaxis": "x",
         "y": [
          144.94454758160157,
          138.93541537488454,
          123.20715365577792,
          120.72263223818709,
          114.14786491836878,
          78.07119691806997,
          64.66118931310984
         ],
         "yaxis": "y"
        }
       ],
       "layout": {
        "height": 500,
        "legend": {
         "itemsizing": "constant",
         "title": {
          "text": "Macro_Regiao"
         },
         "tracegroupgap": 0
        },
        "margin": {
         "t": 60
        },
        "template": {
         "data": {
          "bar": [
           {
            "error_x": {
             "color": "rgb(36,36,36)"
            },
            "error_y": {
             "color": "rgb(36,36,36)"
            },
            "marker": {
             "line": {
              "color": "white",
              "width": 0.5
             },
             "pattern": {
              "fillmode": "overlay",
              "size": 10,
              "solidity": 0.2
             }
            },
            "type": "bar"
           }
          ],
          "barpolar": [
           {
            "marker": {
             "line": {
              "color": "white",
              "width": 0.5
             },
             "pattern": {
              "fillmode": "overlay",
              "size": 10,
              "solidity": 0.2
             }
            },
            "type": "barpolar"
           }
          ],
          "carpet": [
           {
            "aaxis": {
             "endlinecolor": "rgb(36,36,36)",
             "gridcolor": "white",
             "linecolor": "white",
             "minorgridcolor": "white",
             "startlinecolor": "rgb(36,36,36)"
            },
            "baxis": {
             "endlinecolor": "rgb(36,36,36)",
             "gridcolor": "white",
             "linecolor": "white",
             "minorgridcolor": "white",
             "startlinecolor": "rgb(36,36,36)"
            },
            "type": "carpet"
           }
          ],
          "choropleth": [
           {
            "colorbar": {
             "outlinewidth": 1,
             "tickcolor": "rgb(36,36,36)",
             "ticks": "outside"
            },
            "type": "choropleth"
           }
          ],
          "contour": [
           {
            "colorbar": {
             "outlinewidth": 1,
             "tickcolor": "rgb(36,36,36)",
             "ticks": "outside"
            },
            "colorscale": [
             [
              0,
              "#440154"
             ],
             [
              0.1111111111111111,
              "#482878"
             ],
             [
              0.2222222222222222,
              "#3e4989"
             ],
             [
              0.3333333333333333,
              "#31688e"
             ],
             [
              0.4444444444444444,
              "#26828e"
             ],
             [
              0.5555555555555556,
              "#1f9e89"
             ],
             [
              0.6666666666666666,
              "#35b779"
             ],
             [
              0.7777777777777778,
              "#6ece58"
             ],
             [
              0.8888888888888888,
              "#b5de2b"
             ],
             [
              1,
              "#fde725"
             ]
            ],
            "type": "contour"
           }
          ],
          "contourcarpet": [
           {
            "colorbar": {
             "outlinewidth": 1,
             "tickcolor": "rgb(36,36,36)",
             "ticks": "outside"
            },
            "type": "contourcarpet"
           }
          ],
          "heatmap": [
           {
            "colorbar": {
             "outlinewidth": 1,
             "tickcolor": "rgb(36,36,36)",
             "ticks": "outside"
            },
            "colorscale": [
             [
              0,
              "#440154"
             ],
             [
              0.1111111111111111,
              "#482878"
             ],
             [
              0.2222222222222222,
              "#3e4989"
             ],
             [
              0.3333333333333333,
              "#31688e"
             ],
             [
              0.4444444444444444,
              "#26828e"
             ],
             [
              0.5555555555555556,
              "#1f9e89"
             ],
             [
              0.6666666666666666,
              "#35b779"
             ],
             [
              0.7777777777777778,
              "#6ece58"
             ],
             [
              0.8888888888888888,
              "#b5de2b"
             ],
             [
              1,
              "#fde725"
             ]
            ],
            "type": "heatmap"
           }
          ],
          "heatmapgl": [
           {
            "colorbar": {
             "outlinewidth": 1,
             "tickcolor": "rgb(36,36,36)",
             "ticks": "outside"
            },
            "colorscale": [
             [
              0,
              "#440154"
             ],
             [
              0.1111111111111111,
              "#482878"
             ],
             [
              0.2222222222222222,
              "#3e4989"
             ],
             [
              0.3333333333333333,
              "#31688e"
             ],
             [
              0.4444444444444444,
              "#26828e"
             ],
             [
              0.5555555555555556,
              "#1f9e89"
             ],
             [
              0.6666666666666666,
              "#35b779"
             ],
             [
              0.7777777777777778,
              "#6ece58"
             ],
             [
              0.8888888888888888,
              "#b5de2b"
             ],
             [
              1,
              "#fde725"
             ]
            ],
            "type": "heatmapgl"
           }
          ],
          "histogram": [
           {
            "marker": {
             "line": {
              "color": "white",
              "width": 0.6
             }
            },
            "type": "histogram"
           }
          ],
          "histogram2d": [
           {
            "colorbar": {
             "outlinewidth": 1,
             "tickcolor": "rgb(36,36,36)",
             "ticks": "outside"
            },
            "colorscale": [
             [
              0,
              "#440154"
             ],
             [
              0.1111111111111111,
              "#482878"
             ],
             [
              0.2222222222222222,
              "#3e4989"
             ],
             [
              0.3333333333333333,
              "#31688e"
             ],
             [
              0.4444444444444444,
              "#26828e"
             ],
             [
              0.5555555555555556,
              "#1f9e89"
             ],
             [
              0.6666666666666666,
              "#35b779"
             ],
             [
              0.7777777777777778,
              "#6ece58"
             ],
             [
              0.8888888888888888,
              "#b5de2b"
             ],
             [
              1,
              "#fde725"
             ]
            ],
            "type": "histogram2d"
           }
          ],
          "histogram2dcontour": [
           {
            "colorbar": {
             "outlinewidth": 1,
             "tickcolor": "rgb(36,36,36)",
             "ticks": "outside"
            },
            "colorscale": [
             [
              0,
              "#440154"
             ],
             [
              0.1111111111111111,
              "#482878"
             ],
             [
              0.2222222222222222,
              "#3e4989"
             ],
             [
              0.3333333333333333,
              "#31688e"
             ],
             [
              0.4444444444444444,
              "#26828e"
             ],
             [
              0.5555555555555556,
              "#1f9e89"
             ],
             [
              0.6666666666666666,
              "#35b779"
             ],
             [
              0.7777777777777778,
              "#6ece58"
             ],
             [
              0.8888888888888888,
              "#b5de2b"
             ],
             [
              1,
              "#fde725"
             ]
            ],
            "type": "histogram2dcontour"
           }
          ],
          "mesh3d": [
           {
            "colorbar": {
             "outlinewidth": 1,
             "tickcolor": "rgb(36,36,36)",
             "ticks": "outside"
            },
            "type": "mesh3d"
           }
          ],
          "parcoords": [
           {
            "line": {
             "colorbar": {
              "outlinewidth": 1,
              "tickcolor": "rgb(36,36,36)",
              "ticks": "outside"
             }
            },
            "type": "parcoords"
           }
          ],
          "pie": [
           {
            "automargin": true,
            "type": "pie"
           }
          ],
          "scatter": [
           {
            "fillpattern": {
             "fillmode": "overlay",
             "size": 10,
             "solidity": 0.2
            },
            "type": "scatter"
           }
          ],
          "scatter3d": [
           {
            "line": {
             "colorbar": {
              "outlinewidth": 1,
              "tickcolor": "rgb(36,36,36)",
              "ticks": "outside"
             }
            },
            "marker": {
             "colorbar": {
              "outlinewidth": 1,
              "tickcolor": "rgb(36,36,36)",
              "ticks": "outside"
             }
            },
            "type": "scatter3d"
           }
          ],
          "scattercarpet": [
           {
            "marker": {
             "colorbar": {
              "outlinewidth": 1,
              "tickcolor": "rgb(36,36,36)",
              "ticks": "outside"
             }
            },
            "type": "scattercarpet"
           }
          ],
          "scattergeo": [
           {
            "marker": {
             "colorbar": {
              "outlinewidth": 1,
              "tickcolor": "rgb(36,36,36)",
              "ticks": "outside"
             }
            },
            "type": "scattergeo"
           }
          ],
          "scattergl": [
           {
            "marker": {
             "colorbar": {
              "outlinewidth": 1,
              "tickcolor": "rgb(36,36,36)",
              "ticks": "outside"
             }
            },
            "type": "scattergl"
           }
          ],
          "scattermapbox": [
           {
            "marker": {
             "colorbar": {
              "outlinewidth": 1,
              "tickcolor": "rgb(36,36,36)",
              "ticks": "outside"
             }
            },
            "type": "scattermapbox"
           }
          ],
          "scatterpolar": [
           {
            "marker": {
             "colorbar": {
              "outlinewidth": 1,
              "tickcolor": "rgb(36,36,36)",
              "ticks": "outside"
             }
            },
            "type": "scatterpolar"
           }
          ],
          "scatterpolargl": [
           {
            "marker": {
             "colorbar": {
              "outlinewidth": 1,
              "tickcolor": "rgb(36,36,36)",
              "ticks": "outside"
             }
            },
            "type": "scatterpolargl"
           }
          ],
          "scatterternary": [
           {
            "marker": {
             "colorbar": {
              "outlinewidth": 1,
              "tickcolor": "rgb(36,36,36)",
              "ticks": "outside"
             }
            },
            "type": "scatterternary"
           }
          ],
          "surface": [
           {
            "colorbar": {
             "outlinewidth": 1,
             "tickcolor": "rgb(36,36,36)",
             "ticks": "outside"
            },
            "colorscale": [
             [
              0,
              "#440154"
             ],
             [
              0.1111111111111111,
              "#482878"
             ],
             [
              0.2222222222222222,
              "#3e4989"
             ],
             [
              0.3333333333333333,
              "#31688e"
             ],
             [
              0.4444444444444444,
              "#26828e"
             ],
             [
              0.5555555555555556,
              "#1f9e89"
             ],
             [
              0.6666666666666666,
              "#35b779"
             ],
             [
              0.7777777777777778,
              "#6ece58"
             ],
             [
              0.8888888888888888,
              "#b5de2b"
             ],
             [
              1,
              "#fde725"
             ]
            ],
            "type": "surface"
           }
          ],
          "table": [
           {
            "cells": {
             "fill": {
              "color": "rgb(237,237,237)"
             },
             "line": {
              "color": "white"
             }
            },
            "header": {
             "fill": {
              "color": "rgb(217,217,217)"
             },
             "line": {
              "color": "white"
             }
            },
            "type": "table"
           }
          ]
         },
         "layout": {
          "annotationdefaults": {
           "arrowhead": 0,
           "arrowwidth": 1
          },
          "autotypenumbers": "strict",
          "coloraxis": {
           "colorbar": {
            "outlinewidth": 1,
            "tickcolor": "rgb(36,36,36)",
            "ticks": "outside"
           }
          },
          "colorscale": {
           "diverging": [
            [
             0,
             "rgb(103,0,31)"
            ],
            [
             0.1,
             "rgb(178,24,43)"
            ],
            [
             0.2,
             "rgb(214,96,77)"
            ],
            [
             0.3,
             "rgb(244,165,130)"
            ],
            [
             0.4,
             "rgb(253,219,199)"
            ],
            [
             0.5,
             "rgb(247,247,247)"
            ],
            [
             0.6,
             "rgb(209,229,240)"
            ],
            [
             0.7,
             "rgb(146,197,222)"
            ],
            [
             0.8,
             "rgb(67,147,195)"
            ],
            [
             0.9,
             "rgb(33,102,172)"
            ],
            [
             1,
             "rgb(5,48,97)"
            ]
           ],
           "sequential": [
            [
             0,
             "#440154"
            ],
            [
             0.1111111111111111,
             "#482878"
            ],
            [
             0.2222222222222222,
             "#3e4989"
            ],
            [
             0.3333333333333333,
             "#31688e"
            ],
            [
             0.4444444444444444,
             "#26828e"
            ],
            [
             0.5555555555555556,
             "#1f9e89"
            ],
            [
             0.6666666666666666,
             "#35b779"
            ],
            [
             0.7777777777777778,
             "#6ece58"
            ],
            [
             0.8888888888888888,
             "#b5de2b"
            ],
            [
             1,
             "#fde725"
            ]
           ],
           "sequentialminus": [
            [
             0,
             "#440154"
            ],
            [
             0.1111111111111111,
             "#482878"
            ],
            [
             0.2222222222222222,
             "#3e4989"
            ],
            [
             0.3333333333333333,
             "#31688e"
            ],
            [
             0.4444444444444444,
             "#26828e"
            ],
            [
             0.5555555555555556,
             "#1f9e89"
            ],
            [
             0.6666666666666666,
             "#35b779"
            ],
            [
             0.7777777777777778,
             "#6ece58"
            ],
            [
             0.8888888888888888,
             "#b5de2b"
            ],
            [
             1,
             "#fde725"
            ]
           ]
          },
          "colorway": [
           "#1F77B4",
           "#FF7F0E",
           "#2CA02C",
           "#D62728",
           "#9467BD",
           "#8C564B",
           "#E377C2",
           "#7F7F7F",
           "#BCBD22",
           "#17BECF"
          ],
          "font": {
           "color": "rgb(36,36,36)"
          },
          "geo": {
           "bgcolor": "white",
           "lakecolor": "white",
           "landcolor": "white",
           "showlakes": true,
           "showland": true,
           "subunitcolor": "white"
          },
          "hoverlabel": {
           "align": "left"
          },
          "hovermode": "closest",
          "mapbox": {
           "style": "light"
          },
          "paper_bgcolor": "white",
          "plot_bgcolor": "white",
          "polar": {
           "angularaxis": {
            "gridcolor": "rgb(232,232,232)",
            "linecolor": "rgb(36,36,36)",
            "showgrid": false,
            "showline": true,
            "ticks": "outside"
           },
           "bgcolor": "white",
           "radialaxis": {
            "gridcolor": "rgb(232,232,232)",
            "linecolor": "rgb(36,36,36)",
            "showgrid": false,
            "showline": true,
            "ticks": "outside"
           }
          },
          "scene": {
           "xaxis": {
            "backgroundcolor": "white",
            "gridcolor": "rgb(232,232,232)",
            "gridwidth": 2,
            "linecolor": "rgb(36,36,36)",
            "showbackground": true,
            "showgrid": false,
            "showline": true,
            "ticks": "outside",
            "zeroline": false,
            "zerolinecolor": "rgb(36,36,36)"
           },
           "yaxis": {
            "backgroundcolor": "white",
            "gridcolor": "rgb(232,232,232)",
            "gridwidth": 2,
            "linecolor": "rgb(36,36,36)",
            "showbackground": true,
            "showgrid": false,
            "showline": true,
            "ticks": "outside",
            "zeroline": false,
            "zerolinecolor": "rgb(36,36,36)"
           },
           "zaxis": {
            "backgroundcolor": "white",
            "gridcolor": "rgb(232,232,232)",
            "gridwidth": 2,
            "linecolor": "rgb(36,36,36)",
            "showbackground": true,
            "showgrid": false,
            "showline": true,
            "ticks": "outside",
            "zeroline": false,
            "zerolinecolor": "rgb(36,36,36)"
           }
          },
          "shapedefaults": {
           "fillcolor": "black",
           "line": {
            "width": 0
           },
           "opacity": 0.3
          },
          "ternary": {
           "aaxis": {
            "gridcolor": "rgb(232,232,232)",
            "linecolor": "rgb(36,36,36)",
            "showgrid": false,
            "showline": true,
            "ticks": "outside"
           },
           "baxis": {
            "gridcolor": "rgb(232,232,232)",
            "linecolor": "rgb(36,36,36)",
            "showgrid": false,
            "showline": true,
            "ticks": "outside"
           },
           "bgcolor": "white",
           "caxis": {
            "gridcolor": "rgb(232,232,232)",
            "linecolor": "rgb(36,36,36)",
            "showgrid": false,
            "showline": true,
            "ticks": "outside"
           }
          },
          "title": {
           "x": 0.05
          },
          "xaxis": {
           "automargin": true,
           "gridcolor": "rgb(232,232,232)",
           "linecolor": "rgb(36,36,36)",
           "showgrid": false,
           "showline": true,
           "ticks": "outside",
           "title": {
            "standoff": 15
           },
           "zeroline": false,
           "zerolinecolor": "rgb(36,36,36)"
          },
          "yaxis": {
           "automargin": true,
           "gridcolor": "rgb(232,232,232)",
           "linecolor": "rgb(36,36,36)",
           "showgrid": false,
           "showline": true,
           "ticks": "outside",
           "title": {
            "standoff": 15
           },
           "zeroline": false,
           "zerolinecolor": "rgb(36,36,36)"
          }
         }
        },
        "xaxis": {
         "anchor": "y",
         "domain": [
          0,
          0.7363
         ],
         "title": {
          "text": "Area_Pop"
         }
        },
        "xaxis2": {
         "anchor": "y2",
         "domain": [
          0.7413,
          1
         ],
         "matches": "x2",
         "showline": false,
         "showticklabels": false,
         "ticks": ""
        },
        "xaxis3": {
         "anchor": "y3",
         "domain": [
          0,
          0.7363
         ],
         "matches": "x",
         "showticklabels": false
        },
        "xaxis4": {
         "anchor": "y4",
         "domain": [
          0.7413,
          1
         ],
         "matches": "x2",
         "showline": false,
         "showticklabels": false,
         "ticks": ""
        },
        "yaxis": {
         "anchor": "x",
         "domain": [
          0,
          0.7326
         ],
         "title": {
          "text": "Quality_Life"
         }
        },
        "yaxis2": {
         "anchor": "x2",
         "domain": [
          0,
          0.7326
         ],
         "matches": "y",
         "showticklabels": false
        },
        "yaxis3": {
         "anchor": "x3",
         "domain": [
          0.7426,
          1
         ],
         "matches": "y3",
         "showline": false,
         "showticklabels": false,
         "ticks": ""
        },
        "yaxis4": {
         "anchor": "x4",
         "domain": [
          0.7426,
          1
         ],
         "matches": "y3",
         "showline": false,
         "showticklabels": false,
         "ticks": ""
        }
       }
      },
      "text/html": [
       "<div>                            <div id=\"c5fe9f77-d30e-4955-b2e5-f69e59c4b988\" class=\"plotly-graph-div\" style=\"height:500px; width:100%;\"></div>            <script type=\"text/javascript\">                require([\"plotly\"], function(Plotly) {                    window.PLOTLYENV=window.PLOTLYENV || {};                                    if (document.getElementById(\"c5fe9f77-d30e-4955-b2e5-f69e59c4b988\")) {                    Plotly.newPlot(                        \"c5fe9f77-d30e-4955-b2e5-f69e59c4b988\",                        [{\"hovertemplate\":\"<b>%{hovertext}</b><br><br>Macro_Regiao=Asia<br>Area_Pop=%{marker.size}<br>Quality_Life=%{y}<extra></extra>\",\"hovertext\":[\"Ahmedabad, India\",\"Ankara, Turkey\",\"Bangalore, India\",\"Bangkok, Thailand\",\"Beijing, China\",\"Chennai, India\",\"Coimbatore, India\",\"Delhi, India\",\"Dhaka, Bangladesh\",\"Dubai, United Arab Emirates\",\"Hanoi, Vietnam\",\"Ho Chi Minh City, Vietnam\",\"Hong Kong, Hong Kong\",\"Hyderabad, India\",\"Istanbul, Turkey\",\"Izmir, Turkey\",\"Jakarta, Indonesia\",\"Karachi, Pakistan\",\"Kolkata, India\",\"Kuala Lumpur, Malaysia\",\"Kuwait City, Kuwait\",\"Lahore, Pakistan\",\"Manila, Philippines\",\"Mumbai, India\",\"Pune, India\",\"Riyadh, Saudi Arabia\",\"Seoul, South Korea\",\"Shanghai, China\",\"Shenzhen, China\",\"Singapore, Singapore\",\"Taipei, Taiwan\",\"Tehran, Iran\",\"Tokyo, Japan\"],\"legendgroup\":\"Asia\",\"marker\":{\"color\":\"#1F77B4\",\"size\":[8450228,5309690,13193035,10899698,21333332,11503293,2934621,32065760,22478116,2964382,5067352,9077158,7643256,10534418,15636243,3056149,11074811,16839950,15133888,8419566,3238523,13541764,14406059,20961472,6987077,7538200,9975709,28516904,12831330,6039577,2742379,9381546,37274000],\"sizemode\":\"area\",\"sizeref\":93185.0,\"symbol\":\"circle\"},\"mode\":\"markers\",\"name\":\"Asia\",\"orientation\":\"v\",\"showlegend\":true,\"x\":[8450228,5309690,13193035,10899698,21333332,11503293,2934621,32065760,22478116,2964382,5067352,9077158,7643256,10534418,15636243,3056149,11074811,16839950,15133888,8419566,3238523,13541764,14406059,20961472,6987077,7538200,9975709,28516904,12831330,6039577,2742379,9381546,37274000],\"xaxis\":\"x\",\"y\":[113.21,128.3,126.11,81.92,80.89,112.09,125.89,80.61,57.45,176.8,97.41,66.35,104.4,117.1,97.35,131.76,74.0,78.53,101.93,122.67,121.86,104.56,48.67,75.18,134.62,151.43,126.57,85.85,111.34,152.42,150.56,60.14,164.2],\"yaxis\":\"y\",\"type\":\"scatter\"},{\"alignmentgroup\":\"True\",\"hovertemplate\":\"<b>%{hovertext}</b><br><br>Macro_Regiao=Asia<br>Area_Pop=%{x}<extra></extra>\",\"hovertext\":[\"Ahmedabad, India\",\"Ankara, Turkey\",\"Bangalore, India\",\"Bangkok, Thailand\",\"Beijing, China\",\"Chennai, India\",\"Coimbatore, India\",\"Delhi, India\",\"Dhaka, Bangladesh\",\"Dubai, United Arab Emirates\",\"Hanoi, Vietnam\",\"Ho Chi Minh City, Vietnam\",\"Hong Kong, Hong Kong\",\"Hyderabad, India\",\"Istanbul, Turkey\",\"Izmir, Turkey\",\"Jakarta, Indonesia\",\"Karachi, Pakistan\",\"Kolkata, India\",\"Kuala Lumpur, Malaysia\",\"Kuwait City, Kuwait\",\"Lahore, Pakistan\",\"Manila, Philippines\",\"Mumbai, India\",\"Pune, India\",\"Riyadh, Saudi Arabia\",\"Seoul, South Korea\",\"Shanghai, China\",\"Shenzhen, China\",\"Singapore, Singapore\",\"Taipei, Taiwan\",\"Tehran, Iran\",\"Tokyo, Japan\"],\"legendgroup\":\"Asia\",\"marker\":{\"color\":\"#1F77B4\",\"symbol\":\"circle\"},\"name\":\"Asia\",\"notched\":true,\"offsetgroup\":\"Asia\",\"showlegend\":false,\"x\":[8450228,5309690,13193035,10899698,21333332,11503293,2934621,32065760,22478116,2964382,5067352,9077158,7643256,10534418,15636243,3056149,11074811,16839950,15133888,8419566,3238523,13541764,14406059,20961472,6987077,7538200,9975709,28516904,12831330,6039577,2742379,9381546,37274000],\"xaxis\":\"x3\",\"yaxis\":\"y3\",\"type\":\"box\"},{\"alignmentgroup\":\"True\",\"hovertemplate\":\"<b>%{hovertext}</b><br><br>Macro_Regiao=Asia<br>Quality_Life=%{y}<extra></extra>\",\"hovertext\":[\"Ahmedabad, India\",\"Ankara, Turkey\",\"Bangalore, India\",\"Bangkok, Thailand\",\"Beijing, China\",\"Chennai, India\",\"Coimbatore, India\",\"Delhi, India\",\"Dhaka, Bangladesh\",\"Dubai, United Arab Emirates\",\"Hanoi, Vietnam\",\"Ho Chi Minh City, Vietnam\",\"Hong Kong, Hong Kong\",\"Hyderabad, India\",\"Istanbul, Turkey\",\"Izmir, Turkey\",\"Jakarta, Indonesia\",\"Karachi, Pakistan\",\"Kolkata, India\",\"Kuala Lumpur, Malaysia\",\"Kuwait City, Kuwait\",\"Lahore, Pakistan\",\"Manila, Philippines\",\"Mumbai, India\",\"Pune, India\",\"Riyadh, Saudi Arabia\",\"Seoul, South Korea\",\"Shanghai, China\",\"Shenzhen, China\",\"Singapore, Singapore\",\"Taipei, Taiwan\",\"Tehran, Iran\",\"Tokyo, Japan\"],\"legendgroup\":\"Asia\",\"marker\":{\"color\":\"#1F77B4\",\"symbol\":\"circle\"},\"name\":\"Asia\",\"notched\":true,\"offsetgroup\":\"Asia\",\"showlegend\":false,\"xaxis\":\"x2\",\"y\":[113.21,128.3,126.11,81.92,80.89,112.09,125.89,80.61,57.45,176.8,97.41,66.35,104.4,117.1,97.35,131.76,74.0,78.53,101.93,122.67,121.86,104.56,48.67,75.18,134.62,151.43,126.57,85.85,111.34,152.42,150.56,60.14,164.2],\"yaxis\":\"y2\",\"type\":\"box\"},{\"hovertemplate\":\"<b>OLS trendline</b><br>Quality_Life = -52.5669 * log10(Area_Pop) + 475.577<br>R<sup>2</sup>=0.250155<br><br>Macro_Regiao=Asia<br>Area_Pop=%{x}<br>Quality_Life=%{y} <b>(trend)</b><extra></extra>\",\"legendgroup\":\"Asia\",\"marker\":{\"color\":\"#1F77B4\",\"symbol\":\"circle\"},\"mode\":\"lines\",\"name\":\"Asia\",\"showlegend\":false,\"x\":[2742379,2934621,2964382,3056149,3238523,5067352,5309690,6039577,6987077,7538200,7643256,8419566,8450228,9077158,9381546,9975709,10534418,10899698,11074811,11503293,12831330,13193035,13541764,14406059,15133888,15636243,16839950,20961472,21333332,22478116,28516904,32065760,37274000],\"xaxis\":\"x\",\"y\":[137.14494675958838,135.59819029914212,135.3678345495233,134.67183037769172,133.34859272441332,123.12780029581694,122.06131865445315,119.12086661146941,115.79396128505033,114.06071962856396,113.74475327561993,111.53635052060366,111.45336207175,109.81950642262603,109.06651130432806,107.66458640710056,106.42049799641376,105.6423022803558,105.27844181486341,104.41183175059399,101.91756019105804,101.28291819531347,100.68730783537882,99.27483861624847,98.14962748777157,97.4041295556226,95.71103531521169,90.71292531838043,90.3114765700995,89.11814458144818,83.68575408608325,81.00804139987542,77.57203581755016],\"yaxis\":\"y\",\"type\":\"scatter\"},{\"hovertemplate\":\"<b>%{hovertext}</b><br><br>Macro_Regiao=Europa<br>Area_Pop=%{marker.size}<br>Quality_Life=%{y}<extra></extra>\",\"hovertext\":[\"Athens, Greece\",\"Barcelona, Spain\",\"Berlin, Germany\",\"Birmingham, United Kingdom\",\"Lisbon, Portugal\",\"London, United Kingdom\",\"Madrid, Spain\",\"Manchester, United Kingdom\",\"Milan, Italy\",\"Moscow, Russia\",\"Paris, France\",\"Rome, Italy\",\"Saint Petersburg, Russia\"],\"legendgroup\":\"Europa\",\"marker\":{\"color\":\"#FF7F0E\",\"size\":[3153781,5658472,3570750,2645598,2986162,9540576,6713557,2770434,3149223,12640818,11142303,4297877,5535556],\"sizemode\":\"area\",\"sizeref\":93185.0,\"symbol\":\"circle\"},\"mode\":\"markers\",\"name\":\"Europa\",\"orientation\":\"v\",\"showlegend\":true,\"x\":[3153781,5658472,3570750,2645598,2986162,9540576,6713557,2770434,3149223,12640818,11142303,4297877,5535556],\"xaxis\":\"x\",\"y\":[116.99,142.32,162.44,154.7,148.26,137.04,159.85,151.6,116.98,110.82,121.14,111.16,100.27],\"yaxis\":\"y\",\"type\":\"scatter\"},{\"alignmentgroup\":\"True\",\"hovertemplate\":\"<b>%{hovertext}</b><br><br>Macro_Regiao=Europa<br>Area_Pop=%{x}<extra></extra>\",\"hovertext\":[\"Athens, Greece\",\"Barcelona, Spain\",\"Berlin, Germany\",\"Birmingham, United Kingdom\",\"Lisbon, Portugal\",\"London, United Kingdom\",\"Madrid, Spain\",\"Manchester, United Kingdom\",\"Milan, Italy\",\"Moscow, Russia\",\"Paris, France\",\"Rome, Italy\",\"Saint Petersburg, Russia\"],\"legendgroup\":\"Europa\",\"marker\":{\"color\":\"#FF7F0E\",\"symbol\":\"circle\"},\"name\":\"Europa\",\"notched\":true,\"offsetgroup\":\"Europa\",\"showlegend\":false,\"x\":[3153781,5658472,3570750,2645598,2986162,9540576,6713557,2770434,3149223,12640818,11142303,4297877,5535556],\"xaxis\":\"x3\",\"yaxis\":\"y3\",\"type\":\"box\"},{\"alignmentgroup\":\"True\",\"hovertemplate\":\"<b>%{hovertext}</b><br><br>Macro_Regiao=Europa<br>Quality_Life=%{y}<extra></extra>\",\"hovertext\":[\"Athens, Greece\",\"Barcelona, Spain\",\"Berlin, Germany\",\"Birmingham, United Kingdom\",\"Lisbon, Portugal\",\"London, United Kingdom\",\"Madrid, Spain\",\"Manchester, United Kingdom\",\"Milan, Italy\",\"Moscow, Russia\",\"Paris, France\",\"Rome, Italy\",\"Saint Petersburg, Russia\"],\"legendgroup\":\"Europa\",\"marker\":{\"color\":\"#FF7F0E\",\"symbol\":\"circle\"},\"name\":\"Europa\",\"notched\":true,\"offsetgroup\":\"Europa\",\"showlegend\":false,\"xaxis\":\"x2\",\"y\":[116.99,142.32,162.44,154.7,148.26,137.04,159.85,151.6,116.98,110.82,121.14,111.16,100.27],\"yaxis\":\"y2\",\"type\":\"box\"},{\"hovertemplate\":\"<b>OLS trendline</b><br>Quality_Life = -29.4271 * log10(Area_Pop) + 330.229<br>R<sup>2</sup>=0.108499<br><br>Macro_Regiao=Europa<br>Area_Pop=%{x}<br>Quality_Life=%{y} <b>(trend)</b><extra></extra>\",\"legendgroup\":\"Europa\",\"marker\":{\"color\":\"#FF7F0E\",\"symbol\":\"circle\"},\"mode\":\"lines\",\"name\":\"Europa\",\"showlegend\":false,\"x\":[2645598,2770434,2986162,3149223,3153781,3570750,4297877,5535556,5658472,6713557,9540576,11142303,12640818],\"xaxis\":\"x\",\"y\":[141.23247576603598,140.64322920665572,139.68491991726253,139.00544712451483,138.98696344971293,137.40002235276597,135.03130300403376,131.79705287581157,131.51637964714322,129.3313155445199,124.84009795164596,122.85670177538665,121.24409138450531],\"yaxis\":\"y\",\"type\":\"scatter\"},{\"hovertemplate\":\"<b>%{hovertext}</b><br><br>Macro_Regiao=America<br>Area_Pop=%{marker.size}<br>Quality_Life=%{y}<extra></extra>\",\"hovertext\":[\"Atlanta, GA, United States\",\"Baltimore, MD, United States\",\"Belo Horizonte, Brazil\",\"Bogota, Colombia\",\"Boston, MA, United States\",\"Brasilia, Brazil\",\"Buenos Aires, Argentina\",\"Campinas, Brazil\",\"Caracas, Venezuela\",\"Charlotte, NC, United States\",\"Chicago, IL, United States\",\"Curitiba, Brazil\",\"Dallas, TX, United States\",\"Denver, CO, United States\",\"Detroit, MI, United States\",\"Guadalajara, Mexico\",\"Guatemala City, Guatemala\",\"Houston, TX, United States\",\"Lima, Peru\",\"Los Angeles, CA, United States\",\"Medellin, Colombia\",\"Mexico City, Mexico\",\"Miami, FL, United States\",\"Minneapolis, MN, United States\",\"Monterrey, Mexico\",\"Montreal, Canada\",\"New York, NY, United States\",\"Orlando, FL, United States\",\"Philadelphia, PA, United States\",\"Phoenix, AZ, United States\",\"Portland, OR, United States\",\"Porto Alegre, Brazil\",\"Recife, Brazil\",\"Rio de Janeiro, Brazil\",\"San Antonio, TX, United States\",\"San Diego, CA, United States\",\"San Francisco, CA, United States\",\"San Juan, Puerto Rico\",\"Santiago, Chile\",\"Sao Paulo, Brazil\",\"Seattle, WA, United States\",\"Tampa, FL, United States\",\"Toronto, Canada\",\"Vancouver, Canada\",\"Washington, DC, United States\"],\"legendgroup\":\"America\",\"marker\":{\"color\":\"#2CA02C\",\"size\":[6144050,2838327,6194292,11344312,4899932,4803877,15369919,3384564,2956813,2701046,9509934,3770919,7759615,2972566,4365205,5339583,3036405,7206841,11044607,12997353,4067758,22085140,6091747,3690512,5036535,4276526,19768458,2691925,6228601,4946145,2511612,4185488,4220458,13634274,2601788,3286069,4623264,2442512,6856939,22429800,4011553,3219514,6312974,2631690,6356434],\"sizemode\":\"area\",\"sizeref\":93185.0,\"symbol\":\"circle\"},\"mode\":\"markers\",\"name\":\"America\",\"orientation\":\"v\",\"showlegend\":true,\"x\":[6144050,2838327,6194292,11344312,4899932,4803877,15369919,3384564,2956813,2701046,9509934,3770919,7759615,2972566,4365205,5339583,3036405,7206841,11044607,12997353,4067758,22085140,6091747,3690512,5036535,4276526,19768458,2691925,6228601,4946145,2511612,4185488,4220458,13634274,2601788,3286069,4623264,2442512,6856939,22429800,4011553,3219514,6312974,2631690,6356434],\"xaxis\":\"x\",\"y\":[166.98,166.95,105.76,89.03,168.02,134.69,100.01,130.38,66.03,192.75,147.58,139.08,178.79,170.68,131.38,126.62,95.48,166.87,78.74,138.95,124.06,87.9,153.26,174.74,127.57,158.1,136.89,184.2,153.86,158.83,175.7,111.62,85.47,70.27,192.75,185.28,144.38,114.25,103.46,76.13,183.13,187.33,148.17,172.49,165.62],\"yaxis\":\"y\",\"type\":\"scatter\"},{\"alignmentgroup\":\"True\",\"hovertemplate\":\"<b>%{hovertext}</b><br><br>Macro_Regiao=America<br>Area_Pop=%{x}<extra></extra>\",\"hovertext\":[\"Atlanta, GA, United States\",\"Baltimore, MD, United States\",\"Belo Horizonte, Brazil\",\"Bogota, Colombia\",\"Boston, MA, United States\",\"Brasilia, Brazil\",\"Buenos Aires, Argentina\",\"Campinas, Brazil\",\"Caracas, Venezuela\",\"Charlotte, NC, United States\",\"Chicago, IL, United States\",\"Curitiba, Brazil\",\"Dallas, TX, United States\",\"Denver, CO, United States\",\"Detroit, MI, United States\",\"Guadalajara, Mexico\",\"Guatemala City, Guatemala\",\"Houston, TX, United States\",\"Lima, Peru\",\"Los Angeles, CA, United States\",\"Medellin, Colombia\",\"Mexico City, Mexico\",\"Miami, FL, United States\",\"Minneapolis, MN, United States\",\"Monterrey, Mexico\",\"Montreal, Canada\",\"New York, NY, United States\",\"Orlando, FL, United States\",\"Philadelphia, PA, United States\",\"Phoenix, AZ, United States\",\"Portland, OR, United States\",\"Porto Alegre, Brazil\",\"Recife, Brazil\",\"Rio de Janeiro, Brazil\",\"San Antonio, TX, United States\",\"San Diego, CA, United States\",\"San Francisco, CA, United States\",\"San Juan, Puerto Rico\",\"Santiago, Chile\",\"Sao Paulo, Brazil\",\"Seattle, WA, United States\",\"Tampa, FL, United States\",\"Toronto, Canada\",\"Vancouver, Canada\",\"Washington, DC, United States\"],\"legendgroup\":\"America\",\"marker\":{\"color\":\"#2CA02C\",\"symbol\":\"circle\"},\"name\":\"America\",\"notched\":true,\"offsetgroup\":\"America\",\"showlegend\":false,\"x\":[6144050,2838327,6194292,11344312,4899932,4803877,15369919,3384564,2956813,2701046,9509934,3770919,7759615,2972566,4365205,5339583,3036405,7206841,11044607,12997353,4067758,22085140,6091747,3690512,5036535,4276526,19768458,2691925,6228601,4946145,2511612,4185488,4220458,13634274,2601788,3286069,4623264,2442512,6856939,22429800,4011553,3219514,6312974,2631690,6356434],\"xaxis\":\"x3\",\"yaxis\":\"y3\",\"type\":\"box\"},{\"alignmentgroup\":\"True\",\"hovertemplate\":\"<b>%{hovertext}</b><br><br>Macro_Regiao=America<br>Quality_Life=%{y}<extra></extra>\",\"hovertext\":[\"Atlanta, GA, United States\",\"Baltimore, MD, United States\",\"Belo Horizonte, Brazil\",\"Bogota, Colombia\",\"Boston, MA, United States\",\"Brasilia, Brazil\",\"Buenos Aires, Argentina\",\"Campinas, Brazil\",\"Caracas, Venezuela\",\"Charlotte, NC, United States\",\"Chicago, IL, United States\",\"Curitiba, Brazil\",\"Dallas, TX, United States\",\"Denver, CO, United States\",\"Detroit, MI, United States\",\"Guadalajara, Mexico\",\"Guatemala City, Guatemala\",\"Houston, TX, United States\",\"Lima, Peru\",\"Los Angeles, CA, United States\",\"Medellin, Colombia\",\"Mexico City, Mexico\",\"Miami, FL, United States\",\"Minneapolis, MN, United States\",\"Monterrey, Mexico\",\"Montreal, Canada\",\"New York, NY, United States\",\"Orlando, FL, United States\",\"Philadelphia, PA, United States\",\"Phoenix, AZ, United States\",\"Portland, OR, United States\",\"Porto Alegre, Brazil\",\"Recife, Brazil\",\"Rio de Janeiro, Brazil\",\"San Antonio, TX, United States\",\"San Diego, CA, United States\",\"San Francisco, CA, United States\",\"San Juan, Puerto Rico\",\"Santiago, Chile\",\"Sao Paulo, Brazil\",\"Seattle, WA, United States\",\"Tampa, FL, United States\",\"Toronto, Canada\",\"Vancouver, Canada\",\"Washington, DC, United States\"],\"legendgroup\":\"America\",\"marker\":{\"color\":\"#2CA02C\",\"symbol\":\"circle\"},\"name\":\"America\",\"notched\":true,\"offsetgroup\":\"America\",\"showlegend\":false,\"xaxis\":\"x2\",\"y\":[166.98,166.95,105.76,89.03,168.02,134.69,100.01,130.38,66.03,192.75,147.58,139.08,178.79,170.68,131.38,126.62,95.48,166.87,78.74,138.95,124.06,87.9,153.26,174.74,127.57,158.1,136.89,184.2,153.86,158.83,175.7,111.62,85.47,70.27,192.75,185.28,144.38,114.25,103.46,76.13,183.13,187.33,148.17,172.49,165.62],\"yaxis\":\"y2\",\"type\":\"box\"},{\"hovertemplate\":\"<b>OLS trendline</b><br>Quality_Life = -68.0022 * log10(Area_Pop) + 596.921<br>R<sup>2</sup>=0.240648<br><br>Macro_Regiao=America<br>Area_Pop=%{x}<br>Quality_Life=%{y} <b>(trend)</b><extra></extra>\",\"legendgroup\":\"America\",\"marker\":{\"color\":\"#2CA02C\",\"symbol\":\"circle\"},\"mode\":\"lines\",\"name\":\"America\",\"showlegend\":false,\"x\":[2442512,2511612,2601788,2631690,2691925,2701046,2838327,2956813,2972566,3036405,3219514,3286069,3384564,3690512,3770919,4011553,4067758,4185488,4220458,4276526,4365205,4623264,4803877,4899932,4946145,5036535,5339583,6091747,6144050,6194292,6228601,6312974,6356434,6856939,7206841,7759615,9509934,11044607,11344312,12997353,13634274,15369919,19768458,22085140,22429800],\"xaxis\":\"x\",\"y\":[162.53404507351422,161.71014092178763,160.66839075444096,160.33090774669938,159.66256666153578,159.56266973295828,158.098551627743,156.89073505693926,156.73380994949162,156.10627248552464,154.37693405346027,153.77264188135126,152.90044194198396,150.34465419090287,149.70811390516002,147.8812119800205,147.47030361443075,146.6276886567232,146.38196391188916,145.99220691682171,145.38606734305085,143.68981678719325,142.55804334091044,141.97334848546382,141.69611768781346,141.1612794408441,139.43569028786612,135.54361653444005,135.2911322607568,135.0506129967057,134.8874867776368,134.49011655975005,134.2875011584805,132.04908973653642,130.57924539573202,128.39669851681157,122.38956468762228,117.97127296883076,117.18055035941478,113.1632005114804,111.75031151881007,108.21150621000999,100.77878170797652,97.50601458383699,97.04868307864848],\"yaxis\":\"y\",\"type\":\"scatter\"},{\"hovertemplate\":\"<b>%{hovertext}</b><br><br>Macro_Regiao=Oceania<br>Area_Pop=%{marker.size}<br>Quality_Life=%{y}<extra></extra>\",\"hovertext\":[\"Brisbane, Australia\",\"Melbourne, Australia\",\"Sydney, Australia\"],\"legendgroup\":\"Oceania\",\"marker\":{\"color\":\"#D62728\",\"size\":[2472222,5150766,5056571],\"sizemode\":\"area\",\"sizeref\":93185.0,\"symbol\":\"circle\"},\"mode\":\"markers\",\"name\":\"Oceania\",\"orientation\":\"v\",\"showlegend\":true,\"x\":[2472222,5150766,5056571],\"xaxis\":\"x\",\"y\":[199.37,186.66,190.64],\"yaxis\":\"y\",\"type\":\"scatter\"},{\"alignmentgroup\":\"True\",\"hovertemplate\":\"<b>%{hovertext}</b><br><br>Macro_Regiao=Oceania<br>Area_Pop=%{x}<extra></extra>\",\"hovertext\":[\"Brisbane, Australia\",\"Melbourne, Australia\",\"Sydney, Australia\"],\"legendgroup\":\"Oceania\",\"marker\":{\"color\":\"#D62728\",\"symbol\":\"circle\"},\"name\":\"Oceania\",\"notched\":true,\"offsetgroup\":\"Oceania\",\"showlegend\":false,\"x\":[2472222,5150766,5056571],\"xaxis\":\"x3\",\"yaxis\":\"y3\",\"type\":\"box\"},{\"alignmentgroup\":\"True\",\"hovertemplate\":\"<b>%{hovertext}</b><br><br>Macro_Regiao=Oceania<br>Quality_Life=%{y}<extra></extra>\",\"hovertext\":[\"Brisbane, Australia\",\"Melbourne, Australia\",\"Sydney, Australia\"],\"legendgroup\":\"Oceania\",\"marker\":{\"color\":\"#D62728\",\"symbol\":\"circle\"},\"name\":\"Oceania\",\"notched\":true,\"offsetgroup\":\"Oceania\",\"showlegend\":false,\"xaxis\":\"x2\",\"y\":[199.37,186.66,190.64],\"yaxis\":\"y2\",\"type\":\"box\"},{\"hovertemplate\":\"<b>OLS trendline</b><br>Quality_Life = -34.2807 * log10(Area_Pop) + 418.577<br>R<sup>2</sup>=0.918757<br><br>Macro_Regiao=Oceania<br>Area_Pop=%{x}<br>Quality_Life=%{y} <b>(trend)</b><extra></extra>\",\"legendgroup\":\"Oceania\",\"marker\":{\"color\":\"#D62728\",\"symbol\":\"circle\"},\"mode\":\"lines\",\"name\":\"Oceania\",\"showlegend\":false,\"x\":[2472222,5056571,5150766],\"xaxis\":\"x\",\"y\":[199.4171762298779,188.76380404323663,188.4890197268893],\"yaxis\":\"y\",\"type\":\"scatter\"},{\"hovertemplate\":\"<b>%{hovertext}</b><br><br>Macro_Regiao=Africa<br>Area_Pop=%{marker.size}<br>Quality_Life=%{y}<extra></extra>\",\"hovertext\":[\"Cairo, Egypt\",\"Cape Town, South Africa\",\"Durban, South Africa\",\"Johannesburg, South Africa\",\"Lagos, Nigeria\",\"Nairobi, Kenya\",\"Pretoria, South Africa\"],\"legendgroup\":\"Africa\",\"marker\":{\"color\":\"#9467BD\",\"size\":[21750020,4800954,3199329,6065354,15387639,5118844,2739768],\"sizemode\":\"area\",\"sizeref\":93185.0,\"symbol\":\"circle\"},\"mode\":\"markers\",\"name\":\"Africa\",\"orientation\":\"v\",\"showlegend\":true,\"x\":[21750020,4800954,3199329,6065354,15387639,5118844,2739768],\"xaxis\":\"x\",\"y\":[82.42,145.14,138.81,135.27,48.56,96.83,137.66],\"yaxis\":\"y\",\"type\":\"scatter\"},{\"alignmentgroup\":\"True\",\"hovertemplate\":\"<b>%{hovertext}</b><br><br>Macro_Regiao=Africa<br>Area_Pop=%{x}<extra></extra>\",\"hovertext\":[\"Cairo, Egypt\",\"Cape Town, South Africa\",\"Durban, South Africa\",\"Johannesburg, South Africa\",\"Lagos, Nigeria\",\"Nairobi, Kenya\",\"Pretoria, South Africa\"],\"legendgroup\":\"Africa\",\"marker\":{\"color\":\"#9467BD\",\"symbol\":\"circle\"},\"name\":\"Africa\",\"notched\":true,\"offsetgroup\":\"Africa\",\"showlegend\":false,\"x\":[21750020,4800954,3199329,6065354,15387639,5118844,2739768],\"xaxis\":\"x3\",\"yaxis\":\"y3\",\"type\":\"box\"},{\"alignmentgroup\":\"True\",\"hovertemplate\":\"<b>%{hovertext}</b><br><br>Macro_Regiao=Africa<br>Quality_Life=%{y}<extra></extra>\",\"hovertext\":[\"Cairo, Egypt\",\"Cape Town, South Africa\",\"Durban, South Africa\",\"Johannesburg, South Africa\",\"Lagos, Nigeria\",\"Nairobi, Kenya\",\"Pretoria, South Africa\"],\"legendgroup\":\"Africa\",\"marker\":{\"color\":\"#9467BD\",\"symbol\":\"circle\"},\"name\":\"Africa\",\"notched\":true,\"offsetgroup\":\"Africa\",\"showlegend\":false,\"xaxis\":\"x2\",\"y\":[82.42,145.14,138.81,135.27,48.56,96.83,137.66],\"yaxis\":\"y2\",\"type\":\"box\"},{\"hovertemplate\":\"<b>OLS trendline</b><br>Quality_Life = -89.2289 * log10(Area_Pop) + 719.375<br>R<sup>2</sup>=0.663982<br><br>Macro_Regiao=Africa<br>Area_Pop=%{x}<br>Quality_Life=%{y} <b>(trend)</b><extra></extra>\",\"legendgroup\":\"Africa\",\"marker\":{\"color\":\"#9467BD\",\"symbol\":\"circle\"},\"mode\":\"lines\",\"name\":\"Africa\",\"showlegend\":false,\"x\":[2739768,3199329,4800954,5118844,6065354,15387639,21750020],\"xaxis\":\"x\",\"y\":[144.94454758160157,138.93541537488454,123.20715365577792,120.72263223818709,114.14786491836878,78.07119691806997,64.66118931310984],\"yaxis\":\"y\",\"type\":\"scatter\"}],                        {\"template\":{\"data\":{\"barpolar\":[{\"marker\":{\"line\":{\"color\":\"white\",\"width\":0.5},\"pattern\":{\"fillmode\":\"overlay\",\"size\":10,\"solidity\":0.2}},\"type\":\"barpolar\"}],\"bar\":[{\"error_x\":{\"color\":\"rgb(36,36,36)\"},\"error_y\":{\"color\":\"rgb(36,36,36)\"},\"marker\":{\"line\":{\"color\":\"white\",\"width\":0.5},\"pattern\":{\"fillmode\":\"overlay\",\"size\":10,\"solidity\":0.2}},\"type\":\"bar\"}],\"carpet\":[{\"aaxis\":{\"endlinecolor\":\"rgb(36,36,36)\",\"gridcolor\":\"white\",\"linecolor\":\"white\",\"minorgridcolor\":\"white\",\"startlinecolor\":\"rgb(36,36,36)\"},\"baxis\":{\"endlinecolor\":\"rgb(36,36,36)\",\"gridcolor\":\"white\",\"linecolor\":\"white\",\"minorgridcolor\":\"white\",\"startlinecolor\":\"rgb(36,36,36)\"},\"type\":\"carpet\"}],\"choropleth\":[{\"colorbar\":{\"outlinewidth\":1,\"tickcolor\":\"rgb(36,36,36)\",\"ticks\":\"outside\"},\"type\":\"choropleth\"}],\"contourcarpet\":[{\"colorbar\":{\"outlinewidth\":1,\"tickcolor\":\"rgb(36,36,36)\",\"ticks\":\"outside\"},\"type\":\"contourcarpet\"}],\"contour\":[{\"colorbar\":{\"outlinewidth\":1,\"tickcolor\":\"rgb(36,36,36)\",\"ticks\":\"outside\"},\"colorscale\":[[0.0,\"#440154\"],[0.1111111111111111,\"#482878\"],[0.2222222222222222,\"#3e4989\"],[0.3333333333333333,\"#31688e\"],[0.4444444444444444,\"#26828e\"],[0.5555555555555556,\"#1f9e89\"],[0.6666666666666666,\"#35b779\"],[0.7777777777777778,\"#6ece58\"],[0.8888888888888888,\"#b5de2b\"],[1.0,\"#fde725\"]],\"type\":\"contour\"}],\"heatmapgl\":[{\"colorbar\":{\"outlinewidth\":1,\"tickcolor\":\"rgb(36,36,36)\",\"ticks\":\"outside\"},\"colorscale\":[[0.0,\"#440154\"],[0.1111111111111111,\"#482878\"],[0.2222222222222222,\"#3e4989\"],[0.3333333333333333,\"#31688e\"],[0.4444444444444444,\"#26828e\"],[0.5555555555555556,\"#1f9e89\"],[0.6666666666666666,\"#35b779\"],[0.7777777777777778,\"#6ece58\"],[0.8888888888888888,\"#b5de2b\"],[1.0,\"#fde725\"]],\"type\":\"heatmapgl\"}],\"heatmap\":[{\"colorbar\":{\"outlinewidth\":1,\"tickcolor\":\"rgb(36,36,36)\",\"ticks\":\"outside\"},\"colorscale\":[[0.0,\"#440154\"],[0.1111111111111111,\"#482878\"],[0.2222222222222222,\"#3e4989\"],[0.3333333333333333,\"#31688e\"],[0.4444444444444444,\"#26828e\"],[0.5555555555555556,\"#1f9e89\"],[0.6666666666666666,\"#35b779\"],[0.7777777777777778,\"#6ece58\"],[0.8888888888888888,\"#b5de2b\"],[1.0,\"#fde725\"]],\"type\":\"heatmap\"}],\"histogram2dcontour\":[{\"colorbar\":{\"outlinewidth\":1,\"tickcolor\":\"rgb(36,36,36)\",\"ticks\":\"outside\"},\"colorscale\":[[0.0,\"#440154\"],[0.1111111111111111,\"#482878\"],[0.2222222222222222,\"#3e4989\"],[0.3333333333333333,\"#31688e\"],[0.4444444444444444,\"#26828e\"],[0.5555555555555556,\"#1f9e89\"],[0.6666666666666666,\"#35b779\"],[0.7777777777777778,\"#6ece58\"],[0.8888888888888888,\"#b5de2b\"],[1.0,\"#fde725\"]],\"type\":\"histogram2dcontour\"}],\"histogram2d\":[{\"colorbar\":{\"outlinewidth\":1,\"tickcolor\":\"rgb(36,36,36)\",\"ticks\":\"outside\"},\"colorscale\":[[0.0,\"#440154\"],[0.1111111111111111,\"#482878\"],[0.2222222222222222,\"#3e4989\"],[0.3333333333333333,\"#31688e\"],[0.4444444444444444,\"#26828e\"],[0.5555555555555556,\"#1f9e89\"],[0.6666666666666666,\"#35b779\"],[0.7777777777777778,\"#6ece58\"],[0.8888888888888888,\"#b5de2b\"],[1.0,\"#fde725\"]],\"type\":\"histogram2d\"}],\"histogram\":[{\"marker\":{\"line\":{\"color\":\"white\",\"width\":0.6}},\"type\":\"histogram\"}],\"mesh3d\":[{\"colorbar\":{\"outlinewidth\":1,\"tickcolor\":\"rgb(36,36,36)\",\"ticks\":\"outside\"},\"type\":\"mesh3d\"}],\"parcoords\":[{\"line\":{\"colorbar\":{\"outlinewidth\":1,\"tickcolor\":\"rgb(36,36,36)\",\"ticks\":\"outside\"}},\"type\":\"parcoords\"}],\"pie\":[{\"automargin\":true,\"type\":\"pie\"}],\"scatter3d\":[{\"line\":{\"colorbar\":{\"outlinewidth\":1,\"tickcolor\":\"rgb(36,36,36)\",\"ticks\":\"outside\"}},\"marker\":{\"colorbar\":{\"outlinewidth\":1,\"tickcolor\":\"rgb(36,36,36)\",\"ticks\":\"outside\"}},\"type\":\"scatter3d\"}],\"scattercarpet\":[{\"marker\":{\"colorbar\":{\"outlinewidth\":1,\"tickcolor\":\"rgb(36,36,36)\",\"ticks\":\"outside\"}},\"type\":\"scattercarpet\"}],\"scattergeo\":[{\"marker\":{\"colorbar\":{\"outlinewidth\":1,\"tickcolor\":\"rgb(36,36,36)\",\"ticks\":\"outside\"}},\"type\":\"scattergeo\"}],\"scattergl\":[{\"marker\":{\"colorbar\":{\"outlinewidth\":1,\"tickcolor\":\"rgb(36,36,36)\",\"ticks\":\"outside\"}},\"type\":\"scattergl\"}],\"scattermapbox\":[{\"marker\":{\"colorbar\":{\"outlinewidth\":1,\"tickcolor\":\"rgb(36,36,36)\",\"ticks\":\"outside\"}},\"type\":\"scattermapbox\"}],\"scatterpolargl\":[{\"marker\":{\"colorbar\":{\"outlinewidth\":1,\"tickcolor\":\"rgb(36,36,36)\",\"ticks\":\"outside\"}},\"type\":\"scatterpolargl\"}],\"scatterpolar\":[{\"marker\":{\"colorbar\":{\"outlinewidth\":1,\"tickcolor\":\"rgb(36,36,36)\",\"ticks\":\"outside\"}},\"type\":\"scatterpolar\"}],\"scatter\":[{\"fillpattern\":{\"fillmode\":\"overlay\",\"size\":10,\"solidity\":0.2},\"type\":\"scatter\"}],\"scatterternary\":[{\"marker\":{\"colorbar\":{\"outlinewidth\":1,\"tickcolor\":\"rgb(36,36,36)\",\"ticks\":\"outside\"}},\"type\":\"scatterternary\"}],\"surface\":[{\"colorbar\":{\"outlinewidth\":1,\"tickcolor\":\"rgb(36,36,36)\",\"ticks\":\"outside\"},\"colorscale\":[[0.0,\"#440154\"],[0.1111111111111111,\"#482878\"],[0.2222222222222222,\"#3e4989\"],[0.3333333333333333,\"#31688e\"],[0.4444444444444444,\"#26828e\"],[0.5555555555555556,\"#1f9e89\"],[0.6666666666666666,\"#35b779\"],[0.7777777777777778,\"#6ece58\"],[0.8888888888888888,\"#b5de2b\"],[1.0,\"#fde725\"]],\"type\":\"surface\"}],\"table\":[{\"cells\":{\"fill\":{\"color\":\"rgb(237,237,237)\"},\"line\":{\"color\":\"white\"}},\"header\":{\"fill\":{\"color\":\"rgb(217,217,217)\"},\"line\":{\"color\":\"white\"}},\"type\":\"table\"}]},\"layout\":{\"annotationdefaults\":{\"arrowhead\":0,\"arrowwidth\":1},\"autotypenumbers\":\"strict\",\"coloraxis\":{\"colorbar\":{\"outlinewidth\":1,\"tickcolor\":\"rgb(36,36,36)\",\"ticks\":\"outside\"}},\"colorscale\":{\"diverging\":[[0.0,\"rgb(103,0,31)\"],[0.1,\"rgb(178,24,43)\"],[0.2,\"rgb(214,96,77)\"],[0.3,\"rgb(244,165,130)\"],[0.4,\"rgb(253,219,199)\"],[0.5,\"rgb(247,247,247)\"],[0.6,\"rgb(209,229,240)\"],[0.7,\"rgb(146,197,222)\"],[0.8,\"rgb(67,147,195)\"],[0.9,\"rgb(33,102,172)\"],[1.0,\"rgb(5,48,97)\"]],\"sequential\":[[0.0,\"#440154\"],[0.1111111111111111,\"#482878\"],[0.2222222222222222,\"#3e4989\"],[0.3333333333333333,\"#31688e\"],[0.4444444444444444,\"#26828e\"],[0.5555555555555556,\"#1f9e89\"],[0.6666666666666666,\"#35b779\"],[0.7777777777777778,\"#6ece58\"],[0.8888888888888888,\"#b5de2b\"],[1.0,\"#fde725\"]],\"sequentialminus\":[[0.0,\"#440154\"],[0.1111111111111111,\"#482878\"],[0.2222222222222222,\"#3e4989\"],[0.3333333333333333,\"#31688e\"],[0.4444444444444444,\"#26828e\"],[0.5555555555555556,\"#1f9e89\"],[0.6666666666666666,\"#35b779\"],[0.7777777777777778,\"#6ece58\"],[0.8888888888888888,\"#b5de2b\"],[1.0,\"#fde725\"]]},\"colorway\":[\"#1F77B4\",\"#FF7F0E\",\"#2CA02C\",\"#D62728\",\"#9467BD\",\"#8C564B\",\"#E377C2\",\"#7F7F7F\",\"#BCBD22\",\"#17BECF\"],\"font\":{\"color\":\"rgb(36,36,36)\"},\"geo\":{\"bgcolor\":\"white\",\"lakecolor\":\"white\",\"landcolor\":\"white\",\"showlakes\":true,\"showland\":true,\"subunitcolor\":\"white\"},\"hoverlabel\":{\"align\":\"left\"},\"hovermode\":\"closest\",\"mapbox\":{\"style\":\"light\"},\"paper_bgcolor\":\"white\",\"plot_bgcolor\":\"white\",\"polar\":{\"angularaxis\":{\"gridcolor\":\"rgb(232,232,232)\",\"linecolor\":\"rgb(36,36,36)\",\"showgrid\":false,\"showline\":true,\"ticks\":\"outside\"},\"bgcolor\":\"white\",\"radialaxis\":{\"gridcolor\":\"rgb(232,232,232)\",\"linecolor\":\"rgb(36,36,36)\",\"showgrid\":false,\"showline\":true,\"ticks\":\"outside\"}},\"scene\":{\"xaxis\":{\"backgroundcolor\":\"white\",\"gridcolor\":\"rgb(232,232,232)\",\"gridwidth\":2,\"linecolor\":\"rgb(36,36,36)\",\"showbackground\":true,\"showgrid\":false,\"showline\":true,\"ticks\":\"outside\",\"zeroline\":false,\"zerolinecolor\":\"rgb(36,36,36)\"},\"yaxis\":{\"backgroundcolor\":\"white\",\"gridcolor\":\"rgb(232,232,232)\",\"gridwidth\":2,\"linecolor\":\"rgb(36,36,36)\",\"showbackground\":true,\"showgrid\":false,\"showline\":true,\"ticks\":\"outside\",\"zeroline\":false,\"zerolinecolor\":\"rgb(36,36,36)\"},\"zaxis\":{\"backgroundcolor\":\"white\",\"gridcolor\":\"rgb(232,232,232)\",\"gridwidth\":2,\"linecolor\":\"rgb(36,36,36)\",\"showbackground\":true,\"showgrid\":false,\"showline\":true,\"ticks\":\"outside\",\"zeroline\":false,\"zerolinecolor\":\"rgb(36,36,36)\"}},\"shapedefaults\":{\"fillcolor\":\"black\",\"line\":{\"width\":0},\"opacity\":0.3},\"ternary\":{\"aaxis\":{\"gridcolor\":\"rgb(232,232,232)\",\"linecolor\":\"rgb(36,36,36)\",\"showgrid\":false,\"showline\":true,\"ticks\":\"outside\"},\"baxis\":{\"gridcolor\":\"rgb(232,232,232)\",\"linecolor\":\"rgb(36,36,36)\",\"showgrid\":false,\"showline\":true,\"ticks\":\"outside\"},\"bgcolor\":\"white\",\"caxis\":{\"gridcolor\":\"rgb(232,232,232)\",\"linecolor\":\"rgb(36,36,36)\",\"showgrid\":false,\"showline\":true,\"ticks\":\"outside\"}},\"title\":{\"x\":0.05},\"xaxis\":{\"automargin\":true,\"gridcolor\":\"rgb(232,232,232)\",\"linecolor\":\"rgb(36,36,36)\",\"showgrid\":false,\"showline\":true,\"ticks\":\"outside\",\"title\":{\"standoff\":15},\"zeroline\":false,\"zerolinecolor\":\"rgb(36,36,36)\"},\"yaxis\":{\"automargin\":true,\"gridcolor\":\"rgb(232,232,232)\",\"linecolor\":\"rgb(36,36,36)\",\"showgrid\":false,\"showline\":true,\"ticks\":\"outside\",\"title\":{\"standoff\":15},\"zeroline\":false,\"zerolinecolor\":\"rgb(36,36,36)\"}}},\"xaxis\":{\"anchor\":\"y\",\"domain\":[0.0,0.7363],\"title\":{\"text\":\"Area_Pop\"}},\"yaxis\":{\"anchor\":\"x\",\"domain\":[0.0,0.7326],\"title\":{\"text\":\"Quality_Life\"}},\"xaxis2\":{\"anchor\":\"y2\",\"domain\":[0.7413,1.0],\"matches\":\"x2\",\"showticklabels\":false,\"showline\":false,\"ticks\":\"\"},\"yaxis2\":{\"anchor\":\"x2\",\"domain\":[0.0,0.7326],\"matches\":\"y\",\"showticklabels\":false},\"xaxis3\":{\"anchor\":\"y3\",\"domain\":[0.0,0.7363],\"matches\":\"x\",\"showticklabels\":false},\"yaxis3\":{\"anchor\":\"x3\",\"domain\":[0.7426,1.0],\"matches\":\"y3\",\"showticklabels\":false,\"showline\":false,\"ticks\":\"\"},\"xaxis4\":{\"anchor\":\"y4\",\"domain\":[0.7413,1.0],\"matches\":\"x2\",\"showticklabels\":false,\"showline\":false,\"ticks\":\"\"},\"yaxis4\":{\"anchor\":\"x4\",\"domain\":[0.7426,1.0],\"matches\":\"y3\",\"showticklabels\":false,\"showline\":false,\"ticks\":\"\"},\"legend\":{\"title\":{\"text\":\"Macro_Regiao\"},\"tracegroupgap\":0,\"itemsizing\":\"constant\"},\"margin\":{\"t\":60},\"height\":500},                        {\"responsive\": true}                    ).then(function(){\n",
       "                            \n",
       "var gd = document.getElementById('c5fe9f77-d30e-4955-b2e5-f69e59c4b988');\n",
       "var x = new MutationObserver(function (mutations, observer) {{\n",
       "        var display = window.getComputedStyle(gd).display;\n",
       "        if (!display || display === 'none') {{\n",
       "            console.log([gd, 'removed!']);\n",
       "            Plotly.purge(gd);\n",
       "            observer.disconnect();\n",
       "        }}\n",
       "}});\n",
       "\n",
       "// Listen for the removal of the full notebook cells\n",
       "var notebookContainer = gd.closest('#notebook-container');\n",
       "if (notebookContainer) {{\n",
       "    x.observe(notebookContainer, {childList: true});\n",
       "}}\n",
       "\n",
       "// Listen for the clearing of the current output cell\n",
       "var outputEl = gd.closest('.output');\n",
       "if (outputEl) {{\n",
       "    x.observe(outputEl, {childList: true});\n",
       "}}\n",
       "\n",
       "                        })                };                });            </script>        </div>"
      ]
     },
     "metadata": {},
     "output_type": "display_data"
    }
   ],
   "source": [
    "fig = px.scatter(df_QualityLife_x_SizeCity, x=\"Area_Pop\", y=\"Quality_Life\", marginal_x=\"box\", marginal_y=\"box\", \n",
    "                 trendline=\"ols\", trendline_options=dict(log_x=True),\n",
    "                 template=\"simple_white\", hover_name='City_Country', size='Area_Pop',\n",
    "                 height=500, color='Macro_Regiao')\n",
    "fig.show()"
   ]
  },
  {
   "cell_type": "code",
   "execution_count": 41,
   "id": "ce816e58",
   "metadata": {},
   "outputs": [
    {
     "data": {
      "text/html": [
       "<div>\n",
       "<style scoped>\n",
       "    .dataframe tbody tr th:only-of-type {\n",
       "        vertical-align: middle;\n",
       "    }\n",
       "\n",
       "    .dataframe tbody tr th {\n",
       "        vertical-align: top;\n",
       "    }\n",
       "\n",
       "    .dataframe thead th {\n",
       "        text-align: right;\n",
       "    }\n",
       "</style>\n",
       "<table border=\"1\" class=\"dataframe\">\n",
       "  <thead>\n",
       "    <tr style=\"text-align: right;\">\n",
       "      <th></th>\n",
       "      <th>City_Country</th>\n",
       "      <th>Quality_Life</th>\n",
       "      <th>Purchasing_Power</th>\n",
       "      <th>Safety</th>\n",
       "      <th>Health_Care</th>\n",
       "      <th>Cost_Living</th>\n",
       "      <th>Property_Price (Income_Ratio)</th>\n",
       "      <th>Traffic_Commute_Time</th>\n",
       "      <th>Pollution</th>\n",
       "      <th>Climate</th>\n",
       "      <th>Rank</th>\n",
       "      <th>City_Name</th>\n",
       "      <th>Country_Name</th>\n",
       "      <th>UF</th>\n",
       "      <th>Macro_Regiao</th>\n",
       "      <th>Area_Pop</th>\n",
       "    </tr>\n",
       "  </thead>\n",
       "  <tbody>\n",
       "    <tr>\n",
       "      <th>0</th>\n",
       "      <td>Ahmedabad, India</td>\n",
       "      <td>113.21</td>\n",
       "      <td>40.27</td>\n",
       "      <td>68.37</td>\n",
       "      <td>66.43</td>\n",
       "      <td>23.68</td>\n",
       "      <td>9.41</td>\n",
       "      <td>39.8</td>\n",
       "      <td>72.61</td>\n",
       "      <td>49.27</td>\n",
       "      <td>183</td>\n",
       "      <td>Ahmedabad</td>\n",
       "      <td>India</td>\n",
       "      <td>0</td>\n",
       "      <td>Asia</td>\n",
       "      <td>8450228</td>\n",
       "    </tr>\n",
       "  </tbody>\n",
       "</table>\n",
       "</div>"
      ],
      "text/plain": [
       "       City_Country  Quality_Life  Purchasing_Power  Safety  Health_Care  \\\n",
       "0  Ahmedabad, India        113.21             40.27   68.37        66.43   \n",
       "\n",
       "   Cost_Living  Property_Price (Income_Ratio)  Traffic_Commute_Time  \\\n",
       "0        23.68                           9.41                  39.8   \n",
       "\n",
       "   Pollution  Climate  Rank  City_Name Country_Name UF Macro_Regiao  Area_Pop  \n",
       "0      72.61    49.27   183  Ahmedabad        India  0         Asia   8450228  "
      ]
     },
     "execution_count": 41,
     "metadata": {},
     "output_type": "execute_result"
    }
   ],
   "source": [
    "df_QualityLife_x_SizeCity.head(1)"
   ]
  },
  {
   "cell_type": "code",
   "execution_count": 42,
   "id": "a00f9432",
   "metadata": {},
   "outputs": [
    {
     "data": {
      "text/html": [
       "<div>\n",
       "<style scoped>\n",
       "    .dataframe tbody tr th:only-of-type {\n",
       "        vertical-align: middle;\n",
       "    }\n",
       "\n",
       "    .dataframe tbody tr th {\n",
       "        vertical-align: top;\n",
       "    }\n",
       "\n",
       "    .dataframe thead th {\n",
       "        text-align: right;\n",
       "    }\n",
       "</style>\n",
       "<table border=\"1\" class=\"dataframe\">\n",
       "  <thead>\n",
       "    <tr style=\"text-align: right;\">\n",
       "      <th></th>\n",
       "      <th>Quality_Life</th>\n",
       "      <th>Purchasing_Power</th>\n",
       "      <th>Safety</th>\n",
       "      <th>Health_Care</th>\n",
       "      <th>Cost_Living</th>\n",
       "      <th>Property_Price (Income_Ratio)</th>\n",
       "      <th>Traffic_Commute_Time</th>\n",
       "      <th>Pollution</th>\n",
       "      <th>Climate</th>\n",
       "      <th>Rank</th>\n",
       "      <th>Area_Pop</th>\n",
       "    </tr>\n",
       "  </thead>\n",
       "  <tbody>\n",
       "    <tr>\n",
       "      <th>Quality_Life</th>\n",
       "      <td>1.0</td>\n",
       "      <td>0.867174</td>\n",
       "      <td>0.262272</td>\n",
       "      <td>0.61896</td>\n",
       "      <td>0.669346</td>\n",
       "      <td>-0.651412</td>\n",
       "      <td>-0.533834</td>\n",
       "      <td>-0.871633</td>\n",
       "      <td>0.1176</td>\n",
       "      <td>-0.978244</td>\n",
       "      <td>-0.506581</td>\n",
       "    </tr>\n",
       "  </tbody>\n",
       "</table>\n",
       "</div>"
      ],
      "text/plain": [
       "              Quality_Life  Purchasing_Power    Safety  Health_Care  \\\n",
       "Quality_Life           1.0          0.867174  0.262272      0.61896   \n",
       "\n",
       "              Cost_Living  Property_Price (Income_Ratio)  \\\n",
       "Quality_Life     0.669346                      -0.651412   \n",
       "\n",
       "              Traffic_Commute_Time  Pollution  Climate      Rank  Area_Pop  \n",
       "Quality_Life             -0.533834  -0.871633   0.1176 -0.978244 -0.506581  "
      ]
     },
     "metadata": {},
     "output_type": "display_data"
    },
    {
     "data": {
      "text/plain": [
       "<AxesSubplot:>"
      ]
     },
     "execution_count": 42,
     "metadata": {},
     "output_type": "execute_result"
    },
    {
     "data": {
      "image/png": "[encoded data removed]",
      "text/plain": [
       "<Figure size 640x480 with 2 Axes>"
      ]
     },
     "metadata": {},
     "output_type": "display_data"
    }
   ],
   "source": [
    "data = df_QualityLife_x_SizeCity\n",
    "display(pd.DataFrame(data.corr())[0:1])\n",
    "\n",
    "sns.heatmap(data.corr(), vmin = -1, vmax = +1, annot = True, cmap = 'coolwarm')"
   ]
  },
  {
   "cell_type": "code",
   "execution_count": 43,
   "id": "715862d2",
   "metadata": {},
   "outputs": [
    {
     "data": {
      "text/html": [
       "<div>\n",
       "<style scoped>\n",
       "    .dataframe tbody tr th:only-of-type {\n",
       "        vertical-align: middle;\n",
       "    }\n",
       "\n",
       "    .dataframe tbody tr th {\n",
       "        vertical-align: top;\n",
       "    }\n",
       "\n",
       "    .dataframe thead th {\n",
       "        text-align: right;\n",
       "    }\n",
       "</style>\n",
       "<table border=\"1\" class=\"dataframe\">\n",
       "  <thead>\n",
       "    <tr style=\"text-align: right;\">\n",
       "      <th></th>\n",
       "      <th>Quality_Life</th>\n",
       "      <th>Purchasing_Power</th>\n",
       "      <th>Safety</th>\n",
       "      <th>Health_Care</th>\n",
       "      <th>Cost_Living</th>\n",
       "      <th>Property_Price (Income_Ratio)</th>\n",
       "      <th>Traffic_Commute_Time</th>\n",
       "      <th>Pollution</th>\n",
       "      <th>Climate</th>\n",
       "      <th>Rank</th>\n",
       "      <th>Area_Pop</th>\n",
       "    </tr>\n",
       "  </thead>\n",
       "  <tbody>\n",
       "    <tr>\n",
       "      <th>Quality_Life</th>\n",
       "      <td>1.0</td>\n",
       "      <td>0.867174</td>\n",
       "      <td>0.262272</td>\n",
       "      <td>0.61896</td>\n",
       "      <td>0.669346</td>\n",
       "      <td>-0.651412</td>\n",
       "      <td>-0.533834</td>\n",
       "      <td>-0.871633</td>\n",
       "      <td>0.1176</td>\n",
       "      <td>-0.978244</td>\n",
       "      <td>-0.506581</td>\n",
       "    </tr>\n",
       "  </tbody>\n",
       "</table>\n",
       "</div>"
      ],
      "text/plain": [
       "              Quality_Life  Purchasing_Power    Safety  Health_Care  \\\n",
       "Quality_Life           1.0          0.867174  0.262272      0.61896   \n",
       "\n",
       "              Cost_Living  Property_Price (Income_Ratio)  \\\n",
       "Quality_Life     0.669346                      -0.651412   \n",
       "\n",
       "              Traffic_Commute_Time  Pollution  Climate      Rank  Area_Pop  \n",
       "Quality_Life             -0.533834  -0.871633   0.1176 -0.978244 -0.506581  "
      ]
     },
     "metadata": {},
     "output_type": "display_data"
    },
    {
     "data": {
      "application/vnd.plotly.v1+json": {
       "config": {
        "plotlyServerURL": "https://plot.ly"
       },
       "data": [
        {
         "dimensions": [
          {
           "axis": {
            "matches": true
           },
           "label": "Quality_Life",
           "values": [
            113.21,
            128.3,
            126.11,
            81.92,
            80.89,
            112.09,
            125.89,
            80.61,
            57.45,
            176.8,
            97.41,
            66.35,
            104.4,
            117.1,
            97.35,
            131.76,
            74,
            78.53,
            101.93,
            122.67,
            121.86,
            104.56,
            48.67,
            75.18,
            134.62,
            151.43,
            126.57,
            85.85,
            111.34,
            152.42,
            150.56,
            60.14,
            164.2
           ]
          },
          {
           "axis": {
            "matches": true
           },
           "label": "Area_Pop",
           "values": [
            8450228,
            5309690,
            13193035,
            10899698,
            21333332,
            11503293,
            2934621,
            32065760,
            22478116,
            2964382,
            5067352,
            9077158,
            7643256,
            10534418,
            15636243,
            3056149,
            11074811,
            16839950,
            15133888,
            8419566,
            3238523,
            13541764,
            14406059,
            20961472,
            6987077,
            7538200,
            9975709,
            28516904,
            12831330,
            6039577,
            2742379,
            9381546,
            37274000
           ]
          },
          {
           "axis": {
            "matches": true
           },
           "label": "Pollution",
           "values": [
            72.61,
            65.62,
            82.95,
            77.12,
            80.57,
            75.04,
            63.26,
            90.5,
            93.56,
            49.51,
            89.02,
            92.15,
            67.22,
            76.29,
            68.82,
            59.26,
            84.79,
            89.73,
            78.36,
            66.28,
            68.84,
            78.72,
            89.92,
            83.74,
            70.88,
            63.92,
            58.45,
            73.91,
            60.53,
            33.16,
            49.42,
            80.96,
            43
           ]
          },
          {
           "axis": {
            "matches": true
           },
           "label": "Purchasing_Power",
           "values": [
            40.27,
            33.39,
            93.79,
            29.23,
            60.94,
            60.78,
            44.15,
            56.51,
            25.89,
            131.99,
            33.5,
            31.17,
            70.45,
            52.72,
            26.72,
            28.55,
            32.72,
            23.6,
            59.99,
            83.18,
            84.92,
            21.72,
            26.28,
            48.27,
            84.67,
            101.59,
            79.13,
            56.21,
            75.68,
            92.55,
            78.11,
            17.61,
            88.3
           ]
          },
          {
           "axis": {
            "matches": true
           },
           "label": "Health_Care",
           "values": [
            66.43,
            68.63,
            65.95,
            76.97,
            67.73,
            70.3,
            69.51,
            65.65,
            39.84,
            67.98,
            57.59,
            59.88,
            65.82,
            64.96,
            69.44,
            72.7,
            56.15,
            57.34,
            57.9,
            68.07,
            59.99,
            62.52,
            63.71,
            65.11,
            66.02,
            64.79,
            82.63,
            63.56,
            58.83,
            70.88,
            86.49,
            52.5,
            79.85
           ]
          },
          {
           "axis": {
            "matches": true
           },
           "label": "Traffic_Commute_Time",
           "values": [
            39.8,
            36.44,
            52.66,
            45.64,
            43.38,
            47.38,
            46.11,
            57.37,
            60.41,
            37.4,
            28.68,
            31.58,
            42.67,
            42.17,
            51.83,
            40.3,
            51.81,
            42.79,
            59.8,
            41.89,
            32.18,
            34.75,
            53.64,
            54.66,
            43.43,
            30.65,
            42.09,
            46.68,
            35.75,
            41.42,
            34.96,
            52.91,
            41.71
           ]
          }
         ],
         "hovertemplate": "<b>%{hovertext}</b><br><br>Macro_Regiao=Asia<br>%{xaxis.title.text}=%{x}<br>%{yaxis.title.text}=%{y}<extra></extra>",
         "hovertext": [
          "Ahmedabad, India",
          "Ankara, Turkey",
          "Bangalore, India",
          "Bangkok, Thailand",
          "Beijing, China",
          "Chennai, India",
          "Coimbatore, India",
          "Delhi, India",
          "Dhaka, Bangladesh",
          "Dubai, United Arab Emirates",
          "Hanoi, Vietnam",
          "Ho Chi Minh City, Vietnam",
          "Hong Kong, Hong Kong",
          "Hyderabad, India",
          "Istanbul, Turkey",
          "Izmir, Turkey",
          "Jakarta, Indonesia",
          "Karachi, Pakistan",
          "Kolkata, India",
          "Kuala Lumpur, Malaysia",
          "Kuwait City, Kuwait",
          "Lahore, Pakistan",
          "Manila, Philippines",
          "Mumbai, India",
          "Pune, India",
          "Riyadh, Saudi Arabia",
          "Seoul, South Korea",
          "Shanghai, China",
          "Shenzhen, China",
          "Singapore, Singapore",
          "Taipei, Taiwan",
          "Tehran, Iran",
          "Tokyo, Japan"
         ],
         "legendgroup": "Asia",
         "marker": {
          "color": "#636efa",
          "symbol": "circle"
         },
         "name": "Asia",
         "showlegend": true,
         "type": "splom"
        },
        {
         "dimensions": [
          {
           "axis": {
            "matches": true
           },
           "label": "Quality_Life",
           "values": [
            116.99,
            142.32,
            162.44,
            154.7,
            148.26,
            137.04,
            159.85,
            151.6,
            116.98,
            110.82,
            121.14,
            111.16,
            100.27
           ]
          },
          {
           "axis": {
            "matches": true
           },
           "label": "Area_Pop",
           "values": [
            3153781,
            5658472,
            3570750,
            2645598,
            2986162,
            9540576,
            6713557,
            2770434,
            3149223,
            12640818,
            11142303,
            4297877,
            5535556
           ]
          },
          {
           "axis": {
            "matches": true
           },
           "label": "Pollution",
           "values": [
            57.38,
            65.72,
            38.86,
            48.24,
            36.07,
            58.14,
            51.41,
            52.87,
            67.7,
            56.23,
            63.93,
            66.33,
            61.93
           ]
          },
          {
           "axis": {
            "matches": true
           },
           "label": "Purchasing_Power",
           "values": [
            42.07,
            72.51,
            99.06,
            104.64,
            44.28,
            96.96,
            82.28,
            95.69,
            55.36,
            57.73,
            74.81,
            53.16,
            43.2
           ]
          },
          {
           "axis": {
            "matches": true
           },
           "label": "Health_Care",
           "values": [
            56.81,
            77.55,
            68.44,
            72.26,
            72.41,
            70.32,
            80.02,
            77.67,
            72,
            65.47,
            79.15,
            60.11,
            59.96
           ]
          },
          {
           "axis": {
            "matches": true
           },
           "label": "Traffic_Commute_Time",
           "values": [
            38.05,
            29.72,
            34.23,
            32.87,
            35.63,
            44.43,
            35.34,
            40.46,
            36.18,
            50.51,
            41.47,
            42.05,
            48.19
           ]
          }
         ],
         "hovertemplate": "<b>%{hovertext}</b><br><br>Macro_Regiao=Europa<br>%{xaxis.title.text}=%{x}<br>%{yaxis.title.text}=%{y}<extra></extra>",
         "hovertext": [
          "Athens, Greece",
          "Barcelona, Spain",
          "Berlin, Germany",
          "Birmingham, United Kingdom",
          "Lisbon, Portugal",
          "London, United Kingdom",
          "Madrid, Spain",
          "Manchester, United Kingdom",
          "Milan, Italy",
          "Moscow, Russia",
          "Paris, France",
          "Rome, Italy",
          "Saint Petersburg, Russia"
         ],
         "legendgroup": "Europa",
         "marker": {
          "color": "#EF553B",
          "symbol": "circle"
         },
         "name": "Europa",
         "showlegend": true,
         "type": "splom"
        },
        {
         "dimensions": [
          {
           "axis": {
            "matches": true
           },
           "label": "Quality_Life",
           "values": [
            166.98,
            166.95,
            105.76,
            89.03,
            168.02,
            134.69,
            100.01,
            130.38,
            66.03,
            192.75,
            147.58,
            139.08,
            178.79,
            170.68,
            131.38,
            126.62,
            95.48,
            166.87,
            78.74,
            138.95,
            124.06,
            87.9,
            153.26,
            174.74,
            127.57,
            158.1,
            136.89,
            184.2,
            153.86,
            158.83,
            175.7,
            111.62,
            85.47,
            70.27,
            192.75,
            185.28,
            144.38,
            114.25,
            103.46,
            76.13,
            183.13,
            187.33,
            148.17,
            172.49,
            165.62
           ]
          },
          {
           "axis": {
            "matches": true
           },
           "label": "Area_Pop",
           "values": [
            6144050,
            2838327,
            6194292,
            11344312,
            4899932,
            4803877,
            15369919,
            3384564,
            2956813,
            2701046,
            9509934,
            3770919,
            7759615,
            2972566,
            4365205,
            5339583,
            3036405,
            7206841,
            11044607,
            12997353,
            4067758,
            22085140,
            6091747,
            3690512,
            5036535,
            4276526,
            19768458,
            2691925,
            6228601,
            4946145,
            2511612,
            4185488,
            4220458,
            13634274,
            2601788,
            3286069,
            4623264,
            2442512,
            6856939,
            22429800,
            4011553,
            3219514,
            6312974,
            2631690,
            6356434
           ]
          },
          {
           "axis": {
            "matches": true
           },
           "label": "Pollution",
           "values": [
            44.79,
            50.38,
            52.05,
            70.27,
            31.09,
            33.27,
            51.98,
            47.34,
            73.95,
            29.75,
            49.21,
            31.87,
            42.15,
            43.6,
            59.84,
            61.82,
            72.81,
            56.1,
            85.49,
            67.43,
            62.64,
            81.99,
            39.42,
            26.92,
            70.61,
            33.86,
            57.6,
            35.98,
            53.47,
            56.55,
            31.5,
            56.43,
            69.8,
            67.67,
            45.29,
            36.02,
            50.43,
            50.83,
            70.44,
            79.54,
            28.98,
            29.44,
            37.61,
            25.45,
            40.16
           ]
          },
          {
           "axis": {
            "matches": true
           },
           "label": "Purchasing_Power",
           "values": [
            130.33,
            136.31,
            24.26,
            27.59,
            108.54,
            39.76,
            31.28,
            41.85,
            11.6,
            137.35,
            117.38,
            38.33,
            137.61,
            137.69,
            108.16,
            46.27,
            24.39,
            147.53,
            30.64,
            120.28,
            35.85,
            38.05,
            91.93,
            131.34,
            54.13,
            96.47,
            100,
            143.78,
            126.01,
            136.14,
            110.08,
            28.78,
            33.97,
            23.55,
            164.68,
            124.36,
            110.59,
            44.53,
            36.5,
            25.5,
            132.11,
            131.95,
            87.4,
            92.92,
            128.39
           ]
          },
          {
           "axis": {
            "matches": true
           },
           "label": "Health_Care",
           "values": [
            69.09,
            77.3,
            63.9,
            65.01,
            74.54,
            51.7,
            69.14,
            61.27,
            37.92,
            74.02,
            64.84,
            66.77,
            66.8,
            69.68,
            62.39,
            79.68,
            64.09,
            71.96,
            58.01,
            62.18,
            78.56,
            65.23,
            63.69,
            78.46,
            68.85,
            63.39,
            62.23,
            62.78,
            68.82,
            66.56,
            73.18,
            63.31,
            62.7,
            45.01,
            70.86,
            70.41,
            63.91,
            63.04,
            66.14,
            58.65,
            74.17,
            68.08,
            75.68,
            74.06,
            69.52
           ]
          },
          {
           "axis": {
            "matches": true
           },
           "label": "Traffic_Commute_Time",
           "values": [
            41.69,
            31.15,
            43.41,
            52.21,
            44.98,
            30.57,
            49.19,
            28.44,
            34.06,
            35.7,
            41.6,
            32.41,
            35.15,
            36.05,
            45.09,
            41.56,
            49.81,
            41.9,
            50.89,
            60.98,
            38.5,
            52.15,
            43.44,
            35.99,
            31.68,
            40.04,
            43.59,
            36.58,
            40.07,
            32.64,
            32.78,
            31.32,
            46.49,
            51.34,
            30.65,
            33.89,
            51.24,
            37.46,
            37.03,
            50.19,
            42.11,
            35.84,
            44.82,
            36.63,
            40.49
           ]
          }
         ],
         "hovertemplate": "<b>%{hovertext}</b><br><br>Macro_Regiao=America<br>%{xaxis.title.text}=%{x}<br>%{yaxis.title.text}=%{y}<extra></extra>",
         "hovertext": [
          "Atlanta, GA, United States",
          "Baltimore, MD, United States",
          "Belo Horizonte, Brazil",
          "Bogota, Colombia",
          "Boston, MA, United States",
          "Brasilia, Brazil",
          "Buenos Aires, Argentina",
          "Campinas, Brazil",
          "Caracas, Venezuela",
          "Charlotte, NC, United States",
          "Chicago, IL, United States",
          "Curitiba, Brazil",
          "Dallas, TX, United States",
          "Denver, CO, United States",
          "Detroit, MI, United States",
          "Guadalajara, Mexico",
          "Guatemala City, Guatemala",
          "Houston, TX, United States",
          "Lima, Peru",
          "Los Angeles, CA, United States",
          "Medellin, Colombia",
          "Mexico City, Mexico",
          "Miami, FL, United States",
          "Minneapolis, MN, United States",
          "Monterrey, Mexico",
          "Montreal, Canada",
          "New York, NY, United States",
          "Orlando, FL, United States",
          "Philadelphia, PA, United States",
          "Phoenix, AZ, United States",
          "Portland, OR, United States",
          "Porto Alegre, Brazil",
          "Recife, Brazil",
          "Rio de Janeiro, Brazil",
          "San Antonio, TX, United States",
          "San Diego, CA, United States",
          "San Francisco, CA, United States",
          "San Juan, Puerto Rico",
          "Santiago, Chile",
          "Sao Paulo, Brazil",
          "Seattle, WA, United States",
          "Tampa, FL, United States",
          "Toronto, Canada",
          "Vancouver, Canada",
          "Washington, DC, United States"
         ],
         "legendgroup": "America",
         "marker": {
          "color": "#00cc96",
          "symbol": "circle"
         },
         "name": "America",
         "showlegend": true,
         "type": "splom"
        },
        {
         "dimensions": [
          {
           "axis": {
            "matches": true
           },
           "label": "Quality_Life",
           "values": [
            199.37,
            186.66,
            190.64
           ]
          },
          {
           "axis": {
            "matches": true
           },
           "label": "Area_Pop",
           "values": [
            2472222,
            5150766,
            5056571
           ]
          },
          {
           "axis": {
            "matches": true
           },
           "label": "Pollution",
           "values": [
            23.47,
            25.62,
            27.1
           ]
          },
          {
           "axis": {
            "matches": true
           },
           "label": "Purchasing_Power",
           "values": [
            122.75,
            120.47,
            125.07
           ]
          },
          {
           "axis": {
            "matches": true
           },
           "label": "Health_Care",
           "values": [
            82.21,
            76.4,
            78.88
           ]
          },
          {
           "axis": {
            "matches": true
           },
           "label": "Traffic_Commute_Time",
           "values": [
            39.18,
            40.56,
            43.19
           ]
          }
         ],
         "hovertemplate": "<b>%{hovertext}</b><br><br>Macro_Regiao=Oceania<br>%{xaxis.title.text}=%{x}<br>%{yaxis.title.text}=%{y}<extra></extra>",
         "hovertext": [
          "Brisbane, Australia",
          "Melbourne, Australia",
          "Sydney, Australia"
         ],
         "legendgroup": "Oceania",
         "marker": {
          "color": "#ab63fa",
          "symbol": "circle"
         },
         "name": "Oceania",
         "showlegend": true,
         "type": "splom"
        },
        {
         "dimensions": [
          {
           "axis": {
            "matches": true
           },
           "label": "Quality_Life",
           "values": [
            82.42,
            145.14,
            138.81,
            135.27,
            48.56,
            96.83,
            137.66
           ]
          },
          {
           "axis": {
            "matches": true
           },
           "label": "Area_Pop",
           "values": [
            21750020,
            4800954,
            3199329,
            6065354,
            15387639,
            5118844,
            2739768
           ]
          },
          {
           "axis": {
            "matches": true
           },
           "label": "Pollution",
           "values": [
            91.48,
            39.12,
            52.96,
            61.35,
            89.26,
            79.75,
            56.04
           ]
          },
          {
           "axis": {
            "matches": true
           },
           "label": "Purchasing_Power",
           "values": [
            23.12,
            73.86,
            73.43,
            95.79,
            7.88,
            32.58,
            89.79
           ]
          },
          {
           "axis": {
            "matches": true
           },
           "label": "Health_Care",
           "values": [
            45.47,
            68.58,
            58.22,
            60.61,
            45.94,
            62.35,
            66.11
           ]
          },
          {
           "axis": {
            "matches": true
           },
           "label": "Traffic_Commute_Time",
           "values": [
            50.02,
            42.86,
            26.11,
            40.73,
            68.22,
            53.82,
            45.51
           ]
          }
         ],
         "hovertemplate": "<b>%{hovertext}</b><br><br>Macro_Regiao=Africa<br>%{xaxis.title.text}=%{x}<br>%{yaxis.title.text}=%{y}<extra></extra>",
         "hovertext": [
          "Cairo, Egypt",
          "Cape Town, South Africa",
          "Durban, South Africa",
          "Johannesburg, South Africa",
          "Lagos, Nigeria",
          "Nairobi, Kenya",
          "Pretoria, South Africa"
         ],
         "legendgroup": "Africa",
         "marker": {
          "color": "#FFA15A",
          "symbol": "circle"
         },
         "name": "Africa",
         "showlegend": true,
         "type": "splom"
        }
       ],
       "layout": {
        "dragmode": "select",
        "height": 800,
        "legend": {
         "title": {
          "text": "Macro_Regiao"
         },
         "tracegroupgap": 0
        },
        "margin": {
         "t": 60
        },
        "template": {
         "data": {
          "bar": [
           {
            "error_x": {
             "color": "#2a3f5f"
            },
            "error_y": {
             "color": "#2a3f5f"
            },
            "marker": {
             "line": {
              "color": "#E5ECF6",
              "width": 0.5
             },
             "pattern": {
              "fillmode": "overlay",
              "size": 10,
              "solidity": 0.2
             }
            },
            "type": "bar"
           }
          ],
          "barpolar": [
           {
            "marker": {
             "line": {
              "color": "#E5ECF6",
              "width": 0.5
             },
             "pattern": {
              "fillmode": "overlay",
              "size": 10,
              "solidity": 0.2
             }
            },
            "type": "barpolar"
           }
          ],
          "carpet": [
           {
            "aaxis": {
             "endlinecolor": "#2a3f5f",
             "gridcolor": "white",
             "linecolor": "white",
             "minorgridcolor": "white",
             "startlinecolor": "#2a3f5f"
            },
            "baxis": {
             "endlinecolor": "#2a3f5f",
             "gridcolor": "white",
             "linecolor": "white",
             "minorgridcolor": "white",
             "startlinecolor": "#2a3f5f"
            },
            "type": "carpet"
           }
          ],
          "choropleth": [
           {
            "colorbar": {
             "outlinewidth": 0,
             "ticks": ""
            },
            "type": "choropleth"
           }
          ],
          "contour": [
           {
            "colorbar": {
             "outlinewidth": 0,
             "ticks": ""
            },
            "colorscale": [
             [
              0,
              "#0d0887"
             ],
             [
              0.1111111111111111,
              "#46039f"
             ],
             [
              0.2222222222222222,
              "#7201a8"
             ],
             [
              0.3333333333333333,
              "#9c179e"
             ],
             [
              0.4444444444444444,
              "#bd3786"
             ],
             [
              0.5555555555555556,
              "#d8576b"
             ],
             [
              0.6666666666666666,
              "#ed7953"
             ],
             [
              0.7777777777777778,
              "#fb9f3a"
             ],
             [
              0.8888888888888888,
              "#fdca26"
             ],
             [
              1,
              "#f0f921"
             ]
            ],
            "type": "contour"
           }
          ],
          "contourcarpet": [
           {
            "colorbar": {
             "outlinewidth": 0,
             "ticks": ""
            },
            "type": "contourcarpet"
           }
          ],
          "heatmap": [
           {
            "colorbar": {
             "outlinewidth": 0,
             "ticks": ""
            },
            "colorscale": [
             [
              0,
              "#0d0887"
             ],
             [
              0.1111111111111111,
              "#46039f"
             ],
             [
              0.2222222222222222,
              "#7201a8"
             ],
             [
              0.3333333333333333,
              "#9c179e"
             ],
             [
              0.4444444444444444,
              "#bd3786"
             ],
             [
              0.5555555555555556,
              "#d8576b"
             ],
             [
              0.6666666666666666,
              "#ed7953"
             ],
             [
              0.7777777777777778,
              "#fb9f3a"
             ],
             [
              0.8888888888888888,
              "#fdca26"
             ],
             [
              1,
              "#f0f921"
             ]
            ],
            "type": "heatmap"
           }
          ],
          "heatmapgl": [
           {
            "colorbar": {
             "outlinewidth": 0,
             "ticks": ""
            },
            "colorscale": [
             [
              0,
              "#0d0887"
             ],
             [
              0.1111111111111111,
              "#46039f"
             ],
             [
              0.2222222222222222,
              "#7201a8"
             ],
             [
              0.3333333333333333,
              "#9c179e"
             ],
             [
              0.4444444444444444,
              "#bd3786"
             ],
             [
              0.5555555555555556,
              "#d8576b"
             ],
             [
              0.6666666666666666,
              "#ed7953"
             ],
             [
              0.7777777777777778,
              "#fb9f3a"
             ],
             [
              0.8888888888888888,
              "#fdca26"
             ],
             [
              1,
              "#f0f921"
             ]
            ],
            "type": "heatmapgl"
           }
          ],
          "histogram": [
           {
            "marker": {
             "pattern": {
              "fillmode": "overlay",
              "size": 10,
              "solidity": 0.2
             }
            },
            "type": "histogram"
           }
          ],
          "histogram2d": [
           {
            "colorbar": {
             "outlinewidth": 0,
             "ticks": ""
            },
            "colorscale": [
             [
              0,
              "#0d0887"
             ],
             [
              0.1111111111111111,
              "#46039f"
             ],
             [
              0.2222222222222222,
              "#7201a8"
             ],
             [
              0.3333333333333333,
              "#9c179e"
             ],
             [
              0.4444444444444444,
              "#bd3786"
             ],
             [
              0.5555555555555556,
              "#d8576b"
             ],
             [
              0.6666666666666666,
              "#ed7953"
             ],
             [
              0.7777777777777778,
              "#fb9f3a"
             ],
             [
              0.8888888888888888,
              "#fdca26"
             ],
             [
              1,
              "#f0f921"
             ]
            ],
            "type": "histogram2d"
           }
          ],
          "histogram2dcontour": [
           {
            "colorbar": {
             "outlinewidth": 0,
             "ticks": ""
            },
            "colorscale": [
             [
              0,
              "#0d0887"
             ],
             [
              0.1111111111111111,
              "#46039f"
             ],
             [
              0.2222222222222222,
              "#7201a8"
             ],
             [
              0.3333333333333333,
              "#9c179e"
             ],
             [
              0.4444444444444444,
              "#bd3786"
             ],
             [
              0.5555555555555556,
              "#d8576b"
             ],
             [
              0.6666666666666666,
              "#ed7953"
             ],
             [
              0.7777777777777778,
              "#fb9f3a"
             ],
             [
              0.8888888888888888,
              "#fdca26"
             ],
             [
              1,
              "#f0f921"
             ]
            ],
            "type": "histogram2dcontour"
           }
          ],
          "mesh3d": [
           {
            "colorbar": {
             "outlinewidth": 0,
             "ticks": ""
            },
            "type": "mesh3d"
           }
          ],
          "parcoords": [
           {
            "line": {
             "colorbar": {
              "outlinewidth": 0,
              "ticks": ""
             }
            },
            "type": "parcoords"
           }
          ],
          "pie": [
           {
            "automargin": true,
            "type": "pie"
           }
          ],
          "scatter": [
           {
            "fillpattern": {
             "fillmode": "overlay",
             "size": 10,
             "solidity": 0.2
            },
            "type": "scatter"
           }
          ],
          "scatter3d": [
           {
            "line": {
             "colorbar": {
              "outlinewidth": 0,
              "ticks": ""
             }
            },
            "marker": {
             "colorbar": {
              "outlinewidth": 0,
              "ticks": ""
             }
            },
            "type": "scatter3d"
           }
          ],
          "scattercarpet": [
           {
            "marker": {
             "colorbar": {
              "outlinewidth": 0,
              "ticks": ""
             }
            },
            "type": "scattercarpet"
           }
          ],
          "scattergeo": [
           {
            "marker": {
             "colorbar": {
              "outlinewidth": 0,
              "ticks": ""
             }
            },
            "type": "scattergeo"
           }
          ],
          "scattergl": [
           {
            "marker": {
             "colorbar": {
              "outlinewidth": 0,
              "ticks": ""
             }
            },
            "type": "scattergl"
           }
          ],
          "scattermapbox": [
           {
            "marker": {
             "colorbar": {
              "outlinewidth": 0,
              "ticks": ""
             }
            },
            "type": "scattermapbox"
           }
          ],
          "scatterpolar": [
           {
            "marker": {
             "colorbar": {
              "outlinewidth": 0,
              "ticks": ""
             }
            },
            "type": "scatterpolar"
           }
          ],
          "scatterpolargl": [
           {
            "marker": {
             "colorbar": {
              "outlinewidth": 0,
              "ticks": ""
             }
            },
            "type": "scatterpolargl"
           }
          ],
          "scatterternary": [
           {
            "marker": {
             "colorbar": {
              "outlinewidth": 0,
              "ticks": ""
             }
            },
            "type": "scatterternary"
           }
          ],
          "surface": [
           {
            "colorbar": {
             "outlinewidth": 0,
             "ticks": ""
            },
            "colorscale": [
             [
              0,
              "#0d0887"
             ],
             [
              0.1111111111111111,
              "#46039f"
             ],
             [
              0.2222222222222222,
              "#7201a8"
             ],
             [
              0.3333333333333333,
              "#9c179e"
             ],
             [
              0.4444444444444444,
              "#bd3786"
             ],
             [
              0.5555555555555556,
              "#d8576b"
             ],
             [
              0.6666666666666666,
              "#ed7953"
             ],
             [
              0.7777777777777778,
              "#fb9f3a"
             ],
             [
              0.8888888888888888,
              "#fdca26"
             ],
             [
              1,
              "#f0f921"
             ]
            ],
            "type": "surface"
           }
          ],
          "table": [
           {
            "cells": {
             "fill": {
              "color": "#EBF0F8"
             },
             "line": {
              "color": "white"
             }
            },
            "header": {
             "fill": {
              "color": "#C8D4E3"
             },
             "line": {
              "color": "white"
             }
            },
            "type": "table"
           }
          ]
         },
         "layout": {
          "annotationdefaults": {
           "arrowcolor": "#2a3f5f",
           "arrowhead": 0,
           "arrowwidth": 1
          },
          "autotypenumbers": "strict",
          "coloraxis": {
           "colorbar": {
            "outlinewidth": 0,
            "ticks": ""
           }
          },
          "colorscale": {
           "diverging": [
            [
             0,
             "#8e0152"
            ],
            [
             0.1,
             "#c51b7d"
            ],
            [
             0.2,
             "#de77ae"
            ],
            [
             0.3,
             "#f1b6da"
            ],
            [
             0.4,
             "#fde0ef"
            ],
            [
             0.5,
             "#f7f7f7"
            ],
            [
             0.6,
             "#e6f5d0"
            ],
            [
             0.7,
             "#b8e186"
            ],
            [
             0.8,
             "#7fbc41"
            ],
            [
             0.9,
             "#4d9221"
            ],
            [
             1,
             "#276419"
            ]
           ],
           "sequential": [
            [
             0,
             "#0d0887"
            ],
            [
             0.1111111111111111,
             "#46039f"
            ],
            [
             0.2222222222222222,
             "#7201a8"
            ],
            [
             0.3333333333333333,
             "#9c179e"
            ],
            [
             0.4444444444444444,
             "#bd3786"
            ],
            [
             0.5555555555555556,
             "#d8576b"
            ],
            [
             0.6666666666666666,
             "#ed7953"
            ],
            [
             0.7777777777777778,
             "#fb9f3a"
            ],
            [
             0.8888888888888888,
             "#fdca26"
            ],
            [
             1,
             "#f0f921"
            ]
           ],
           "sequentialminus": [
            [
             0,
             "#0d0887"
            ],
            [
             0.1111111111111111,
             "#46039f"
            ],
            [
             0.2222222222222222,
             "#7201a8"
            ],
            [
             0.3333333333333333,
             "#9c179e"
            ],
            [
             0.4444444444444444,
             "#bd3786"
            ],
            [
             0.5555555555555556,
             "#d8576b"
            ],
            [
             0.6666666666666666,
             "#ed7953"
            ],
            [
             0.7777777777777778,
             "#fb9f3a"
            ],
            [
             0.8888888888888888,
             "#fdca26"
            ],
            [
             1,
             "#f0f921"
            ]
           ]
          },
          "colorway": [
           "#636efa",
           "#EF553B",
           "#00cc96",
           "#ab63fa",
           "#FFA15A",
           "#19d3f3",
           "#FF6692",
           "#B6E880",
           "#FF97FF",
           "#FECB52"
          ],
          "font": {
           "color": "#2a3f5f"
          },
          "geo": {
           "bgcolor": "white",
           "lakecolor": "white",
           "landcolor": "#E5ECF6",
           "showlakes": true,
           "showland": true,
           "subunitcolor": "white"
          },
          "hoverlabel": {
           "align": "left"
          },
          "hovermode": "closest",
          "mapbox": {
           "style": "light"
          },
          "paper_bgcolor": "white",
          "plot_bgcolor": "#E5ECF6",
          "polar": {
           "angularaxis": {
            "gridcolor": "white",
            "linecolor": "white",
            "ticks": ""
           },
           "bgcolor": "#E5ECF6",
           "radialaxis": {
            "gridcolor": "white",
            "linecolor": "white",
            "ticks": ""
           }
          },
          "scene": {
           "xaxis": {
            "backgroundcolor": "#E5ECF6",
            "gridcolor": "white",
            "gridwidth": 2,
            "linecolor": "white",
            "showbackground": true,
            "ticks": "",
            "zerolinecolor": "white"
           },
           "yaxis": {
            "backgroundcolor": "#E5ECF6",
            "gridcolor": "white",
            "gridwidth": 2,
            "linecolor": "white",
            "showbackground": true,
            "ticks": "",
            "zerolinecolor": "white"
           },
           "zaxis": {
            "backgroundcolor": "#E5ECF6",
            "gridcolor": "white",
            "gridwidth": 2,
            "linecolor": "white",
            "showbackground": true,
            "ticks": "",
            "zerolinecolor": "white"
           }
          },
          "shapedefaults": {
           "line": {
            "color": "#2a3f5f"
           }
          },
          "ternary": {
           "aaxis": {
            "gridcolor": "white",
            "linecolor": "white",
            "ticks": ""
           },
           "baxis": {
            "gridcolor": "white",
            "linecolor": "white",
            "ticks": ""
           },
           "bgcolor": "#E5ECF6",
           "caxis": {
            "gridcolor": "white",
            "linecolor": "white",
            "ticks": ""
           }
          },
          "title": {
           "x": 0.05
          },
          "xaxis": {
           "automargin": true,
           "gridcolor": "white",
           "linecolor": "white",
           "ticks": "",
           "title": {
            "standoff": 15
           },
           "zerolinecolor": "white",
           "zerolinewidth": 2
          },
          "yaxis": {
           "automargin": true,
           "gridcolor": "white",
           "linecolor": "white",
           "ticks": "",
           "title": {
            "standoff": 15
           },
           "zerolinecolor": "white",
           "zerolinewidth": 2
          }
         }
        }
       }
      },
      "text/html": [
       "<div>                            <div id=\"2d0a011b-8309-43b2-b81a-e3bdbf817717\" class=\"plotly-graph-div\" style=\"height:800px; width:100%;\"></div>            <script type=\"text/javascript\">                require([\"plotly\"], function(Plotly) {                    window.PLOTLYENV=window.PLOTLYENV || {};                                    if (document.getElementById(\"2d0a011b-8309-43b2-b81a-e3bdbf817717\")) {                    Plotly.newPlot(                        \"2d0a011b-8309-43b2-b81a-e3bdbf817717\",                        [{\"dimensions\":[{\"axis\":{\"matches\":true},\"label\":\"Quality_Life\",\"values\":[113.21,128.3,126.11,81.92,80.89,112.09,125.89,80.61,57.45,176.8,97.41,66.35,104.4,117.1,97.35,131.76,74.0,78.53,101.93,122.67,121.86,104.56,48.67,75.18,134.62,151.43,126.57,85.85,111.34,152.42,150.56,60.14,164.2]},{\"axis\":{\"matches\":true},\"label\":\"Area_Pop\",\"values\":[8450228,5309690,13193035,10899698,21333332,11503293,2934621,32065760,22478116,2964382,5067352,9077158,7643256,10534418,15636243,3056149,11074811,16839950,15133888,8419566,3238523,13541764,14406059,20961472,6987077,7538200,9975709,28516904,12831330,6039577,2742379,9381546,37274000]},{\"axis\":{\"matches\":true},\"label\":\"Pollution\",\"values\":[72.61,65.62,82.95,77.12,80.57,75.04,63.26,90.5,93.56,49.51,89.02,92.15,67.22,76.29,68.82,59.26,84.79,89.73,78.36,66.28,68.84,78.72,89.92,83.74,70.88,63.92,58.45,73.91,60.53,33.16,49.42,80.96,43.0]},{\"axis\":{\"matches\":true},\"label\":\"Purchasing_Power\",\"values\":[40.27,33.39,93.79,29.23,60.94,60.78,44.15,56.51,25.89,131.99,33.5,31.17,70.45,52.72,26.72,28.55,32.72,23.6,59.99,83.18,84.92,21.72,26.28,48.27,84.67,101.59,79.13,56.21,75.68,92.55,78.11,17.61,88.3]},{\"axis\":{\"matches\":true},\"label\":\"Health_Care\",\"values\":[66.43,68.63,65.95,76.97,67.73,70.3,69.51,65.65,39.84,67.98,57.59,59.88,65.82,64.96,69.44,72.7,56.15,57.34,57.9,68.07,59.99,62.52,63.71,65.11,66.02,64.79,82.63,63.56,58.83,70.88,86.49,52.5,79.85]},{\"axis\":{\"matches\":true},\"label\":\"Traffic_Commute_Time\",\"values\":[39.8,36.44,52.66,45.64,43.38,47.38,46.11,57.37,60.41,37.4,28.68,31.58,42.67,42.17,51.83,40.3,51.81,42.79,59.8,41.89,32.18,34.75,53.64,54.66,43.43,30.65,42.09,46.68,35.75,41.42,34.96,52.91,41.71]}],\"hovertemplate\":\"<b>%{hovertext}</b><br><br>Macro_Regiao=Asia<br>%{xaxis.title.text}=%{x}<br>%{yaxis.title.text}=%{y}<extra></extra>\",\"hovertext\":[\"Ahmedabad, India\",\"Ankara, Turkey\",\"Bangalore, India\",\"Bangkok, Thailand\",\"Beijing, China\",\"Chennai, India\",\"Coimbatore, India\",\"Delhi, India\",\"Dhaka, Bangladesh\",\"Dubai, United Arab Emirates\",\"Hanoi, Vietnam\",\"Ho Chi Minh City, Vietnam\",\"Hong Kong, Hong Kong\",\"Hyderabad, India\",\"Istanbul, Turkey\",\"Izmir, Turkey\",\"Jakarta, Indonesia\",\"Karachi, Pakistan\",\"Kolkata, India\",\"Kuala Lumpur, Malaysia\",\"Kuwait City, Kuwait\",\"Lahore, Pakistan\",\"Manila, Philippines\",\"Mumbai, India\",\"Pune, India\",\"Riyadh, Saudi Arabia\",\"Seoul, South Korea\",\"Shanghai, China\",\"Shenzhen, China\",\"Singapore, Singapore\",\"Taipei, Taiwan\",\"Tehran, Iran\",\"Tokyo, Japan\"],\"legendgroup\":\"Asia\",\"marker\":{\"color\":\"#636efa\",\"symbol\":\"circle\"},\"name\":\"Asia\",\"showlegend\":true,\"type\":\"splom\"},{\"dimensions\":[{\"axis\":{\"matches\":true},\"label\":\"Quality_Life\",\"values\":[116.99,142.32,162.44,154.7,148.26,137.04,159.85,151.6,116.98,110.82,121.14,111.16,100.27]},{\"axis\":{\"matches\":true},\"label\":\"Area_Pop\",\"values\":[3153781,5658472,3570750,2645598,2986162,9540576,6713557,2770434,3149223,12640818,11142303,4297877,5535556]},{\"axis\":{\"matches\":true},\"label\":\"Pollution\",\"values\":[57.38,65.72,38.86,48.24,36.07,58.14,51.41,52.87,67.7,56.23,63.93,66.33,61.93]},{\"axis\":{\"matches\":true},\"label\":\"Purchasing_Power\",\"values\":[42.07,72.51,99.06,104.64,44.28,96.96,82.28,95.69,55.36,57.73,74.81,53.16,43.2]},{\"axis\":{\"matches\":true},\"label\":\"Health_Care\",\"values\":[56.81,77.55,68.44,72.26,72.41,70.32,80.02,77.67,72.0,65.47,79.15,60.11,59.96]},{\"axis\":{\"matches\":true},\"label\":\"Traffic_Commute_Time\",\"values\":[38.05,29.72,34.23,32.87,35.63,44.43,35.34,40.46,36.18,50.51,41.47,42.05,48.19]}],\"hovertemplate\":\"<b>%{hovertext}</b><br><br>Macro_Regiao=Europa<br>%{xaxis.title.text}=%{x}<br>%{yaxis.title.text}=%{y}<extra></extra>\",\"hovertext\":[\"Athens, Greece\",\"Barcelona, Spain\",\"Berlin, Germany\",\"Birmingham, United Kingdom\",\"Lisbon, Portugal\",\"London, United Kingdom\",\"Madrid, Spain\",\"Manchester, United Kingdom\",\"Milan, Italy\",\"Moscow, Russia\",\"Paris, France\",\"Rome, Italy\",\"Saint Petersburg, Russia\"],\"legendgroup\":\"Europa\",\"marker\":{\"color\":\"#EF553B\",\"symbol\":\"circle\"},\"name\":\"Europa\",\"showlegend\":true,\"type\":\"splom\"},{\"dimensions\":[{\"axis\":{\"matches\":true},\"label\":\"Quality_Life\",\"values\":[166.98,166.95,105.76,89.03,168.02,134.69,100.01,130.38,66.03,192.75,147.58,139.08,178.79,170.68,131.38,126.62,95.48,166.87,78.74,138.95,124.06,87.9,153.26,174.74,127.57,158.1,136.89,184.2,153.86,158.83,175.7,111.62,85.47,70.27,192.75,185.28,144.38,114.25,103.46,76.13,183.13,187.33,148.17,172.49,165.62]},{\"axis\":{\"matches\":true},\"label\":\"Area_Pop\",\"values\":[6144050,2838327,6194292,11344312,4899932,4803877,15369919,3384564,2956813,2701046,9509934,3770919,7759615,2972566,4365205,5339583,3036405,7206841,11044607,12997353,4067758,22085140,6091747,3690512,5036535,4276526,19768458,2691925,6228601,4946145,2511612,4185488,4220458,13634274,2601788,3286069,4623264,2442512,6856939,22429800,4011553,3219514,6312974,2631690,6356434]},{\"axis\":{\"matches\":true},\"label\":\"Pollution\",\"values\":[44.79,50.38,52.05,70.27,31.09,33.27,51.98,47.34,73.95,29.75,49.21,31.87,42.15,43.6,59.84,61.82,72.81,56.1,85.49,67.43,62.64,81.99,39.42,26.92,70.61,33.86,57.6,35.98,53.47,56.55,31.5,56.43,69.8,67.67,45.29,36.02,50.43,50.83,70.44,79.54,28.98,29.44,37.61,25.45,40.16]},{\"axis\":{\"matches\":true},\"label\":\"Purchasing_Power\",\"values\":[130.33,136.31,24.26,27.59,108.54,39.76,31.28,41.85,11.6,137.35,117.38,38.33,137.61,137.69,108.16,46.27,24.39,147.53,30.64,120.28,35.85,38.05,91.93,131.34,54.13,96.47,100.0,143.78,126.01,136.14,110.08,28.78,33.97,23.55,164.68,124.36,110.59,44.53,36.5,25.5,132.11,131.95,87.4,92.92,128.39]},{\"axis\":{\"matches\":true},\"label\":\"Health_Care\",\"values\":[69.09,77.3,63.9,65.01,74.54,51.7,69.14,61.27,37.92,74.02,64.84,66.77,66.8,69.68,62.39,79.68,64.09,71.96,58.01,62.18,78.56,65.23,63.69,78.46,68.85,63.39,62.23,62.78,68.82,66.56,73.18,63.31,62.7,45.01,70.86,70.41,63.91,63.04,66.14,58.65,74.17,68.08,75.68,74.06,69.52]},{\"axis\":{\"matches\":true},\"label\":\"Traffic_Commute_Time\",\"values\":[41.69,31.15,43.41,52.21,44.98,30.57,49.19,28.44,34.06,35.7,41.6,32.41,35.15,36.05,45.09,41.56,49.81,41.9,50.89,60.98,38.5,52.15,43.44,35.99,31.68,40.04,43.59,36.58,40.07,32.64,32.78,31.32,46.49,51.34,30.65,33.89,51.24,37.46,37.03,50.19,42.11,35.84,44.82,36.63,40.49]}],\"hovertemplate\":\"<b>%{hovertext}</b><br><br>Macro_Regiao=America<br>%{xaxis.title.text}=%{x}<br>%{yaxis.title.text}=%{y}<extra></extra>\",\"hovertext\":[\"Atlanta, GA, United States\",\"Baltimore, MD, United States\",\"Belo Horizonte, Brazil\",\"Bogota, Colombia\",\"Boston, MA, United States\",\"Brasilia, Brazil\",\"Buenos Aires, Argentina\",\"Campinas, Brazil\",\"Caracas, Venezuela\",\"Charlotte, NC, United States\",\"Chicago, IL, United States\",\"Curitiba, Brazil\",\"Dallas, TX, United States\",\"Denver, CO, United States\",\"Detroit, MI, United States\",\"Guadalajara, Mexico\",\"Guatemala City, Guatemala\",\"Houston, TX, United States\",\"Lima, Peru\",\"Los Angeles, CA, United States\",\"Medellin, Colombia\",\"Mexico City, Mexico\",\"Miami, FL, United States\",\"Minneapolis, MN, United States\",\"Monterrey, Mexico\",\"Montreal, Canada\",\"New York, NY, United States\",\"Orlando, FL, United States\",\"Philadelphia, PA, United States\",\"Phoenix, AZ, United States\",\"Portland, OR, United States\",\"Porto Alegre, Brazil\",\"Recife, Brazil\",\"Rio de Janeiro, Brazil\",\"San Antonio, TX, United States\",\"San Diego, CA, United States\",\"San Francisco, CA, United States\",\"San Juan, Puerto Rico\",\"Santiago, Chile\",\"Sao Paulo, Brazil\",\"Seattle, WA, United States\",\"Tampa, FL, United States\",\"Toronto, Canada\",\"Vancouver, Canada\",\"Washington, DC, United States\"],\"legendgroup\":\"America\",\"marker\":{\"color\":\"#00cc96\",\"symbol\":\"circle\"},\"name\":\"America\",\"showlegend\":true,\"type\":\"splom\"},{\"dimensions\":[{\"axis\":{\"matches\":true},\"label\":\"Quality_Life\",\"values\":[199.37,186.66,190.64]},{\"axis\":{\"matches\":true},\"label\":\"Area_Pop\",\"values\":[2472222,5150766,5056571]},{\"axis\":{\"matches\":true},\"label\":\"Pollution\",\"values\":[23.47,25.62,27.1]},{\"axis\":{\"matches\":true},\"label\":\"Purchasing_Power\",\"values\":[122.75,120.47,125.07]},{\"axis\":{\"matches\":true},\"label\":\"Health_Care\",\"values\":[82.21,76.4,78.88]},{\"axis\":{\"matches\":true},\"label\":\"Traffic_Commute_Time\",\"values\":[39.18,40.56,43.19]}],\"hovertemplate\":\"<b>%{hovertext}</b><br><br>Macro_Regiao=Oceania<br>%{xaxis.title.text}=%{x}<br>%{yaxis.title.text}=%{y}<extra></extra>\",\"hovertext\":[\"Brisbane, Australia\",\"Melbourne, Australia\",\"Sydney, Australia\"],\"legendgroup\":\"Oceania\",\"marker\":{\"color\":\"#ab63fa\",\"symbol\":\"circle\"},\"name\":\"Oceania\",\"showlegend\":true,\"type\":\"splom\"},{\"dimensions\":[{\"axis\":{\"matches\":true},\"label\":\"Quality_Life\",\"values\":[82.42,145.14,138.81,135.27,48.56,96.83,137.66]},{\"axis\":{\"matches\":true},\"label\":\"Area_Pop\",\"values\":[21750020,4800954,3199329,6065354,15387639,5118844,2739768]},{\"axis\":{\"matches\":true},\"label\":\"Pollution\",\"values\":[91.48,39.12,52.96,61.35,89.26,79.75,56.04]},{\"axis\":{\"matches\":true},\"label\":\"Purchasing_Power\",\"values\":[23.12,73.86,73.43,95.79,7.88,32.58,89.79]},{\"axis\":{\"matches\":true},\"label\":\"Health_Care\",\"values\":[45.47,68.58,58.22,60.61,45.94,62.35,66.11]},{\"axis\":{\"matches\":true},\"label\":\"Traffic_Commute_Time\",\"values\":[50.02,42.86,26.11,40.73,68.22,53.82,45.51]}],\"hovertemplate\":\"<b>%{hovertext}</b><br><br>Macro_Regiao=Africa<br>%{xaxis.title.text}=%{x}<br>%{yaxis.title.text}=%{y}<extra></extra>\",\"hovertext\":[\"Cairo, Egypt\",\"Cape Town, South Africa\",\"Durban, South Africa\",\"Johannesburg, South Africa\",\"Lagos, Nigeria\",\"Nairobi, Kenya\",\"Pretoria, South Africa\"],\"legendgroup\":\"Africa\",\"marker\":{\"color\":\"#FFA15A\",\"symbol\":\"circle\"},\"name\":\"Africa\",\"showlegend\":true,\"type\":\"splom\"}],                        {\"template\":{\"data\":{\"histogram2dcontour\":[{\"type\":\"histogram2dcontour\",\"colorbar\":{\"outlinewidth\":0,\"ticks\":\"\"},\"colorscale\":[[0.0,\"#0d0887\"],[0.1111111111111111,\"#46039f\"],[0.2222222222222222,\"#7201a8\"],[0.3333333333333333,\"#9c179e\"],[0.4444444444444444,\"#bd3786\"],[0.5555555555555556,\"#d8576b\"],[0.6666666666666666,\"#ed7953\"],[0.7777777777777778,\"#fb9f3a\"],[0.8888888888888888,\"#fdca26\"],[1.0,\"#f0f921\"]]}],\"choropleth\":[{\"type\":\"choropleth\",\"colorbar\":{\"outlinewidth\":0,\"ticks\":\"\"}}],\"histogram2d\":[{\"type\":\"histogram2d\",\"colorbar\":{\"outlinewidth\":0,\"ticks\":\"\"},\"colorscale\":[[0.0,\"#0d0887\"],[0.1111111111111111,\"#46039f\"],[0.2222222222222222,\"#7201a8\"],[0.3333333333333333,\"#9c179e\"],[0.4444444444444444,\"#bd3786\"],[0.5555555555555556,\"#d8576b\"],[0.6666666666666666,\"#ed7953\"],[0.7777777777777778,\"#fb9f3a\"],[0.8888888888888888,\"#fdca26\"],[1.0,\"#f0f921\"]]}],\"heatmap\":[{\"type\":\"heatmap\",\"colorbar\":{\"outlinewidth\":0,\"ticks\":\"\"},\"colorscale\":[[0.0,\"#0d0887\"],[0.1111111111111111,\"#46039f\"],[0.2222222222222222,\"#7201a8\"],[0.3333333333333333,\"#9c179e\"],[0.4444444444444444,\"#bd3786\"],[0.5555555555555556,\"#d8576b\"],[0.6666666666666666,\"#ed7953\"],[0.7777777777777778,\"#fb9f3a\"],[0.8888888888888888,\"#fdca26\"],[1.0,\"#f0f921\"]]}],\"heatmapgl\":[{\"type\":\"heatmapgl\",\"colorbar\":{\"outlinewidth\":0,\"ticks\":\"\"},\"colorscale\":[[0.0,\"#0d0887\"],[0.1111111111111111,\"#46039f\"],[0.2222222222222222,\"#7201a8\"],[0.3333333333333333,\"#9c179e\"],[0.4444444444444444,\"#bd3786\"],[0.5555555555555556,\"#d8576b\"],[0.6666666666666666,\"#ed7953\"],[0.7777777777777778,\"#fb9f3a\"],[0.8888888888888888,\"#fdca26\"],[1.0,\"#f0f921\"]]}],\"contourcarpet\":[{\"type\":\"contourcarpet\",\"colorbar\":{\"outlinewidth\":0,\"ticks\":\"\"}}],\"contour\":[{\"type\":\"contour\",\"colorbar\":{\"outlinewidth\":0,\"ticks\":\"\"},\"colorscale\":[[0.0,\"#0d0887\"],[0.1111111111111111,\"#46039f\"],[0.2222222222222222,\"#7201a8\"],[0.3333333333333333,\"#9c179e\"],[0.4444444444444444,\"#bd3786\"],[0.5555555555555556,\"#d8576b\"],[0.6666666666666666,\"#ed7953\"],[0.7777777777777778,\"#fb9f3a\"],[0.8888888888888888,\"#fdca26\"],[1.0,\"#f0f921\"]]}],\"surface\":[{\"type\":\"surface\",\"colorbar\":{\"outlinewidth\":0,\"ticks\":\"\"},\"colorscale\":[[0.0,\"#0d0887\"],[0.1111111111111111,\"#46039f\"],[0.2222222222222222,\"#7201a8\"],[0.3333333333333333,\"#9c179e\"],[0.4444444444444444,\"#bd3786\"],[0.5555555555555556,\"#d8576b\"],[0.6666666666666666,\"#ed7953\"],[0.7777777777777778,\"#fb9f3a\"],[0.8888888888888888,\"#fdca26\"],[1.0,\"#f0f921\"]]}],\"mesh3d\":[{\"type\":\"mesh3d\",\"colorbar\":{\"outlinewidth\":0,\"ticks\":\"\"}}],\"scatter\":[{\"fillpattern\":{\"fillmode\":\"overlay\",\"size\":10,\"solidity\":0.2},\"type\":\"scatter\"}],\"parcoords\":[{\"type\":\"parcoords\",\"line\":{\"colorbar\":{\"outlinewidth\":0,\"ticks\":\"\"}}}],\"scatterpolargl\":[{\"type\":\"scatterpolargl\",\"marker\":{\"colorbar\":{\"outlinewidth\":0,\"ticks\":\"\"}}}],\"bar\":[{\"error_x\":{\"color\":\"#2a3f5f\"},\"error_y\":{\"color\":\"#2a3f5f\"},\"marker\":{\"line\":{\"color\":\"#E5ECF6\",\"width\":0.5},\"pattern\":{\"fillmode\":\"overlay\",\"size\":10,\"solidity\":0.2}},\"type\":\"bar\"}],\"scattergeo\":[{\"type\":\"scattergeo\",\"marker\":{\"colorbar\":{\"outlinewidth\":0,\"ticks\":\"\"}}}],\"scatterpolar\":[{\"type\":\"scatterpolar\",\"marker\":{\"colorbar\":{\"outlinewidth\":0,\"ticks\":\"\"}}}],\"histogram\":[{\"marker\":{\"pattern\":{\"fillmode\":\"overlay\",\"size\":10,\"solidity\":0.2}},\"type\":\"histogram\"}],\"scattergl\":[{\"type\":\"scattergl\",\"marker\":{\"colorbar\":{\"outlinewidth\":0,\"ticks\":\"\"}}}],\"scatter3d\":[{\"type\":\"scatter3d\",\"line\":{\"colorbar\":{\"outlinewidth\":0,\"ticks\":\"\"}},\"marker\":{\"colorbar\":{\"outlinewidth\":0,\"ticks\":\"\"}}}],\"scattermapbox\":[{\"type\":\"scattermapbox\",\"marker\":{\"colorbar\":{\"outlinewidth\":0,\"ticks\":\"\"}}}],\"scatterternary\":[{\"type\":\"scatterternary\",\"marker\":{\"colorbar\":{\"outlinewidth\":0,\"ticks\":\"\"}}}],\"scattercarpet\":[{\"type\":\"scattercarpet\",\"marker\":{\"colorbar\":{\"outlinewidth\":0,\"ticks\":\"\"}}}],\"carpet\":[{\"aaxis\":{\"endlinecolor\":\"#2a3f5f\",\"gridcolor\":\"white\",\"linecolor\":\"white\",\"minorgridcolor\":\"white\",\"startlinecolor\":\"#2a3f5f\"},\"baxis\":{\"endlinecolor\":\"#2a3f5f\",\"gridcolor\":\"white\",\"linecolor\":\"white\",\"minorgridcolor\":\"white\",\"startlinecolor\":\"#2a3f5f\"},\"type\":\"carpet\"}],\"table\":[{\"cells\":{\"fill\":{\"color\":\"#EBF0F8\"},\"line\":{\"color\":\"white\"}},\"header\":{\"fill\":{\"color\":\"#C8D4E3\"},\"line\":{\"color\":\"white\"}},\"type\":\"table\"}],\"barpolar\":[{\"marker\":{\"line\":{\"color\":\"#E5ECF6\",\"width\":0.5},\"pattern\":{\"fillmode\":\"overlay\",\"size\":10,\"solidity\":0.2}},\"type\":\"barpolar\"}],\"pie\":[{\"automargin\":true,\"type\":\"pie\"}]},\"layout\":{\"autotypenumbers\":\"strict\",\"colorway\":[\"#636efa\",\"#EF553B\",\"#00cc96\",\"#ab63fa\",\"#FFA15A\",\"#19d3f3\",\"#FF6692\",\"#B6E880\",\"#FF97FF\",\"#FECB52\"],\"font\":{\"color\":\"#2a3f5f\"},\"hovermode\":\"closest\",\"hoverlabel\":{\"align\":\"left\"},\"paper_bgcolor\":\"white\",\"plot_bgcolor\":\"#E5ECF6\",\"polar\":{\"bgcolor\":\"#E5ECF6\",\"angularaxis\":{\"gridcolor\":\"white\",\"linecolor\":\"white\",\"ticks\":\"\"},\"radialaxis\":{\"gridcolor\":\"white\",\"linecolor\":\"white\",\"ticks\":\"\"}},\"ternary\":{\"bgcolor\":\"#E5ECF6\",\"aaxis\":{\"gridcolor\":\"white\",\"linecolor\":\"white\",\"ticks\":\"\"},\"baxis\":{\"gridcolor\":\"white\",\"linecolor\":\"white\",\"ticks\":\"\"},\"caxis\":{\"gridcolor\":\"white\",\"linecolor\":\"white\",\"ticks\":\"\"}},\"coloraxis\":{\"colorbar\":{\"outlinewidth\":0,\"ticks\":\"\"}},\"colorscale\":{\"sequential\":[[0.0,\"#0d0887\"],[0.1111111111111111,\"#46039f\"],[0.2222222222222222,\"#7201a8\"],[0.3333333333333333,\"#9c179e\"],[0.4444444444444444,\"#bd3786\"],[0.5555555555555556,\"#d8576b\"],[0.6666666666666666,\"#ed7953\"],[0.7777777777777778,\"#fb9f3a\"],[0.8888888888888888,\"#fdca26\"],[1.0,\"#f0f921\"]],\"sequentialminus\":[[0.0,\"#0d0887\"],[0.1111111111111111,\"#46039f\"],[0.2222222222222222,\"#7201a8\"],[0.3333333333333333,\"#9c179e\"],[0.4444444444444444,\"#bd3786\"],[0.5555555555555556,\"#d8576b\"],[0.6666666666666666,\"#ed7953\"],[0.7777777777777778,\"#fb9f3a\"],[0.8888888888888888,\"#fdca26\"],[1.0,\"#f0f921\"]],\"diverging\":[[0,\"#8e0152\"],[0.1,\"#c51b7d\"],[0.2,\"#de77ae\"],[0.3,\"#f1b6da\"],[0.4,\"#fde0ef\"],[0.5,\"#f7f7f7\"],[0.6,\"#e6f5d0\"],[0.7,\"#b8e186\"],[0.8,\"#7fbc41\"],[0.9,\"#4d9221\"],[1,\"#276419\"]]},\"xaxis\":{\"gridcolor\":\"white\",\"linecolor\":\"white\",\"ticks\":\"\",\"title\":{\"standoff\":15},\"zerolinecolor\":\"white\",\"automargin\":true,\"zerolinewidth\":2},\"yaxis\":{\"gridcolor\":\"white\",\"linecolor\":\"white\",\"ticks\":\"\",\"title\":{\"standoff\":15},\"zerolinecolor\":\"white\",\"automargin\":true,\"zerolinewidth\":2},\"scene\":{\"xaxis\":{\"backgroundcolor\":\"#E5ECF6\",\"gridcolor\":\"white\",\"linecolor\":\"white\",\"showbackground\":true,\"ticks\":\"\",\"zerolinecolor\":\"white\",\"gridwidth\":2},\"yaxis\":{\"backgroundcolor\":\"#E5ECF6\",\"gridcolor\":\"white\",\"linecolor\":\"white\",\"showbackground\":true,\"ticks\":\"\",\"zerolinecolor\":\"white\",\"gridwidth\":2},\"zaxis\":{\"backgroundcolor\":\"#E5ECF6\",\"gridcolor\":\"white\",\"linecolor\":\"white\",\"showbackground\":true,\"ticks\":\"\",\"zerolinecolor\":\"white\",\"gridwidth\":2}},\"shapedefaults\":{\"line\":{\"color\":\"#2a3f5f\"}},\"annotationdefaults\":{\"arrowcolor\":\"#2a3f5f\",\"arrowhead\":0,\"arrowwidth\":1},\"geo\":{\"bgcolor\":\"white\",\"landcolor\":\"#E5ECF6\",\"subunitcolor\":\"white\",\"showland\":true,\"showlakes\":true,\"lakecolor\":\"white\"},\"title\":{\"x\":0.05},\"mapbox\":{\"style\":\"light\"}}},\"legend\":{\"title\":{\"text\":\"Macro_Regiao\"},\"tracegroupgap\":0},\"margin\":{\"t\":60},\"dragmode\":\"select\",\"height\":800},                        {\"responsive\": true}                    ).then(function(){\n",
       "                            \n",
       "var gd = document.getElementById('2d0a011b-8309-43b2-b81a-e3bdbf817717');\n",
       "var x = new MutationObserver(function (mutations, observer) {{\n",
       "        var display = window.getComputedStyle(gd).display;\n",
       "        if (!display || display === 'none') {{\n",
       "            console.log([gd, 'removed!']);\n",
       "            Plotly.purge(gd);\n",
       "            observer.disconnect();\n",
       "        }}\n",
       "}});\n",
       "\n",
       "// Listen for the removal of the full notebook cells\n",
       "var notebookContainer = gd.closest('#notebook-container');\n",
       "if (notebookContainer) {{\n",
       "    x.observe(notebookContainer, {childList: true});\n",
       "}}\n",
       "\n",
       "// Listen for the clearing of the current output cell\n",
       "var outputEl = gd.closest('.output');\n",
       "if (outputEl) {{\n",
       "    x.observe(outputEl, {childList: true});\n",
       "}}\n",
       "\n",
       "                        })                };                });            </script>        </div>"
      ]
     },
     "metadata": {},
     "output_type": "display_data"
    }
   ],
   "source": [
    "data = df_QualityLife_x_SizeCity\n",
    "display(pd.DataFrame(data.corr())[0:1])\n",
    "\n",
    "fig = px.scatter_matrix(data, height=800, hover_name=data.City_Country, color='Macro_Regiao',\n",
    "            dimensions=['Quality_Life', 'Area_Pop', 'Pollution', 'Purchasing_Power',\n",
    "                       'Health_Care','Traffic_Commute_Time'],\n",
    "                       )\n",
    "fig.show()"
   ]
  },
  {
   "cell_type": "markdown",
   "id": "dead132d",
   "metadata": {},
   "source": [
    "# Cidades do Brasil"
   ]
  },
  {
   "cell_type": "code",
   "execution_count": 44,
   "id": "85235173",
   "metadata": {},
   "outputs": [],
   "source": [
    "df_Internacional = pd.read_excel('REGIC2018_Internacional_Cidades.xlsx')\n",
    "df_Inter_ligada = pd.read_excel('REGIC2018_Internacional_Ligacoes.xlsx')"
   ]
  },
  {
   "cell_type": "code",
   "execution_count": 45,
   "id": "5c9fd765",
   "metadata": {},
   "outputs": [],
   "source": [
    "# Definindo dataframes\n",
    "\n",
    "df_ArranjoPop = pd.read_excel('REGIC2018_Arranjos_Populacionais_v2.xlsx')\n",
    "df_Br = pd.read_excel('REGIC2018_Cidades_v2.xlsx')\n",
    "df_Br_Ligado = pd.read_excel('REGIC2018_Ligacoes_entre_Cidades.xlsx')\n",
    "df_Matriz_liga_Cidades = pd.read_excel('REGIC2018_Matriz_de_Ligacoes.xlsx')"
   ]
  },
  {
   "cell_type": "markdown",
   "id": "bb25b48e",
   "metadata": {},
   "source": [
    "# Arranjo Populacional (AP)"
   ]
  },
  {
   "cell_type": "code",
   "execution_count": 46,
   "id": "32ca9b2e",
   "metadata": {},
   "outputs": [
    {
     "name": "stdout",
     "output_type": "stream",
     "text": [
      "<class 'pandas.core.frame.DataFrame'>\n",
      "RangeIndex: 960 entries, 0 to 959\n",
      "Data columns (total 5 columns):\n",
      " #   Column            Non-Null Count  Dtype \n",
      "---  ------            --------------  ----- \n",
      " 0   Codmun            960 non-null    int64 \n",
      " 1   Nome_Municipio    960 non-null    object\n",
      " 2   Codigo_AP         960 non-null    int64 \n",
      " 3   Nome_Arranjo_Pop  960 non-null    object\n",
      " 4   Tipo_AP           960 non-null    object\n",
      "dtypes: int64(2), object(3)\n",
      "memory usage: 37.6+ KB\n"
     ]
    },
    {
     "data": {
      "text/plain": [
       "None"
      ]
     },
     "metadata": {},
     "output_type": "display_data"
    },
    {
     "data": {
      "text/plain": [
       "289"
      ]
     },
     "metadata": {},
     "output_type": "display_data"
    }
   ],
   "source": [
    "df_ArranjoPop\n",
    "df_ArranjoPop.columns = ['Codmun', 'Nome_Municipio', 'Codigo_AP',\n",
    "       'Nome_Arranjo_Pop', 'Tipo_AP']\n",
    "\n",
    "display(df_ArranjoPop.info())\n",
    "display(len(df_ArranjoPop.Codigo_AP.unique()))"
   ]
  },
  {
   "cell_type": "markdown",
   "id": "2fbbd4a7",
   "metadata": {},
   "source": [
    "# Cidades do Brasil"
   ]
  },
  {
   "cell_type": "code",
   "execution_count": 47,
   "id": "162a0962",
   "metadata": {},
   "outputs": [
    {
     "data": {
      "text/html": [
       "<div>\n",
       "<style scoped>\n",
       "    .dataframe tbody tr th:only-of-type {\n",
       "        vertical-align: middle;\n",
       "    }\n",
       "\n",
       "    .dataframe tbody tr th {\n",
       "        vertical-align: top;\n",
       "    }\n",
       "\n",
       "    .dataframe thead th {\n",
       "        text-align: right;\n",
       "    }\n",
       "</style>\n",
       "<table border=\"1\" class=\"dataframe\">\n",
       "  <thead>\n",
       "    <tr style=\"text-align: right;\">\n",
       "      <th></th>\n",
       "      <th>COD_UF</th>\n",
       "      <th>UF</th>\n",
       "      <th>COD_CIDADE</th>\n",
       "      <th>NOME_CIDADE</th>\n",
       "      <th>VAR01</th>\n",
       "      <th>VAR02</th>\n",
       "      <th>VAR03</th>\n",
       "      <th>VAR04</th>\n",
       "      <th>VAR05</th>\n",
       "      <th>VAR06</th>\n",
       "      <th>...</th>\n",
       "      <th>VAR93</th>\n",
       "      <th>VAR94</th>\n",
       "      <th>VAR95</th>\n",
       "      <th>VAR96</th>\n",
       "      <th>VAR97</th>\n",
       "      <th>VAR98</th>\n",
       "      <th>VAR99</th>\n",
       "      <th>VAR100</th>\n",
       "      <th>VAR101</th>\n",
       "      <th>VAR102</th>\n",
       "    </tr>\n",
       "  </thead>\n",
       "  <tbody>\n",
       "    <tr>\n",
       "      <th>0</th>\n",
       "      <td>35</td>\n",
       "      <td>SP</td>\n",
       "      <td>3550308</td>\n",
       "      <td>Arranjo Populacional de São Paulo/SP</td>\n",
       "      <td>21510595</td>\n",
       "      <td>7153.971</td>\n",
       "      <td>1105998121</td>\n",
       "      <td>1439179</td>\n",
       "      <td>133977123</td>\n",
       "      <td>702385109</td>\n",
       "      <td>...</td>\n",
       "      <td>1</td>\n",
       "      <td>1</td>\n",
       "      <td>1.980187</td>\n",
       "      <td>1177698</td>\n",
       "      <td>54.338305</td>\n",
       "      <td>1</td>\n",
       "      <td>7.950931e+06</td>\n",
       "      <td>9.308112e+06</td>\n",
       "      <td>5.084000e+06</td>\n",
       "      <td>1.524102e+07</td>\n",
       "    </tr>\n",
       "    <tr>\n",
       "      <th>1</th>\n",
       "      <td>33</td>\n",
       "      <td>RJ</td>\n",
       "      <td>3304557</td>\n",
       "      <td>Arranjo Populacional do Rio de Janeiro/RJ</td>\n",
       "      <td>12712762</td>\n",
       "      <td>6044.980</td>\n",
       "      <td>486465722</td>\n",
       "      <td>345807</td>\n",
       "      <td>63224410</td>\n",
       "      <td>254652826</td>\n",
       "      <td>...</td>\n",
       "      <td>2</td>\n",
       "      <td>1</td>\n",
       "      <td>1.954493</td>\n",
       "      <td>316845</td>\n",
       "      <td>24.796214</td>\n",
       "      <td>1</td>\n",
       "      <td>3.202414e+05</td>\n",
       "      <td>4.800890e+05</td>\n",
       "      <td>3.329692e+05</td>\n",
       "      <td>4.320727e+06</td>\n",
       "    </tr>\n",
       "    <tr>\n",
       "      <th>2</th>\n",
       "      <td>53</td>\n",
       "      <td>DF</td>\n",
       "      <td>5300108</td>\n",
       "      <td>Arranjo Populacional de Brasília/DF</td>\n",
       "      <td>3931072</td>\n",
       "      <td>17199.340</td>\n",
       "      <td>246426878</td>\n",
       "      <td>1420732</td>\n",
       "      <td>11310504</td>\n",
       "      <td>108491618</td>\n",
       "      <td>...</td>\n",
       "      <td>3</td>\n",
       "      <td>1</td>\n",
       "      <td>1.856745</td>\n",
       "      <td>114797</td>\n",
       "      <td>28.770753</td>\n",
       "      <td>2</td>\n",
       "      <td>2.592519e+06</td>\n",
       "      <td>3.671209e+06</td>\n",
       "      <td>3.013906e+06</td>\n",
       "      <td>4.618535e+06</td>\n",
       "    </tr>\n",
       "    <tr>\n",
       "      <th>3</th>\n",
       "      <td>31</td>\n",
       "      <td>MG</td>\n",
       "      <td>3106200</td>\n",
       "      <td>Arranjo Populacional de Belo Horizonte/MG</td>\n",
       "      <td>5160564</td>\n",
       "      <td>5519.435</td>\n",
       "      <td>172656163</td>\n",
       "      <td>333818</td>\n",
       "      <td>38814170</td>\n",
       "      <td>87931414</td>\n",
       "      <td>...</td>\n",
       "      <td>2</td>\n",
       "      <td>1</td>\n",
       "      <td>2.065666</td>\n",
       "      <td>176351</td>\n",
       "      <td>33.917881</td>\n",
       "      <td>3</td>\n",
       "      <td>1.568028e+06</td>\n",
       "      <td>2.407794e+06</td>\n",
       "      <td>1.532298e+06</td>\n",
       "      <td>5.739557e+06</td>\n",
       "    </tr>\n",
       "    <tr>\n",
       "      <th>4</th>\n",
       "      <td>43</td>\n",
       "      <td>RS</td>\n",
       "      <td>4314902</td>\n",
       "      <td>Arranjo Populacional de Porto Alegre/RS</td>\n",
       "      <td>3955384</td>\n",
       "      <td>5791.354</td>\n",
       "      <td>158732865</td>\n",
       "      <td>550201</td>\n",
       "      <td>31902430</td>\n",
       "      <td>83978910</td>\n",
       "      <td>...</td>\n",
       "      <td>3</td>\n",
       "      <td>1</td>\n",
       "      <td>2.484209</td>\n",
       "      <td>145988</td>\n",
       "      <td>36.719419</td>\n",
       "      <td>1</td>\n",
       "      <td>1.300952e+06</td>\n",
       "      <td>2.142245e+06</td>\n",
       "      <td>1.174351e+06</td>\n",
       "      <td>2.898426e+06</td>\n",
       "    </tr>\n",
       "    <tr>\n",
       "      <th>...</th>\n",
       "      <td>...</td>\n",
       "      <td>...</td>\n",
       "      <td>...</td>\n",
       "      <td>...</td>\n",
       "      <td>...</td>\n",
       "      <td>...</td>\n",
       "      <td>...</td>\n",
       "      <td>...</td>\n",
       "      <td>...</td>\n",
       "      <td>...</td>\n",
       "      <td>...</td>\n",
       "      <td>...</td>\n",
       "      <td>...</td>\n",
       "      <td>...</td>\n",
       "      <td>...</td>\n",
       "      <td>...</td>\n",
       "      <td>...</td>\n",
       "      <td>...</td>\n",
       "      <td>...</td>\n",
       "      <td>...</td>\n",
       "      <td>...</td>\n",
       "    </tr>\n",
       "    <tr>\n",
       "      <th>4894</th>\n",
       "      <td>22</td>\n",
       "      <td>PI</td>\n",
       "      <td>2210375</td>\n",
       "      <td>São Luis do Piauí</td>\n",
       "      <td>2642</td>\n",
       "      <td>217.924</td>\n",
       "      <td>16575</td>\n",
       "      <td>654</td>\n",
       "      <td>724</td>\n",
       "      <td>3335</td>\n",
       "      <td>...</td>\n",
       "      <td>6</td>\n",
       "      <td>6</td>\n",
       "      <td>0.000000</td>\n",
       "      <td>0</td>\n",
       "      <td>0.000000</td>\n",
       "      <td>7</td>\n",
       "      <td>0.000000e+00</td>\n",
       "      <td>0.000000e+00</td>\n",
       "      <td>0.000000e+00</td>\n",
       "      <td>0.000000e+00</td>\n",
       "    </tr>\n",
       "    <tr>\n",
       "      <th>4895</th>\n",
       "      <td>22</td>\n",
       "      <td>PI</td>\n",
       "      <td>2200954</td>\n",
       "      <td>Aroeiras do Itaim</td>\n",
       "      <td>2551</td>\n",
       "      <td>316.235</td>\n",
       "      <td>16553</td>\n",
       "      <td>1733</td>\n",
       "      <td>532</td>\n",
       "      <td>2833</td>\n",
       "      <td>...</td>\n",
       "      <td>6</td>\n",
       "      <td>6</td>\n",
       "      <td>0.000000</td>\n",
       "      <td>0</td>\n",
       "      <td>0.000000</td>\n",
       "      <td>7</td>\n",
       "      <td>0.000000e+00</td>\n",
       "      <td>0.000000e+00</td>\n",
       "      <td>0.000000e+00</td>\n",
       "      <td>0.000000e+00</td>\n",
       "    </tr>\n",
       "    <tr>\n",
       "      <th>4896</th>\n",
       "      <td>52</td>\n",
       "      <td>GO</td>\n",
       "      <td>5201207</td>\n",
       "      <td>Anhanguera</td>\n",
       "      <td>1137</td>\n",
       "      <td>56.950</td>\n",
       "      <td>15935</td>\n",
       "      <td>1917</td>\n",
       "      <td>1051</td>\n",
       "      <td>4088</td>\n",
       "      <td>...</td>\n",
       "      <td>6</td>\n",
       "      <td>6</td>\n",
       "      <td>0.000000</td>\n",
       "      <td>3</td>\n",
       "      <td>2.610966</td>\n",
       "      <td>6</td>\n",
       "      <td>0.000000e+00</td>\n",
       "      <td>0.000000e+00</td>\n",
       "      <td>0.000000e+00</td>\n",
       "      <td>0.000000e+00</td>\n",
       "    </tr>\n",
       "    <tr>\n",
       "      <th>4897</th>\n",
       "      <td>24</td>\n",
       "      <td>RN</td>\n",
       "      <td>2414902</td>\n",
       "      <td>Viçosa</td>\n",
       "      <td>1712</td>\n",
       "      <td>37.905</td>\n",
       "      <td>14960</td>\n",
       "      <td>442</td>\n",
       "      <td>606</td>\n",
       "      <td>3219</td>\n",
       "      <td>...</td>\n",
       "      <td>6</td>\n",
       "      <td>5</td>\n",
       "      <td>8.761682</td>\n",
       "      <td>2</td>\n",
       "      <td>1.164144</td>\n",
       "      <td>7</td>\n",
       "      <td>3.134047e+02</td>\n",
       "      <td>2.507238e+02</td>\n",
       "      <td>1.253619e+03</td>\n",
       "      <td>8.775332e+02</td>\n",
       "    </tr>\n",
       "    <tr>\n",
       "      <th>4898</th>\n",
       "      <td>22</td>\n",
       "      <td>PI</td>\n",
       "      <td>2206308</td>\n",
       "      <td>Miguel Leão</td>\n",
       "      <td>1250</td>\n",
       "      <td>93.412</td>\n",
       "      <td>11675</td>\n",
       "      <td>992</td>\n",
       "      <td>466</td>\n",
       "      <td>2165</td>\n",
       "      <td>...</td>\n",
       "      <td>6</td>\n",
       "      <td>5</td>\n",
       "      <td>0.000000</td>\n",
       "      <td>1</td>\n",
       "      <td>0.802568</td>\n",
       "      <td>7</td>\n",
       "      <td>1.478350e+03</td>\n",
       "      <td>1.034845e+03</td>\n",
       "      <td>4.927832e+02</td>\n",
       "      <td>1.241879e+03</td>\n",
       "    </tr>\n",
       "  </tbody>\n",
       "</table>\n",
       "<p>4899 rows × 106 columns</p>\n",
       "</div>"
      ],
      "text/plain": [
       "      COD_UF  UF  COD_CIDADE                                NOME_CIDADE  \\\n",
       "0         35  SP     3550308       Arranjo Populacional de São Paulo/SP   \n",
       "1         33  RJ     3304557  Arranjo Populacional do Rio de Janeiro/RJ   \n",
       "2         53  DF     5300108        Arranjo Populacional de Brasília/DF   \n",
       "3         31  MG     3106200  Arranjo Populacional de Belo Horizonte/MG   \n",
       "4         43  RS     4314902    Arranjo Populacional de Porto Alegre/RS   \n",
       "...      ...  ..         ...                                        ...   \n",
       "4894      22  PI     2210375                          São Luis do Piauí   \n",
       "4895      22  PI     2200954                          Aroeiras do Itaim   \n",
       "4896      52  GO     5201207                                 Anhanguera   \n",
       "4897      24  RN     2414902                                     Viçosa   \n",
       "4898      22  PI     2206308                                Miguel Leão   \n",
       "\n",
       "         VAR01      VAR02       VAR03    VAR04      VAR05      VAR06  ...  \\\n",
       "0     21510595   7153.971  1105998121  1439179  133977123  702385109  ...   \n",
       "1     12712762   6044.980   486465722   345807   63224410  254652826  ...   \n",
       "2      3931072  17199.340   246426878  1420732   11310504  108491618  ...   \n",
       "3      5160564   5519.435   172656163   333818   38814170   87931414  ...   \n",
       "4      3955384   5791.354   158732865   550201   31902430   83978910  ...   \n",
       "...        ...        ...         ...      ...        ...        ...  ...   \n",
       "4894      2642    217.924       16575      654        724       3335  ...   \n",
       "4895      2551    316.235       16553     1733        532       2833  ...   \n",
       "4896      1137     56.950       15935     1917       1051       4088  ...   \n",
       "4897      1712     37.905       14960      442        606       3219  ...   \n",
       "4898      1250     93.412       11675      992        466       2165  ...   \n",
       "\n",
       "      VAR93  VAR94     VAR95    VAR96      VAR97 VAR98         VAR99  \\\n",
       "0         1      1  1.980187  1177698  54.338305     1  7.950931e+06   \n",
       "1         2      1  1.954493   316845  24.796214     1  3.202414e+05   \n",
       "2         3      1  1.856745   114797  28.770753     2  2.592519e+06   \n",
       "3         2      1  2.065666   176351  33.917881     3  1.568028e+06   \n",
       "4         3      1  2.484209   145988  36.719419     1  1.300952e+06   \n",
       "...     ...    ...       ...      ...        ...   ...           ...   \n",
       "4894      6      6  0.000000        0   0.000000     7  0.000000e+00   \n",
       "4895      6      6  0.000000        0   0.000000     7  0.000000e+00   \n",
       "4896      6      6  0.000000        3   2.610966     6  0.000000e+00   \n",
       "4897      6      5  8.761682        2   1.164144     7  3.134047e+02   \n",
       "4898      6      5  0.000000        1   0.802568     7  1.478350e+03   \n",
       "\n",
       "            VAR100        VAR101        VAR102  \n",
       "0     9.308112e+06  5.084000e+06  1.524102e+07  \n",
       "1     4.800890e+05  3.329692e+05  4.320727e+06  \n",
       "2     3.671209e+06  3.013906e+06  4.618535e+06  \n",
       "3     2.407794e+06  1.532298e+06  5.739557e+06  \n",
       "4     2.142245e+06  1.174351e+06  2.898426e+06  \n",
       "...            ...           ...           ...  \n",
       "4894  0.000000e+00  0.000000e+00  0.000000e+00  \n",
       "4895  0.000000e+00  0.000000e+00  0.000000e+00  \n",
       "4896  0.000000e+00  0.000000e+00  0.000000e+00  \n",
       "4897  2.507238e+02  1.253619e+03  8.775332e+02  \n",
       "4898  1.034845e+03  4.927832e+02  1.241879e+03  \n",
       "\n",
       "[4899 rows x 106 columns]"
      ]
     },
     "execution_count": 47,
     "metadata": {},
     "output_type": "execute_result"
    }
   ],
   "source": [
    "df_Br = pd.read_excel('REGIC2018_Cidades_v2.xlsx')\n",
    "df_Br"
   ]
  },
  {
   "cell_type": "markdown",
   "id": "dcaffd44",
   "metadata": {},
   "source": [
    "# Cidades Brasil Ligadas"
   ]
  },
  {
   "cell_type": "code",
   "execution_count": 48,
   "id": "3a9cedd2",
   "metadata": {},
   "outputs": [
    {
     "data": {
      "text/plain": [
       "Index(['id_reg', 'cod_ori', 'nome_ori', 'coduf_ori', 'uf_ori', 'nivel_ori',\n",
       "       'classe_ori', 'cod_dest', 'nome_dest', 'coduf_dest', 'uf_dest',\n",
       "       'nivel_dest', 'classe_des', 'dist_km', 'vinculo', 'multi_metr',\n",
       "       'metr_simb', 'nome_metr', 'multi_cap', 'cap_reg_si', 'nome_cap_r',\n",
       "       'entre_met', 'gp_metr', 'ge_metr', 'ligrod_met', 'aero_metr', 'quest',\n",
       "       'quest_1', 'quest_2', 'quest_3', 'quest_4', 'quest_5', 'quest_6',\n",
       "       'quest_7', 'quest_8', 'quest_9', 'quest_10', 'lig_c_tv', 'aero_pax',\n",
       "       'agro', 'agro_q1', 'agro_q2', 'agro_q3', 'agro_q4'],\n",
       "      dtype='object')"
      ]
     },
     "execution_count": 48,
     "metadata": {},
     "output_type": "execute_result"
    }
   ],
   "source": [
    "df_Br_Ligado.columns"
   ]
  },
  {
   "cell_type": "code",
   "execution_count": 49,
   "id": "8fb8c39b",
   "metadata": {},
   "outputs": [
    {
     "data": {
      "text/plain": [
       "array(['1C', '5', '4A', '1B', '3B', '1A', '4B', '3A', '2C', '2A', '2B'],\n",
       "      dtype=object)"
      ]
     },
     "execution_count": 49,
     "metadata": {},
     "output_type": "execute_result"
    }
   ],
   "source": [
    "df_Br_Ligado.nivel_ori.unique()"
   ]
  },
  {
   "cell_type": "code",
   "execution_count": 50,
   "id": "ce995e27",
   "metadata": {},
   "outputs": [
    {
     "data": {
      "text/html": [
       "<div>\n",
       "<style scoped>\n",
       "    .dataframe tbody tr th:only-of-type {\n",
       "        vertical-align: middle;\n",
       "    }\n",
       "\n",
       "    .dataframe tbody tr th {\n",
       "        vertical-align: top;\n",
       "    }\n",
       "\n",
       "    .dataframe thead th {\n",
       "        text-align: right;\n",
       "    }\n",
       "</style>\n",
       "<table border=\"1\" class=\"dataframe\">\n",
       "  <thead>\n",
       "    <tr style=\"text-align: right;\">\n",
       "      <th></th>\n",
       "      <th>id_reg</th>\n",
       "      <th>cod_ori</th>\n",
       "      <th>nome_ori</th>\n",
       "      <th>coduf_ori</th>\n",
       "      <th>uf_ori</th>\n",
       "      <th>nivel_ori</th>\n",
       "      <th>classe_ori</th>\n",
       "      <th>cod_dest</th>\n",
       "      <th>nome_dest</th>\n",
       "      <th>coduf_dest</th>\n",
       "      <th>...</th>\n",
       "      <th>quest_8</th>\n",
       "      <th>quest_9</th>\n",
       "      <th>quest_10</th>\n",
       "      <th>lig_c_tv</th>\n",
       "      <th>aero_pax</th>\n",
       "      <th>agro</th>\n",
       "      <th>agro_q1</th>\n",
       "      <th>agro_q2</th>\n",
       "      <th>agro_q3</th>\n",
       "      <th>agro_q4</th>\n",
       "    </tr>\n",
       "  </thead>\n",
       "  <tbody>\n",
       "    <tr>\n",
       "      <th>56</th>\n",
       "      <td>35503082927408</td>\n",
       "      <td>3550308</td>\n",
       "      <td>Arranjo Populacional de São Paulo/SP</td>\n",
       "      <td>35</td>\n",
       "      <td>SP</td>\n",
       "      <td>1A</td>\n",
       "      <td>Grande Metrópole Nacional</td>\n",
       "      <td>2927408</td>\n",
       "      <td>Arranjo Populacional de Salvador/BA</td>\n",
       "      <td>29</td>\n",
       "      <td>...</td>\n",
       "      <td>0</td>\n",
       "      <td>0</td>\n",
       "      <td>0</td>\n",
       "      <td>NaN</td>\n",
       "      <td>NaN</td>\n",
       "      <td>não</td>\n",
       "      <td>0</td>\n",
       "      <td>0</td>\n",
       "      <td>0</td>\n",
       "      <td>0</td>\n",
       "    </tr>\n",
       "    <tr>\n",
       "      <th>57</th>\n",
       "      <td>35503083106200</td>\n",
       "      <td>3550308</td>\n",
       "      <td>Arranjo Populacional de São Paulo/SP</td>\n",
       "      <td>35</td>\n",
       "      <td>SP</td>\n",
       "      <td>1A</td>\n",
       "      <td>Grande Metrópole Nacional</td>\n",
       "      <td>3106200</td>\n",
       "      <td>Arranjo Populacional de Belo Horizonte/MG</td>\n",
       "      <td>31</td>\n",
       "      <td>...</td>\n",
       "      <td>0</td>\n",
       "      <td>0</td>\n",
       "      <td>0</td>\n",
       "      <td>NaN</td>\n",
       "      <td>NaN</td>\n",
       "      <td>não</td>\n",
       "      <td>0</td>\n",
       "      <td>0</td>\n",
       "      <td>0</td>\n",
       "      <td>0</td>\n",
       "    </tr>\n",
       "    <tr>\n",
       "      <th>59</th>\n",
       "      <td>35503083304557</td>\n",
       "      <td>3550308</td>\n",
       "      <td>Arranjo Populacional de São Paulo/SP</td>\n",
       "      <td>35</td>\n",
       "      <td>SP</td>\n",
       "      <td>1A</td>\n",
       "      <td>Grande Metrópole Nacional</td>\n",
       "      <td>3304557</td>\n",
       "      <td>Arranjo Populacional do Rio de Janeiro/RJ</td>\n",
       "      <td>33</td>\n",
       "      <td>...</td>\n",
       "      <td>0</td>\n",
       "      <td>0</td>\n",
       "      <td>0</td>\n",
       "      <td>NaN</td>\n",
       "      <td>NaN</td>\n",
       "      <td>não</td>\n",
       "      <td>0</td>\n",
       "      <td>0</td>\n",
       "      <td>0</td>\n",
       "      <td>0</td>\n",
       "    </tr>\n",
       "    <tr>\n",
       "      <th>61</th>\n",
       "      <td>35503083509502</td>\n",
       "      <td>3550308</td>\n",
       "      <td>Arranjo Populacional de São Paulo/SP</td>\n",
       "      <td>35</td>\n",
       "      <td>SP</td>\n",
       "      <td>1A</td>\n",
       "      <td>Grande Metrópole Nacional</td>\n",
       "      <td>3509502</td>\n",
       "      <td>Arranjo Populacional de Campinas/SP</td>\n",
       "      <td>35</td>\n",
       "      <td>...</td>\n",
       "      <td>0</td>\n",
       "      <td>0</td>\n",
       "      <td>0</td>\n",
       "      <td>NaN</td>\n",
       "      <td>NaN</td>\n",
       "      <td>não</td>\n",
       "      <td>0</td>\n",
       "      <td>0</td>\n",
       "      <td>0</td>\n",
       "      <td>0</td>\n",
       "    </tr>\n",
       "    <tr>\n",
       "      <th>62</th>\n",
       "      <td>35503084106902</td>\n",
       "      <td>3550308</td>\n",
       "      <td>Arranjo Populacional de São Paulo/SP</td>\n",
       "      <td>35</td>\n",
       "      <td>SP</td>\n",
       "      <td>1A</td>\n",
       "      <td>Grande Metrópole Nacional</td>\n",
       "      <td>4106902</td>\n",
       "      <td>Arranjo Populacional de Curitiba/PR</td>\n",
       "      <td>41</td>\n",
       "      <td>...</td>\n",
       "      <td>0</td>\n",
       "      <td>0</td>\n",
       "      <td>0</td>\n",
       "      <td>NaN</td>\n",
       "      <td>3096102.0</td>\n",
       "      <td>não</td>\n",
       "      <td>0</td>\n",
       "      <td>0</td>\n",
       "      <td>0</td>\n",
       "      <td>0</td>\n",
       "    </tr>\n",
       "    <tr>\n",
       "      <th>63</th>\n",
       "      <td>35503084314902</td>\n",
       "      <td>3550308</td>\n",
       "      <td>Arranjo Populacional de São Paulo/SP</td>\n",
       "      <td>35</td>\n",
       "      <td>SP</td>\n",
       "      <td>1A</td>\n",
       "      <td>Grande Metrópole Nacional</td>\n",
       "      <td>4314902</td>\n",
       "      <td>Arranjo Populacional de Porto Alegre/RS</td>\n",
       "      <td>43</td>\n",
       "      <td>...</td>\n",
       "      <td>0</td>\n",
       "      <td>0</td>\n",
       "      <td>0</td>\n",
       "      <td>NaN</td>\n",
       "      <td>3651297.0</td>\n",
       "      <td>não</td>\n",
       "      <td>0</td>\n",
       "      <td>0</td>\n",
       "      <td>0</td>\n",
       "      <td>0</td>\n",
       "    </tr>\n",
       "    <tr>\n",
       "      <th>64</th>\n",
       "      <td>35503085300108</td>\n",
       "      <td>3550308</td>\n",
       "      <td>Arranjo Populacional de São Paulo/SP</td>\n",
       "      <td>35</td>\n",
       "      <td>SP</td>\n",
       "      <td>1A</td>\n",
       "      <td>Grande Metrópole Nacional</td>\n",
       "      <td>5300108</td>\n",
       "      <td>Arranjo Populacional de Brasília/DF</td>\n",
       "      <td>53</td>\n",
       "      <td>...</td>\n",
       "      <td>0</td>\n",
       "      <td>0</td>\n",
       "      <td>0</td>\n",
       "      <td>NaN</td>\n",
       "      <td>3165748.0</td>\n",
       "      <td>não</td>\n",
       "      <td>0</td>\n",
       "      <td>0</td>\n",
       "      <td>0</td>\n",
       "      <td>0</td>\n",
       "    </tr>\n",
       "    <tr>\n",
       "      <th>3688</th>\n",
       "      <td>15068073550308</td>\n",
       "      <td>3550308</td>\n",
       "      <td>Arranjo Populacional de São Paulo/SP</td>\n",
       "      <td>35</td>\n",
       "      <td>SP</td>\n",
       "      <td>1A</td>\n",
       "      <td>Grande Metrópole Nacional</td>\n",
       "      <td>1506807</td>\n",
       "      <td>Santarém</td>\n",
       "      <td>15</td>\n",
       "      <td>...</td>\n",
       "      <td>0</td>\n",
       "      <td>0</td>\n",
       "      <td>0</td>\n",
       "      <td>NaN</td>\n",
       "      <td>206.0</td>\n",
       "      <td>não</td>\n",
       "      <td>0</td>\n",
       "      <td>0</td>\n",
       "      <td>0</td>\n",
       "      <td>0</td>\n",
       "    </tr>\n",
       "    <tr>\n",
       "      <th>3689</th>\n",
       "      <td>29325073550308</td>\n",
       "      <td>3550308</td>\n",
       "      <td>Arranjo Populacional de São Paulo/SP</td>\n",
       "      <td>35</td>\n",
       "      <td>SP</td>\n",
       "      <td>1A</td>\n",
       "      <td>Grande Metrópole Nacional</td>\n",
       "      <td>2932507</td>\n",
       "      <td>Una</td>\n",
       "      <td>29</td>\n",
       "      <td>...</td>\n",
       "      <td>0</td>\n",
       "      <td>0</td>\n",
       "      <td>0</td>\n",
       "      <td>NaN</td>\n",
       "      <td>1262.0</td>\n",
       "      <td>sim</td>\n",
       "      <td>0</td>\n",
       "      <td>0</td>\n",
       "      <td>0</td>\n",
       "      <td>1</td>\n",
       "    </tr>\n",
       "    <tr>\n",
       "      <th>3691</th>\n",
       "      <td>35503084104808</td>\n",
       "      <td>3550308</td>\n",
       "      <td>Arranjo Populacional de São Paulo/SP</td>\n",
       "      <td>35</td>\n",
       "      <td>SP</td>\n",
       "      <td>1A</td>\n",
       "      <td>Grande Metrópole Nacional</td>\n",
       "      <td>4104808</td>\n",
       "      <td>Arranjo Populacional de Cascavel/PR</td>\n",
       "      <td>41</td>\n",
       "      <td>...</td>\n",
       "      <td>0</td>\n",
       "      <td>0</td>\n",
       "      <td>0</td>\n",
       "      <td>NaN</td>\n",
       "      <td>11668.0</td>\n",
       "      <td>não</td>\n",
       "      <td>0</td>\n",
       "      <td>0</td>\n",
       "      <td>0</td>\n",
       "      <td>0</td>\n",
       "    </tr>\n",
       "    <tr>\n",
       "      <th>3692</th>\n",
       "      <td>35503084108304</td>\n",
       "      <td>3550308</td>\n",
       "      <td>Arranjo Populacional de São Paulo/SP</td>\n",
       "      <td>35</td>\n",
       "      <td>SP</td>\n",
       "      <td>1A</td>\n",
       "      <td>Grande Metrópole Nacional</td>\n",
       "      <td>4108304</td>\n",
       "      <td>Arranjo Populacional Internacional de Foz do I...</td>\n",
       "      <td>41</td>\n",
       "      <td>...</td>\n",
       "      <td>0</td>\n",
       "      <td>0</td>\n",
       "      <td>0</td>\n",
       "      <td>NaN</td>\n",
       "      <td>980194.0</td>\n",
       "      <td>não</td>\n",
       "      <td>0</td>\n",
       "      <td>0</td>\n",
       "      <td>0</td>\n",
       "      <td>0</td>\n",
       "    </tr>\n",
       "    <tr>\n",
       "      <th>3693</th>\n",
       "      <td>35503084113700</td>\n",
       "      <td>3550308</td>\n",
       "      <td>Arranjo Populacional de São Paulo/SP</td>\n",
       "      <td>35</td>\n",
       "      <td>SP</td>\n",
       "      <td>1A</td>\n",
       "      <td>Grande Metrópole Nacional</td>\n",
       "      <td>4113700</td>\n",
       "      <td>Arranjo Populacional de Londrina/PR</td>\n",
       "      <td>41</td>\n",
       "      <td>...</td>\n",
       "      <td>0</td>\n",
       "      <td>0</td>\n",
       "      <td>0</td>\n",
       "      <td>NaN</td>\n",
       "      <td>553130.0</td>\n",
       "      <td>não</td>\n",
       "      <td>0</td>\n",
       "      <td>0</td>\n",
       "      <td>0</td>\n",
       "      <td>0</td>\n",
       "    </tr>\n",
       "    <tr>\n",
       "      <th>3695</th>\n",
       "      <td>35503084115200</td>\n",
       "      <td>3550308</td>\n",
       "      <td>Arranjo Populacional de São Paulo/SP</td>\n",
       "      <td>35</td>\n",
       "      <td>SP</td>\n",
       "      <td>1A</td>\n",
       "      <td>Grande Metrópole Nacional</td>\n",
       "      <td>4115200</td>\n",
       "      <td>Arranjo Populacional de Maringá/PR</td>\n",
       "      <td>41</td>\n",
       "      <td>...</td>\n",
       "      <td>0</td>\n",
       "      <td>0</td>\n",
       "      <td>0</td>\n",
       "      <td>NaN</td>\n",
       "      <td>347151.0</td>\n",
       "      <td>não</td>\n",
       "      <td>0</td>\n",
       "      <td>0</td>\n",
       "      <td>0</td>\n",
       "      <td>0</td>\n",
       "    </tr>\n",
       "    <tr>\n",
       "      <th>3696</th>\n",
       "      <td>35503084204202</td>\n",
       "      <td>3550308</td>\n",
       "      <td>Arranjo Populacional de São Paulo/SP</td>\n",
       "      <td>35</td>\n",
       "      <td>SP</td>\n",
       "      <td>1A</td>\n",
       "      <td>Grande Metrópole Nacional</td>\n",
       "      <td>4204202</td>\n",
       "      <td>Arranjo Populacional de Chapecó/SC</td>\n",
       "      <td>42</td>\n",
       "      <td>...</td>\n",
       "      <td>0</td>\n",
       "      <td>0</td>\n",
       "      <td>0</td>\n",
       "      <td>NaN</td>\n",
       "      <td>152578.0</td>\n",
       "      <td>não</td>\n",
       "      <td>0</td>\n",
       "      <td>0</td>\n",
       "      <td>0</td>\n",
       "      <td>0</td>\n",
       "    </tr>\n",
       "    <tr>\n",
       "      <th>3698</th>\n",
       "      <td>35503084205407</td>\n",
       "      <td>3550308</td>\n",
       "      <td>Arranjo Populacional de São Paulo/SP</td>\n",
       "      <td>35</td>\n",
       "      <td>SP</td>\n",
       "      <td>1A</td>\n",
       "      <td>Grande Metrópole Nacional</td>\n",
       "      <td>4205407</td>\n",
       "      <td>Arranjo Populacional de Florianópolis/SC</td>\n",
       "      <td>42</td>\n",
       "      <td>...</td>\n",
       "      <td>0</td>\n",
       "      <td>0</td>\n",
       "      <td>0</td>\n",
       "      <td>NaN</td>\n",
       "      <td>1988630.0</td>\n",
       "      <td>não</td>\n",
       "      <td>0</td>\n",
       "      <td>0</td>\n",
       "      <td>0</td>\n",
       "      <td>0</td>\n",
       "    </tr>\n",
       "    <tr>\n",
       "      <th>3699</th>\n",
       "      <td>35503084208203</td>\n",
       "      <td>3550308</td>\n",
       "      <td>Arranjo Populacional de São Paulo/SP</td>\n",
       "      <td>35</td>\n",
       "      <td>SP</td>\n",
       "      <td>1A</td>\n",
       "      <td>Grande Metrópole Nacional</td>\n",
       "      <td>4208203</td>\n",
       "      <td>Arranjo Populacional de Itajaí - Balneário Cam...</td>\n",
       "      <td>42</td>\n",
       "      <td>...</td>\n",
       "      <td>0</td>\n",
       "      <td>0</td>\n",
       "      <td>0</td>\n",
       "      <td>NaN</td>\n",
       "      <td>1082396.0</td>\n",
       "      <td>não</td>\n",
       "      <td>0</td>\n",
       "      <td>0</td>\n",
       "      <td>0</td>\n",
       "      <td>0</td>\n",
       "    </tr>\n",
       "    <tr>\n",
       "      <th>3700</th>\n",
       "      <td>35503084208807</td>\n",
       "      <td>3550308</td>\n",
       "      <td>Arranjo Populacional de São Paulo/SP</td>\n",
       "      <td>35</td>\n",
       "      <td>SP</td>\n",
       "      <td>1A</td>\n",
       "      <td>Grande Metrópole Nacional</td>\n",
       "      <td>4208807</td>\n",
       "      <td>Jaguaruna</td>\n",
       "      <td>42</td>\n",
       "      <td>...</td>\n",
       "      <td>0</td>\n",
       "      <td>0</td>\n",
       "      <td>0</td>\n",
       "      <td>NaN</td>\n",
       "      <td>73532.0</td>\n",
       "      <td>não</td>\n",
       "      <td>0</td>\n",
       "      <td>0</td>\n",
       "      <td>0</td>\n",
       "      <td>0</td>\n",
       "    </tr>\n",
       "    <tr>\n",
       "      <th>3701</th>\n",
       "      <td>35503084209102</td>\n",
       "      <td>3550308</td>\n",
       "      <td>Arranjo Populacional de São Paulo/SP</td>\n",
       "      <td>35</td>\n",
       "      <td>SP</td>\n",
       "      <td>1A</td>\n",
       "      <td>Grande Metrópole Nacional</td>\n",
       "      <td>4209102</td>\n",
       "      <td>Arranjo Populacional de Joinville/SC</td>\n",
       "      <td>42</td>\n",
       "      <td>...</td>\n",
       "      <td>0</td>\n",
       "      <td>0</td>\n",
       "      <td>0</td>\n",
       "      <td>NaN</td>\n",
       "      <td>351019.0</td>\n",
       "      <td>não</td>\n",
       "      <td>0</td>\n",
       "      <td>0</td>\n",
       "      <td>0</td>\n",
       "      <td>0</td>\n",
       "    </tr>\n",
       "    <tr>\n",
       "      <th>3702</th>\n",
       "      <td>35503084305108</td>\n",
       "      <td>3550308</td>\n",
       "      <td>Arranjo Populacional de São Paulo/SP</td>\n",
       "      <td>35</td>\n",
       "      <td>SP</td>\n",
       "      <td>1A</td>\n",
       "      <td>Grande Metrópole Nacional</td>\n",
       "      <td>4305108</td>\n",
       "      <td>Arranjo Populacional de Caxias do Sul/RS</td>\n",
       "      <td>43</td>\n",
       "      <td>...</td>\n",
       "      <td>0</td>\n",
       "      <td>0</td>\n",
       "      <td>0</td>\n",
       "      <td>NaN</td>\n",
       "      <td>133510.0</td>\n",
       "      <td>não</td>\n",
       "      <td>0</td>\n",
       "      <td>0</td>\n",
       "      <td>0</td>\n",
       "      <td>0</td>\n",
       "    </tr>\n",
       "    <tr>\n",
       "      <th>3704</th>\n",
       "      <td>35503084314100</td>\n",
       "      <td>3550308</td>\n",
       "      <td>Arranjo Populacional de São Paulo/SP</td>\n",
       "      <td>35</td>\n",
       "      <td>SP</td>\n",
       "      <td>1A</td>\n",
       "      <td>Grande Metrópole Nacional</td>\n",
       "      <td>4314100</td>\n",
       "      <td>Passo Fundo</td>\n",
       "      <td>43</td>\n",
       "      <td>...</td>\n",
       "      <td>0</td>\n",
       "      <td>0</td>\n",
       "      <td>0</td>\n",
       "      <td>NaN</td>\n",
       "      <td>13972.0</td>\n",
       "      <td>não</td>\n",
       "      <td>0</td>\n",
       "      <td>0</td>\n",
       "      <td>0</td>\n",
       "      <td>0</td>\n",
       "    </tr>\n",
       "    <tr>\n",
       "      <th>3705</th>\n",
       "      <td>35503085002704</td>\n",
       "      <td>3550308</td>\n",
       "      <td>Arranjo Populacional de São Paulo/SP</td>\n",
       "      <td>35</td>\n",
       "      <td>SP</td>\n",
       "      <td>1A</td>\n",
       "      <td>Grande Metrópole Nacional</td>\n",
       "      <td>5002704</td>\n",
       "      <td>Campo Grande</td>\n",
       "      <td>50</td>\n",
       "      <td>...</td>\n",
       "      <td>0</td>\n",
       "      <td>0</td>\n",
       "      <td>0</td>\n",
       "      <td>NaN</td>\n",
       "      <td>768578.0</td>\n",
       "      <td>não</td>\n",
       "      <td>0</td>\n",
       "      <td>0</td>\n",
       "      <td>0</td>\n",
       "      <td>0</td>\n",
       "    </tr>\n",
       "    <tr>\n",
       "      <th>3706</th>\n",
       "      <td>35503085008305</td>\n",
       "      <td>3550308</td>\n",
       "      <td>Arranjo Populacional de São Paulo/SP</td>\n",
       "      <td>35</td>\n",
       "      <td>SP</td>\n",
       "      <td>1A</td>\n",
       "      <td>Grande Metrópole Nacional</td>\n",
       "      <td>5008305</td>\n",
       "      <td>Três Lagoas</td>\n",
       "      <td>50</td>\n",
       "      <td>...</td>\n",
       "      <td>0</td>\n",
       "      <td>0</td>\n",
       "      <td>0</td>\n",
       "      <td>NaN</td>\n",
       "      <td>2361.0</td>\n",
       "      <td>não</td>\n",
       "      <td>0</td>\n",
       "      <td>0</td>\n",
       "      <td>0</td>\n",
       "      <td>0</td>\n",
       "    </tr>\n",
       "    <tr>\n",
       "      <th>3707</th>\n",
       "      <td>35503085103403</td>\n",
       "      <td>3550308</td>\n",
       "      <td>Arranjo Populacional de São Paulo/SP</td>\n",
       "      <td>35</td>\n",
       "      <td>SP</td>\n",
       "      <td>1A</td>\n",
       "      <td>Grande Metrópole Nacional</td>\n",
       "      <td>5103403</td>\n",
       "      <td>Arranjo Populacional de Cuiabá/MT</td>\n",
       "      <td>51</td>\n",
       "      <td>...</td>\n",
       "      <td>0</td>\n",
       "      <td>0</td>\n",
       "      <td>0</td>\n",
       "      <td>NaN</td>\n",
       "      <td>911550.0</td>\n",
       "      <td>não</td>\n",
       "      <td>0</td>\n",
       "      <td>0</td>\n",
       "      <td>0</td>\n",
       "      <td>0</td>\n",
       "    </tr>\n",
       "    <tr>\n",
       "      <th>3708</th>\n",
       "      <td>35503085107602</td>\n",
       "      <td>3550308</td>\n",
       "      <td>Arranjo Populacional de São Paulo/SP</td>\n",
       "      <td>35</td>\n",
       "      <td>SP</td>\n",
       "      <td>1A</td>\n",
       "      <td>Grande Metrópole Nacional</td>\n",
       "      <td>5107602</td>\n",
       "      <td>Rondonópolis</td>\n",
       "      <td>51</td>\n",
       "      <td>...</td>\n",
       "      <td>0</td>\n",
       "      <td>0</td>\n",
       "      <td>0</td>\n",
       "      <td>NaN</td>\n",
       "      <td>8789.0</td>\n",
       "      <td>não</td>\n",
       "      <td>0</td>\n",
       "      <td>0</td>\n",
       "      <td>0</td>\n",
       "      <td>0</td>\n",
       "    </tr>\n",
       "    <tr>\n",
       "      <th>3709</th>\n",
       "      <td>35503085204508</td>\n",
       "      <td>3550308</td>\n",
       "      <td>Arranjo Populacional de São Paulo/SP</td>\n",
       "      <td>35</td>\n",
       "      <td>SP</td>\n",
       "      <td>1A</td>\n",
       "      <td>Grande Metrópole Nacional</td>\n",
       "      <td>5204508</td>\n",
       "      <td>Arranjo Populacional de Caldas Novas/GO</td>\n",
       "      <td>52</td>\n",
       "      <td>...</td>\n",
       "      <td>0</td>\n",
       "      <td>0</td>\n",
       "      <td>0</td>\n",
       "      <td>NaN</td>\n",
       "      <td>21114.0</td>\n",
       "      <td>não</td>\n",
       "      <td>0</td>\n",
       "      <td>0</td>\n",
       "      <td>0</td>\n",
       "      <td>0</td>\n",
       "    </tr>\n",
       "    <tr>\n",
       "      <th>3710</th>\n",
       "      <td>35503085208707</td>\n",
       "      <td>3550308</td>\n",
       "      <td>Arranjo Populacional de São Paulo/SP</td>\n",
       "      <td>35</td>\n",
       "      <td>SP</td>\n",
       "      <td>1A</td>\n",
       "      <td>Grande Metrópole Nacional</td>\n",
       "      <td>5208707</td>\n",
       "      <td>Arranjo Populacional de Goiânia/GO</td>\n",
       "      <td>52</td>\n",
       "      <td>...</td>\n",
       "      <td>0</td>\n",
       "      <td>0</td>\n",
       "      <td>0</td>\n",
       "      <td>NaN</td>\n",
       "      <td>1564241.0</td>\n",
       "      <td>não</td>\n",
       "      <td>0</td>\n",
       "      <td>0</td>\n",
       "      <td>0</td>\n",
       "      <td>0</td>\n",
       "    </tr>\n",
       "  </tbody>\n",
       "</table>\n",
       "<p>26 rows × 44 columns</p>\n",
       "</div>"
      ],
      "text/plain": [
       "              id_reg  cod_ori                              nome_ori  \\\n",
       "56    35503082927408  3550308  Arranjo Populacional de São Paulo/SP   \n",
       "57    35503083106200  3550308  Arranjo Populacional de São Paulo/SP   \n",
       "59    35503083304557  3550308  Arranjo Populacional de São Paulo/SP   \n",
       "61    35503083509502  3550308  Arranjo Populacional de São Paulo/SP   \n",
       "62    35503084106902  3550308  Arranjo Populacional de São Paulo/SP   \n",
       "63    35503084314902  3550308  Arranjo Populacional de São Paulo/SP   \n",
       "64    35503085300108  3550308  Arranjo Populacional de São Paulo/SP   \n",
       "3688  15068073550308  3550308  Arranjo Populacional de São Paulo/SP   \n",
       "3689  29325073550308  3550308  Arranjo Populacional de São Paulo/SP   \n",
       "3691  35503084104808  3550308  Arranjo Populacional de São Paulo/SP   \n",
       "3692  35503084108304  3550308  Arranjo Populacional de São Paulo/SP   \n",
       "3693  35503084113700  3550308  Arranjo Populacional de São Paulo/SP   \n",
       "3695  35503084115200  3550308  Arranjo Populacional de São Paulo/SP   \n",
       "3696  35503084204202  3550308  Arranjo Populacional de São Paulo/SP   \n",
       "3698  35503084205407  3550308  Arranjo Populacional de São Paulo/SP   \n",
       "3699  35503084208203  3550308  Arranjo Populacional de São Paulo/SP   \n",
       "3700  35503084208807  3550308  Arranjo Populacional de São Paulo/SP   \n",
       "3701  35503084209102  3550308  Arranjo Populacional de São Paulo/SP   \n",
       "3702  35503084305108  3550308  Arranjo Populacional de São Paulo/SP   \n",
       "3704  35503084314100  3550308  Arranjo Populacional de São Paulo/SP   \n",
       "3705  35503085002704  3550308  Arranjo Populacional de São Paulo/SP   \n",
       "3706  35503085008305  3550308  Arranjo Populacional de São Paulo/SP   \n",
       "3707  35503085103403  3550308  Arranjo Populacional de São Paulo/SP   \n",
       "3708  35503085107602  3550308  Arranjo Populacional de São Paulo/SP   \n",
       "3709  35503085204508  3550308  Arranjo Populacional de São Paulo/SP   \n",
       "3710  35503085208707  3550308  Arranjo Populacional de São Paulo/SP   \n",
       "\n",
       "      coduf_ori uf_ori nivel_ori                 classe_ori  cod_dest  \\\n",
       "56           35     SP        1A  Grande Metrópole Nacional   2927408   \n",
       "57           35     SP        1A  Grande Metrópole Nacional   3106200   \n",
       "59           35     SP        1A  Grande Metrópole Nacional   3304557   \n",
       "61           35     SP        1A  Grande Metrópole Nacional   3509502   \n",
       "62           35     SP        1A  Grande Metrópole Nacional   4106902   \n",
       "63           35     SP        1A  Grande Metrópole Nacional   4314902   \n",
       "64           35     SP        1A  Grande Metrópole Nacional   5300108   \n",
       "3688         35     SP        1A  Grande Metrópole Nacional   1506807   \n",
       "3689         35     SP        1A  Grande Metrópole Nacional   2932507   \n",
       "3691         35     SP        1A  Grande Metrópole Nacional   4104808   \n",
       "3692         35     SP        1A  Grande Metrópole Nacional   4108304   \n",
       "3693         35     SP        1A  Grande Metrópole Nacional   4113700   \n",
       "3695         35     SP        1A  Grande Metrópole Nacional   4115200   \n",
       "3696         35     SP        1A  Grande Metrópole Nacional   4204202   \n",
       "3698         35     SP        1A  Grande Metrópole Nacional   4205407   \n",
       "3699         35     SP        1A  Grande Metrópole Nacional   4208203   \n",
       "3700         35     SP        1A  Grande Metrópole Nacional   4208807   \n",
       "3701         35     SP        1A  Grande Metrópole Nacional   4209102   \n",
       "3702         35     SP        1A  Grande Metrópole Nacional   4305108   \n",
       "3704         35     SP        1A  Grande Metrópole Nacional   4314100   \n",
       "3705         35     SP        1A  Grande Metrópole Nacional   5002704   \n",
       "3706         35     SP        1A  Grande Metrópole Nacional   5008305   \n",
       "3707         35     SP        1A  Grande Metrópole Nacional   5103403   \n",
       "3708         35     SP        1A  Grande Metrópole Nacional   5107602   \n",
       "3709         35     SP        1A  Grande Metrópole Nacional   5204508   \n",
       "3710         35     SP        1A  Grande Metrópole Nacional   5208707   \n",
       "\n",
       "                                              nome_dest  coduf_dest  ...  \\\n",
       "56                  Arranjo Populacional de Salvador/BA          29  ...   \n",
       "57            Arranjo Populacional de Belo Horizonte/MG          31  ...   \n",
       "59            Arranjo Populacional do Rio de Janeiro/RJ          33  ...   \n",
       "61                  Arranjo Populacional de Campinas/SP          35  ...   \n",
       "62                  Arranjo Populacional de Curitiba/PR          41  ...   \n",
       "63              Arranjo Populacional de Porto Alegre/RS          43  ...   \n",
       "64                  Arranjo Populacional de Brasília/DF          53  ...   \n",
       "3688                                           Santarém          15  ...   \n",
       "3689                                                Una          29  ...   \n",
       "3691                Arranjo Populacional de Cascavel/PR          41  ...   \n",
       "3692  Arranjo Populacional Internacional de Foz do I...          41  ...   \n",
       "3693                Arranjo Populacional de Londrina/PR          41  ...   \n",
       "3695                 Arranjo Populacional de Maringá/PR          41  ...   \n",
       "3696                 Arranjo Populacional de Chapecó/SC          42  ...   \n",
       "3698           Arranjo Populacional de Florianópolis/SC          42  ...   \n",
       "3699  Arranjo Populacional de Itajaí - Balneário Cam...          42  ...   \n",
       "3700                                          Jaguaruna          42  ...   \n",
       "3701               Arranjo Populacional de Joinville/SC          42  ...   \n",
       "3702           Arranjo Populacional de Caxias do Sul/RS          43  ...   \n",
       "3704                                        Passo Fundo          43  ...   \n",
       "3705                                       Campo Grande          50  ...   \n",
       "3706                                        Três Lagoas          50  ...   \n",
       "3707                  Arranjo Populacional de Cuiabá/MT          51  ...   \n",
       "3708                                       Rondonópolis          51  ...   \n",
       "3709            Arranjo Populacional de Caldas Novas/GO          52  ...   \n",
       "3710                 Arranjo Populacional de Goiânia/GO          52  ...   \n",
       "\n",
       "     quest_8 quest_9 quest_10  lig_c_tv   aero_pax agro agro_q1 agro_q2  \\\n",
       "56         0       0        0       NaN        NaN  não       0       0   \n",
       "57         0       0        0       NaN        NaN  não       0       0   \n",
       "59         0       0        0       NaN        NaN  não       0       0   \n",
       "61         0       0        0       NaN        NaN  não       0       0   \n",
       "62         0       0        0       NaN  3096102.0  não       0       0   \n",
       "63         0       0        0       NaN  3651297.0  não       0       0   \n",
       "64         0       0        0       NaN  3165748.0  não       0       0   \n",
       "3688       0       0        0       NaN      206.0  não       0       0   \n",
       "3689       0       0        0       NaN     1262.0  sim       0       0   \n",
       "3691       0       0        0       NaN    11668.0  não       0       0   \n",
       "3692       0       0        0       NaN   980194.0  não       0       0   \n",
       "3693       0       0        0       NaN   553130.0  não       0       0   \n",
       "3695       0       0        0       NaN   347151.0  não       0       0   \n",
       "3696       0       0        0       NaN   152578.0  não       0       0   \n",
       "3698       0       0        0       NaN  1988630.0  não       0       0   \n",
       "3699       0       0        0       NaN  1082396.0  não       0       0   \n",
       "3700       0       0        0       NaN    73532.0  não       0       0   \n",
       "3701       0       0        0       NaN   351019.0  não       0       0   \n",
       "3702       0       0        0       NaN   133510.0  não       0       0   \n",
       "3704       0       0        0       NaN    13972.0  não       0       0   \n",
       "3705       0       0        0       NaN   768578.0  não       0       0   \n",
       "3706       0       0        0       NaN     2361.0  não       0       0   \n",
       "3707       0       0        0       NaN   911550.0  não       0       0   \n",
       "3708       0       0        0       NaN     8789.0  não       0       0   \n",
       "3709       0       0        0       NaN    21114.0  não       0       0   \n",
       "3710       0       0        0       NaN  1564241.0  não       0       0   \n",
       "\n",
       "     agro_q3 agro_q4  \n",
       "56         0       0  \n",
       "57         0       0  \n",
       "59         0       0  \n",
       "61         0       0  \n",
       "62         0       0  \n",
       "63         0       0  \n",
       "64         0       0  \n",
       "3688       0       0  \n",
       "3689       0       1  \n",
       "3691       0       0  \n",
       "3692       0       0  \n",
       "3693       0       0  \n",
       "3695       0       0  \n",
       "3696       0       0  \n",
       "3698       0       0  \n",
       "3699       0       0  \n",
       "3700       0       0  \n",
       "3701       0       0  \n",
       "3702       0       0  \n",
       "3704       0       0  \n",
       "3705       0       0  \n",
       "3706       0       0  \n",
       "3707       0       0  \n",
       "3708       0       0  \n",
       "3709       0       0  \n",
       "3710       0       0  \n",
       "\n",
       "[26 rows x 44 columns]"
      ]
     },
     "execution_count": 50,
     "metadata": {},
     "output_type": "execute_result"
    }
   ],
   "source": [
    "df_Br_Ligado[df_Br_Ligado.nivel_ori == '1A']"
   ]
  },
  {
   "cell_type": "code",
   "execution_count": 51,
   "id": "f2dd5091",
   "metadata": {},
   "outputs": [
    {
     "name": "stdout",
     "output_type": "stream",
     "text": [
      "Unexpected exception formatting exception. Falling back to standard exception\n"
     ]
    },
    {
     "name": "stderr",
     "output_type": "stream",
     "text": [
      "Traceback (most recent call last):\n",
      "  File \"/usr/lib/python3.10/site-packages/IPython/core/interactiveshell.py\", line 3378, in run_code\n",
      "    exec(code_obj, self.user_global_ns, self.user_ns)\n",
      "  File \"/tmp/ipykernel_8075/3536358180.py\", line 1, in <module>\n",
      "    for i in df_Brasil.COD_CIDADE:\n",
      "NameError: name 'df_Brasil' is not defined\n",
      "\n",
      "During handling of the above exception, another exception occurred:\n",
      "\n",
      "Traceback (most recent call last):\n",
      "  File \"/usr/lib/python3.10/site-packages/IPython/core/interactiveshell.py\", line 1997, in showtraceback\n",
      "    stb = self.InteractiveTB.structured_traceback(\n",
      "  File \"/usr/lib/python3.10/site-packages/IPython/core/ultratb.py\", line 1112, in structured_traceback\n",
      "    return FormattedTB.structured_traceback(\n",
      "  File \"/usr/lib/python3.10/site-packages/IPython/core/ultratb.py\", line 1006, in structured_traceback\n",
      "    return VerboseTB.structured_traceback(\n",
      "  File \"/usr/lib/python3.10/site-packages/IPython/core/ultratb.py\", line 859, in structured_traceback\n",
      "    formatted_exception = self.format_exception_as_a_whole(etype, evalue, etb, number_of_lines_of_context,\n",
      "  File \"/usr/lib/python3.10/site-packages/IPython/core/ultratb.py\", line 812, in format_exception_as_a_whole\n",
      "    frames.append(self.format_record(r))\n",
      "  File \"/usr/lib/python3.10/site-packages/IPython/core/ultratb.py\", line 730, in format_record\n",
      "    result += ''.join(_format_traceback_lines(frame_info.lines, Colors, self.has_colors, lvals))\n",
      "  File \"/usr/lib/python3.10/site-packages/stack_data/utils.py\", line 144, in cached_property_wrapper\n",
      "    value = obj.__dict__[self.func.__name__] = self.func(obj)\n",
      "  File \"/usr/lib/python3.10/site-packages/stack_data/core.py\", line 720, in lines\n",
      "    pieces = self.included_pieces\n",
      "  File \"/usr/lib/python3.10/site-packages/stack_data/utils.py\", line 144, in cached_property_wrapper\n",
      "    value = obj.__dict__[self.func.__name__] = self.func(obj)\n",
      "  File \"/usr/lib/python3.10/site-packages/stack_data/core.py\", line 663, in included_pieces\n",
      "    scope_pieces = self.scope_pieces\n",
      "  File \"/usr/lib/python3.10/site-packages/stack_data/utils.py\", line 144, in cached_property_wrapper\n",
      "    value = obj.__dict__[self.func.__name__] = self.func(obj)\n",
      "  File \"/usr/lib/python3.10/site-packages/stack_data/core.py\", line 600, in scope_pieces\n",
      "    scope_start, scope_end = self.source.line_range(self.scope)\n",
      "  File \"/usr/lib/python3.10/site-packages/stack_data/core.py\", line 164, in line_range\n",
      "    return line_range(self.asttext(), node)\n",
      "AttributeError: 'Source' object has no attribute 'asttext'\n"
     ]
    }
   ],
   "source": [
    "for i in df_Brasil.COD_CIDADE:\n",
    "    if i not in list(df_Brasil_Ligado.cod_ori):\n",
    "        print(i)"
   ]
  },
  {
   "cell_type": "code",
   "execution_count": 52,
   "id": "e6cdccd0",
   "metadata": {},
   "outputs": [
    {
     "name": "stdout",
     "output_type": "stream",
     "text": [
      "Unexpected exception formatting exception. Falling back to standard exception\n"
     ]
    },
    {
     "name": "stderr",
     "output_type": "stream",
     "text": [
      "Traceback (most recent call last):\n",
      "  File \"/usr/lib/python3.10/site-packages/IPython/core/interactiveshell.py\", line 3378, in run_code\n",
      "    exec(code_obj, self.user_global_ns, self.user_ns)\n",
      "  File \"/tmp/ipykernel_8075/676383190.py\", line 1, in <module>\n",
      "    len(df_Brasil_Ligado.cod_ori.unique())\n",
      "NameError: name 'df_Brasil_Ligado' is not defined\n",
      "\n",
      "During handling of the above exception, another exception occurred:\n",
      "\n",
      "Traceback (most recent call last):\n",
      "  File \"/usr/lib/python3.10/site-packages/IPython/core/interactiveshell.py\", line 1997, in showtraceback\n",
      "    stb = self.InteractiveTB.structured_traceback(\n",
      "  File \"/usr/lib/python3.10/site-packages/IPython/core/ultratb.py\", line 1112, in structured_traceback\n",
      "    return FormattedTB.structured_traceback(\n",
      "  File \"/usr/lib/python3.10/site-packages/IPython/core/ultratb.py\", line 1006, in structured_traceback\n",
      "    return VerboseTB.structured_traceback(\n",
      "  File \"/usr/lib/python3.10/site-packages/IPython/core/ultratb.py\", line 859, in structured_traceback\n",
      "    formatted_exception = self.format_exception_as_a_whole(etype, evalue, etb, number_of_lines_of_context,\n",
      "  File \"/usr/lib/python3.10/site-packages/IPython/core/ultratb.py\", line 812, in format_exception_as_a_whole\n",
      "    frames.append(self.format_record(r))\n",
      "  File \"/usr/lib/python3.10/site-packages/IPython/core/ultratb.py\", line 730, in format_record\n",
      "    result += ''.join(_format_traceback_lines(frame_info.lines, Colors, self.has_colors, lvals))\n",
      "  File \"/usr/lib/python3.10/site-packages/stack_data/utils.py\", line 144, in cached_property_wrapper\n",
      "    value = obj.__dict__[self.func.__name__] = self.func(obj)\n",
      "  File \"/usr/lib/python3.10/site-packages/stack_data/core.py\", line 720, in lines\n",
      "    pieces = self.included_pieces\n",
      "  File \"/usr/lib/python3.10/site-packages/stack_data/utils.py\", line 144, in cached_property_wrapper\n",
      "    value = obj.__dict__[self.func.__name__] = self.func(obj)\n",
      "  File \"/usr/lib/python3.10/site-packages/stack_data/core.py\", line 663, in included_pieces\n",
      "    scope_pieces = self.scope_pieces\n",
      "  File \"/usr/lib/python3.10/site-packages/stack_data/utils.py\", line 144, in cached_property_wrapper\n",
      "    value = obj.__dict__[self.func.__name__] = self.func(obj)\n",
      "  File \"/usr/lib/python3.10/site-packages/stack_data/core.py\", line 600, in scope_pieces\n",
      "    scope_start, scope_end = self.source.line_range(self.scope)\n",
      "  File \"/usr/lib/python3.10/site-packages/stack_data/core.py\", line 164, in line_range\n",
      "    return line_range(self.asttext(), node)\n",
      "AttributeError: 'Source' object has no attribute 'asttext'\n"
     ]
    }
   ],
   "source": [
    "len(df_Brasil_Ligado.cod_ori.unique())"
   ]
  },
  {
   "cell_type": "markdown",
   "id": "2d584e8e",
   "metadata": {},
   "source": [
    "# Matriz que liga cidades"
   ]
  },
  {
   "cell_type": "code",
   "execution_count": 53,
   "id": "8356ea64",
   "metadata": {},
   "outputs": [
    {
     "data": {
      "text/html": [
       "<div>\n",
       "<style scoped>\n",
       "    .dataframe tbody tr th:only-of-type {\n",
       "        vertical-align: middle;\n",
       "    }\n",
       "\n",
       "    .dataframe tbody tr th {\n",
       "        vertical-align: top;\n",
       "    }\n",
       "\n",
       "    .dataframe thead th {\n",
       "        text-align: right;\n",
       "    }\n",
       "</style>\n",
       "<table border=\"1\" class=\"dataframe\">\n",
       "  <thead>\n",
       "    <tr style=\"text-align: right;\">\n",
       "      <th></th>\n",
       "      <th>contagem</th>\n",
       "      <th>COD_1A</th>\n",
       "      <th>NOME_1A</th>\n",
       "      <th>COD_1B</th>\n",
       "      <th>NOME_1B</th>\n",
       "      <th>COD_1C</th>\n",
       "      <th>NOME_1C</th>\n",
       "      <th>COD_2A</th>\n",
       "      <th>NOME_2A</th>\n",
       "      <th>COD_2B</th>\n",
       "      <th>...</th>\n",
       "      <th>COD_3A</th>\n",
       "      <th>NOME_3A</th>\n",
       "      <th>COD_3B</th>\n",
       "      <th>NOME_3B</th>\n",
       "      <th>COD_4A</th>\n",
       "      <th>NOME_4A</th>\n",
       "      <th>COD_4B</th>\n",
       "      <th>NOME_4B</th>\n",
       "      <th>COD_5</th>\n",
       "      <th>NOME_5</th>\n",
       "    </tr>\n",
       "  </thead>\n",
       "  <tbody>\n",
       "    <tr>\n",
       "      <th>0</th>\n",
       "      <td>1</td>\n",
       "      <td>3550308.0</td>\n",
       "      <td>AP São Paulo/SP</td>\n",
       "      <td>NaN</td>\n",
       "      <td>NaN</td>\n",
       "      <td>NaN</td>\n",
       "      <td>NaN</td>\n",
       "      <td>NaN</td>\n",
       "      <td>NaN</td>\n",
       "      <td>3549805.0</td>\n",
       "      <td>...</td>\n",
       "      <td>3545605.0</td>\n",
       "      <td>AP Santa Adélia - Palmares Paulista - Ariranha/SP</td>\n",
       "      <td>NaN</td>\n",
       "      <td>NaN</td>\n",
       "      <td>3522703.0</td>\n",
       "      <td>Itápolis (SP)</td>\n",
       "      <td>NaN</td>\n",
       "      <td>NaN</td>\n",
       "      <td>3507407.0</td>\n",
       "      <td>Borborema (SP)</td>\n",
       "    </tr>\n",
       "    <tr>\n",
       "      <th>1</th>\n",
       "      <td>2</td>\n",
       "      <td>3550308.0</td>\n",
       "      <td>AP São Paulo/SP</td>\n",
       "      <td>NaN</td>\n",
       "      <td>NaN</td>\n",
       "      <td>NaN</td>\n",
       "      <td>NaN</td>\n",
       "      <td>NaN</td>\n",
       "      <td>NaN</td>\n",
       "      <td>3549904.0</td>\n",
       "      <td>...</td>\n",
       "      <td>3527207.0</td>\n",
       "      <td>AP Lorena/SP</td>\n",
       "      <td>3513405.0</td>\n",
       "      <td>AP Cruzeiro/SP</td>\n",
       "      <td>NaN</td>\n",
       "      <td>NaN</td>\n",
       "      <td>NaN</td>\n",
       "      <td>NaN</td>\n",
       "      <td>3147600.0</td>\n",
       "      <td>Passa Quatro (MG)</td>\n",
       "    </tr>\n",
       "    <tr>\n",
       "      <th>2</th>\n",
       "      <td>3</td>\n",
       "      <td>3550308.0</td>\n",
       "      <td>AP São Paulo/SP</td>\n",
       "      <td>NaN</td>\n",
       "      <td>NaN</td>\n",
       "      <td>NaN</td>\n",
       "      <td>NaN</td>\n",
       "      <td>NaN</td>\n",
       "      <td>NaN</td>\n",
       "      <td>3549904.0</td>\n",
       "      <td>...</td>\n",
       "      <td>3527207.0</td>\n",
       "      <td>AP Lorena/SP</td>\n",
       "      <td>3513405.0</td>\n",
       "      <td>AP Cruzeiro/SP</td>\n",
       "      <td>NaN</td>\n",
       "      <td>NaN</td>\n",
       "      <td>NaN</td>\n",
       "      <td>NaN</td>\n",
       "      <td>3503505.0</td>\n",
       "      <td>Areias (SP)</td>\n",
       "    </tr>\n",
       "    <tr>\n",
       "      <th>3</th>\n",
       "      <td>4</td>\n",
       "      <td>3550308.0</td>\n",
       "      <td>AP São Paulo/SP</td>\n",
       "      <td>NaN</td>\n",
       "      <td>NaN</td>\n",
       "      <td>NaN</td>\n",
       "      <td>NaN</td>\n",
       "      <td>NaN</td>\n",
       "      <td>NaN</td>\n",
       "      <td>3549904.0</td>\n",
       "      <td>...</td>\n",
       "      <td>3527207.0</td>\n",
       "      <td>AP Lorena/SP</td>\n",
       "      <td>3513405.0</td>\n",
       "      <td>AP Cruzeiro/SP</td>\n",
       "      <td>NaN</td>\n",
       "      <td>NaN</td>\n",
       "      <td>NaN</td>\n",
       "      <td>NaN</td>\n",
       "      <td>3541901.0</td>\n",
       "      <td>Queluz (SP)</td>\n",
       "    </tr>\n",
       "    <tr>\n",
       "      <th>4</th>\n",
       "      <td>5</td>\n",
       "      <td>3550308.0</td>\n",
       "      <td>AP São Paulo/SP</td>\n",
       "      <td>NaN</td>\n",
       "      <td>NaN</td>\n",
       "      <td>NaN</td>\n",
       "      <td>NaN</td>\n",
       "      <td>NaN</td>\n",
       "      <td>NaN</td>\n",
       "      <td>3549904.0</td>\n",
       "      <td>...</td>\n",
       "      <td>3527207.0</td>\n",
       "      <td>AP Lorena/SP</td>\n",
       "      <td>3513405.0</td>\n",
       "      <td>AP Cruzeiro/SP</td>\n",
       "      <td>NaN</td>\n",
       "      <td>NaN</td>\n",
       "      <td>NaN</td>\n",
       "      <td>NaN</td>\n",
       "      <td>3549607.0</td>\n",
       "      <td>São José do Barreiro (SP)</td>\n",
       "    </tr>\n",
       "    <tr>\n",
       "      <th>...</th>\n",
       "      <td>...</td>\n",
       "      <td>...</td>\n",
       "      <td>...</td>\n",
       "      <td>...</td>\n",
       "      <td>...</td>\n",
       "      <td>...</td>\n",
       "      <td>...</td>\n",
       "      <td>...</td>\n",
       "      <td>...</td>\n",
       "      <td>...</td>\n",
       "      <td>...</td>\n",
       "      <td>...</td>\n",
       "      <td>...</td>\n",
       "      <td>...</td>\n",
       "      <td>...</td>\n",
       "      <td>...</td>\n",
       "      <td>...</td>\n",
       "      <td>...</td>\n",
       "      <td>...</td>\n",
       "      <td>...</td>\n",
       "      <td>...</td>\n",
       "    </tr>\n",
       "    <tr>\n",
       "      <th>4708</th>\n",
       "      <td>4709</td>\n",
       "      <td>NaN</td>\n",
       "      <td>NaN</td>\n",
       "      <td>NaN</td>\n",
       "      <td>NaN</td>\n",
       "      <td>5208707.0</td>\n",
       "      <td>AP Goiânia/GO</td>\n",
       "      <td>NaN</td>\n",
       "      <td>NaN</td>\n",
       "      <td>NaN</td>\n",
       "      <td>...</td>\n",
       "      <td>NaN</td>\n",
       "      <td>NaN</td>\n",
       "      <td>NaN</td>\n",
       "      <td>NaN</td>\n",
       "      <td>NaN</td>\n",
       "      <td>NaN</td>\n",
       "      <td>NaN</td>\n",
       "      <td>NaN</td>\n",
       "      <td>5221197.0</td>\n",
       "      <td>Terezópolis de Goiás (GO)</td>\n",
       "    </tr>\n",
       "    <tr>\n",
       "      <th>4709</th>\n",
       "      <td>4710</td>\n",
       "      <td>NaN</td>\n",
       "      <td>NaN</td>\n",
       "      <td>NaN</td>\n",
       "      <td>NaN</td>\n",
       "      <td>5208707.0</td>\n",
       "      <td>AP Goiânia/GO</td>\n",
       "      <td>NaN</td>\n",
       "      <td>NaN</td>\n",
       "      <td>NaN</td>\n",
       "      <td>...</td>\n",
       "      <td>NaN</td>\n",
       "      <td>NaN</td>\n",
       "      <td>NaN</td>\n",
       "      <td>NaN</td>\n",
       "      <td>NaN</td>\n",
       "      <td>NaN</td>\n",
       "      <td>NaN</td>\n",
       "      <td>NaN</td>\n",
       "      <td>5221502.0</td>\n",
       "      <td>Turvânia (GO)</td>\n",
       "    </tr>\n",
       "    <tr>\n",
       "      <th>4710</th>\n",
       "      <td>4711</td>\n",
       "      <td>NaN</td>\n",
       "      <td>NaN</td>\n",
       "      <td>NaN</td>\n",
       "      <td>NaN</td>\n",
       "      <td>5208707.0</td>\n",
       "      <td>AP Goiânia/GO</td>\n",
       "      <td>NaN</td>\n",
       "      <td>NaN</td>\n",
       "      <td>NaN</td>\n",
       "      <td>...</td>\n",
       "      <td>NaN</td>\n",
       "      <td>NaN</td>\n",
       "      <td>NaN</td>\n",
       "      <td>NaN</td>\n",
       "      <td>NaN</td>\n",
       "      <td>NaN</td>\n",
       "      <td>NaN</td>\n",
       "      <td>NaN</td>\n",
       "      <td>5221908.0</td>\n",
       "      <td>Varjão (GO)</td>\n",
       "    </tr>\n",
       "    <tr>\n",
       "      <th>4711</th>\n",
       "      <td>4712</td>\n",
       "      <td>NaN</td>\n",
       "      <td>NaN</td>\n",
       "      <td>NaN</td>\n",
       "      <td>NaN</td>\n",
       "      <td>5208707.0</td>\n",
       "      <td>AP Goiânia/GO</td>\n",
       "      <td>NaN</td>\n",
       "      <td>NaN</td>\n",
       "      <td>NaN</td>\n",
       "      <td>...</td>\n",
       "      <td>NaN</td>\n",
       "      <td>NaN</td>\n",
       "      <td>NaN</td>\n",
       "      <td>NaN</td>\n",
       "      <td>NaN</td>\n",
       "      <td>NaN</td>\n",
       "      <td>NaN</td>\n",
       "      <td>NaN</td>\n",
       "      <td>5222005.0</td>\n",
       "      <td>Vianópolis (GO)</td>\n",
       "    </tr>\n",
       "    <tr>\n",
       "      <th>4712</th>\n",
       "      <td>4713</td>\n",
       "      <td>NaN</td>\n",
       "      <td>NaN</td>\n",
       "      <td>NaN</td>\n",
       "      <td>NaN</td>\n",
       "      <td>5208707.0</td>\n",
       "      <td>AP Goiânia/GO</td>\n",
       "      <td>NaN</td>\n",
       "      <td>NaN</td>\n",
       "      <td>NaN</td>\n",
       "      <td>...</td>\n",
       "      <td>NaN</td>\n",
       "      <td>NaN</td>\n",
       "      <td>NaN</td>\n",
       "      <td>NaN</td>\n",
       "      <td>NaN</td>\n",
       "      <td>NaN</td>\n",
       "      <td>NaN</td>\n",
       "      <td>NaN</td>\n",
       "      <td>5222054.0</td>\n",
       "      <td>Vicentinópolis (GO)</td>\n",
       "    </tr>\n",
       "  </tbody>\n",
       "</table>\n",
       "<p>4713 rows × 23 columns</p>\n",
       "</div>"
      ],
      "text/plain": [
       "      contagem     COD_1A          NOME_1A  COD_1B NOME_1B     COD_1C  \\\n",
       "0            1  3550308.0  AP São Paulo/SP     NaN     NaN        NaN   \n",
       "1            2  3550308.0  AP São Paulo/SP     NaN     NaN        NaN   \n",
       "2            3  3550308.0  AP São Paulo/SP     NaN     NaN        NaN   \n",
       "3            4  3550308.0  AP São Paulo/SP     NaN     NaN        NaN   \n",
       "4            5  3550308.0  AP São Paulo/SP     NaN     NaN        NaN   \n",
       "...        ...        ...              ...     ...     ...        ...   \n",
       "4708      4709        NaN              NaN     NaN     NaN  5208707.0   \n",
       "4709      4710        NaN              NaN     NaN     NaN  5208707.0   \n",
       "4710      4711        NaN              NaN     NaN     NaN  5208707.0   \n",
       "4711      4712        NaN              NaN     NaN     NaN  5208707.0   \n",
       "4712      4713        NaN              NaN     NaN     NaN  5208707.0   \n",
       "\n",
       "            NOME_1C  COD_2A NOME_2A     COD_2B  ...     COD_3A  \\\n",
       "0               NaN     NaN     NaN  3549805.0  ...  3545605.0   \n",
       "1               NaN     NaN     NaN  3549904.0  ...  3527207.0   \n",
       "2               NaN     NaN     NaN  3549904.0  ...  3527207.0   \n",
       "3               NaN     NaN     NaN  3549904.0  ...  3527207.0   \n",
       "4               NaN     NaN     NaN  3549904.0  ...  3527207.0   \n",
       "...             ...     ...     ...        ...  ...        ...   \n",
       "4708  AP Goiânia/GO     NaN     NaN        NaN  ...        NaN   \n",
       "4709  AP Goiânia/GO     NaN     NaN        NaN  ...        NaN   \n",
       "4710  AP Goiânia/GO     NaN     NaN        NaN  ...        NaN   \n",
       "4711  AP Goiânia/GO     NaN     NaN        NaN  ...        NaN   \n",
       "4712  AP Goiânia/GO     NaN     NaN        NaN  ...        NaN   \n",
       "\n",
       "                                                NOME_3A     COD_3B  \\\n",
       "0     AP Santa Adélia - Palmares Paulista - Ariranha/SP        NaN   \n",
       "1                                          AP Lorena/SP  3513405.0   \n",
       "2                                          AP Lorena/SP  3513405.0   \n",
       "3                                          AP Lorena/SP  3513405.0   \n",
       "4                                          AP Lorena/SP  3513405.0   \n",
       "...                                                 ...        ...   \n",
       "4708                                                NaN        NaN   \n",
       "4709                                                NaN        NaN   \n",
       "4710                                                NaN        NaN   \n",
       "4711                                                NaN        NaN   \n",
       "4712                                                NaN        NaN   \n",
       "\n",
       "             NOME_3B     COD_4A        NOME_4A COD_4B  NOME_4B      COD_5  \\\n",
       "0                NaN  3522703.0  Itápolis (SP)    NaN      NaN  3507407.0   \n",
       "1     AP Cruzeiro/SP        NaN            NaN    NaN      NaN  3147600.0   \n",
       "2     AP Cruzeiro/SP        NaN            NaN    NaN      NaN  3503505.0   \n",
       "3     AP Cruzeiro/SP        NaN            NaN    NaN      NaN  3541901.0   \n",
       "4     AP Cruzeiro/SP        NaN            NaN    NaN      NaN  3549607.0   \n",
       "...              ...        ...            ...    ...      ...        ...   \n",
       "4708             NaN        NaN            NaN    NaN      NaN  5221197.0   \n",
       "4709             NaN        NaN            NaN    NaN      NaN  5221502.0   \n",
       "4710             NaN        NaN            NaN    NaN      NaN  5221908.0   \n",
       "4711             NaN        NaN            NaN    NaN      NaN  5222005.0   \n",
       "4712             NaN        NaN            NaN    NaN      NaN  5222054.0   \n",
       "\n",
       "                         NOME_5  \n",
       "0                Borborema (SP)  \n",
       "1             Passa Quatro (MG)  \n",
       "2                   Areias (SP)  \n",
       "3                   Queluz (SP)  \n",
       "4     São José do Barreiro (SP)  \n",
       "...                         ...  \n",
       "4708  Terezópolis de Goiás (GO)  \n",
       "4709              Turvânia (GO)  \n",
       "4710                Varjão (GO)  \n",
       "4711            Vianópolis (GO)  \n",
       "4712        Vicentinópolis (GO)  \n",
       "\n",
       "[4713 rows x 23 columns]"
      ]
     },
     "execution_count": 53,
     "metadata": {},
     "output_type": "execute_result"
    }
   ],
   "source": [
    "df_Matriz_liga_Cidades"
   ]
  },
  {
   "cell_type": "code",
   "execution_count": null,
   "id": "c2286499",
   "metadata": {},
   "outputs": [],
   "source": []
  }
 ],
 "metadata": {
  "kernelspec": {
   "display_name": "Python 3 (ipykernel)",
   "language": "python",
   "name": "python3"
  },
  "language_info": {
   "codemirror_mode": {
    "name": "ipython",
    "version": 3
   },
   "file_extension": ".py",
   "mimetype": "text/x-python",
   "name": "python",
   "nbconvert_exporter": "python",
   "pygments_lexer": "ipython3",
   "version": "3.10.6"
  }
 },
 "nbformat": 4,
 "nbformat_minor": 5
}
